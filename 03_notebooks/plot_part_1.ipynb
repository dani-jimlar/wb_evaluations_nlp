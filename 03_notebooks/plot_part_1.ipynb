{
 "cells": [
  {
   "cell_type": "code",
   "execution_count": null,
   "metadata": {},
   "outputs": [],
   "source": [
    "import requests\n",
    "import numpy as np\n",
    "import json\n",
    "import pandas as pd\n",
    "from datetime import datetime\n",
    "import time\n",
    "import os\n",
    "import plotly.express as px\n",
    "import plotly.graph_objects as go"
   ]
  },
  {
   "cell_type": "markdown",
   "metadata": {},
   "source": [
    "### Define functions"
   ]
  },
  {
   "cell_type": "code",
   "execution_count": 2,
   "metadata": {},
   "outputs": [],
   "source": [
    "def fetch_wb_documents():\n",
    "    \"\"\"API call to get metadata\"\"\"\n",
    "    base_url = \"https://search.worldbank.org/api/v3/wds\"\n",
    "    fields = \"id,docdt,docty,majdocty,url,count,lang,repnb,projid,alt_title,display_title_exact,display_title\"\n",
    "\n",
    "    offset = 0\n",
    "    rows_per_page = 100\n",
    "\n",
    "    print(\"Fetching data from World Bank API v3...\")\n",
    "\n",
    "    # Get the first page\n",
    "    params = {\n",
    "        \"format\": \"json\",\n",
    "        \"rows\": rows_per_page,\n",
    "        \"docty_exact\": \"Implementation Completion Report Review\",\n",
    "        \"majdocty_exact\": \"Project Documents\",\n",
    "        \"strdate\": \"2019-01-01\",\n",
    "        \"enddate\": \"2025-04-15\",\n",
    "        \"fl\": fields,\n",
    "        \"os\": offset,\n",
    "    }\n",
    "\n",
    "    response = requests.get(base_url, params=params)\n",
    "    response.raise_for_status()\n",
    "    all_data = response.json()\n",
    "\n",
    "    total_docs = all_data.get(\"total\", 0)\n",
    "    fetched_count = len(all_data.get(\"documents\", {}))\n",
    "\n",
    "    print(f\"Fetched {fetched_count} of {total_docs} documents\")\n",
    "\n",
    "    while fetched_count < total_docs:\n",
    "        offset += rows_per_page\n",
    "\n",
    "        params[\"os\"] = offset\n",
    "\n",
    "        response = requests.get(base_url, params=params)\n",
    "        response.raise_for_status()\n",
    "        page_data = response.json()\n",
    "\n",
    "        page_docs = page_data.get(\"documents\", {})\n",
    "\n",
    "        all_data[\"documents\"].update(page_docs)\n",
    "\n",
    "        fetched_count = len(all_data.get(\"documents\", {}))\n",
    "        print(f\"Fetched {fetched_count} of {total_docs} documents\")\n",
    "\n",
    "        time.sleep(0.5)\n",
    "\n",
    "    print(f\"Total documents fetched: {fetched_count}\")\n",
    "    return all_data\n",
    "\n",
    "\n",
    "def extract_to_df(docs_json):\n",
    "    \"ET meta info to df\"\n",
    "    documents = docs_json.get(\"documents\", {})\n",
    "\n",
    "    doc_values = [\n",
    "        doc\n",
    "        for key, doc in documents.items()\n",
    "        if key != \"facets\" and isinstance(doc, dict)\n",
    "    ]\n",
    "    title = [doc.get(\"display_title\", \"\") for doc in doc_values]\n",
    "    og_country = [doc.get(\"count\", \"\") for doc in doc_values]\n",
    "    p_date = [doc.get(\"docdt\", \"\") for doc in doc_values]\n",
    "\n",
    "    df = pd.DataFrame(\n",
    "        {\"Title\": title, \"OG Country\": og_country, \"Publication Year\": p_date}\n",
    "    )\n",
    "\n",
    "    df[\"Publication Year\"] = pd.to_datetime(df[\"Publication Year\"]).dt.strftime(\"%Y\")\n",
    "    df[\"Country_ex\"] = df[\"Title\"].str.split(\"-\").str[0].str.strip()\n",
    "\n",
    "    return df"
   ]
  },
  {
   "cell_type": "markdown",
   "metadata": {},
   "source": [
    "### Get data and correct country names"
   ]
  },
  {
   "cell_type": "code",
   "execution_count": 3,
   "metadata": {},
   "outputs": [
    {
     "name": "stdout",
     "output_type": "stream",
     "text": [
      "Fetching data from World Bank API v3...\n",
      "Fetched 101 of 1623 documents\n",
      "Fetched 201 of 1623 documents\n",
      "Fetched 301 of 1623 documents\n",
      "Fetched 401 of 1623 documents\n",
      "Fetched 501 of 1623 documents\n",
      "Fetched 601 of 1623 documents\n",
      "Fetched 701 of 1623 documents\n",
      "Fetched 801 of 1623 documents\n",
      "Fetched 901 of 1623 documents\n",
      "Fetched 1001 of 1623 documents\n",
      "Fetched 1101 of 1623 documents\n",
      "Fetched 1201 of 1623 documents\n",
      "Fetched 1301 of 1623 documents\n",
      "Fetched 1401 of 1623 documents\n",
      "Fetched 1501 of 1623 documents\n",
      "Fetched 1601 of 1623 documents\n",
      "Fetched 1624 of 1623 documents\n",
      "Total documents fetched: 1624\n"
     ]
    }
   ],
   "source": [
    "iccr_docs = fetch_wb_documents()\n",
    "df_iccr = extract_to_df(iccr_docs)"
   ]
  },
  {
   "cell_type": "code",
   "execution_count": 4,
   "metadata": {},
   "outputs": [],
   "source": [
    "# check differences between extracted and og country\n",
    "df_iccr[\"diff_og_ex\"] = np.where(df_iccr[\"Country_ex\"] == df_iccr[\"OG Country\"], 0, 1)\n",
    "\n",
    "# manual correction of detected differences\n",
    "df_iccr[\"Country_ex_2\"] = df_iccr[\"Country_ex\"].replace(\n",
    "    {\n",
    "        \"Albania Gender Equality DPF\": \"Albania\",\n",
    "        \"Belarus Forestry Development Project\": \"Belarus\",\n",
    "        \"Burkina Faso Public Sector Modernization Program\": \"Burkina Faso\",\n",
    "        \"China Health Reform Program\": \"China\",\n",
    "        \"Cote d\": \"Cote d'Ivoire\",\n",
    "        \"Education sector policy : Harsha Project\": \"Harsha Project\",\n",
    "        \"Grenada First Fiscal Resilience and Blue Growth Development Policy Credit\": \"Grenada\",\n",
    "        \"HarshaNov19th_OUO\": \"Harsha Project\",\n",
    "        \"Niger Community Action Project for Climate Resilience\": \"Niger\",\n",
    "        \"Rwanda Energy Sector Development Policy Loan (P162671)\": \"Rwanda\",\n",
    "        \"Viet Nam\": \"Vietnam\",\n",
    "    }\n",
    ")"
   ]
  },
  {
   "cell_type": "markdown",
   "metadata": {},
   "source": [
    "### Plot interactive graph, press play"
   ]
  },
  {
   "cell_type": "code",
   "execution_count": 5,
   "metadata": {},
   "outputs": [],
   "source": [
    "df_g = (\n",
    "    df_iccr.groupby([\"Country_ex_2\", \"Publication Year\"])\n",
    "    .size()\n",
    "    .reset_index(name=\"Count\")\n",
    ")\n",
    "df_g = df_g.rename(columns={\"Country_ex_2\": \"Country\", \"Publication Year\": \"Year\"})\n",
    "yearly_totals = df_g.groupby(\"Year\")[\"Count\"].sum().reset_index()\n",
    "yearly_totals.columns = [\"Year\", \"Year Total\"]\n",
    "df_g = pd.merge(df_g, yearly_totals, on=\"Year\")\n",
    "df_g[\"Percentage\"] = (df_g[\"Count\"] / df_g[\"Year Total\"] * 100).round(1)\n",
    "\n",
    "\n",
    "years = df_g[\"Year\"].unique().tolist()\n",
    "years.sort()\n",
    "\n",
    "all_countries = df_g[\"Country\"].unique().tolist()\n",
    "all_countries.sort()  # Sort alphabetically\n",
    "\n",
    "max_percentage = df_g[\"Percentage\"].max()"
   ]
  },
  {
   "cell_type": "code",
   "execution_count": 8,
   "metadata": {},
   "outputs": [
    {
     "data": {
      "application/vnd.plotly.v1+json": {
       "config": {
        "plotlyServerURL": "https://plot.ly"
       },
       "data": [
        {
         "alignmentgroup": "True",
         "hovertemplate": "Country=%{x}<br>Year=2019<br>Percentage of Documents=%{y}<extra></extra>",
         "legendgroup": "Afghanistan",
         "marker": {
          "color": "#636efa",
          "pattern": {
           "shape": ""
          }
         },
         "name": "Afghanistan",
         "offsetgroup": "Afghanistan",
         "orientation": "v",
         "showlegend": true,
         "textposition": "auto",
         "type": "bar",
         "x": [
          "Afghanistan"
         ],
         "xaxis": "x",
         "y": [
          2.8
         ],
         "yaxis": "y"
        },
        {
         "alignmentgroup": "True",
         "hovertemplate": "Country=%{x}<br>Year=2019<br>Percentage of Documents=%{y}<extra></extra>",
         "legendgroup": "Africa",
         "marker": {
          "color": "#EF553B",
          "pattern": {
           "shape": ""
          }
         },
         "name": "Africa",
         "offsetgroup": "Africa",
         "orientation": "v",
         "showlegend": true,
         "textposition": "auto",
         "type": "bar",
         "x": [
          "Africa"
         ],
         "xaxis": "x",
         "y": [
          3.2
         ],
         "yaxis": "y"
        },
        {
         "alignmentgroup": "True",
         "hovertemplate": "Country=%{x}<br>Year=2019<br>Percentage of Documents=%{y}<extra></extra>",
         "legendgroup": "Albania",
         "marker": {
          "color": "#00cc96",
          "pattern": {
           "shape": ""
          }
         },
         "name": "Albania",
         "offsetgroup": "Albania",
         "orientation": "v",
         "showlegend": true,
         "textposition": "auto",
         "type": "bar",
         "x": [
          "Albania"
         ],
         "xaxis": "x",
         "y": [
          0.9
         ],
         "yaxis": "y"
        },
        {
         "alignmentgroup": "True",
         "hovertemplate": "Country=%{x}<br>Year=2019<br>Percentage of Documents=%{y}<extra></extra>",
         "legendgroup": "Angola",
         "marker": {
          "color": "#ab63fa",
          "pattern": {
           "shape": ""
          }
         },
         "name": "Angola",
         "offsetgroup": "Angola",
         "orientation": "v",
         "showlegend": true,
         "textposition": "auto",
         "type": "bar",
         "x": [
          "Angola"
         ],
         "xaxis": "x",
         "y": [
          0.9
         ],
         "yaxis": "y"
        },
        {
         "alignmentgroup": "True",
         "hovertemplate": "Country=%{x}<br>Year=2019<br>Percentage of Documents=%{y}<extra></extra>",
         "legendgroup": "Argentina",
         "marker": {
          "color": "#FFA15A",
          "pattern": {
           "shape": ""
          }
         },
         "name": "Argentina",
         "offsetgroup": "Argentina",
         "orientation": "v",
         "showlegend": true,
         "textposition": "auto",
         "type": "bar",
         "x": [
          "Argentina"
         ],
         "xaxis": "x",
         "y": [
          0.9
         ],
         "yaxis": "y"
        },
        {
         "alignmentgroup": "True",
         "hovertemplate": "Country=%{x}<br>Year=2019<br>Percentage of Documents=%{y}<extra></extra>",
         "legendgroup": "Armenia",
         "marker": {
          "color": "#19d3f3",
          "pattern": {
           "shape": ""
          }
         },
         "name": "Armenia",
         "offsetgroup": "Armenia",
         "orientation": "v",
         "showlegend": true,
         "textposition": "auto",
         "type": "bar",
         "x": [
          "Armenia"
         ],
         "xaxis": "x",
         "y": [
          0.5
         ],
         "yaxis": "y"
        },
        {
         "alignmentgroup": "True",
         "hovertemplate": "Country=%{x}<br>Year=2019<br>Percentage of Documents=%{y}<extra></extra>",
         "legendgroup": "Azerbaijan",
         "marker": {
          "color": "#FF6692",
          "pattern": {
           "shape": ""
          }
         },
         "name": "Azerbaijan",
         "offsetgroup": "Azerbaijan",
         "orientation": "v",
         "showlegend": true,
         "textposition": "auto",
         "type": "bar",
         "x": [
          "Azerbaijan"
         ],
         "xaxis": "x",
         "y": [
          1.4
         ],
         "yaxis": "y"
        },
        {
         "alignmentgroup": "True",
         "hovertemplate": "Country=%{x}<br>Year=2019<br>Percentage of Documents=%{y}<extra></extra>",
         "legendgroup": "Bangladesh",
         "marker": {
          "color": "#B6E880",
          "pattern": {
           "shape": ""
          }
         },
         "name": "Bangladesh",
         "offsetgroup": "Bangladesh",
         "orientation": "v",
         "showlegend": true,
         "textposition": "auto",
         "type": "bar",
         "x": [
          "Bangladesh"
         ],
         "xaxis": "x",
         "y": [
          1.4
         ],
         "yaxis": "y"
        },
        {
         "alignmentgroup": "True",
         "hovertemplate": "Country=%{x}<br>Year=2019<br>Percentage of Documents=%{y}<extra></extra>",
         "legendgroup": "Benin",
         "marker": {
          "color": "#FF97FF",
          "pattern": {
           "shape": ""
          }
         },
         "name": "Benin",
         "offsetgroup": "Benin",
         "orientation": "v",
         "showlegend": true,
         "textposition": "auto",
         "type": "bar",
         "x": [
          "Benin"
         ],
         "xaxis": "x",
         "y": [
          0.9
         ],
         "yaxis": "y"
        },
        {
         "alignmentgroup": "True",
         "hovertemplate": "Country=%{x}<br>Year=2019<br>Percentage of Documents=%{y}<extra></extra>",
         "legendgroup": "Bhutan",
         "marker": {
          "color": "#FECB52",
          "pattern": {
           "shape": ""
          }
         },
         "name": "Bhutan",
         "offsetgroup": "Bhutan",
         "orientation": "v",
         "showlegend": true,
         "textposition": "auto",
         "type": "bar",
         "x": [
          "Bhutan"
         ],
         "xaxis": "x",
         "y": [
          0.9
         ],
         "yaxis": "y"
        },
        {
         "alignmentgroup": "True",
         "hovertemplate": "Country=%{x}<br>Year=2019<br>Percentage of Documents=%{y}<extra></extra>",
         "legendgroup": "Bosnia and Herzegovina",
         "marker": {
          "color": "#636efa",
          "pattern": {
           "shape": ""
          }
         },
         "name": "Bosnia and Herzegovina",
         "offsetgroup": "Bosnia and Herzegovina",
         "orientation": "v",
         "showlegend": true,
         "textposition": "auto",
         "type": "bar",
         "x": [
          "Bosnia and Herzegovina"
         ],
         "xaxis": "x",
         "y": [
          0.5
         ],
         "yaxis": "y"
        },
        {
         "alignmentgroup": "True",
         "hovertemplate": "Country=%{x}<br>Year=2019<br>Percentage of Documents=%{y}<extra></extra>",
         "legendgroup": "Brazil",
         "marker": {
          "color": "#EF553B",
          "pattern": {
           "shape": ""
          }
         },
         "name": "Brazil",
         "offsetgroup": "Brazil",
         "orientation": "v",
         "showlegend": true,
         "textposition": "auto",
         "type": "bar",
         "x": [
          "Brazil"
         ],
         "xaxis": "x",
         "y": [
          2.8
         ],
         "yaxis": "y"
        },
        {
         "alignmentgroup": "True",
         "hovertemplate": "Country=%{x}<br>Year=2019<br>Percentage of Documents=%{y}<extra></extra>",
         "legendgroup": "Burkina Faso",
         "marker": {
          "color": "#00cc96",
          "pattern": {
           "shape": ""
          }
         },
         "name": "Burkina Faso",
         "offsetgroup": "Burkina Faso",
         "orientation": "v",
         "showlegend": true,
         "textposition": "auto",
         "type": "bar",
         "x": [
          "Burkina Faso"
         ],
         "xaxis": "x",
         "y": [
          0.5
         ],
         "yaxis": "y"
        },
        {
         "alignmentgroup": "True",
         "hovertemplate": "Country=%{x}<br>Year=2019<br>Percentage of Documents=%{y}<extra></extra>",
         "legendgroup": "Burundi",
         "marker": {
          "color": "#ab63fa",
          "pattern": {
           "shape": ""
          }
         },
         "name": "Burundi",
         "offsetgroup": "Burundi",
         "orientation": "v",
         "showlegend": true,
         "textposition": "auto",
         "type": "bar",
         "x": [
          "Burundi"
         ],
         "xaxis": "x",
         "y": [
          0.5
         ],
         "yaxis": "y"
        },
        {
         "alignmentgroup": "True",
         "hovertemplate": "Country=%{x}<br>Year=2019<br>Percentage of Documents=%{y}<extra></extra>",
         "legendgroup": "Cabo Verde",
         "marker": {
          "color": "#FFA15A",
          "pattern": {
           "shape": ""
          }
         },
         "name": "Cabo Verde",
         "offsetgroup": "Cabo Verde",
         "orientation": "v",
         "showlegend": true,
         "textposition": "auto",
         "type": "bar",
         "x": [
          "Cabo Verde"
         ],
         "xaxis": "x",
         "y": [
          0.5
         ],
         "yaxis": "y"
        },
        {
         "alignmentgroup": "True",
         "hovertemplate": "Country=%{x}<br>Year=2019<br>Percentage of Documents=%{y}<extra></extra>",
         "legendgroup": "Cameroon",
         "marker": {
          "color": "#19d3f3",
          "pattern": {
           "shape": ""
          }
         },
         "name": "Cameroon",
         "offsetgroup": "Cameroon",
         "orientation": "v",
         "showlegend": true,
         "textposition": "auto",
         "type": "bar",
         "x": [
          "Cameroon"
         ],
         "xaxis": "x",
         "y": [
          0.5
         ],
         "yaxis": "y"
        },
        {
         "alignmentgroup": "True",
         "hovertemplate": "Country=%{x}<br>Year=2019<br>Percentage of Documents=%{y}<extra></extra>",
         "legendgroup": "Chad",
         "marker": {
          "color": "#FF6692",
          "pattern": {
           "shape": ""
          }
         },
         "name": "Chad",
         "offsetgroup": "Chad",
         "orientation": "v",
         "showlegend": true,
         "textposition": "auto",
         "type": "bar",
         "x": [
          "Chad"
         ],
         "xaxis": "x",
         "y": [
          0.9
         ],
         "yaxis": "y"
        },
        {
         "alignmentgroup": "True",
         "hovertemplate": "Country=%{x}<br>Year=2019<br>Percentage of Documents=%{y}<extra></extra>",
         "legendgroup": "China",
         "marker": {
          "color": "#B6E880",
          "pattern": {
           "shape": ""
          }
         },
         "name": "China",
         "offsetgroup": "China",
         "orientation": "v",
         "showlegend": true,
         "textposition": "auto",
         "type": "bar",
         "x": [
          "China"
         ],
         "xaxis": "x",
         "y": [
          4.1
         ],
         "yaxis": "y"
        },
        {
         "alignmentgroup": "True",
         "hovertemplate": "Country=%{x}<br>Year=2019<br>Percentage of Documents=%{y}<extra></extra>",
         "legendgroup": "Colombia",
         "marker": {
          "color": "#FF97FF",
          "pattern": {
           "shape": ""
          }
         },
         "name": "Colombia",
         "offsetgroup": "Colombia",
         "orientation": "v",
         "showlegend": true,
         "textposition": "auto",
         "type": "bar",
         "x": [
          "Colombia"
         ],
         "xaxis": "x",
         "y": [
          0.9
         ],
         "yaxis": "y"
        },
        {
         "alignmentgroup": "True",
         "hovertemplate": "Country=%{x}<br>Year=2019<br>Percentage of Documents=%{y}<extra></extra>",
         "legendgroup": "Comoros",
         "marker": {
          "color": "#FECB52",
          "pattern": {
           "shape": ""
          }
         },
         "name": "Comoros",
         "offsetgroup": "Comoros",
         "orientation": "v",
         "showlegend": true,
         "textposition": "auto",
         "type": "bar",
         "x": [
          "Comoros"
         ],
         "xaxis": "x",
         "y": [
          0.5
         ],
         "yaxis": "y"
        },
        {
         "alignmentgroup": "True",
         "hovertemplate": "Country=%{x}<br>Year=2019<br>Percentage of Documents=%{y}<extra></extra>",
         "legendgroup": "Congo, Democratic Republic of",
         "marker": {
          "color": "#636efa",
          "pattern": {
           "shape": ""
          }
         },
         "name": "Congo, Democratic Republic of",
         "offsetgroup": "Congo, Democratic Republic of",
         "orientation": "v",
         "showlegend": true,
         "textposition": "auto",
         "type": "bar",
         "x": [
          "Congo, Democratic Republic of"
         ],
         "xaxis": "x",
         "y": [
          0.9
         ],
         "yaxis": "y"
        },
        {
         "alignmentgroup": "True",
         "hovertemplate": "Country=%{x}<br>Year=2019<br>Percentage of Documents=%{y}<extra></extra>",
         "legendgroup": "Congo, Republic of",
         "marker": {
          "color": "#EF553B",
          "pattern": {
           "shape": ""
          }
         },
         "name": "Congo, Republic of",
         "offsetgroup": "Congo, Republic of",
         "orientation": "v",
         "showlegend": true,
         "textposition": "auto",
         "type": "bar",
         "x": [
          "Congo, Republic of"
         ],
         "xaxis": "x",
         "y": [
          0.5
         ],
         "yaxis": "y"
        },
        {
         "alignmentgroup": "True",
         "hovertemplate": "Country=%{x}<br>Year=2019<br>Percentage of Documents=%{y}<extra></extra>",
         "legendgroup": "Costa Rica",
         "marker": {
          "color": "#00cc96",
          "pattern": {
           "shape": ""
          }
         },
         "name": "Costa Rica",
         "offsetgroup": "Costa Rica",
         "orientation": "v",
         "showlegend": true,
         "textposition": "auto",
         "type": "bar",
         "x": [
          "Costa Rica"
         ],
         "xaxis": "x",
         "y": [
          0.5
         ],
         "yaxis": "y"
        },
        {
         "alignmentgroup": "True",
         "hovertemplate": "Country=%{x}<br>Year=2019<br>Percentage of Documents=%{y}<extra></extra>",
         "legendgroup": "Cote d'Ivoire",
         "marker": {
          "color": "#ab63fa",
          "pattern": {
           "shape": ""
          }
         },
         "name": "Cote d'Ivoire",
         "offsetgroup": "Cote d'Ivoire",
         "orientation": "v",
         "showlegend": true,
         "textposition": "auto",
         "type": "bar",
         "x": [
          "Cote d'Ivoire"
         ],
         "xaxis": "x",
         "y": [
          0.9
         ],
         "yaxis": "y"
        },
        {
         "alignmentgroup": "True",
         "hovertemplate": "Country=%{x}<br>Year=2019<br>Percentage of Documents=%{y}<extra></extra>",
         "legendgroup": "Djibouti",
         "marker": {
          "color": "#FFA15A",
          "pattern": {
           "shape": ""
          }
         },
         "name": "Djibouti",
         "offsetgroup": "Djibouti",
         "orientation": "v",
         "showlegend": true,
         "textposition": "auto",
         "type": "bar",
         "x": [
          "Djibouti"
         ],
         "xaxis": "x",
         "y": [
          0.5
         ],
         "yaxis": "y"
        },
        {
         "alignmentgroup": "True",
         "hovertemplate": "Country=%{x}<br>Year=2019<br>Percentage of Documents=%{y}<extra></extra>",
         "legendgroup": "Dominican Republic",
         "marker": {
          "color": "#19d3f3",
          "pattern": {
           "shape": ""
          }
         },
         "name": "Dominican Republic",
         "offsetgroup": "Dominican Republic",
         "orientation": "v",
         "showlegend": true,
         "textposition": "auto",
         "type": "bar",
         "x": [
          "Dominican Republic"
         ],
         "xaxis": "x",
         "y": [
          0.5
         ],
         "yaxis": "y"
        },
        {
         "alignmentgroup": "True",
         "hovertemplate": "Country=%{x}<br>Year=2019<br>Percentage of Documents=%{y}<extra></extra>",
         "legendgroup": "Eastern Africa",
         "marker": {
          "color": "#FF6692",
          "pattern": {
           "shape": ""
          }
         },
         "name": "Eastern Africa",
         "offsetgroup": "Eastern Africa",
         "orientation": "v",
         "showlegend": true,
         "textposition": "auto",
         "type": "bar",
         "x": [
          "Eastern Africa"
         ],
         "xaxis": "x",
         "y": [
          0.5
         ],
         "yaxis": "y"
        },
        {
         "alignmentgroup": "True",
         "hovertemplate": "Country=%{x}<br>Year=2019<br>Percentage of Documents=%{y}<extra></extra>",
         "legendgroup": "Egypt, Arab Republic of",
         "marker": {
          "color": "#B6E880",
          "pattern": {
           "shape": ""
          }
         },
         "name": "Egypt, Arab Republic of",
         "offsetgroup": "Egypt, Arab Republic of",
         "orientation": "v",
         "showlegend": true,
         "textposition": "auto",
         "type": "bar",
         "x": [
          "Egypt, Arab Republic of"
         ],
         "xaxis": "x",
         "y": [
          0.9
         ],
         "yaxis": "y"
        },
        {
         "alignmentgroup": "True",
         "hovertemplate": "Country=%{x}<br>Year=2019<br>Percentage of Documents=%{y}<extra></extra>",
         "legendgroup": "El Salvador",
         "marker": {
          "color": "#FF97FF",
          "pattern": {
           "shape": ""
          }
         },
         "name": "El Salvador",
         "offsetgroup": "El Salvador",
         "orientation": "v",
         "showlegend": true,
         "textposition": "auto",
         "type": "bar",
         "x": [
          "El Salvador"
         ],
         "xaxis": "x",
         "y": [
          0.5
         ],
         "yaxis": "y"
        },
        {
         "alignmentgroup": "True",
         "hovertemplate": "Country=%{x}<br>Year=2019<br>Percentage of Documents=%{y}<extra></extra>",
         "legendgroup": "Eswatini",
         "marker": {
          "color": "#FECB52",
          "pattern": {
           "shape": ""
          }
         },
         "name": "Eswatini",
         "offsetgroup": "Eswatini",
         "orientation": "v",
         "showlegend": true,
         "textposition": "auto",
         "type": "bar",
         "x": [
          "Eswatini"
         ],
         "xaxis": "x",
         "y": [
          0.5
         ],
         "yaxis": "y"
        },
        {
         "alignmentgroup": "True",
         "hovertemplate": "Country=%{x}<br>Year=2019<br>Percentage of Documents=%{y}<extra></extra>",
         "legendgroup": "Ethiopia",
         "marker": {
          "color": "#636efa",
          "pattern": {
           "shape": ""
          }
         },
         "name": "Ethiopia",
         "offsetgroup": "Ethiopia",
         "orientation": "v",
         "showlegend": true,
         "textposition": "auto",
         "type": "bar",
         "x": [
          "Ethiopia"
         ],
         "xaxis": "x",
         "y": [
          0.9
         ],
         "yaxis": "y"
        },
        {
         "alignmentgroup": "True",
         "hovertemplate": "Country=%{x}<br>Year=2019<br>Percentage of Documents=%{y}<extra></extra>",
         "legendgroup": "Fiji",
         "marker": {
          "color": "#EF553B",
          "pattern": {
           "shape": ""
          }
         },
         "name": "Fiji",
         "offsetgroup": "Fiji",
         "orientation": "v",
         "showlegend": true,
         "textposition": "auto",
         "type": "bar",
         "x": [
          "Fiji"
         ],
         "xaxis": "x",
         "y": [
          0.5
         ],
         "yaxis": "y"
        },
        {
         "alignmentgroup": "True",
         "hovertemplate": "Country=%{x}<br>Year=2019<br>Percentage of Documents=%{y}<extra></extra>",
         "legendgroup": "Gambia, The",
         "marker": {
          "color": "#00cc96",
          "pattern": {
           "shape": ""
          }
         },
         "name": "Gambia, The",
         "offsetgroup": "Gambia, The",
         "orientation": "v",
         "showlegend": true,
         "textposition": "auto",
         "type": "bar",
         "x": [
          "Gambia, The"
         ],
         "xaxis": "x",
         "y": [
          0.9
         ],
         "yaxis": "y"
        },
        {
         "alignmentgroup": "True",
         "hovertemplate": "Country=%{x}<br>Year=2019<br>Percentage of Documents=%{y}<extra></extra>",
         "legendgroup": "Ghana",
         "marker": {
          "color": "#ab63fa",
          "pattern": {
           "shape": ""
          }
         },
         "name": "Ghana",
         "offsetgroup": "Ghana",
         "orientation": "v",
         "showlegend": true,
         "textposition": "auto",
         "type": "bar",
         "x": [
          "Ghana"
         ],
         "xaxis": "x",
         "y": [
          3.2
         ],
         "yaxis": "y"
        },
        {
         "alignmentgroup": "True",
         "hovertemplate": "Country=%{x}<br>Year=2019<br>Percentage of Documents=%{y}<extra></extra>",
         "legendgroup": "Grenada",
         "marker": {
          "color": "#FFA15A",
          "pattern": {
           "shape": ""
          }
         },
         "name": "Grenada",
         "offsetgroup": "Grenada",
         "orientation": "v",
         "showlegend": true,
         "textposition": "auto",
         "type": "bar",
         "x": [
          "Grenada"
         ],
         "xaxis": "x",
         "y": [
          0.9
         ],
         "yaxis": "y"
        },
        {
         "alignmentgroup": "True",
         "hovertemplate": "Country=%{x}<br>Year=2019<br>Percentage of Documents=%{y}<extra></extra>",
         "legendgroup": "Guinea",
         "marker": {
          "color": "#19d3f3",
          "pattern": {
           "shape": ""
          }
         },
         "name": "Guinea",
         "offsetgroup": "Guinea",
         "orientation": "v",
         "showlegend": true,
         "textposition": "auto",
         "type": "bar",
         "x": [
          "Guinea"
         ],
         "xaxis": "x",
         "y": [
          0.5
         ],
         "yaxis": "y"
        },
        {
         "alignmentgroup": "True",
         "hovertemplate": "Country=%{x}<br>Year=2019<br>Percentage of Documents=%{y}<extra></extra>",
         "legendgroup": "Haiti",
         "marker": {
          "color": "#FF6692",
          "pattern": {
           "shape": ""
          }
         },
         "name": "Haiti",
         "offsetgroup": "Haiti",
         "orientation": "v",
         "showlegend": true,
         "textposition": "auto",
         "type": "bar",
         "x": [
          "Haiti"
         ],
         "xaxis": "x",
         "y": [
          0.9
         ],
         "yaxis": "y"
        },
        {
         "alignmentgroup": "True",
         "hovertemplate": "Country=%{x}<br>Year=2019<br>Percentage of Documents=%{y}<extra></extra>",
         "legendgroup": "Honduras",
         "marker": {
          "color": "#B6E880",
          "pattern": {
           "shape": ""
          }
         },
         "name": "Honduras",
         "offsetgroup": "Honduras",
         "orientation": "v",
         "showlegend": true,
         "textposition": "auto",
         "type": "bar",
         "x": [
          "Honduras"
         ],
         "xaxis": "x",
         "y": [
          0.5
         ],
         "yaxis": "y"
        },
        {
         "alignmentgroup": "True",
         "hovertemplate": "Country=%{x}<br>Year=2019<br>Percentage of Documents=%{y}<extra></extra>",
         "legendgroup": "India",
         "marker": {
          "color": "#FF97FF",
          "pattern": {
           "shape": ""
          }
         },
         "name": "India",
         "offsetgroup": "India",
         "orientation": "v",
         "showlegend": true,
         "textposition": "auto",
         "type": "bar",
         "x": [
          "India"
         ],
         "xaxis": "x",
         "y": [
          7.4
         ],
         "yaxis": "y"
        },
        {
         "alignmentgroup": "True",
         "hovertemplate": "Country=%{x}<br>Year=2019<br>Percentage of Documents=%{y}<extra></extra>",
         "legendgroup": "Indonesia",
         "marker": {
          "color": "#FECB52",
          "pattern": {
           "shape": ""
          }
         },
         "name": "Indonesia",
         "offsetgroup": "Indonesia",
         "orientation": "v",
         "showlegend": true,
         "textposition": "auto",
         "type": "bar",
         "x": [
          "Indonesia"
         ],
         "xaxis": "x",
         "y": [
          2.3
         ],
         "yaxis": "y"
        },
        {
         "alignmentgroup": "True",
         "hovertemplate": "Country=%{x}<br>Year=2019<br>Percentage of Documents=%{y}<extra></extra>",
         "legendgroup": "Iraq",
         "marker": {
          "color": "#636efa",
          "pattern": {
           "shape": ""
          }
         },
         "name": "Iraq",
         "offsetgroup": "Iraq",
         "orientation": "v",
         "showlegend": true,
         "textposition": "auto",
         "type": "bar",
         "x": [
          "Iraq"
         ],
         "xaxis": "x",
         "y": [
          0.5
         ],
         "yaxis": "y"
        },
        {
         "alignmentgroup": "True",
         "hovertemplate": "Country=%{x}<br>Year=2019<br>Percentage of Documents=%{y}<extra></extra>",
         "legendgroup": "Jamaica",
         "marker": {
          "color": "#EF553B",
          "pattern": {
           "shape": ""
          }
         },
         "name": "Jamaica",
         "offsetgroup": "Jamaica",
         "orientation": "v",
         "showlegend": true,
         "textposition": "auto",
         "type": "bar",
         "x": [
          "Jamaica"
         ],
         "xaxis": "x",
         "y": [
          0.9
         ],
         "yaxis": "y"
        },
        {
         "alignmentgroup": "True",
         "hovertemplate": "Country=%{x}<br>Year=2019<br>Percentage of Documents=%{y}<extra></extra>",
         "legendgroup": "Jordan",
         "marker": {
          "color": "#00cc96",
          "pattern": {
           "shape": ""
          }
         },
         "name": "Jordan",
         "offsetgroup": "Jordan",
         "orientation": "v",
         "showlegend": true,
         "textposition": "auto",
         "type": "bar",
         "x": [
          "Jordan"
         ],
         "xaxis": "x",
         "y": [
          0.5
         ],
         "yaxis": "y"
        },
        {
         "alignmentgroup": "True",
         "hovertemplate": "Country=%{x}<br>Year=2019<br>Percentage of Documents=%{y}<extra></extra>",
         "legendgroup": "Kenya",
         "marker": {
          "color": "#ab63fa",
          "pattern": {
           "shape": ""
          }
         },
         "name": "Kenya",
         "offsetgroup": "Kenya",
         "orientation": "v",
         "showlegend": true,
         "textposition": "auto",
         "type": "bar",
         "x": [
          "Kenya"
         ],
         "xaxis": "x",
         "y": [
          1.4
         ],
         "yaxis": "y"
        },
        {
         "alignmentgroup": "True",
         "hovertemplate": "Country=%{x}<br>Year=2019<br>Percentage of Documents=%{y}<extra></extra>",
         "legendgroup": "Kiribati",
         "marker": {
          "color": "#FFA15A",
          "pattern": {
           "shape": ""
          }
         },
         "name": "Kiribati",
         "offsetgroup": "Kiribati",
         "orientation": "v",
         "showlegend": true,
         "textposition": "auto",
         "type": "bar",
         "x": [
          "Kiribati"
         ],
         "xaxis": "x",
         "y": [
          0.9
         ],
         "yaxis": "y"
        },
        {
         "alignmentgroup": "True",
         "hovertemplate": "Country=%{x}<br>Year=2019<br>Percentage of Documents=%{y}<extra></extra>",
         "legendgroup": "Kosovo",
         "marker": {
          "color": "#19d3f3",
          "pattern": {
           "shape": ""
          }
         },
         "name": "Kosovo",
         "offsetgroup": "Kosovo",
         "orientation": "v",
         "showlegend": true,
         "textposition": "auto",
         "type": "bar",
         "x": [
          "Kosovo"
         ],
         "xaxis": "x",
         "y": [
          0.5
         ],
         "yaxis": "y"
        },
        {
         "alignmentgroup": "True",
         "hovertemplate": "Country=%{x}<br>Year=2019<br>Percentage of Documents=%{y}<extra></extra>",
         "legendgroup": "Kyrgyz Republic",
         "marker": {
          "color": "#FF6692",
          "pattern": {
           "shape": ""
          }
         },
         "name": "Kyrgyz Republic",
         "offsetgroup": "Kyrgyz Republic",
         "orientation": "v",
         "showlegend": true,
         "textposition": "auto",
         "type": "bar",
         "x": [
          "Kyrgyz Republic"
         ],
         "xaxis": "x",
         "y": [
          0.9
         ],
         "yaxis": "y"
        },
        {
         "alignmentgroup": "True",
         "hovertemplate": "Country=%{x}<br>Year=2019<br>Percentage of Documents=%{y}<extra></extra>",
         "legendgroup": "Lake Victoria Phase II APL 1 (FY09) (P100406) :",
         "marker": {
          "color": "#B6E880",
          "pattern": {
           "shape": ""
          }
         },
         "name": "Lake Victoria Phase II APL 1 (FY09) (P100406) :",
         "offsetgroup": "Lake Victoria Phase II APL 1 (FY09) (P100406) :",
         "orientation": "v",
         "showlegend": true,
         "textposition": "auto",
         "type": "bar",
         "x": [
          "Lake Victoria Phase II APL 1 (FY09) (P100406) :"
         ],
         "xaxis": "x",
         "y": [
          0.5
         ],
         "yaxis": "y"
        },
        {
         "alignmentgroup": "True",
         "hovertemplate": "Country=%{x}<br>Year=2019<br>Percentage of Documents=%{y}<extra></extra>",
         "legendgroup": "Lao People's Democratic Republic",
         "marker": {
          "color": "#FF97FF",
          "pattern": {
           "shape": ""
          }
         },
         "name": "Lao People's Democratic Republic",
         "offsetgroup": "Lao People's Democratic Republic",
         "orientation": "v",
         "showlegend": true,
         "textposition": "auto",
         "type": "bar",
         "x": [
          "Lao People's Democratic Republic"
         ],
         "xaxis": "x",
         "y": [
          0.9
         ],
         "yaxis": "y"
        },
        {
         "alignmentgroup": "True",
         "hovertemplate": "Country=%{x}<br>Year=2019<br>Percentage of Documents=%{y}<extra></extra>",
         "legendgroup": "Lebanon",
         "marker": {
          "color": "#FECB52",
          "pattern": {
           "shape": ""
          }
         },
         "name": "Lebanon",
         "offsetgroup": "Lebanon",
         "orientation": "v",
         "showlegend": true,
         "textposition": "auto",
         "type": "bar",
         "x": [
          "Lebanon"
         ],
         "xaxis": "x",
         "y": [
          1.4
         ],
         "yaxis": "y"
        },
        {
         "alignmentgroup": "True",
         "hovertemplate": "Country=%{x}<br>Year=2019<br>Percentage of Documents=%{y}<extra></extra>",
         "legendgroup": "Madagascar",
         "marker": {
          "color": "#636efa",
          "pattern": {
           "shape": ""
          }
         },
         "name": "Madagascar",
         "offsetgroup": "Madagascar",
         "orientation": "v",
         "showlegend": true,
         "textposition": "auto",
         "type": "bar",
         "x": [
          "Madagascar"
         ],
         "xaxis": "x",
         "y": [
          0.9
         ],
         "yaxis": "y"
        },
        {
         "alignmentgroup": "True",
         "hovertemplate": "Country=%{x}<br>Year=2019<br>Percentage of Documents=%{y}<extra></extra>",
         "legendgroup": "Malawi",
         "marker": {
          "color": "#EF553B",
          "pattern": {
           "shape": ""
          }
         },
         "name": "Malawi",
         "offsetgroup": "Malawi",
         "orientation": "v",
         "showlegend": true,
         "textposition": "auto",
         "type": "bar",
         "x": [
          "Malawi"
         ],
         "xaxis": "x",
         "y": [
          1.8
         ],
         "yaxis": "y"
        },
        {
         "alignmentgroup": "True",
         "hovertemplate": "Country=%{x}<br>Year=2019<br>Percentage of Documents=%{y}<extra></extra>",
         "legendgroup": "Maldives",
         "marker": {
          "color": "#00cc96",
          "pattern": {
           "shape": ""
          }
         },
         "name": "Maldives",
         "offsetgroup": "Maldives",
         "orientation": "v",
         "showlegend": true,
         "textposition": "auto",
         "type": "bar",
         "x": [
          "Maldives"
         ],
         "xaxis": "x",
         "y": [
          0.5
         ],
         "yaxis": "y"
        },
        {
         "alignmentgroup": "True",
         "hovertemplate": "Country=%{x}<br>Year=2019<br>Percentage of Documents=%{y}<extra></extra>",
         "legendgroup": "Mauritania",
         "marker": {
          "color": "#ab63fa",
          "pattern": {
           "shape": ""
          }
         },
         "name": "Mauritania",
         "offsetgroup": "Mauritania",
         "orientation": "v",
         "showlegend": true,
         "textposition": "auto",
         "type": "bar",
         "x": [
          "Mauritania"
         ],
         "xaxis": "x",
         "y": [
          0.5
         ],
         "yaxis": "y"
        },
        {
         "alignmentgroup": "True",
         "hovertemplate": "Country=%{x}<br>Year=2019<br>Percentage of Documents=%{y}<extra></extra>",
         "legendgroup": "Mexico",
         "marker": {
          "color": "#FFA15A",
          "pattern": {
           "shape": ""
          }
         },
         "name": "Mexico",
         "offsetgroup": "Mexico",
         "orientation": "v",
         "showlegend": true,
         "textposition": "auto",
         "type": "bar",
         "x": [
          "Mexico"
         ],
         "xaxis": "x",
         "y": [
          1.4
         ],
         "yaxis": "y"
        },
        {
         "alignmentgroup": "True",
         "hovertemplate": "Country=%{x}<br>Year=2019<br>Percentage of Documents=%{y}<extra></extra>",
         "legendgroup": "Middle East and North Africa",
         "marker": {
          "color": "#19d3f3",
          "pattern": {
           "shape": ""
          }
         },
         "name": "Middle East and North Africa",
         "offsetgroup": "Middle East and North Africa",
         "orientation": "v",
         "showlegend": true,
         "textposition": "auto",
         "type": "bar",
         "x": [
          "Middle East and North Africa"
         ],
         "xaxis": "x",
         "y": [
          0.5
         ],
         "yaxis": "y"
        },
        {
         "alignmentgroup": "True",
         "hovertemplate": "Country=%{x}<br>Year=2019<br>Percentage of Documents=%{y}<extra></extra>",
         "legendgroup": "Moldova",
         "marker": {
          "color": "#FF6692",
          "pattern": {
           "shape": ""
          }
         },
         "name": "Moldova",
         "offsetgroup": "Moldova",
         "orientation": "v",
         "showlegend": true,
         "textposition": "auto",
         "type": "bar",
         "x": [
          "Moldova"
         ],
         "xaxis": "x",
         "y": [
          0.9
         ],
         "yaxis": "y"
        },
        {
         "alignmentgroup": "True",
         "hovertemplate": "Country=%{x}<br>Year=2019<br>Percentage of Documents=%{y}<extra></extra>",
         "legendgroup": "Montenegro",
         "marker": {
          "color": "#B6E880",
          "pattern": {
           "shape": ""
          }
         },
         "name": "Montenegro",
         "offsetgroup": "Montenegro",
         "orientation": "v",
         "showlegend": true,
         "textposition": "auto",
         "type": "bar",
         "x": [
          "Montenegro"
         ],
         "xaxis": "x",
         "y": [
          0.5
         ],
         "yaxis": "y"
        },
        {
         "alignmentgroup": "True",
         "hovertemplate": "Country=%{x}<br>Year=2019<br>Percentage of Documents=%{y}<extra></extra>",
         "legendgroup": "Morocco",
         "marker": {
          "color": "#FF97FF",
          "pattern": {
           "shape": ""
          }
         },
         "name": "Morocco",
         "offsetgroup": "Morocco",
         "orientation": "v",
         "showlegend": true,
         "textposition": "auto",
         "type": "bar",
         "x": [
          "Morocco"
         ],
         "xaxis": "x",
         "y": [
          1.4
         ],
         "yaxis": "y"
        },
        {
         "alignmentgroup": "True",
         "hovertemplate": "Country=%{x}<br>Year=2019<br>Percentage of Documents=%{y}<extra></extra>",
         "legendgroup": "Mozambique",
         "marker": {
          "color": "#FECB52",
          "pattern": {
           "shape": ""
          }
         },
         "name": "Mozambique",
         "offsetgroup": "Mozambique",
         "orientation": "v",
         "showlegend": true,
         "textposition": "auto",
         "type": "bar",
         "x": [
          "Mozambique"
         ],
         "xaxis": "x",
         "y": [
          0.9
         ],
         "yaxis": "y"
        },
        {
         "alignmentgroup": "True",
         "hovertemplate": "Country=%{x}<br>Year=2019<br>Percentage of Documents=%{y}<extra></extra>",
         "legendgroup": "Nepal",
         "marker": {
          "color": "#636efa",
          "pattern": {
           "shape": ""
          }
         },
         "name": "Nepal",
         "offsetgroup": "Nepal",
         "orientation": "v",
         "showlegend": true,
         "textposition": "auto",
         "type": "bar",
         "x": [
          "Nepal"
         ],
         "xaxis": "x",
         "y": [
          2.3
         ],
         "yaxis": "y"
        },
        {
         "alignmentgroup": "True",
         "hovertemplate": "Country=%{x}<br>Year=2019<br>Percentage of Documents=%{y}<extra></extra>",
         "legendgroup": "Nicaragua",
         "marker": {
          "color": "#EF553B",
          "pattern": {
           "shape": ""
          }
         },
         "name": "Nicaragua",
         "offsetgroup": "Nicaragua",
         "orientation": "v",
         "showlegend": true,
         "textposition": "auto",
         "type": "bar",
         "x": [
          "Nicaragua"
         ],
         "xaxis": "x",
         "y": [
          1.4
         ],
         "yaxis": "y"
        },
        {
         "alignmentgroup": "True",
         "hovertemplate": "Country=%{x}<br>Year=2019<br>Percentage of Documents=%{y}<extra></extra>",
         "legendgroup": "Niger",
         "marker": {
          "color": "#00cc96",
          "pattern": {
           "shape": ""
          }
         },
         "name": "Niger",
         "offsetgroup": "Niger",
         "orientation": "v",
         "showlegend": true,
         "textposition": "auto",
         "type": "bar",
         "x": [
          "Niger"
         ],
         "xaxis": "x",
         "y": [
          0.5
         ],
         "yaxis": "y"
        },
        {
         "alignmentgroup": "True",
         "hovertemplate": "Country=%{x}<br>Year=2019<br>Percentage of Documents=%{y}<extra></extra>",
         "legendgroup": "Nigeria",
         "marker": {
          "color": "#ab63fa",
          "pattern": {
           "shape": ""
          }
         },
         "name": "Nigeria",
         "offsetgroup": "Nigeria",
         "orientation": "v",
         "showlegend": true,
         "textposition": "auto",
         "type": "bar",
         "x": [
          "Nigeria"
         ],
         "xaxis": "x",
         "y": [
          0.9
         ],
         "yaxis": "y"
        },
        {
         "alignmentgroup": "True",
         "hovertemplate": "Country=%{x}<br>Year=2019<br>Percentage of Documents=%{y}<extra></extra>",
         "legendgroup": "North Macedonia",
         "marker": {
          "color": "#FFA15A",
          "pattern": {
           "shape": ""
          }
         },
         "name": "North Macedonia",
         "offsetgroup": "North Macedonia",
         "orientation": "v",
         "showlegend": true,
         "textposition": "auto",
         "type": "bar",
         "x": [
          "North Macedonia"
         ],
         "xaxis": "x",
         "y": [
          0.5
         ],
         "yaxis": "y"
        },
        {
         "alignmentgroup": "True",
         "hovertemplate": "Country=%{x}<br>Year=2019<br>Percentage of Documents=%{y}<extra></extra>",
         "legendgroup": "OECS Countries",
         "marker": {
          "color": "#19d3f3",
          "pattern": {
           "shape": ""
          }
         },
         "name": "OECS Countries",
         "offsetgroup": "OECS Countries",
         "orientation": "v",
         "showlegend": true,
         "textposition": "auto",
         "type": "bar",
         "x": [
          "OECS Countries"
         ],
         "xaxis": "x",
         "y": [
          0.5
         ],
         "yaxis": "y"
        },
        {
         "alignmentgroup": "True",
         "hovertemplate": "Country=%{x}<br>Year=2019<br>Percentage of Documents=%{y}<extra></extra>",
         "legendgroup": "Pakistan",
         "marker": {
          "color": "#FF6692",
          "pattern": {
           "shape": ""
          }
         },
         "name": "Pakistan",
         "offsetgroup": "Pakistan",
         "orientation": "v",
         "showlegend": true,
         "textposition": "auto",
         "type": "bar",
         "x": [
          "Pakistan"
         ],
         "xaxis": "x",
         "y": [
          2.3
         ],
         "yaxis": "y"
        },
        {
         "alignmentgroup": "True",
         "hovertemplate": "Country=%{x}<br>Year=2019<br>Percentage of Documents=%{y}<extra></extra>",
         "legendgroup": "Papua New Guinea",
         "marker": {
          "color": "#B6E880",
          "pattern": {
           "shape": ""
          }
         },
         "name": "Papua New Guinea",
         "offsetgroup": "Papua New Guinea",
         "orientation": "v",
         "showlegend": true,
         "textposition": "auto",
         "type": "bar",
         "x": [
          "Papua New Guinea"
         ],
         "xaxis": "x",
         "y": [
          0.9
         ],
         "yaxis": "y"
        },
        {
         "alignmentgroup": "True",
         "hovertemplate": "Country=%{x}<br>Year=2019<br>Percentage of Documents=%{y}<extra></extra>",
         "legendgroup": "Paraguay",
         "marker": {
          "color": "#FF97FF",
          "pattern": {
           "shape": ""
          }
         },
         "name": "Paraguay",
         "offsetgroup": "Paraguay",
         "orientation": "v",
         "showlegend": true,
         "textposition": "auto",
         "type": "bar",
         "x": [
          "Paraguay"
         ],
         "xaxis": "x",
         "y": [
          1.4
         ],
         "yaxis": "y"
        },
        {
         "alignmentgroup": "True",
         "hovertemplate": "Country=%{x}<br>Year=2019<br>Percentage of Documents=%{y}<extra></extra>",
         "legendgroup": "Peru",
         "marker": {
          "color": "#FECB52",
          "pattern": {
           "shape": ""
          }
         },
         "name": "Peru",
         "offsetgroup": "Peru",
         "orientation": "v",
         "showlegend": true,
         "textposition": "auto",
         "type": "bar",
         "x": [
          "Peru"
         ],
         "xaxis": "x",
         "y": [
          1.8
         ],
         "yaxis": "y"
        },
        {
         "alignmentgroup": "True",
         "hovertemplate": "Country=%{x}<br>Year=2019<br>Percentage of Documents=%{y}<extra></extra>",
         "legendgroup": "Philippines",
         "marker": {
          "color": "#636efa",
          "pattern": {
           "shape": ""
          }
         },
         "name": "Philippines",
         "offsetgroup": "Philippines",
         "orientation": "v",
         "showlegend": true,
         "textposition": "auto",
         "type": "bar",
         "x": [
          "Philippines"
         ],
         "xaxis": "x",
         "y": [
          2.3
         ],
         "yaxis": "y"
        },
        {
         "alignmentgroup": "True",
         "hovertemplate": "Country=%{x}<br>Year=2019<br>Percentage of Documents=%{y}<extra></extra>",
         "legendgroup": "Russian Federation",
         "marker": {
          "color": "#EF553B",
          "pattern": {
           "shape": ""
          }
         },
         "name": "Russian Federation",
         "offsetgroup": "Russian Federation",
         "orientation": "v",
         "showlegend": true,
         "textposition": "auto",
         "type": "bar",
         "x": [
          "Russian Federation"
         ],
         "xaxis": "x",
         "y": [
          0.9
         ],
         "yaxis": "y"
        },
        {
         "alignmentgroup": "True",
         "hovertemplate": "Country=%{x}<br>Year=2019<br>Percentage of Documents=%{y}<extra></extra>",
         "legendgroup": "Rwanda",
         "marker": {
          "color": "#00cc96",
          "pattern": {
           "shape": ""
          }
         },
         "name": "Rwanda",
         "offsetgroup": "Rwanda",
         "orientation": "v",
         "showlegend": true,
         "textposition": "auto",
         "type": "bar",
         "x": [
          "Rwanda"
         ],
         "xaxis": "x",
         "y": [
          1.8
         ],
         "yaxis": "y"
        },
        {
         "alignmentgroup": "True",
         "hovertemplate": "Country=%{x}<br>Year=2019<br>Percentage of Documents=%{y}<extra></extra>",
         "legendgroup": "Samoa",
         "marker": {
          "color": "#ab63fa",
          "pattern": {
           "shape": ""
          }
         },
         "name": "Samoa",
         "offsetgroup": "Samoa",
         "orientation": "v",
         "showlegend": true,
         "textposition": "auto",
         "type": "bar",
         "x": [
          "Samoa"
         ],
         "xaxis": "x",
         "y": [
          0.5
         ],
         "yaxis": "y"
        },
        {
         "alignmentgroup": "True",
         "hovertemplate": "Country=%{x}<br>Year=2019<br>Percentage of Documents=%{y}<extra></extra>",
         "legendgroup": "Senegal",
         "marker": {
          "color": "#FFA15A",
          "pattern": {
           "shape": ""
          }
         },
         "name": "Senegal",
         "offsetgroup": "Senegal",
         "orientation": "v",
         "showlegend": true,
         "textposition": "auto",
         "type": "bar",
         "x": [
          "Senegal"
         ],
         "xaxis": "x",
         "y": [
          0.5
         ],
         "yaxis": "y"
        },
        {
         "alignmentgroup": "True",
         "hovertemplate": "Country=%{x}<br>Year=2019<br>Percentage of Documents=%{y}<extra></extra>",
         "legendgroup": "Sierra Leone",
         "marker": {
          "color": "#19d3f3",
          "pattern": {
           "shape": ""
          }
         },
         "name": "Sierra Leone",
         "offsetgroup": "Sierra Leone",
         "orientation": "v",
         "showlegend": true,
         "textposition": "auto",
         "type": "bar",
         "x": [
          "Sierra Leone"
         ],
         "xaxis": "x",
         "y": [
          0.9
         ],
         "yaxis": "y"
        },
        {
         "alignmentgroup": "True",
         "hovertemplate": "Country=%{x}<br>Year=2019<br>Percentage of Documents=%{y}<extra></extra>",
         "legendgroup": "Solomon Islands",
         "marker": {
          "color": "#FF6692",
          "pattern": {
           "shape": ""
          }
         },
         "name": "Solomon Islands",
         "offsetgroup": "Solomon Islands",
         "orientation": "v",
         "showlegend": true,
         "textposition": "auto",
         "type": "bar",
         "x": [
          "Solomon Islands"
         ],
         "xaxis": "x",
         "y": [
          0.5
         ],
         "yaxis": "y"
        },
        {
         "alignmentgroup": "True",
         "hovertemplate": "Country=%{x}<br>Year=2019<br>Percentage of Documents=%{y}<extra></extra>",
         "legendgroup": "South Sudan",
         "marker": {
          "color": "#B6E880",
          "pattern": {
           "shape": ""
          }
         },
         "name": "South Sudan",
         "offsetgroup": "South Sudan",
         "orientation": "v",
         "showlegend": true,
         "textposition": "auto",
         "type": "bar",
         "x": [
          "South Sudan"
         ],
         "xaxis": "x",
         "y": [
          0.9
         ],
         "yaxis": "y"
        },
        {
         "alignmentgroup": "True",
         "hovertemplate": "Country=%{x}<br>Year=2019<br>Percentage of Documents=%{y}<extra></extra>",
         "legendgroup": "Sri Lanka",
         "marker": {
          "color": "#FF97FF",
          "pattern": {
           "shape": ""
          }
         },
         "name": "Sri Lanka",
         "offsetgroup": "Sri Lanka",
         "orientation": "v",
         "showlegend": true,
         "textposition": "auto",
         "type": "bar",
         "x": [
          "Sri Lanka"
         ],
         "xaxis": "x",
         "y": [
          1.8
         ],
         "yaxis": "y"
        },
        {
         "alignmentgroup": "True",
         "hovertemplate": "Country=%{x}<br>Year=2019<br>Percentage of Documents=%{y}<extra></extra>",
         "legendgroup": "Tajikistan",
         "marker": {
          "color": "#FECB52",
          "pattern": {
           "shape": ""
          }
         },
         "name": "Tajikistan",
         "offsetgroup": "Tajikistan",
         "orientation": "v",
         "showlegend": true,
         "textposition": "auto",
         "type": "bar",
         "x": [
          "Tajikistan"
         ],
         "xaxis": "x",
         "y": [
          0.5
         ],
         "yaxis": "y"
        },
        {
         "alignmentgroup": "True",
         "hovertemplate": "Country=%{x}<br>Year=2019<br>Percentage of Documents=%{y}<extra></extra>",
         "legendgroup": "Tanzania",
         "marker": {
          "color": "#636efa",
          "pattern": {
           "shape": ""
          }
         },
         "name": "Tanzania",
         "offsetgroup": "Tanzania",
         "orientation": "v",
         "showlegend": true,
         "textposition": "auto",
         "type": "bar",
         "x": [
          "Tanzania"
         ],
         "xaxis": "x",
         "y": [
          1.8
         ],
         "yaxis": "y"
        },
        {
         "alignmentgroup": "True",
         "hovertemplate": "Country=%{x}<br>Year=2019<br>Percentage of Documents=%{y}<extra></extra>",
         "legendgroup": "Tonga",
         "marker": {
          "color": "#EF553B",
          "pattern": {
           "shape": ""
          }
         },
         "name": "Tonga",
         "offsetgroup": "Tonga",
         "orientation": "v",
         "showlegend": true,
         "textposition": "auto",
         "type": "bar",
         "x": [
          "Tonga"
         ],
         "xaxis": "x",
         "y": [
          1.4
         ],
         "yaxis": "y"
        },
        {
         "alignmentgroup": "True",
         "hovertemplate": "Country=%{x}<br>Year=2019<br>Percentage of Documents=%{y}<extra></extra>",
         "legendgroup": "Tunisia",
         "marker": {
          "color": "#00cc96",
          "pattern": {
           "shape": ""
          }
         },
         "name": "Tunisia",
         "offsetgroup": "Tunisia",
         "orientation": "v",
         "showlegend": true,
         "textposition": "auto",
         "type": "bar",
         "x": [
          "Tunisia"
         ],
         "xaxis": "x",
         "y": [
          0.9
         ],
         "yaxis": "y"
        },
        {
         "alignmentgroup": "True",
         "hovertemplate": "Country=%{x}<br>Year=2019<br>Percentage of Documents=%{y}<extra></extra>",
         "legendgroup": "Uganda",
         "marker": {
          "color": "#ab63fa",
          "pattern": {
           "shape": ""
          }
         },
         "name": "Uganda",
         "offsetgroup": "Uganda",
         "orientation": "v",
         "showlegend": true,
         "textposition": "auto",
         "type": "bar",
         "x": [
          "Uganda"
         ],
         "xaxis": "x",
         "y": [
          0.5
         ],
         "yaxis": "y"
        },
        {
         "alignmentgroup": "True",
         "hovertemplate": "Country=%{x}<br>Year=2019<br>Percentage of Documents=%{y}<extra></extra>",
         "legendgroup": "Vietnam",
         "marker": {
          "color": "#FFA15A",
          "pattern": {
           "shape": ""
          }
         },
         "name": "Vietnam",
         "offsetgroup": "Vietnam",
         "orientation": "v",
         "showlegend": true,
         "textposition": "auto",
         "type": "bar",
         "x": [
          "Vietnam"
         ],
         "xaxis": "x",
         "y": [
          2.3
         ],
         "yaxis": "y"
        },
        {
         "alignmentgroup": "True",
         "hovertemplate": "Country=%{x}<br>Year=2019<br>Percentage of Documents=%{y}<extra></extra>",
         "legendgroup": "West Bank and Gaza",
         "marker": {
          "color": "#19d3f3",
          "pattern": {
           "shape": ""
          }
         },
         "name": "West Bank and Gaza",
         "offsetgroup": "West Bank and Gaza",
         "orientation": "v",
         "showlegend": true,
         "textposition": "auto",
         "type": "bar",
         "x": [
          "West Bank and Gaza"
         ],
         "xaxis": "x",
         "y": [
          1.4
         ],
         "yaxis": "y"
        },
        {
         "alignmentgroup": "True",
         "hovertemplate": "Country=%{x}<br>Year=2019<br>Percentage of Documents=%{y}<extra></extra>",
         "legendgroup": "Western Africa",
         "marker": {
          "color": "#FF6692",
          "pattern": {
           "shape": ""
          }
         },
         "name": "Western Africa",
         "offsetgroup": "Western Africa",
         "orientation": "v",
         "showlegend": true,
         "textposition": "auto",
         "type": "bar",
         "x": [
          "Western Africa"
         ],
         "xaxis": "x",
         "y": [
          0.5
         ],
         "yaxis": "y"
        },
        {
         "alignmentgroup": "True",
         "hovertemplate": "Country=%{x}<br>Year=2019<br>Percentage of Documents=%{y}<extra></extra>",
         "legendgroup": "Western Balkans",
         "marker": {
          "color": "#B6E880",
          "pattern": {
           "shape": ""
          }
         },
         "name": "Western Balkans",
         "offsetgroup": "Western Balkans",
         "orientation": "v",
         "showlegend": true,
         "textposition": "auto",
         "type": "bar",
         "x": [
          "Western Balkans"
         ],
         "xaxis": "x",
         "y": [
          0.5
         ],
         "yaxis": "y"
        },
        {
         "alignmentgroup": "True",
         "hovertemplate": "Country=%{x}<br>Year=2019<br>Percentage of Documents=%{y}<extra></extra>",
         "legendgroup": "Yemen, Republic of",
         "marker": {
          "color": "#FF97FF",
          "pattern": {
           "shape": ""
          }
         },
         "name": "Yemen, Republic of",
         "offsetgroup": "Yemen, Republic of",
         "orientation": "v",
         "showlegend": true,
         "textposition": "auto",
         "type": "bar",
         "x": [
          "Yemen, Republic of"
         ],
         "xaxis": "x",
         "y": [
          0.5
         ],
         "yaxis": "y"
        },
        {
         "alignmentgroup": "True",
         "hovertemplate": "Country=%{x}<br>Year=2019<br>Percentage of Documents=%{y}<extra></extra>",
         "legendgroup": "Zambia",
         "marker": {
          "color": "#FECB52",
          "pattern": {
           "shape": ""
          }
         },
         "name": "Zambia",
         "offsetgroup": "Zambia",
         "orientation": "v",
         "showlegend": true,
         "textposition": "auto",
         "type": "bar",
         "x": [
          "Zambia"
         ],
         "xaxis": "x",
         "y": [
          0.5
         ],
         "yaxis": "y"
        }
       ],
       "frames": [
        {
         "data": [
          {
           "alignmentgroup": "True",
           "hovertemplate": "Country=%{x}<br>Year=2019<br>Percentage of Documents=%{y}<extra></extra>",
           "legendgroup": "Afghanistan",
           "marker": {
            "color": "#636efa",
            "pattern": {
             "shape": ""
            }
           },
           "name": "Afghanistan",
           "offsetgroup": "Afghanistan",
           "orientation": "v",
           "showlegend": true,
           "textposition": "auto",
           "type": "bar",
           "x": [
            "Afghanistan"
           ],
           "xaxis": "x",
           "y": [
            2.8
           ],
           "yaxis": "y"
          },
          {
           "alignmentgroup": "True",
           "hovertemplate": "Country=%{x}<br>Year=2019<br>Percentage of Documents=%{y}<extra></extra>",
           "legendgroup": "Africa",
           "marker": {
            "color": "#EF553B",
            "pattern": {
             "shape": ""
            }
           },
           "name": "Africa",
           "offsetgroup": "Africa",
           "orientation": "v",
           "showlegend": true,
           "textposition": "auto",
           "type": "bar",
           "x": [
            "Africa"
           ],
           "xaxis": "x",
           "y": [
            3.2
           ],
           "yaxis": "y"
          },
          {
           "alignmentgroup": "True",
           "hovertemplate": "Country=%{x}<br>Year=2019<br>Percentage of Documents=%{y}<extra></extra>",
           "legendgroup": "Albania",
           "marker": {
            "color": "#00cc96",
            "pattern": {
             "shape": ""
            }
           },
           "name": "Albania",
           "offsetgroup": "Albania",
           "orientation": "v",
           "showlegend": true,
           "textposition": "auto",
           "type": "bar",
           "x": [
            "Albania"
           ],
           "xaxis": "x",
           "y": [
            0.9
           ],
           "yaxis": "y"
          },
          {
           "alignmentgroup": "True",
           "hovertemplate": "Country=%{x}<br>Year=2019<br>Percentage of Documents=%{y}<extra></extra>",
           "legendgroup": "Angola",
           "marker": {
            "color": "#ab63fa",
            "pattern": {
             "shape": ""
            }
           },
           "name": "Angola",
           "offsetgroup": "Angola",
           "orientation": "v",
           "showlegend": true,
           "textposition": "auto",
           "type": "bar",
           "x": [
            "Angola"
           ],
           "xaxis": "x",
           "y": [
            0.9
           ],
           "yaxis": "y"
          },
          {
           "alignmentgroup": "True",
           "hovertemplate": "Country=%{x}<br>Year=2019<br>Percentage of Documents=%{y}<extra></extra>",
           "legendgroup": "Argentina",
           "marker": {
            "color": "#FFA15A",
            "pattern": {
             "shape": ""
            }
           },
           "name": "Argentina",
           "offsetgroup": "Argentina",
           "orientation": "v",
           "showlegend": true,
           "textposition": "auto",
           "type": "bar",
           "x": [
            "Argentina"
           ],
           "xaxis": "x",
           "y": [
            0.9
           ],
           "yaxis": "y"
          },
          {
           "alignmentgroup": "True",
           "hovertemplate": "Country=%{x}<br>Year=2019<br>Percentage of Documents=%{y}<extra></extra>",
           "legendgroup": "Armenia",
           "marker": {
            "color": "#19d3f3",
            "pattern": {
             "shape": ""
            }
           },
           "name": "Armenia",
           "offsetgroup": "Armenia",
           "orientation": "v",
           "showlegend": true,
           "textposition": "auto",
           "type": "bar",
           "x": [
            "Armenia"
           ],
           "xaxis": "x",
           "y": [
            0.5
           ],
           "yaxis": "y"
          },
          {
           "alignmentgroup": "True",
           "hovertemplate": "Country=%{x}<br>Year=2019<br>Percentage of Documents=%{y}<extra></extra>",
           "legendgroup": "Azerbaijan",
           "marker": {
            "color": "#FF6692",
            "pattern": {
             "shape": ""
            }
           },
           "name": "Azerbaijan",
           "offsetgroup": "Azerbaijan",
           "orientation": "v",
           "showlegend": true,
           "textposition": "auto",
           "type": "bar",
           "x": [
            "Azerbaijan"
           ],
           "xaxis": "x",
           "y": [
            1.4
           ],
           "yaxis": "y"
          },
          {
           "alignmentgroup": "True",
           "hovertemplate": "Country=%{x}<br>Year=2019<br>Percentage of Documents=%{y}<extra></extra>",
           "legendgroup": "Bangladesh",
           "marker": {
            "color": "#B6E880",
            "pattern": {
             "shape": ""
            }
           },
           "name": "Bangladesh",
           "offsetgroup": "Bangladesh",
           "orientation": "v",
           "showlegend": true,
           "textposition": "auto",
           "type": "bar",
           "x": [
            "Bangladesh"
           ],
           "xaxis": "x",
           "y": [
            1.4
           ],
           "yaxis": "y"
          },
          {
           "alignmentgroup": "True",
           "hovertemplate": "Country=%{x}<br>Year=2019<br>Percentage of Documents=%{y}<extra></extra>",
           "legendgroup": "Benin",
           "marker": {
            "color": "#FF97FF",
            "pattern": {
             "shape": ""
            }
           },
           "name": "Benin",
           "offsetgroup": "Benin",
           "orientation": "v",
           "showlegend": true,
           "textposition": "auto",
           "type": "bar",
           "x": [
            "Benin"
           ],
           "xaxis": "x",
           "y": [
            0.9
           ],
           "yaxis": "y"
          },
          {
           "alignmentgroup": "True",
           "hovertemplate": "Country=%{x}<br>Year=2019<br>Percentage of Documents=%{y}<extra></extra>",
           "legendgroup": "Bhutan",
           "marker": {
            "color": "#FECB52",
            "pattern": {
             "shape": ""
            }
           },
           "name": "Bhutan",
           "offsetgroup": "Bhutan",
           "orientation": "v",
           "showlegend": true,
           "textposition": "auto",
           "type": "bar",
           "x": [
            "Bhutan"
           ],
           "xaxis": "x",
           "y": [
            0.9
           ],
           "yaxis": "y"
          },
          {
           "alignmentgroup": "True",
           "hovertemplate": "Country=%{x}<br>Year=2019<br>Percentage of Documents=%{y}<extra></extra>",
           "legendgroup": "Bosnia and Herzegovina",
           "marker": {
            "color": "#636efa",
            "pattern": {
             "shape": ""
            }
           },
           "name": "Bosnia and Herzegovina",
           "offsetgroup": "Bosnia and Herzegovina",
           "orientation": "v",
           "showlegend": true,
           "textposition": "auto",
           "type": "bar",
           "x": [
            "Bosnia and Herzegovina"
           ],
           "xaxis": "x",
           "y": [
            0.5
           ],
           "yaxis": "y"
          },
          {
           "alignmentgroup": "True",
           "hovertemplate": "Country=%{x}<br>Year=2019<br>Percentage of Documents=%{y}<extra></extra>",
           "legendgroup": "Brazil",
           "marker": {
            "color": "#EF553B",
            "pattern": {
             "shape": ""
            }
           },
           "name": "Brazil",
           "offsetgroup": "Brazil",
           "orientation": "v",
           "showlegend": true,
           "textposition": "auto",
           "type": "bar",
           "x": [
            "Brazil"
           ],
           "xaxis": "x",
           "y": [
            2.8
           ],
           "yaxis": "y"
          },
          {
           "alignmentgroup": "True",
           "hovertemplate": "Country=%{x}<br>Year=2019<br>Percentage of Documents=%{y}<extra></extra>",
           "legendgroup": "Burkina Faso",
           "marker": {
            "color": "#00cc96",
            "pattern": {
             "shape": ""
            }
           },
           "name": "Burkina Faso",
           "offsetgroup": "Burkina Faso",
           "orientation": "v",
           "showlegend": true,
           "textposition": "auto",
           "type": "bar",
           "x": [
            "Burkina Faso"
           ],
           "xaxis": "x",
           "y": [
            0.5
           ],
           "yaxis": "y"
          },
          {
           "alignmentgroup": "True",
           "hovertemplate": "Country=%{x}<br>Year=2019<br>Percentage of Documents=%{y}<extra></extra>",
           "legendgroup": "Burundi",
           "marker": {
            "color": "#ab63fa",
            "pattern": {
             "shape": ""
            }
           },
           "name": "Burundi",
           "offsetgroup": "Burundi",
           "orientation": "v",
           "showlegend": true,
           "textposition": "auto",
           "type": "bar",
           "x": [
            "Burundi"
           ],
           "xaxis": "x",
           "y": [
            0.5
           ],
           "yaxis": "y"
          },
          {
           "alignmentgroup": "True",
           "hovertemplate": "Country=%{x}<br>Year=2019<br>Percentage of Documents=%{y}<extra></extra>",
           "legendgroup": "Cabo Verde",
           "marker": {
            "color": "#FFA15A",
            "pattern": {
             "shape": ""
            }
           },
           "name": "Cabo Verde",
           "offsetgroup": "Cabo Verde",
           "orientation": "v",
           "showlegend": true,
           "textposition": "auto",
           "type": "bar",
           "x": [
            "Cabo Verde"
           ],
           "xaxis": "x",
           "y": [
            0.5
           ],
           "yaxis": "y"
          },
          {
           "alignmentgroup": "True",
           "hovertemplate": "Country=%{x}<br>Year=2019<br>Percentage of Documents=%{y}<extra></extra>",
           "legendgroup": "Cameroon",
           "marker": {
            "color": "#19d3f3",
            "pattern": {
             "shape": ""
            }
           },
           "name": "Cameroon",
           "offsetgroup": "Cameroon",
           "orientation": "v",
           "showlegend": true,
           "textposition": "auto",
           "type": "bar",
           "x": [
            "Cameroon"
           ],
           "xaxis": "x",
           "y": [
            0.5
           ],
           "yaxis": "y"
          },
          {
           "alignmentgroup": "True",
           "hovertemplate": "Country=%{x}<br>Year=2019<br>Percentage of Documents=%{y}<extra></extra>",
           "legendgroup": "Chad",
           "marker": {
            "color": "#FF6692",
            "pattern": {
             "shape": ""
            }
           },
           "name": "Chad",
           "offsetgroup": "Chad",
           "orientation": "v",
           "showlegend": true,
           "textposition": "auto",
           "type": "bar",
           "x": [
            "Chad"
           ],
           "xaxis": "x",
           "y": [
            0.9
           ],
           "yaxis": "y"
          },
          {
           "alignmentgroup": "True",
           "hovertemplate": "Country=%{x}<br>Year=2019<br>Percentage of Documents=%{y}<extra></extra>",
           "legendgroup": "China",
           "marker": {
            "color": "#B6E880",
            "pattern": {
             "shape": ""
            }
           },
           "name": "China",
           "offsetgroup": "China",
           "orientation": "v",
           "showlegend": true,
           "textposition": "auto",
           "type": "bar",
           "x": [
            "China"
           ],
           "xaxis": "x",
           "y": [
            4.1
           ],
           "yaxis": "y"
          },
          {
           "alignmentgroup": "True",
           "hovertemplate": "Country=%{x}<br>Year=2019<br>Percentage of Documents=%{y}<extra></extra>",
           "legendgroup": "Colombia",
           "marker": {
            "color": "#FF97FF",
            "pattern": {
             "shape": ""
            }
           },
           "name": "Colombia",
           "offsetgroup": "Colombia",
           "orientation": "v",
           "showlegend": true,
           "textposition": "auto",
           "type": "bar",
           "x": [
            "Colombia"
           ],
           "xaxis": "x",
           "y": [
            0.9
           ],
           "yaxis": "y"
          },
          {
           "alignmentgroup": "True",
           "hovertemplate": "Country=%{x}<br>Year=2019<br>Percentage of Documents=%{y}<extra></extra>",
           "legendgroup": "Comoros",
           "marker": {
            "color": "#FECB52",
            "pattern": {
             "shape": ""
            }
           },
           "name": "Comoros",
           "offsetgroup": "Comoros",
           "orientation": "v",
           "showlegend": true,
           "textposition": "auto",
           "type": "bar",
           "x": [
            "Comoros"
           ],
           "xaxis": "x",
           "y": [
            0.5
           ],
           "yaxis": "y"
          },
          {
           "alignmentgroup": "True",
           "hovertemplate": "Country=%{x}<br>Year=2019<br>Percentage of Documents=%{y}<extra></extra>",
           "legendgroup": "Congo, Democratic Republic of",
           "marker": {
            "color": "#636efa",
            "pattern": {
             "shape": ""
            }
           },
           "name": "Congo, Democratic Republic of",
           "offsetgroup": "Congo, Democratic Republic of",
           "orientation": "v",
           "showlegend": true,
           "textposition": "auto",
           "type": "bar",
           "x": [
            "Congo, Democratic Republic of"
           ],
           "xaxis": "x",
           "y": [
            0.9
           ],
           "yaxis": "y"
          },
          {
           "alignmentgroup": "True",
           "hovertemplate": "Country=%{x}<br>Year=2019<br>Percentage of Documents=%{y}<extra></extra>",
           "legendgroup": "Congo, Republic of",
           "marker": {
            "color": "#EF553B",
            "pattern": {
             "shape": ""
            }
           },
           "name": "Congo, Republic of",
           "offsetgroup": "Congo, Republic of",
           "orientation": "v",
           "showlegend": true,
           "textposition": "auto",
           "type": "bar",
           "x": [
            "Congo, Republic of"
           ],
           "xaxis": "x",
           "y": [
            0.5
           ],
           "yaxis": "y"
          },
          {
           "alignmentgroup": "True",
           "hovertemplate": "Country=%{x}<br>Year=2019<br>Percentage of Documents=%{y}<extra></extra>",
           "legendgroup": "Costa Rica",
           "marker": {
            "color": "#00cc96",
            "pattern": {
             "shape": ""
            }
           },
           "name": "Costa Rica",
           "offsetgroup": "Costa Rica",
           "orientation": "v",
           "showlegend": true,
           "textposition": "auto",
           "type": "bar",
           "x": [
            "Costa Rica"
           ],
           "xaxis": "x",
           "y": [
            0.5
           ],
           "yaxis": "y"
          },
          {
           "alignmentgroup": "True",
           "hovertemplate": "Country=%{x}<br>Year=2019<br>Percentage of Documents=%{y}<extra></extra>",
           "legendgroup": "Cote d'Ivoire",
           "marker": {
            "color": "#ab63fa",
            "pattern": {
             "shape": ""
            }
           },
           "name": "Cote d'Ivoire",
           "offsetgroup": "Cote d'Ivoire",
           "orientation": "v",
           "showlegend": true,
           "textposition": "auto",
           "type": "bar",
           "x": [
            "Cote d'Ivoire"
           ],
           "xaxis": "x",
           "y": [
            0.9
           ],
           "yaxis": "y"
          },
          {
           "alignmentgroup": "True",
           "hovertemplate": "Country=%{x}<br>Year=2019<br>Percentage of Documents=%{y}<extra></extra>",
           "legendgroup": "Djibouti",
           "marker": {
            "color": "#FFA15A",
            "pattern": {
             "shape": ""
            }
           },
           "name": "Djibouti",
           "offsetgroup": "Djibouti",
           "orientation": "v",
           "showlegend": true,
           "textposition": "auto",
           "type": "bar",
           "x": [
            "Djibouti"
           ],
           "xaxis": "x",
           "y": [
            0.5
           ],
           "yaxis": "y"
          },
          {
           "alignmentgroup": "True",
           "hovertemplate": "Country=%{x}<br>Year=2019<br>Percentage of Documents=%{y}<extra></extra>",
           "legendgroup": "Dominican Republic",
           "marker": {
            "color": "#19d3f3",
            "pattern": {
             "shape": ""
            }
           },
           "name": "Dominican Republic",
           "offsetgroup": "Dominican Republic",
           "orientation": "v",
           "showlegend": true,
           "textposition": "auto",
           "type": "bar",
           "x": [
            "Dominican Republic"
           ],
           "xaxis": "x",
           "y": [
            0.5
           ],
           "yaxis": "y"
          },
          {
           "alignmentgroup": "True",
           "hovertemplate": "Country=%{x}<br>Year=2019<br>Percentage of Documents=%{y}<extra></extra>",
           "legendgroup": "Eastern Africa",
           "marker": {
            "color": "#FF6692",
            "pattern": {
             "shape": ""
            }
           },
           "name": "Eastern Africa",
           "offsetgroup": "Eastern Africa",
           "orientation": "v",
           "showlegend": true,
           "textposition": "auto",
           "type": "bar",
           "x": [
            "Eastern Africa"
           ],
           "xaxis": "x",
           "y": [
            0.5
           ],
           "yaxis": "y"
          },
          {
           "alignmentgroup": "True",
           "hovertemplate": "Country=%{x}<br>Year=2019<br>Percentage of Documents=%{y}<extra></extra>",
           "legendgroup": "Egypt, Arab Republic of",
           "marker": {
            "color": "#B6E880",
            "pattern": {
             "shape": ""
            }
           },
           "name": "Egypt, Arab Republic of",
           "offsetgroup": "Egypt, Arab Republic of",
           "orientation": "v",
           "showlegend": true,
           "textposition": "auto",
           "type": "bar",
           "x": [
            "Egypt, Arab Republic of"
           ],
           "xaxis": "x",
           "y": [
            0.9
           ],
           "yaxis": "y"
          },
          {
           "alignmentgroup": "True",
           "hovertemplate": "Country=%{x}<br>Year=2019<br>Percentage of Documents=%{y}<extra></extra>",
           "legendgroup": "El Salvador",
           "marker": {
            "color": "#FF97FF",
            "pattern": {
             "shape": ""
            }
           },
           "name": "El Salvador",
           "offsetgroup": "El Salvador",
           "orientation": "v",
           "showlegend": true,
           "textposition": "auto",
           "type": "bar",
           "x": [
            "El Salvador"
           ],
           "xaxis": "x",
           "y": [
            0.5
           ],
           "yaxis": "y"
          },
          {
           "alignmentgroup": "True",
           "hovertemplate": "Country=%{x}<br>Year=2019<br>Percentage of Documents=%{y}<extra></extra>",
           "legendgroup": "Eswatini",
           "marker": {
            "color": "#FECB52",
            "pattern": {
             "shape": ""
            }
           },
           "name": "Eswatini",
           "offsetgroup": "Eswatini",
           "orientation": "v",
           "showlegend": true,
           "textposition": "auto",
           "type": "bar",
           "x": [
            "Eswatini"
           ],
           "xaxis": "x",
           "y": [
            0.5
           ],
           "yaxis": "y"
          },
          {
           "alignmentgroup": "True",
           "hovertemplate": "Country=%{x}<br>Year=2019<br>Percentage of Documents=%{y}<extra></extra>",
           "legendgroup": "Ethiopia",
           "marker": {
            "color": "#636efa",
            "pattern": {
             "shape": ""
            }
           },
           "name": "Ethiopia",
           "offsetgroup": "Ethiopia",
           "orientation": "v",
           "showlegend": true,
           "textposition": "auto",
           "type": "bar",
           "x": [
            "Ethiopia"
           ],
           "xaxis": "x",
           "y": [
            0.9
           ],
           "yaxis": "y"
          },
          {
           "alignmentgroup": "True",
           "hovertemplate": "Country=%{x}<br>Year=2019<br>Percentage of Documents=%{y}<extra></extra>",
           "legendgroup": "Fiji",
           "marker": {
            "color": "#EF553B",
            "pattern": {
             "shape": ""
            }
           },
           "name": "Fiji",
           "offsetgroup": "Fiji",
           "orientation": "v",
           "showlegend": true,
           "textposition": "auto",
           "type": "bar",
           "x": [
            "Fiji"
           ],
           "xaxis": "x",
           "y": [
            0.5
           ],
           "yaxis": "y"
          },
          {
           "alignmentgroup": "True",
           "hovertemplate": "Country=%{x}<br>Year=2019<br>Percentage of Documents=%{y}<extra></extra>",
           "legendgroup": "Gambia, The",
           "marker": {
            "color": "#00cc96",
            "pattern": {
             "shape": ""
            }
           },
           "name": "Gambia, The",
           "offsetgroup": "Gambia, The",
           "orientation": "v",
           "showlegend": true,
           "textposition": "auto",
           "type": "bar",
           "x": [
            "Gambia, The"
           ],
           "xaxis": "x",
           "y": [
            0.9
           ],
           "yaxis": "y"
          },
          {
           "alignmentgroup": "True",
           "hovertemplate": "Country=%{x}<br>Year=2019<br>Percentage of Documents=%{y}<extra></extra>",
           "legendgroup": "Ghana",
           "marker": {
            "color": "#ab63fa",
            "pattern": {
             "shape": ""
            }
           },
           "name": "Ghana",
           "offsetgroup": "Ghana",
           "orientation": "v",
           "showlegend": true,
           "textposition": "auto",
           "type": "bar",
           "x": [
            "Ghana"
           ],
           "xaxis": "x",
           "y": [
            3.2
           ],
           "yaxis": "y"
          },
          {
           "alignmentgroup": "True",
           "hovertemplate": "Country=%{x}<br>Year=2019<br>Percentage of Documents=%{y}<extra></extra>",
           "legendgroup": "Grenada",
           "marker": {
            "color": "#FFA15A",
            "pattern": {
             "shape": ""
            }
           },
           "name": "Grenada",
           "offsetgroup": "Grenada",
           "orientation": "v",
           "showlegend": true,
           "textposition": "auto",
           "type": "bar",
           "x": [
            "Grenada"
           ],
           "xaxis": "x",
           "y": [
            0.9
           ],
           "yaxis": "y"
          },
          {
           "alignmentgroup": "True",
           "hovertemplate": "Country=%{x}<br>Year=2019<br>Percentage of Documents=%{y}<extra></extra>",
           "legendgroup": "Guinea",
           "marker": {
            "color": "#19d3f3",
            "pattern": {
             "shape": ""
            }
           },
           "name": "Guinea",
           "offsetgroup": "Guinea",
           "orientation": "v",
           "showlegend": true,
           "textposition": "auto",
           "type": "bar",
           "x": [
            "Guinea"
           ],
           "xaxis": "x",
           "y": [
            0.5
           ],
           "yaxis": "y"
          },
          {
           "alignmentgroup": "True",
           "hovertemplate": "Country=%{x}<br>Year=2019<br>Percentage of Documents=%{y}<extra></extra>",
           "legendgroup": "Haiti",
           "marker": {
            "color": "#FF6692",
            "pattern": {
             "shape": ""
            }
           },
           "name": "Haiti",
           "offsetgroup": "Haiti",
           "orientation": "v",
           "showlegend": true,
           "textposition": "auto",
           "type": "bar",
           "x": [
            "Haiti"
           ],
           "xaxis": "x",
           "y": [
            0.9
           ],
           "yaxis": "y"
          },
          {
           "alignmentgroup": "True",
           "hovertemplate": "Country=%{x}<br>Year=2019<br>Percentage of Documents=%{y}<extra></extra>",
           "legendgroup": "Honduras",
           "marker": {
            "color": "#B6E880",
            "pattern": {
             "shape": ""
            }
           },
           "name": "Honduras",
           "offsetgroup": "Honduras",
           "orientation": "v",
           "showlegend": true,
           "textposition": "auto",
           "type": "bar",
           "x": [
            "Honduras"
           ],
           "xaxis": "x",
           "y": [
            0.5
           ],
           "yaxis": "y"
          },
          {
           "alignmentgroup": "True",
           "hovertemplate": "Country=%{x}<br>Year=2019<br>Percentage of Documents=%{y}<extra></extra>",
           "legendgroup": "India",
           "marker": {
            "color": "#FF97FF",
            "pattern": {
             "shape": ""
            }
           },
           "name": "India",
           "offsetgroup": "India",
           "orientation": "v",
           "showlegend": true,
           "textposition": "auto",
           "type": "bar",
           "x": [
            "India"
           ],
           "xaxis": "x",
           "y": [
            7.4
           ],
           "yaxis": "y"
          },
          {
           "alignmentgroup": "True",
           "hovertemplate": "Country=%{x}<br>Year=2019<br>Percentage of Documents=%{y}<extra></extra>",
           "legendgroup": "Indonesia",
           "marker": {
            "color": "#FECB52",
            "pattern": {
             "shape": ""
            }
           },
           "name": "Indonesia",
           "offsetgroup": "Indonesia",
           "orientation": "v",
           "showlegend": true,
           "textposition": "auto",
           "type": "bar",
           "x": [
            "Indonesia"
           ],
           "xaxis": "x",
           "y": [
            2.3
           ],
           "yaxis": "y"
          },
          {
           "alignmentgroup": "True",
           "hovertemplate": "Country=%{x}<br>Year=2019<br>Percentage of Documents=%{y}<extra></extra>",
           "legendgroup": "Iraq",
           "marker": {
            "color": "#636efa",
            "pattern": {
             "shape": ""
            }
           },
           "name": "Iraq",
           "offsetgroup": "Iraq",
           "orientation": "v",
           "showlegend": true,
           "textposition": "auto",
           "type": "bar",
           "x": [
            "Iraq"
           ],
           "xaxis": "x",
           "y": [
            0.5
           ],
           "yaxis": "y"
          },
          {
           "alignmentgroup": "True",
           "hovertemplate": "Country=%{x}<br>Year=2019<br>Percentage of Documents=%{y}<extra></extra>",
           "legendgroup": "Jamaica",
           "marker": {
            "color": "#EF553B",
            "pattern": {
             "shape": ""
            }
           },
           "name": "Jamaica",
           "offsetgroup": "Jamaica",
           "orientation": "v",
           "showlegend": true,
           "textposition": "auto",
           "type": "bar",
           "x": [
            "Jamaica"
           ],
           "xaxis": "x",
           "y": [
            0.9
           ],
           "yaxis": "y"
          },
          {
           "alignmentgroup": "True",
           "hovertemplate": "Country=%{x}<br>Year=2019<br>Percentage of Documents=%{y}<extra></extra>",
           "legendgroup": "Jordan",
           "marker": {
            "color": "#00cc96",
            "pattern": {
             "shape": ""
            }
           },
           "name": "Jordan",
           "offsetgroup": "Jordan",
           "orientation": "v",
           "showlegend": true,
           "textposition": "auto",
           "type": "bar",
           "x": [
            "Jordan"
           ],
           "xaxis": "x",
           "y": [
            0.5
           ],
           "yaxis": "y"
          },
          {
           "alignmentgroup": "True",
           "hovertemplate": "Country=%{x}<br>Year=2019<br>Percentage of Documents=%{y}<extra></extra>",
           "legendgroup": "Kenya",
           "marker": {
            "color": "#ab63fa",
            "pattern": {
             "shape": ""
            }
           },
           "name": "Kenya",
           "offsetgroup": "Kenya",
           "orientation": "v",
           "showlegend": true,
           "textposition": "auto",
           "type": "bar",
           "x": [
            "Kenya"
           ],
           "xaxis": "x",
           "y": [
            1.4
           ],
           "yaxis": "y"
          },
          {
           "alignmentgroup": "True",
           "hovertemplate": "Country=%{x}<br>Year=2019<br>Percentage of Documents=%{y}<extra></extra>",
           "legendgroup": "Kiribati",
           "marker": {
            "color": "#FFA15A",
            "pattern": {
             "shape": ""
            }
           },
           "name": "Kiribati",
           "offsetgroup": "Kiribati",
           "orientation": "v",
           "showlegend": true,
           "textposition": "auto",
           "type": "bar",
           "x": [
            "Kiribati"
           ],
           "xaxis": "x",
           "y": [
            0.9
           ],
           "yaxis": "y"
          },
          {
           "alignmentgroup": "True",
           "hovertemplate": "Country=%{x}<br>Year=2019<br>Percentage of Documents=%{y}<extra></extra>",
           "legendgroup": "Kosovo",
           "marker": {
            "color": "#19d3f3",
            "pattern": {
             "shape": ""
            }
           },
           "name": "Kosovo",
           "offsetgroup": "Kosovo",
           "orientation": "v",
           "showlegend": true,
           "textposition": "auto",
           "type": "bar",
           "x": [
            "Kosovo"
           ],
           "xaxis": "x",
           "y": [
            0.5
           ],
           "yaxis": "y"
          },
          {
           "alignmentgroup": "True",
           "hovertemplate": "Country=%{x}<br>Year=2019<br>Percentage of Documents=%{y}<extra></extra>",
           "legendgroup": "Kyrgyz Republic",
           "marker": {
            "color": "#FF6692",
            "pattern": {
             "shape": ""
            }
           },
           "name": "Kyrgyz Republic",
           "offsetgroup": "Kyrgyz Republic",
           "orientation": "v",
           "showlegend": true,
           "textposition": "auto",
           "type": "bar",
           "x": [
            "Kyrgyz Republic"
           ],
           "xaxis": "x",
           "y": [
            0.9
           ],
           "yaxis": "y"
          },
          {
           "alignmentgroup": "True",
           "hovertemplate": "Country=%{x}<br>Year=2019<br>Percentage of Documents=%{y}<extra></extra>",
           "legendgroup": "Lake Victoria Phase II APL 1 (FY09) (P100406) :",
           "marker": {
            "color": "#B6E880",
            "pattern": {
             "shape": ""
            }
           },
           "name": "Lake Victoria Phase II APL 1 (FY09) (P100406) :",
           "offsetgroup": "Lake Victoria Phase II APL 1 (FY09) (P100406) :",
           "orientation": "v",
           "showlegend": true,
           "textposition": "auto",
           "type": "bar",
           "x": [
            "Lake Victoria Phase II APL 1 (FY09) (P100406) :"
           ],
           "xaxis": "x",
           "y": [
            0.5
           ],
           "yaxis": "y"
          },
          {
           "alignmentgroup": "True",
           "hovertemplate": "Country=%{x}<br>Year=2019<br>Percentage of Documents=%{y}<extra></extra>",
           "legendgroup": "Lao People's Democratic Republic",
           "marker": {
            "color": "#FF97FF",
            "pattern": {
             "shape": ""
            }
           },
           "name": "Lao People's Democratic Republic",
           "offsetgroup": "Lao People's Democratic Republic",
           "orientation": "v",
           "showlegend": true,
           "textposition": "auto",
           "type": "bar",
           "x": [
            "Lao People's Democratic Republic"
           ],
           "xaxis": "x",
           "y": [
            0.9
           ],
           "yaxis": "y"
          },
          {
           "alignmentgroup": "True",
           "hovertemplate": "Country=%{x}<br>Year=2019<br>Percentage of Documents=%{y}<extra></extra>",
           "legendgroup": "Lebanon",
           "marker": {
            "color": "#FECB52",
            "pattern": {
             "shape": ""
            }
           },
           "name": "Lebanon",
           "offsetgroup": "Lebanon",
           "orientation": "v",
           "showlegend": true,
           "textposition": "auto",
           "type": "bar",
           "x": [
            "Lebanon"
           ],
           "xaxis": "x",
           "y": [
            1.4
           ],
           "yaxis": "y"
          },
          {
           "alignmentgroup": "True",
           "hovertemplate": "Country=%{x}<br>Year=2019<br>Percentage of Documents=%{y}<extra></extra>",
           "legendgroup": "Madagascar",
           "marker": {
            "color": "#636efa",
            "pattern": {
             "shape": ""
            }
           },
           "name": "Madagascar",
           "offsetgroup": "Madagascar",
           "orientation": "v",
           "showlegend": true,
           "textposition": "auto",
           "type": "bar",
           "x": [
            "Madagascar"
           ],
           "xaxis": "x",
           "y": [
            0.9
           ],
           "yaxis": "y"
          },
          {
           "alignmentgroup": "True",
           "hovertemplate": "Country=%{x}<br>Year=2019<br>Percentage of Documents=%{y}<extra></extra>",
           "legendgroup": "Malawi",
           "marker": {
            "color": "#EF553B",
            "pattern": {
             "shape": ""
            }
           },
           "name": "Malawi",
           "offsetgroup": "Malawi",
           "orientation": "v",
           "showlegend": true,
           "textposition": "auto",
           "type": "bar",
           "x": [
            "Malawi"
           ],
           "xaxis": "x",
           "y": [
            1.8
           ],
           "yaxis": "y"
          },
          {
           "alignmentgroup": "True",
           "hovertemplate": "Country=%{x}<br>Year=2019<br>Percentage of Documents=%{y}<extra></extra>",
           "legendgroup": "Maldives",
           "marker": {
            "color": "#00cc96",
            "pattern": {
             "shape": ""
            }
           },
           "name": "Maldives",
           "offsetgroup": "Maldives",
           "orientation": "v",
           "showlegend": true,
           "textposition": "auto",
           "type": "bar",
           "x": [
            "Maldives"
           ],
           "xaxis": "x",
           "y": [
            0.5
           ],
           "yaxis": "y"
          },
          {
           "alignmentgroup": "True",
           "hovertemplate": "Country=%{x}<br>Year=2019<br>Percentage of Documents=%{y}<extra></extra>",
           "legendgroup": "Mauritania",
           "marker": {
            "color": "#ab63fa",
            "pattern": {
             "shape": ""
            }
           },
           "name": "Mauritania",
           "offsetgroup": "Mauritania",
           "orientation": "v",
           "showlegend": true,
           "textposition": "auto",
           "type": "bar",
           "x": [
            "Mauritania"
           ],
           "xaxis": "x",
           "y": [
            0.5
           ],
           "yaxis": "y"
          },
          {
           "alignmentgroup": "True",
           "hovertemplate": "Country=%{x}<br>Year=2019<br>Percentage of Documents=%{y}<extra></extra>",
           "legendgroup": "Mexico",
           "marker": {
            "color": "#FFA15A",
            "pattern": {
             "shape": ""
            }
           },
           "name": "Mexico",
           "offsetgroup": "Mexico",
           "orientation": "v",
           "showlegend": true,
           "textposition": "auto",
           "type": "bar",
           "x": [
            "Mexico"
           ],
           "xaxis": "x",
           "y": [
            1.4
           ],
           "yaxis": "y"
          },
          {
           "alignmentgroup": "True",
           "hovertemplate": "Country=%{x}<br>Year=2019<br>Percentage of Documents=%{y}<extra></extra>",
           "legendgroup": "Middle East and North Africa",
           "marker": {
            "color": "#19d3f3",
            "pattern": {
             "shape": ""
            }
           },
           "name": "Middle East and North Africa",
           "offsetgroup": "Middle East and North Africa",
           "orientation": "v",
           "showlegend": true,
           "textposition": "auto",
           "type": "bar",
           "x": [
            "Middle East and North Africa"
           ],
           "xaxis": "x",
           "y": [
            0.5
           ],
           "yaxis": "y"
          },
          {
           "alignmentgroup": "True",
           "hovertemplate": "Country=%{x}<br>Year=2019<br>Percentage of Documents=%{y}<extra></extra>",
           "legendgroup": "Moldova",
           "marker": {
            "color": "#FF6692",
            "pattern": {
             "shape": ""
            }
           },
           "name": "Moldova",
           "offsetgroup": "Moldova",
           "orientation": "v",
           "showlegend": true,
           "textposition": "auto",
           "type": "bar",
           "x": [
            "Moldova"
           ],
           "xaxis": "x",
           "y": [
            0.9
           ],
           "yaxis": "y"
          },
          {
           "alignmentgroup": "True",
           "hovertemplate": "Country=%{x}<br>Year=2019<br>Percentage of Documents=%{y}<extra></extra>",
           "legendgroup": "Montenegro",
           "marker": {
            "color": "#B6E880",
            "pattern": {
             "shape": ""
            }
           },
           "name": "Montenegro",
           "offsetgroup": "Montenegro",
           "orientation": "v",
           "showlegend": true,
           "textposition": "auto",
           "type": "bar",
           "x": [
            "Montenegro"
           ],
           "xaxis": "x",
           "y": [
            0.5
           ],
           "yaxis": "y"
          },
          {
           "alignmentgroup": "True",
           "hovertemplate": "Country=%{x}<br>Year=2019<br>Percentage of Documents=%{y}<extra></extra>",
           "legendgroup": "Morocco",
           "marker": {
            "color": "#FF97FF",
            "pattern": {
             "shape": ""
            }
           },
           "name": "Morocco",
           "offsetgroup": "Morocco",
           "orientation": "v",
           "showlegend": true,
           "textposition": "auto",
           "type": "bar",
           "x": [
            "Morocco"
           ],
           "xaxis": "x",
           "y": [
            1.4
           ],
           "yaxis": "y"
          },
          {
           "alignmentgroup": "True",
           "hovertemplate": "Country=%{x}<br>Year=2019<br>Percentage of Documents=%{y}<extra></extra>",
           "legendgroup": "Mozambique",
           "marker": {
            "color": "#FECB52",
            "pattern": {
             "shape": ""
            }
           },
           "name": "Mozambique",
           "offsetgroup": "Mozambique",
           "orientation": "v",
           "showlegend": true,
           "textposition": "auto",
           "type": "bar",
           "x": [
            "Mozambique"
           ],
           "xaxis": "x",
           "y": [
            0.9
           ],
           "yaxis": "y"
          },
          {
           "alignmentgroup": "True",
           "hovertemplate": "Country=%{x}<br>Year=2019<br>Percentage of Documents=%{y}<extra></extra>",
           "legendgroup": "Nepal",
           "marker": {
            "color": "#636efa",
            "pattern": {
             "shape": ""
            }
           },
           "name": "Nepal",
           "offsetgroup": "Nepal",
           "orientation": "v",
           "showlegend": true,
           "textposition": "auto",
           "type": "bar",
           "x": [
            "Nepal"
           ],
           "xaxis": "x",
           "y": [
            2.3
           ],
           "yaxis": "y"
          },
          {
           "alignmentgroup": "True",
           "hovertemplate": "Country=%{x}<br>Year=2019<br>Percentage of Documents=%{y}<extra></extra>",
           "legendgroup": "Nicaragua",
           "marker": {
            "color": "#EF553B",
            "pattern": {
             "shape": ""
            }
           },
           "name": "Nicaragua",
           "offsetgroup": "Nicaragua",
           "orientation": "v",
           "showlegend": true,
           "textposition": "auto",
           "type": "bar",
           "x": [
            "Nicaragua"
           ],
           "xaxis": "x",
           "y": [
            1.4
           ],
           "yaxis": "y"
          },
          {
           "alignmentgroup": "True",
           "hovertemplate": "Country=%{x}<br>Year=2019<br>Percentage of Documents=%{y}<extra></extra>",
           "legendgroup": "Niger",
           "marker": {
            "color": "#00cc96",
            "pattern": {
             "shape": ""
            }
           },
           "name": "Niger",
           "offsetgroup": "Niger",
           "orientation": "v",
           "showlegend": true,
           "textposition": "auto",
           "type": "bar",
           "x": [
            "Niger"
           ],
           "xaxis": "x",
           "y": [
            0.5
           ],
           "yaxis": "y"
          },
          {
           "alignmentgroup": "True",
           "hovertemplate": "Country=%{x}<br>Year=2019<br>Percentage of Documents=%{y}<extra></extra>",
           "legendgroup": "Nigeria",
           "marker": {
            "color": "#ab63fa",
            "pattern": {
             "shape": ""
            }
           },
           "name": "Nigeria",
           "offsetgroup": "Nigeria",
           "orientation": "v",
           "showlegend": true,
           "textposition": "auto",
           "type": "bar",
           "x": [
            "Nigeria"
           ],
           "xaxis": "x",
           "y": [
            0.9
           ],
           "yaxis": "y"
          },
          {
           "alignmentgroup": "True",
           "hovertemplate": "Country=%{x}<br>Year=2019<br>Percentage of Documents=%{y}<extra></extra>",
           "legendgroup": "North Macedonia",
           "marker": {
            "color": "#FFA15A",
            "pattern": {
             "shape": ""
            }
           },
           "name": "North Macedonia",
           "offsetgroup": "North Macedonia",
           "orientation": "v",
           "showlegend": true,
           "textposition": "auto",
           "type": "bar",
           "x": [
            "North Macedonia"
           ],
           "xaxis": "x",
           "y": [
            0.5
           ],
           "yaxis": "y"
          },
          {
           "alignmentgroup": "True",
           "hovertemplate": "Country=%{x}<br>Year=2019<br>Percentage of Documents=%{y}<extra></extra>",
           "legendgroup": "OECS Countries",
           "marker": {
            "color": "#19d3f3",
            "pattern": {
             "shape": ""
            }
           },
           "name": "OECS Countries",
           "offsetgroup": "OECS Countries",
           "orientation": "v",
           "showlegend": true,
           "textposition": "auto",
           "type": "bar",
           "x": [
            "OECS Countries"
           ],
           "xaxis": "x",
           "y": [
            0.5
           ],
           "yaxis": "y"
          },
          {
           "alignmentgroup": "True",
           "hovertemplate": "Country=%{x}<br>Year=2019<br>Percentage of Documents=%{y}<extra></extra>",
           "legendgroup": "Pakistan",
           "marker": {
            "color": "#FF6692",
            "pattern": {
             "shape": ""
            }
           },
           "name": "Pakistan",
           "offsetgroup": "Pakistan",
           "orientation": "v",
           "showlegend": true,
           "textposition": "auto",
           "type": "bar",
           "x": [
            "Pakistan"
           ],
           "xaxis": "x",
           "y": [
            2.3
           ],
           "yaxis": "y"
          },
          {
           "alignmentgroup": "True",
           "hovertemplate": "Country=%{x}<br>Year=2019<br>Percentage of Documents=%{y}<extra></extra>",
           "legendgroup": "Papua New Guinea",
           "marker": {
            "color": "#B6E880",
            "pattern": {
             "shape": ""
            }
           },
           "name": "Papua New Guinea",
           "offsetgroup": "Papua New Guinea",
           "orientation": "v",
           "showlegend": true,
           "textposition": "auto",
           "type": "bar",
           "x": [
            "Papua New Guinea"
           ],
           "xaxis": "x",
           "y": [
            0.9
           ],
           "yaxis": "y"
          },
          {
           "alignmentgroup": "True",
           "hovertemplate": "Country=%{x}<br>Year=2019<br>Percentage of Documents=%{y}<extra></extra>",
           "legendgroup": "Paraguay",
           "marker": {
            "color": "#FF97FF",
            "pattern": {
             "shape": ""
            }
           },
           "name": "Paraguay",
           "offsetgroup": "Paraguay",
           "orientation": "v",
           "showlegend": true,
           "textposition": "auto",
           "type": "bar",
           "x": [
            "Paraguay"
           ],
           "xaxis": "x",
           "y": [
            1.4
           ],
           "yaxis": "y"
          },
          {
           "alignmentgroup": "True",
           "hovertemplate": "Country=%{x}<br>Year=2019<br>Percentage of Documents=%{y}<extra></extra>",
           "legendgroup": "Peru",
           "marker": {
            "color": "#FECB52",
            "pattern": {
             "shape": ""
            }
           },
           "name": "Peru",
           "offsetgroup": "Peru",
           "orientation": "v",
           "showlegend": true,
           "textposition": "auto",
           "type": "bar",
           "x": [
            "Peru"
           ],
           "xaxis": "x",
           "y": [
            1.8
           ],
           "yaxis": "y"
          },
          {
           "alignmentgroup": "True",
           "hovertemplate": "Country=%{x}<br>Year=2019<br>Percentage of Documents=%{y}<extra></extra>",
           "legendgroup": "Philippines",
           "marker": {
            "color": "#636efa",
            "pattern": {
             "shape": ""
            }
           },
           "name": "Philippines",
           "offsetgroup": "Philippines",
           "orientation": "v",
           "showlegend": true,
           "textposition": "auto",
           "type": "bar",
           "x": [
            "Philippines"
           ],
           "xaxis": "x",
           "y": [
            2.3
           ],
           "yaxis": "y"
          },
          {
           "alignmentgroup": "True",
           "hovertemplate": "Country=%{x}<br>Year=2019<br>Percentage of Documents=%{y}<extra></extra>",
           "legendgroup": "Russian Federation",
           "marker": {
            "color": "#EF553B",
            "pattern": {
             "shape": ""
            }
           },
           "name": "Russian Federation",
           "offsetgroup": "Russian Federation",
           "orientation": "v",
           "showlegend": true,
           "textposition": "auto",
           "type": "bar",
           "x": [
            "Russian Federation"
           ],
           "xaxis": "x",
           "y": [
            0.9
           ],
           "yaxis": "y"
          },
          {
           "alignmentgroup": "True",
           "hovertemplate": "Country=%{x}<br>Year=2019<br>Percentage of Documents=%{y}<extra></extra>",
           "legendgroup": "Rwanda",
           "marker": {
            "color": "#00cc96",
            "pattern": {
             "shape": ""
            }
           },
           "name": "Rwanda",
           "offsetgroup": "Rwanda",
           "orientation": "v",
           "showlegend": true,
           "textposition": "auto",
           "type": "bar",
           "x": [
            "Rwanda"
           ],
           "xaxis": "x",
           "y": [
            1.8
           ],
           "yaxis": "y"
          },
          {
           "alignmentgroup": "True",
           "hovertemplate": "Country=%{x}<br>Year=2019<br>Percentage of Documents=%{y}<extra></extra>",
           "legendgroup": "Samoa",
           "marker": {
            "color": "#ab63fa",
            "pattern": {
             "shape": ""
            }
           },
           "name": "Samoa",
           "offsetgroup": "Samoa",
           "orientation": "v",
           "showlegend": true,
           "textposition": "auto",
           "type": "bar",
           "x": [
            "Samoa"
           ],
           "xaxis": "x",
           "y": [
            0.5
           ],
           "yaxis": "y"
          },
          {
           "alignmentgroup": "True",
           "hovertemplate": "Country=%{x}<br>Year=2019<br>Percentage of Documents=%{y}<extra></extra>",
           "legendgroup": "Senegal",
           "marker": {
            "color": "#FFA15A",
            "pattern": {
             "shape": ""
            }
           },
           "name": "Senegal",
           "offsetgroup": "Senegal",
           "orientation": "v",
           "showlegend": true,
           "textposition": "auto",
           "type": "bar",
           "x": [
            "Senegal"
           ],
           "xaxis": "x",
           "y": [
            0.5
           ],
           "yaxis": "y"
          },
          {
           "alignmentgroup": "True",
           "hovertemplate": "Country=%{x}<br>Year=2019<br>Percentage of Documents=%{y}<extra></extra>",
           "legendgroup": "Sierra Leone",
           "marker": {
            "color": "#19d3f3",
            "pattern": {
             "shape": ""
            }
           },
           "name": "Sierra Leone",
           "offsetgroup": "Sierra Leone",
           "orientation": "v",
           "showlegend": true,
           "textposition": "auto",
           "type": "bar",
           "x": [
            "Sierra Leone"
           ],
           "xaxis": "x",
           "y": [
            0.9
           ],
           "yaxis": "y"
          },
          {
           "alignmentgroup": "True",
           "hovertemplate": "Country=%{x}<br>Year=2019<br>Percentage of Documents=%{y}<extra></extra>",
           "legendgroup": "Solomon Islands",
           "marker": {
            "color": "#FF6692",
            "pattern": {
             "shape": ""
            }
           },
           "name": "Solomon Islands",
           "offsetgroup": "Solomon Islands",
           "orientation": "v",
           "showlegend": true,
           "textposition": "auto",
           "type": "bar",
           "x": [
            "Solomon Islands"
           ],
           "xaxis": "x",
           "y": [
            0.5
           ],
           "yaxis": "y"
          },
          {
           "alignmentgroup": "True",
           "hovertemplate": "Country=%{x}<br>Year=2019<br>Percentage of Documents=%{y}<extra></extra>",
           "legendgroup": "South Sudan",
           "marker": {
            "color": "#B6E880",
            "pattern": {
             "shape": ""
            }
           },
           "name": "South Sudan",
           "offsetgroup": "South Sudan",
           "orientation": "v",
           "showlegend": true,
           "textposition": "auto",
           "type": "bar",
           "x": [
            "South Sudan"
           ],
           "xaxis": "x",
           "y": [
            0.9
           ],
           "yaxis": "y"
          },
          {
           "alignmentgroup": "True",
           "hovertemplate": "Country=%{x}<br>Year=2019<br>Percentage of Documents=%{y}<extra></extra>",
           "legendgroup": "Sri Lanka",
           "marker": {
            "color": "#FF97FF",
            "pattern": {
             "shape": ""
            }
           },
           "name": "Sri Lanka",
           "offsetgroup": "Sri Lanka",
           "orientation": "v",
           "showlegend": true,
           "textposition": "auto",
           "type": "bar",
           "x": [
            "Sri Lanka"
           ],
           "xaxis": "x",
           "y": [
            1.8
           ],
           "yaxis": "y"
          },
          {
           "alignmentgroup": "True",
           "hovertemplate": "Country=%{x}<br>Year=2019<br>Percentage of Documents=%{y}<extra></extra>",
           "legendgroup": "Tajikistan",
           "marker": {
            "color": "#FECB52",
            "pattern": {
             "shape": ""
            }
           },
           "name": "Tajikistan",
           "offsetgroup": "Tajikistan",
           "orientation": "v",
           "showlegend": true,
           "textposition": "auto",
           "type": "bar",
           "x": [
            "Tajikistan"
           ],
           "xaxis": "x",
           "y": [
            0.5
           ],
           "yaxis": "y"
          },
          {
           "alignmentgroup": "True",
           "hovertemplate": "Country=%{x}<br>Year=2019<br>Percentage of Documents=%{y}<extra></extra>",
           "legendgroup": "Tanzania",
           "marker": {
            "color": "#636efa",
            "pattern": {
             "shape": ""
            }
           },
           "name": "Tanzania",
           "offsetgroup": "Tanzania",
           "orientation": "v",
           "showlegend": true,
           "textposition": "auto",
           "type": "bar",
           "x": [
            "Tanzania"
           ],
           "xaxis": "x",
           "y": [
            1.8
           ],
           "yaxis": "y"
          },
          {
           "alignmentgroup": "True",
           "hovertemplate": "Country=%{x}<br>Year=2019<br>Percentage of Documents=%{y}<extra></extra>",
           "legendgroup": "Tonga",
           "marker": {
            "color": "#EF553B",
            "pattern": {
             "shape": ""
            }
           },
           "name": "Tonga",
           "offsetgroup": "Tonga",
           "orientation": "v",
           "showlegend": true,
           "textposition": "auto",
           "type": "bar",
           "x": [
            "Tonga"
           ],
           "xaxis": "x",
           "y": [
            1.4
           ],
           "yaxis": "y"
          },
          {
           "alignmentgroup": "True",
           "hovertemplate": "Country=%{x}<br>Year=2019<br>Percentage of Documents=%{y}<extra></extra>",
           "legendgroup": "Tunisia",
           "marker": {
            "color": "#00cc96",
            "pattern": {
             "shape": ""
            }
           },
           "name": "Tunisia",
           "offsetgroup": "Tunisia",
           "orientation": "v",
           "showlegend": true,
           "textposition": "auto",
           "type": "bar",
           "x": [
            "Tunisia"
           ],
           "xaxis": "x",
           "y": [
            0.9
           ],
           "yaxis": "y"
          },
          {
           "alignmentgroup": "True",
           "hovertemplate": "Country=%{x}<br>Year=2019<br>Percentage of Documents=%{y}<extra></extra>",
           "legendgroup": "Uganda",
           "marker": {
            "color": "#ab63fa",
            "pattern": {
             "shape": ""
            }
           },
           "name": "Uganda",
           "offsetgroup": "Uganda",
           "orientation": "v",
           "showlegend": true,
           "textposition": "auto",
           "type": "bar",
           "x": [
            "Uganda"
           ],
           "xaxis": "x",
           "y": [
            0.5
           ],
           "yaxis": "y"
          },
          {
           "alignmentgroup": "True",
           "hovertemplate": "Country=%{x}<br>Year=2019<br>Percentage of Documents=%{y}<extra></extra>",
           "legendgroup": "Vietnam",
           "marker": {
            "color": "#FFA15A",
            "pattern": {
             "shape": ""
            }
           },
           "name": "Vietnam",
           "offsetgroup": "Vietnam",
           "orientation": "v",
           "showlegend": true,
           "textposition": "auto",
           "type": "bar",
           "x": [
            "Vietnam"
           ],
           "xaxis": "x",
           "y": [
            2.3
           ],
           "yaxis": "y"
          },
          {
           "alignmentgroup": "True",
           "hovertemplate": "Country=%{x}<br>Year=2019<br>Percentage of Documents=%{y}<extra></extra>",
           "legendgroup": "West Bank and Gaza",
           "marker": {
            "color": "#19d3f3",
            "pattern": {
             "shape": ""
            }
           },
           "name": "West Bank and Gaza",
           "offsetgroup": "West Bank and Gaza",
           "orientation": "v",
           "showlegend": true,
           "textposition": "auto",
           "type": "bar",
           "x": [
            "West Bank and Gaza"
           ],
           "xaxis": "x",
           "y": [
            1.4
           ],
           "yaxis": "y"
          },
          {
           "alignmentgroup": "True",
           "hovertemplate": "Country=%{x}<br>Year=2019<br>Percentage of Documents=%{y}<extra></extra>",
           "legendgroup": "Western Africa",
           "marker": {
            "color": "#FF6692",
            "pattern": {
             "shape": ""
            }
           },
           "name": "Western Africa",
           "offsetgroup": "Western Africa",
           "orientation": "v",
           "showlegend": true,
           "textposition": "auto",
           "type": "bar",
           "x": [
            "Western Africa"
           ],
           "xaxis": "x",
           "y": [
            0.5
           ],
           "yaxis": "y"
          },
          {
           "alignmentgroup": "True",
           "hovertemplate": "Country=%{x}<br>Year=2019<br>Percentage of Documents=%{y}<extra></extra>",
           "legendgroup": "Western Balkans",
           "marker": {
            "color": "#B6E880",
            "pattern": {
             "shape": ""
            }
           },
           "name": "Western Balkans",
           "offsetgroup": "Western Balkans",
           "orientation": "v",
           "showlegend": true,
           "textposition": "auto",
           "type": "bar",
           "x": [
            "Western Balkans"
           ],
           "xaxis": "x",
           "y": [
            0.5
           ],
           "yaxis": "y"
          },
          {
           "alignmentgroup": "True",
           "hovertemplate": "Country=%{x}<br>Year=2019<br>Percentage of Documents=%{y}<extra></extra>",
           "legendgroup": "Yemen, Republic of",
           "marker": {
            "color": "#FF97FF",
            "pattern": {
             "shape": ""
            }
           },
           "name": "Yemen, Republic of",
           "offsetgroup": "Yemen, Republic of",
           "orientation": "v",
           "showlegend": true,
           "textposition": "auto",
           "type": "bar",
           "x": [
            "Yemen, Republic of"
           ],
           "xaxis": "x",
           "y": [
            0.5
           ],
           "yaxis": "y"
          },
          {
           "alignmentgroup": "True",
           "hovertemplate": "Country=%{x}<br>Year=2019<br>Percentage of Documents=%{y}<extra></extra>",
           "legendgroup": "Zambia",
           "marker": {
            "color": "#FECB52",
            "pattern": {
             "shape": ""
            }
           },
           "name": "Zambia",
           "offsetgroup": "Zambia",
           "orientation": "v",
           "showlegend": true,
           "textposition": "auto",
           "type": "bar",
           "x": [
            "Zambia"
           ],
           "xaxis": "x",
           "y": [
            0.5
           ],
           "yaxis": "y"
          }
         ],
         "layout": {
          "title": {
           "text": "Percentage of Documents by Country - Year: 2019"
          },
          "xaxis": {
           "categoryarray": [
            "Afghanistan",
            "Africa",
            "Albania",
            "Angola",
            "Argentina",
            "Armenia",
            "Azerbaijan",
            "Bangladesh",
            "Banking Sector Strengthening Project",
            "Barbados",
            "Belarus",
            "Belize",
            "Benin",
            "Bhutan",
            "Bolivia",
            "Bosnia and Herzegovina",
            "Botswana",
            "Brazil",
            "Bulgaria",
            "Burkina Faso",
            "Burundi",
            "Cabo Verde",
            "Cambodia",
            "Cameroon",
            "Caribbean",
            "Central Africa",
            "Central African Republic",
            "Central Asia",
            "Chad",
            "Chile",
            "China",
            "Colombia",
            "Comoros",
            "Congo, Democratic Republic of",
            "Congo, Republic of",
            "Costa Rica",
            "Cote d'Ivoire",
            "Croatia",
            "Djibouti",
            "Dominica",
            "Dominican Republic",
            "Eastern Africa",
            "Eastern and Southern Africa",
            "Ecuador",
            "Egypt, Arab Republic of",
            "El Salvador",
            "Eswatini",
            "Ethiopia",
            "Europe and Central Asia",
            "Fiji",
            "Fiscal Sustainability and Climate Resilience DPO",
            "Gabon",
            "Gambia, The",
            "Georgia",
            "Ghana",
            "Grenada",
            "Guatemala",
            "Guinea",
            "Guyana",
            "Haiti",
            "Harsha Project",
            "Hebei Clean Heating Project (P148599)",
            "Honduras",
            "India",
            "Indonesia",
            "Iraq",
            "Jamaica",
            "Jordan",
            "Kazakhstan",
            "Kenya",
            "Kiribati",
            "Kosovo",
            "Kyrgyz Republic",
            "Lake Victoria Phase II APL 1 (FY09) (P100406) :",
            "Lao People's Democratic Republic",
            "Latin America",
            "Lebanon",
            "Lesotho",
            "Liberia",
            "Madagascar",
            "Malawi",
            "Maldives",
            "Mali",
            "Marshall Islands",
            "Mauritania",
            "Mexico",
            "Micronesia, Federated States of",
            "Middle East and North Africa",
            "Moldova",
            "Mongolia",
            "Montenegro",
            "Morocco",
            "Mozambique",
            "Myanmar",
            "National Agricultural Innovation (P131013)",
            "Nepal",
            "Nicaragua",
            "Niger",
            "Nigeria",
            "North Macedonia",
            "OECS Countries",
            "PNG Productive Partnerships in Agriculture",
            "Pacific Islands",
            "Pakistan",
            "Panama",
            "Papua New Guinea",
            "Paraguay",
            "Peru",
            "Philippines",
            "Poland",
            "Revenue Mobilization Program for Results: VAT Improvement Program (VIP) (P129770)",
            "Romania",
            "Russian Federation",
            "Rwanda",
            "Samoa",
            "Sao Tome and Principe",
            "Senegal",
            "Serbia",
            "Seychelles",
            "Sierra Leone",
            "Solomon Islands",
            "Somalia",
            "South Africa",
            "South Sudan",
            "Southern Africa",
            "Sri Lanka",
            "St Maarten",
            "St. Lucia",
            "St. Vincent and the Grenadines",
            "Sudan",
            "Tajikistan",
            "Tanzania",
            "Thailand",
            "Timor",
            "Togo",
            "Tonga",
            "Tunisia",
            "Turkey",
            "Turkiye",
            "Tuvalu",
            "Uganda",
            "Ukraine",
            "Uruguay",
            "Uzbekistan",
            "Vanuatu",
            "Vietnam",
            "West Africa Regional Communications Infrastructure Project",
            "West Bank and Gaza",
            "Western Africa",
            "Western Balkans",
            "Western and Central Africa",
            "World",
            "Yemen, Republic of",
            "Zambia",
            "Zimbabwe"
           ],
           "categoryorder": "array"
          },
          "yaxis": {
           "range": [
            0,
            11.990000000000002
           ]
          }
         },
         "name": "2019"
        },
        {
         "data": [
          {
           "alignmentgroup": "True",
           "hovertemplate": "Country=%{x}<br>Year=2020<br>Percentage of Documents=%{y}<extra></extra>",
           "legendgroup": "Afghanistan",
           "marker": {
            "color": "#636efa",
            "pattern": {
             "shape": ""
            }
           },
           "name": "Afghanistan",
           "offsetgroup": "Afghanistan",
           "orientation": "v",
           "showlegend": true,
           "textposition": "auto",
           "type": "bar",
           "x": [
            "Afghanistan"
           ],
           "xaxis": "x",
           "y": [
            3.2
           ],
           "yaxis": "y"
          },
          {
           "alignmentgroup": "True",
           "hovertemplate": "Country=%{x}<br>Year=2020<br>Percentage of Documents=%{y}<extra></extra>",
           "legendgroup": "Africa",
           "marker": {
            "color": "#EF553B",
            "pattern": {
             "shape": ""
            }
           },
           "name": "Africa",
           "offsetgroup": "Africa",
           "orientation": "v",
           "showlegend": true,
           "textposition": "auto",
           "type": "bar",
           "x": [
            "Africa"
           ],
           "xaxis": "x",
           "y": [
            2.4
           ],
           "yaxis": "y"
          },
          {
           "alignmentgroup": "True",
           "hovertemplate": "Country=%{x}<br>Year=2020<br>Percentage of Documents=%{y}<extra></extra>",
           "legendgroup": "Angola",
           "marker": {
            "color": "#ab63fa",
            "pattern": {
             "shape": ""
            }
           },
           "name": "Angola",
           "offsetgroup": "Angola",
           "orientation": "v",
           "showlegend": true,
           "textposition": "auto",
           "type": "bar",
           "x": [
            "Angola"
           ],
           "xaxis": "x",
           "y": [
            0.4
           ],
           "yaxis": "y"
          },
          {
           "alignmentgroup": "True",
           "hovertemplate": "Country=%{x}<br>Year=2020<br>Percentage of Documents=%{y}<extra></extra>",
           "legendgroup": "Argentina",
           "marker": {
            "color": "#FFA15A",
            "pattern": {
             "shape": ""
            }
           },
           "name": "Argentina",
           "offsetgroup": "Argentina",
           "orientation": "v",
           "showlegend": true,
           "textposition": "auto",
           "type": "bar",
           "x": [
            "Argentina"
           ],
           "xaxis": "x",
           "y": [
            2
           ],
           "yaxis": "y"
          },
          {
           "alignmentgroup": "True",
           "hovertemplate": "Country=%{x}<br>Year=2020<br>Percentage of Documents=%{y}<extra></extra>",
           "legendgroup": "Armenia",
           "marker": {
            "color": "#19d3f3",
            "pattern": {
             "shape": ""
            }
           },
           "name": "Armenia",
           "offsetgroup": "Armenia",
           "orientation": "v",
           "showlegend": true,
           "textposition": "auto",
           "type": "bar",
           "x": [
            "Armenia"
           ],
           "xaxis": "x",
           "y": [
            1.6
           ],
           "yaxis": "y"
          },
          {
           "alignmentgroup": "True",
           "hovertemplate": "Country=%{x}<br>Year=2020<br>Percentage of Documents=%{y}<extra></extra>",
           "legendgroup": "Azerbaijan",
           "marker": {
            "color": "#FF6692",
            "pattern": {
             "shape": ""
            }
           },
           "name": "Azerbaijan",
           "offsetgroup": "Azerbaijan",
           "orientation": "v",
           "showlegend": true,
           "textposition": "auto",
           "type": "bar",
           "x": [
            "Azerbaijan"
           ],
           "xaxis": "x",
           "y": [
            0.8
           ],
           "yaxis": "y"
          },
          {
           "alignmentgroup": "True",
           "hovertemplate": "Country=%{x}<br>Year=2020<br>Percentage of Documents=%{y}<extra></extra>",
           "legendgroup": "Bangladesh",
           "marker": {
            "color": "#B6E880",
            "pattern": {
             "shape": ""
            }
           },
           "name": "Bangladesh",
           "offsetgroup": "Bangladesh",
           "orientation": "v",
           "showlegend": true,
           "textposition": "auto",
           "type": "bar",
           "x": [
            "Bangladesh"
           ],
           "xaxis": "x",
           "y": [
            1.6
           ],
           "yaxis": "y"
          },
          {
           "alignmentgroup": "True",
           "hovertemplate": "Country=%{x}<br>Year=2020<br>Percentage of Documents=%{y}<extra></extra>",
           "legendgroup": "Benin",
           "marker": {
            "color": "#FF97FF",
            "pattern": {
             "shape": ""
            }
           },
           "name": "Benin",
           "offsetgroup": "Benin",
           "orientation": "v",
           "showlegend": true,
           "textposition": "auto",
           "type": "bar",
           "x": [
            "Benin"
           ],
           "xaxis": "x",
           "y": [
            1.2
           ],
           "yaxis": "y"
          },
          {
           "alignmentgroup": "True",
           "hovertemplate": "Country=%{x}<br>Year=2020<br>Percentage of Documents=%{y}<extra></extra>",
           "legendgroup": "Bhutan",
           "marker": {
            "color": "#FECB52",
            "pattern": {
             "shape": ""
            }
           },
           "name": "Bhutan",
           "offsetgroup": "Bhutan",
           "orientation": "v",
           "showlegend": true,
           "textposition": "auto",
           "type": "bar",
           "x": [
            "Bhutan"
           ],
           "xaxis": "x",
           "y": [
            0.8
           ],
           "yaxis": "y"
          },
          {
           "alignmentgroup": "True",
           "hovertemplate": "Country=%{x}<br>Year=2020<br>Percentage of Documents=%{y}<extra></extra>",
           "legendgroup": "Bosnia and Herzegovina",
           "marker": {
            "color": "#636efa",
            "pattern": {
             "shape": ""
            }
           },
           "name": "Bosnia and Herzegovina",
           "offsetgroup": "Bosnia and Herzegovina",
           "orientation": "v",
           "showlegend": true,
           "textposition": "auto",
           "type": "bar",
           "x": [
            "Bosnia and Herzegovina"
           ],
           "xaxis": "x",
           "y": [
            1.2
           ],
           "yaxis": "y"
          },
          {
           "alignmentgroup": "True",
           "hovertemplate": "Country=%{x}<br>Year=2020<br>Percentage of Documents=%{y}<extra></extra>",
           "legendgroup": "Brazil",
           "marker": {
            "color": "#EF553B",
            "pattern": {
             "shape": ""
            }
           },
           "name": "Brazil",
           "offsetgroup": "Brazil",
           "orientation": "v",
           "showlegend": true,
           "textposition": "auto",
           "type": "bar",
           "x": [
            "Brazil"
           ],
           "xaxis": "x",
           "y": [
            2.4
           ],
           "yaxis": "y"
          },
          {
           "alignmentgroup": "True",
           "hovertemplate": "Country=%{x}<br>Year=2020<br>Percentage of Documents=%{y}<extra></extra>",
           "legendgroup": "Burkina Faso",
           "marker": {
            "color": "#00cc96",
            "pattern": {
             "shape": ""
            }
           },
           "name": "Burkina Faso",
           "offsetgroup": "Burkina Faso",
           "orientation": "v",
           "showlegend": true,
           "textposition": "auto",
           "type": "bar",
           "x": [
            "Burkina Faso"
           ],
           "xaxis": "x",
           "y": [
            1.6
           ],
           "yaxis": "y"
          },
          {
           "alignmentgroup": "True",
           "hovertemplate": "Country=%{x}<br>Year=2020<br>Percentage of Documents=%{y}<extra></extra>",
           "legendgroup": "Burundi",
           "marker": {
            "color": "#ab63fa",
            "pattern": {
             "shape": ""
            }
           },
           "name": "Burundi",
           "offsetgroup": "Burundi",
           "orientation": "v",
           "showlegend": true,
           "textposition": "auto",
           "type": "bar",
           "x": [
            "Burundi"
           ],
           "xaxis": "x",
           "y": [
            0.4
           ],
           "yaxis": "y"
          },
          {
           "alignmentgroup": "True",
           "hovertemplate": "Country=%{x}<br>Year=2020<br>Percentage of Documents=%{y}<extra></extra>",
           "legendgroup": "Cameroon",
           "marker": {
            "color": "#19d3f3",
            "pattern": {
             "shape": ""
            }
           },
           "name": "Cameroon",
           "offsetgroup": "Cameroon",
           "orientation": "v",
           "showlegend": true,
           "textposition": "auto",
           "type": "bar",
           "x": [
            "Cameroon"
           ],
           "xaxis": "x",
           "y": [
            1.2
           ],
           "yaxis": "y"
          },
          {
           "alignmentgroup": "True",
           "hovertemplate": "Country=%{x}<br>Year=2020<br>Percentage of Documents=%{y}<extra></extra>",
           "legendgroup": "Chad",
           "marker": {
            "color": "#FF6692",
            "pattern": {
             "shape": ""
            }
           },
           "name": "Chad",
           "offsetgroup": "Chad",
           "orientation": "v",
           "showlegend": true,
           "textposition": "auto",
           "type": "bar",
           "x": [
            "Chad"
           ],
           "xaxis": "x",
           "y": [
            0.4
           ],
           "yaxis": "y"
          },
          {
           "alignmentgroup": "True",
           "hovertemplate": "Country=%{x}<br>Year=2020<br>Percentage of Documents=%{y}<extra></extra>",
           "legendgroup": "China",
           "marker": {
            "color": "#B6E880",
            "pattern": {
             "shape": ""
            }
           },
           "name": "China",
           "offsetgroup": "China",
           "orientation": "v",
           "showlegend": true,
           "textposition": "auto",
           "type": "bar",
           "x": [
            "China"
           ],
           "xaxis": "x",
           "y": [
            5.1
           ],
           "yaxis": "y"
          },
          {
           "alignmentgroup": "True",
           "hovertemplate": "Country=%{x}<br>Year=2020<br>Percentage of Documents=%{y}<extra></extra>",
           "legendgroup": "Colombia",
           "marker": {
            "color": "#FF97FF",
            "pattern": {
             "shape": ""
            }
           },
           "name": "Colombia",
           "offsetgroup": "Colombia",
           "orientation": "v",
           "showlegend": true,
           "textposition": "auto",
           "type": "bar",
           "x": [
            "Colombia"
           ],
           "xaxis": "x",
           "y": [
            1.2
           ],
           "yaxis": "y"
          },
          {
           "alignmentgroup": "True",
           "hovertemplate": "Country=%{x}<br>Year=2020<br>Percentage of Documents=%{y}<extra></extra>",
           "legendgroup": "Congo, Democratic Republic of",
           "marker": {
            "color": "#636efa",
            "pattern": {
             "shape": ""
            }
           },
           "name": "Congo, Democratic Republic of",
           "offsetgroup": "Congo, Democratic Republic of",
           "orientation": "v",
           "showlegend": true,
           "textposition": "auto",
           "type": "bar",
           "x": [
            "Congo, Democratic Republic of"
           ],
           "xaxis": "x",
           "y": [
            0.4
           ],
           "yaxis": "y"
          },
          {
           "alignmentgroup": "True",
           "hovertemplate": "Country=%{x}<br>Year=2020<br>Percentage of Documents=%{y}<extra></extra>",
           "legendgroup": "Cote d'Ivoire",
           "marker": {
            "color": "#ab63fa",
            "pattern": {
             "shape": ""
            }
           },
           "name": "Cote d'Ivoire",
           "offsetgroup": "Cote d'Ivoire",
           "orientation": "v",
           "showlegend": true,
           "textposition": "auto",
           "type": "bar",
           "x": [
            "Cote d'Ivoire"
           ],
           "xaxis": "x",
           "y": [
            0.4
           ],
           "yaxis": "y"
          },
          {
           "alignmentgroup": "True",
           "hovertemplate": "Country=%{x}<br>Year=2020<br>Percentage of Documents=%{y}<extra></extra>",
           "legendgroup": "Djibouti",
           "marker": {
            "color": "#FFA15A",
            "pattern": {
             "shape": ""
            }
           },
           "name": "Djibouti",
           "offsetgroup": "Djibouti",
           "orientation": "v",
           "showlegend": true,
           "textposition": "auto",
           "type": "bar",
           "x": [
            "Djibouti"
           ],
           "xaxis": "x",
           "y": [
            1.2
           ],
           "yaxis": "y"
          },
          {
           "alignmentgroup": "True",
           "hovertemplate": "Country=%{x}<br>Year=2020<br>Percentage of Documents=%{y}<extra></extra>",
           "legendgroup": "Egypt, Arab Republic of",
           "marker": {
            "color": "#B6E880",
            "pattern": {
             "shape": ""
            }
           },
           "name": "Egypt, Arab Republic of",
           "offsetgroup": "Egypt, Arab Republic of",
           "orientation": "v",
           "showlegend": true,
           "textposition": "auto",
           "type": "bar",
           "x": [
            "Egypt, Arab Republic of"
           ],
           "xaxis": "x",
           "y": [
            1.2
           ],
           "yaxis": "y"
          },
          {
           "alignmentgroup": "True",
           "hovertemplate": "Country=%{x}<br>Year=2020<br>Percentage of Documents=%{y}<extra></extra>",
           "legendgroup": "El Salvador",
           "marker": {
            "color": "#FF97FF",
            "pattern": {
             "shape": ""
            }
           },
           "name": "El Salvador",
           "offsetgroup": "El Salvador",
           "orientation": "v",
           "showlegend": true,
           "textposition": "auto",
           "type": "bar",
           "x": [
            "El Salvador"
           ],
           "xaxis": "x",
           "y": [
            0.4
           ],
           "yaxis": "y"
          },
          {
           "alignmentgroup": "True",
           "hovertemplate": "Country=%{x}<br>Year=2020<br>Percentage of Documents=%{y}<extra></extra>",
           "legendgroup": "Eswatini",
           "marker": {
            "color": "#FECB52",
            "pattern": {
             "shape": ""
            }
           },
           "name": "Eswatini",
           "offsetgroup": "Eswatini",
           "orientation": "v",
           "showlegend": true,
           "textposition": "auto",
           "type": "bar",
           "x": [
            "Eswatini"
           ],
           "xaxis": "x",
           "y": [
            0.4
           ],
           "yaxis": "y"
          },
          {
           "alignmentgroup": "True",
           "hovertemplate": "Country=%{x}<br>Year=2020<br>Percentage of Documents=%{y}<extra></extra>",
           "legendgroup": "Ethiopia",
           "marker": {
            "color": "#636efa",
            "pattern": {
             "shape": ""
            }
           },
           "name": "Ethiopia",
           "offsetgroup": "Ethiopia",
           "orientation": "v",
           "showlegend": true,
           "textposition": "auto",
           "type": "bar",
           "x": [
            "Ethiopia"
           ],
           "xaxis": "x",
           "y": [
            2
           ],
           "yaxis": "y"
          },
          {
           "alignmentgroup": "True",
           "hovertemplate": "Country=%{x}<br>Year=2020<br>Percentage of Documents=%{y}<extra></extra>",
           "legendgroup": "Ghana",
           "marker": {
            "color": "#ab63fa",
            "pattern": {
             "shape": ""
            }
           },
           "name": "Ghana",
           "offsetgroup": "Ghana",
           "orientation": "v",
           "showlegend": true,
           "textposition": "auto",
           "type": "bar",
           "x": [
            "Ghana"
           ],
           "xaxis": "x",
           "y": [
            1.6
           ],
           "yaxis": "y"
          },
          {
           "alignmentgroup": "True",
           "hovertemplate": "Country=%{x}<br>Year=2020<br>Percentage of Documents=%{y}<extra></extra>",
           "legendgroup": "Guinea",
           "marker": {
            "color": "#19d3f3",
            "pattern": {
             "shape": ""
            }
           },
           "name": "Guinea",
           "offsetgroup": "Guinea",
           "orientation": "v",
           "showlegend": true,
           "textposition": "auto",
           "type": "bar",
           "x": [
            "Guinea"
           ],
           "xaxis": "x",
           "y": [
            2
           ],
           "yaxis": "y"
          },
          {
           "alignmentgroup": "True",
           "hovertemplate": "Country=%{x}<br>Year=2020<br>Percentage of Documents=%{y}<extra></extra>",
           "legendgroup": "Honduras",
           "marker": {
            "color": "#B6E880",
            "pattern": {
             "shape": ""
            }
           },
           "name": "Honduras",
           "offsetgroup": "Honduras",
           "orientation": "v",
           "showlegend": true,
           "textposition": "auto",
           "type": "bar",
           "x": [
            "Honduras"
           ],
           "xaxis": "x",
           "y": [
            0.8
           ],
           "yaxis": "y"
          },
          {
           "alignmentgroup": "True",
           "hovertemplate": "Country=%{x}<br>Year=2020<br>Percentage of Documents=%{y}<extra></extra>",
           "legendgroup": "India",
           "marker": {
            "color": "#FF97FF",
            "pattern": {
             "shape": ""
            }
           },
           "name": "India",
           "offsetgroup": "India",
           "orientation": "v",
           "showlegend": true,
           "textposition": "auto",
           "type": "bar",
           "x": [
            "India"
           ],
           "xaxis": "x",
           "y": [
            5.1
           ],
           "yaxis": "y"
          },
          {
           "alignmentgroup": "True",
           "hovertemplate": "Country=%{x}<br>Year=2020<br>Percentage of Documents=%{y}<extra></extra>",
           "legendgroup": "Indonesia",
           "marker": {
            "color": "#FECB52",
            "pattern": {
             "shape": ""
            }
           },
           "name": "Indonesia",
           "offsetgroup": "Indonesia",
           "orientation": "v",
           "showlegend": true,
           "textposition": "auto",
           "type": "bar",
           "x": [
            "Indonesia"
           ],
           "xaxis": "x",
           "y": [
            2.4
           ],
           "yaxis": "y"
          },
          {
           "alignmentgroup": "True",
           "hovertemplate": "Country=%{x}<br>Year=2020<br>Percentage of Documents=%{y}<extra></extra>",
           "legendgroup": "Iraq",
           "marker": {
            "color": "#636efa",
            "pattern": {
             "shape": ""
            }
           },
           "name": "Iraq",
           "offsetgroup": "Iraq",
           "orientation": "v",
           "showlegend": true,
           "textposition": "auto",
           "type": "bar",
           "x": [
            "Iraq"
           ],
           "xaxis": "x",
           "y": [
            0.4
           ],
           "yaxis": "y"
          },
          {
           "alignmentgroup": "True",
           "hovertemplate": "Country=%{x}<br>Year=2020<br>Percentage of Documents=%{y}<extra></extra>",
           "legendgroup": "Jamaica",
           "marker": {
            "color": "#EF553B",
            "pattern": {
             "shape": ""
            }
           },
           "name": "Jamaica",
           "offsetgroup": "Jamaica",
           "orientation": "v",
           "showlegend": true,
           "textposition": "auto",
           "type": "bar",
           "x": [
            "Jamaica"
           ],
           "xaxis": "x",
           "y": [
            0.4
           ],
           "yaxis": "y"
          },
          {
           "alignmentgroup": "True",
           "hovertemplate": "Country=%{x}<br>Year=2020<br>Percentage of Documents=%{y}<extra></extra>",
           "legendgroup": "Jordan",
           "marker": {
            "color": "#00cc96",
            "pattern": {
             "shape": ""
            }
           },
           "name": "Jordan",
           "offsetgroup": "Jordan",
           "orientation": "v",
           "showlegend": true,
           "textposition": "auto",
           "type": "bar",
           "x": [
            "Jordan"
           ],
           "xaxis": "x",
           "y": [
            0.4
           ],
           "yaxis": "y"
          },
          {
           "alignmentgroup": "True",
           "hovertemplate": "Country=%{x}<br>Year=2020<br>Percentage of Documents=%{y}<extra></extra>",
           "legendgroup": "Kenya",
           "marker": {
            "color": "#ab63fa",
            "pattern": {
             "shape": ""
            }
           },
           "name": "Kenya",
           "offsetgroup": "Kenya",
           "orientation": "v",
           "showlegend": true,
           "textposition": "auto",
           "type": "bar",
           "x": [
            "Kenya"
           ],
           "xaxis": "x",
           "y": [
            0.8
           ],
           "yaxis": "y"
          },
          {
           "alignmentgroup": "True",
           "hovertemplate": "Country=%{x}<br>Year=2020<br>Percentage of Documents=%{y}<extra></extra>",
           "legendgroup": "Kiribati",
           "marker": {
            "color": "#FFA15A",
            "pattern": {
             "shape": ""
            }
           },
           "name": "Kiribati",
           "offsetgroup": "Kiribati",
           "orientation": "v",
           "showlegend": true,
           "textposition": "auto",
           "type": "bar",
           "x": [
            "Kiribati"
           ],
           "xaxis": "x",
           "y": [
            0.8
           ],
           "yaxis": "y"
          },
          {
           "alignmentgroup": "True",
           "hovertemplate": "Country=%{x}<br>Year=2020<br>Percentage of Documents=%{y}<extra></extra>",
           "legendgroup": "Kyrgyz Republic",
           "marker": {
            "color": "#FF6692",
            "pattern": {
             "shape": ""
            }
           },
           "name": "Kyrgyz Republic",
           "offsetgroup": "Kyrgyz Republic",
           "orientation": "v",
           "showlegend": true,
           "textposition": "auto",
           "type": "bar",
           "x": [
            "Kyrgyz Republic"
           ],
           "xaxis": "x",
           "y": [
            2
           ],
           "yaxis": "y"
          },
          {
           "alignmentgroup": "True",
           "hovertemplate": "Country=%{x}<br>Year=2020<br>Percentage of Documents=%{y}<extra></extra>",
           "legendgroup": "Lao People's Democratic Republic",
           "marker": {
            "color": "#FF97FF",
            "pattern": {
             "shape": ""
            }
           },
           "name": "Lao People's Democratic Republic",
           "offsetgroup": "Lao People's Democratic Republic",
           "orientation": "v",
           "showlegend": true,
           "textposition": "auto",
           "type": "bar",
           "x": [
            "Lao People's Democratic Republic"
           ],
           "xaxis": "x",
           "y": [
            0.4
           ],
           "yaxis": "y"
          },
          {
           "alignmentgroup": "True",
           "hovertemplate": "Country=%{x}<br>Year=2020<br>Percentage of Documents=%{y}<extra></extra>",
           "legendgroup": "Madagascar",
           "marker": {
            "color": "#636efa",
            "pattern": {
             "shape": ""
            }
           },
           "name": "Madagascar",
           "offsetgroup": "Madagascar",
           "orientation": "v",
           "showlegend": true,
           "textposition": "auto",
           "type": "bar",
           "x": [
            "Madagascar"
           ],
           "xaxis": "x",
           "y": [
            0.8
           ],
           "yaxis": "y"
          },
          {
           "alignmentgroup": "True",
           "hovertemplate": "Country=%{x}<br>Year=2020<br>Percentage of Documents=%{y}<extra></extra>",
           "legendgroup": "Malawi",
           "marker": {
            "color": "#EF553B",
            "pattern": {
             "shape": ""
            }
           },
           "name": "Malawi",
           "offsetgroup": "Malawi",
           "orientation": "v",
           "showlegend": true,
           "textposition": "auto",
           "type": "bar",
           "x": [
            "Malawi"
           ],
           "xaxis": "x",
           "y": [
            0.8
           ],
           "yaxis": "y"
          },
          {
           "alignmentgroup": "True",
           "hovertemplate": "Country=%{x}<br>Year=2020<br>Percentage of Documents=%{y}<extra></extra>",
           "legendgroup": "Mauritania",
           "marker": {
            "color": "#ab63fa",
            "pattern": {
             "shape": ""
            }
           },
           "name": "Mauritania",
           "offsetgroup": "Mauritania",
           "orientation": "v",
           "showlegend": true,
           "textposition": "auto",
           "type": "bar",
           "x": [
            "Mauritania"
           ],
           "xaxis": "x",
           "y": [
            0.4
           ],
           "yaxis": "y"
          },
          {
           "alignmentgroup": "True",
           "hovertemplate": "Country=%{x}<br>Year=2020<br>Percentage of Documents=%{y}<extra></extra>",
           "legendgroup": "Mexico",
           "marker": {
            "color": "#FFA15A",
            "pattern": {
             "shape": ""
            }
           },
           "name": "Mexico",
           "offsetgroup": "Mexico",
           "orientation": "v",
           "showlegend": true,
           "textposition": "auto",
           "type": "bar",
           "x": [
            "Mexico"
           ],
           "xaxis": "x",
           "y": [
            1.2
           ],
           "yaxis": "y"
          },
          {
           "alignmentgroup": "True",
           "hovertemplate": "Country=%{x}<br>Year=2020<br>Percentage of Documents=%{y}<extra></extra>",
           "legendgroup": "Montenegro",
           "marker": {
            "color": "#B6E880",
            "pattern": {
             "shape": ""
            }
           },
           "name": "Montenegro",
           "offsetgroup": "Montenegro",
           "orientation": "v",
           "showlegend": true,
           "textposition": "auto",
           "type": "bar",
           "x": [
            "Montenegro"
           ],
           "xaxis": "x",
           "y": [
            0.8
           ],
           "yaxis": "y"
          },
          {
           "alignmentgroup": "True",
           "hovertemplate": "Country=%{x}<br>Year=2020<br>Percentage of Documents=%{y}<extra></extra>",
           "legendgroup": "Morocco",
           "marker": {
            "color": "#FF97FF",
            "pattern": {
             "shape": ""
            }
           },
           "name": "Morocco",
           "offsetgroup": "Morocco",
           "orientation": "v",
           "showlegend": true,
           "textposition": "auto",
           "type": "bar",
           "x": [
            "Morocco"
           ],
           "xaxis": "x",
           "y": [
            0.8
           ],
           "yaxis": "y"
          },
          {
           "alignmentgroup": "True",
           "hovertemplate": "Country=%{x}<br>Year=2020<br>Percentage of Documents=%{y}<extra></extra>",
           "legendgroup": "Mozambique",
           "marker": {
            "color": "#FECB52",
            "pattern": {
             "shape": ""
            }
           },
           "name": "Mozambique",
           "offsetgroup": "Mozambique",
           "orientation": "v",
           "showlegend": true,
           "textposition": "auto",
           "type": "bar",
           "x": [
            "Mozambique"
           ],
           "xaxis": "x",
           "y": [
            1.6
           ],
           "yaxis": "y"
          },
          {
           "alignmentgroup": "True",
           "hovertemplate": "Country=%{x}<br>Year=2020<br>Percentage of Documents=%{y}<extra></extra>",
           "legendgroup": "Nepal",
           "marker": {
            "color": "#636efa",
            "pattern": {
             "shape": ""
            }
           },
           "name": "Nepal",
           "offsetgroup": "Nepal",
           "orientation": "v",
           "showlegend": true,
           "textposition": "auto",
           "type": "bar",
           "x": [
            "Nepal"
           ],
           "xaxis": "x",
           "y": [
            0.4
           ],
           "yaxis": "y"
          },
          {
           "alignmentgroup": "True",
           "hovertemplate": "Country=%{x}<br>Year=2020<br>Percentage of Documents=%{y}<extra></extra>",
           "legendgroup": "Nicaragua",
           "marker": {
            "color": "#EF553B",
            "pattern": {
             "shape": ""
            }
           },
           "name": "Nicaragua",
           "offsetgroup": "Nicaragua",
           "orientation": "v",
           "showlegend": true,
           "textposition": "auto",
           "type": "bar",
           "x": [
            "Nicaragua"
           ],
           "xaxis": "x",
           "y": [
            0.4
           ],
           "yaxis": "y"
          },
          {
           "alignmentgroup": "True",
           "hovertemplate": "Country=%{x}<br>Year=2020<br>Percentage of Documents=%{y}<extra></extra>",
           "legendgroup": "Niger",
           "marker": {
            "color": "#00cc96",
            "pattern": {
             "shape": ""
            }
           },
           "name": "Niger",
           "offsetgroup": "Niger",
           "orientation": "v",
           "showlegend": true,
           "textposition": "auto",
           "type": "bar",
           "x": [
            "Niger"
           ],
           "xaxis": "x",
           "y": [
            0.4
           ],
           "yaxis": "y"
          },
          {
           "alignmentgroup": "True",
           "hovertemplate": "Country=%{x}<br>Year=2020<br>Percentage of Documents=%{y}<extra></extra>",
           "legendgroup": "Nigeria",
           "marker": {
            "color": "#ab63fa",
            "pattern": {
             "shape": ""
            }
           },
           "name": "Nigeria",
           "offsetgroup": "Nigeria",
           "orientation": "v",
           "showlegend": true,
           "textposition": "auto",
           "type": "bar",
           "x": [
            "Nigeria"
           ],
           "xaxis": "x",
           "y": [
            1.2
           ],
           "yaxis": "y"
          },
          {
           "alignmentgroup": "True",
           "hovertemplate": "Country=%{x}<br>Year=2020<br>Percentage of Documents=%{y}<extra></extra>",
           "legendgroup": "North Macedonia",
           "marker": {
            "color": "#FFA15A",
            "pattern": {
             "shape": ""
            }
           },
           "name": "North Macedonia",
           "offsetgroup": "North Macedonia",
           "orientation": "v",
           "showlegend": true,
           "textposition": "auto",
           "type": "bar",
           "x": [
            "North Macedonia"
           ],
           "xaxis": "x",
           "y": [
            0.4
           ],
           "yaxis": "y"
          },
          {
           "alignmentgroup": "True",
           "hovertemplate": "Country=%{x}<br>Year=2020<br>Percentage of Documents=%{y}<extra></extra>",
           "legendgroup": "Pakistan",
           "marker": {
            "color": "#FF6692",
            "pattern": {
             "shape": ""
            }
           },
           "name": "Pakistan",
           "offsetgroup": "Pakistan",
           "orientation": "v",
           "showlegend": true,
           "textposition": "auto",
           "type": "bar",
           "x": [
            "Pakistan"
           ],
           "xaxis": "x",
           "y": [
            2
           ],
           "yaxis": "y"
          },
          {
           "alignmentgroup": "True",
           "hovertemplate": "Country=%{x}<br>Year=2020<br>Percentage of Documents=%{y}<extra></extra>",
           "legendgroup": "Papua New Guinea",
           "marker": {
            "color": "#B6E880",
            "pattern": {
             "shape": ""
            }
           },
           "name": "Papua New Guinea",
           "offsetgroup": "Papua New Guinea",
           "orientation": "v",
           "showlegend": true,
           "textposition": "auto",
           "type": "bar",
           "x": [
            "Papua New Guinea"
           ],
           "xaxis": "x",
           "y": [
            0.4
           ],
           "yaxis": "y"
          },
          {
           "alignmentgroup": "True",
           "hovertemplate": "Country=%{x}<br>Year=2020<br>Percentage of Documents=%{y}<extra></extra>",
           "legendgroup": "Peru",
           "marker": {
            "color": "#FECB52",
            "pattern": {
             "shape": ""
            }
           },
           "name": "Peru",
           "offsetgroup": "Peru",
           "orientation": "v",
           "showlegend": true,
           "textposition": "auto",
           "type": "bar",
           "x": [
            "Peru"
           ],
           "xaxis": "x",
           "y": [
            0.8
           ],
           "yaxis": "y"
          },
          {
           "alignmentgroup": "True",
           "hovertemplate": "Country=%{x}<br>Year=2020<br>Percentage of Documents=%{y}<extra></extra>",
           "legendgroup": "Russian Federation",
           "marker": {
            "color": "#EF553B",
            "pattern": {
             "shape": ""
            }
           },
           "name": "Russian Federation",
           "offsetgroup": "Russian Federation",
           "orientation": "v",
           "showlegend": true,
           "textposition": "auto",
           "type": "bar",
           "x": [
            "Russian Federation"
           ],
           "xaxis": "x",
           "y": [
            0.4
           ],
           "yaxis": "y"
          },
          {
           "alignmentgroup": "True",
           "hovertemplate": "Country=%{x}<br>Year=2020<br>Percentage of Documents=%{y}<extra></extra>",
           "legendgroup": "Rwanda",
           "marker": {
            "color": "#00cc96",
            "pattern": {
             "shape": ""
            }
           },
           "name": "Rwanda",
           "offsetgroup": "Rwanda",
           "orientation": "v",
           "showlegend": true,
           "textposition": "auto",
           "type": "bar",
           "x": [
            "Rwanda"
           ],
           "xaxis": "x",
           "y": [
            0.4
           ],
           "yaxis": "y"
          },
          {
           "alignmentgroup": "True",
           "hovertemplate": "Country=%{x}<br>Year=2020<br>Percentage of Documents=%{y}<extra></extra>",
           "legendgroup": "Samoa",
           "marker": {
            "color": "#ab63fa",
            "pattern": {
             "shape": ""
            }
           },
           "name": "Samoa",
           "offsetgroup": "Samoa",
           "orientation": "v",
           "showlegend": true,
           "textposition": "auto",
           "type": "bar",
           "x": [
            "Samoa"
           ],
           "xaxis": "x",
           "y": [
            0.4
           ],
           "yaxis": "y"
          },
          {
           "alignmentgroup": "True",
           "hovertemplate": "Country=%{x}<br>Year=2020<br>Percentage of Documents=%{y}<extra></extra>",
           "legendgroup": "Senegal",
           "marker": {
            "color": "#FFA15A",
            "pattern": {
             "shape": ""
            }
           },
           "name": "Senegal",
           "offsetgroup": "Senegal",
           "orientation": "v",
           "showlegend": true,
           "textposition": "auto",
           "type": "bar",
           "x": [
            "Senegal"
           ],
           "xaxis": "x",
           "y": [
            1.6
           ],
           "yaxis": "y"
          },
          {
           "alignmentgroup": "True",
           "hovertemplate": "Country=%{x}<br>Year=2020<br>Percentage of Documents=%{y}<extra></extra>",
           "legendgroup": "Solomon Islands",
           "marker": {
            "color": "#FF6692",
            "pattern": {
             "shape": ""
            }
           },
           "name": "Solomon Islands",
           "offsetgroup": "Solomon Islands",
           "orientation": "v",
           "showlegend": true,
           "textposition": "auto",
           "type": "bar",
           "x": [
            "Solomon Islands"
           ],
           "xaxis": "x",
           "y": [
            0.4
           ],
           "yaxis": "y"
          },
          {
           "alignmentgroup": "True",
           "hovertemplate": "Country=%{x}<br>Year=2020<br>Percentage of Documents=%{y}<extra></extra>",
           "legendgroup": "South Sudan",
           "marker": {
            "color": "#B6E880",
            "pattern": {
             "shape": ""
            }
           },
           "name": "South Sudan",
           "offsetgroup": "South Sudan",
           "orientation": "v",
           "showlegend": true,
           "textposition": "auto",
           "type": "bar",
           "x": [
            "South Sudan"
           ],
           "xaxis": "x",
           "y": [
            1.2
           ],
           "yaxis": "y"
          },
          {
           "alignmentgroup": "True",
           "hovertemplate": "Country=%{x}<br>Year=2020<br>Percentage of Documents=%{y}<extra></extra>",
           "legendgroup": "Sri Lanka",
           "marker": {
            "color": "#FF97FF",
            "pattern": {
             "shape": ""
            }
           },
           "name": "Sri Lanka",
           "offsetgroup": "Sri Lanka",
           "orientation": "v",
           "showlegend": true,
           "textposition": "auto",
           "type": "bar",
           "x": [
            "Sri Lanka"
           ],
           "xaxis": "x",
           "y": [
            0.4
           ],
           "yaxis": "y"
          },
          {
           "alignmentgroup": "True",
           "hovertemplate": "Country=%{x}<br>Year=2020<br>Percentage of Documents=%{y}<extra></extra>",
           "legendgroup": "Tajikistan",
           "marker": {
            "color": "#FECB52",
            "pattern": {
             "shape": ""
            }
           },
           "name": "Tajikistan",
           "offsetgroup": "Tajikistan",
           "orientation": "v",
           "showlegend": true,
           "textposition": "auto",
           "type": "bar",
           "x": [
            "Tajikistan"
           ],
           "xaxis": "x",
           "y": [
            0.4
           ],
           "yaxis": "y"
          },
          {
           "alignmentgroup": "True",
           "hovertemplate": "Country=%{x}<br>Year=2020<br>Percentage of Documents=%{y}<extra></extra>",
           "legendgroup": "Tanzania",
           "marker": {
            "color": "#636efa",
            "pattern": {
             "shape": ""
            }
           },
           "name": "Tanzania",
           "offsetgroup": "Tanzania",
           "orientation": "v",
           "showlegend": true,
           "textposition": "auto",
           "type": "bar",
           "x": [
            "Tanzania"
           ],
           "xaxis": "x",
           "y": [
            2
           ],
           "yaxis": "y"
          },
          {
           "alignmentgroup": "True",
           "hovertemplate": "Country=%{x}<br>Year=2020<br>Percentage of Documents=%{y}<extra></extra>",
           "legendgroup": "Tonga",
           "marker": {
            "color": "#EF553B",
            "pattern": {
             "shape": ""
            }
           },
           "name": "Tonga",
           "offsetgroup": "Tonga",
           "orientation": "v",
           "showlegend": true,
           "textposition": "auto",
           "type": "bar",
           "x": [
            "Tonga"
           ],
           "xaxis": "x",
           "y": [
            0.4
           ],
           "yaxis": "y"
          },
          {
           "alignmentgroup": "True",
           "hovertemplate": "Country=%{x}<br>Year=2020<br>Percentage of Documents=%{y}<extra></extra>",
           "legendgroup": "Tunisia",
           "marker": {
            "color": "#00cc96",
            "pattern": {
             "shape": ""
            }
           },
           "name": "Tunisia",
           "offsetgroup": "Tunisia",
           "orientation": "v",
           "showlegend": true,
           "textposition": "auto",
           "type": "bar",
           "x": [
            "Tunisia"
           ],
           "xaxis": "x",
           "y": [
            1.6
           ],
           "yaxis": "y"
          },
          {
           "alignmentgroup": "True",
           "hovertemplate": "Country=%{x}<br>Year=2020<br>Percentage of Documents=%{y}<extra></extra>",
           "legendgroup": "Uganda",
           "marker": {
            "color": "#ab63fa",
            "pattern": {
             "shape": ""
            }
           },
           "name": "Uganda",
           "offsetgroup": "Uganda",
           "orientation": "v",
           "showlegend": true,
           "textposition": "auto",
           "type": "bar",
           "x": [
            "Uganda"
           ],
           "xaxis": "x",
           "y": [
            0.4
           ],
           "yaxis": "y"
          },
          {
           "alignmentgroup": "True",
           "hovertemplate": "Country=%{x}<br>Year=2020<br>Percentage of Documents=%{y}<extra></extra>",
           "legendgroup": "Vietnam",
           "marker": {
            "color": "#FFA15A",
            "pattern": {
             "shape": ""
            }
           },
           "name": "Vietnam",
           "offsetgroup": "Vietnam",
           "orientation": "v",
           "showlegend": true,
           "textposition": "auto",
           "type": "bar",
           "x": [
            "Vietnam"
           ],
           "xaxis": "x",
           "y": [
            4.7
           ],
           "yaxis": "y"
          },
          {
           "alignmentgroup": "True",
           "hovertemplate": "Country=%{x}<br>Year=2020<br>Percentage of Documents=%{y}<extra></extra>",
           "legendgroup": "West Bank and Gaza",
           "marker": {
            "color": "#19d3f3",
            "pattern": {
             "shape": ""
            }
           },
           "name": "West Bank and Gaza",
           "offsetgroup": "West Bank and Gaza",
           "orientation": "v",
           "showlegend": true,
           "textposition": "auto",
           "type": "bar",
           "x": [
            "West Bank and Gaza"
           ],
           "xaxis": "x",
           "y": [
            0.8
           ],
           "yaxis": "y"
          },
          {
           "alignmentgroup": "True",
           "hovertemplate": "Country=%{x}<br>Year=2020<br>Percentage of Documents=%{y}<extra></extra>",
           "legendgroup": "Western Africa",
           "marker": {
            "color": "#FF6692",
            "pattern": {
             "shape": ""
            }
           },
           "name": "Western Africa",
           "offsetgroup": "Western Africa",
           "orientation": "v",
           "showlegend": true,
           "textposition": "auto",
           "type": "bar",
           "x": [
            "Western Africa"
           ],
           "xaxis": "x",
           "y": [
            2.8
           ],
           "yaxis": "y"
          },
          {
           "alignmentgroup": "True",
           "hovertemplate": "Country=%{x}<br>Year=2020<br>Percentage of Documents=%{y}<extra></extra>",
           "legendgroup": "Zambia",
           "marker": {
            "color": "#FECB52",
            "pattern": {
             "shape": ""
            }
           },
           "name": "Zambia",
           "offsetgroup": "Zambia",
           "orientation": "v",
           "showlegend": true,
           "textposition": "auto",
           "type": "bar",
           "x": [
            "Zambia"
           ],
           "xaxis": "x",
           "y": [
            0.8
           ],
           "yaxis": "y"
          },
          {
           "alignmentgroup": "True",
           "hovertemplate": "Country=%{x}<br>Year=2020<br>Percentage of Documents=%{y}<extra></extra>",
           "legendgroup": "Belarus",
           "marker": {
            "color": "#636efa",
            "pattern": {
             "shape": ""
            }
           },
           "name": "Belarus",
           "offsetgroup": "Belarus",
           "orientation": "v",
           "showlegend": true,
           "textposition": "auto",
           "type": "bar",
           "x": [
            "Belarus"
           ],
           "xaxis": "x",
           "y": [
            0.8
           ],
           "yaxis": "y"
          },
          {
           "alignmentgroup": "True",
           "hovertemplate": "Country=%{x}<br>Year=2020<br>Percentage of Documents=%{y}<extra></extra>",
           "legendgroup": "Belize",
           "marker": {
            "color": "#EF553B",
            "pattern": {
             "shape": ""
            }
           },
           "name": "Belize",
           "offsetgroup": "Belize",
           "orientation": "v",
           "showlegend": true,
           "textposition": "auto",
           "type": "bar",
           "x": [
            "Belize"
           ],
           "xaxis": "x",
           "y": [
            0.4
           ],
           "yaxis": "y"
          },
          {
           "alignmentgroup": "True",
           "hovertemplate": "Country=%{x}<br>Year=2020<br>Percentage of Documents=%{y}<extra></extra>",
           "legendgroup": "Bolivia",
           "marker": {
            "color": "#00cc96",
            "pattern": {
             "shape": ""
            }
           },
           "name": "Bolivia",
           "offsetgroup": "Bolivia",
           "orientation": "v",
           "showlegend": true,
           "textposition": "auto",
           "type": "bar",
           "x": [
            "Bolivia"
           ],
           "xaxis": "x",
           "y": [
            0.8
           ],
           "yaxis": "y"
          },
          {
           "alignmentgroup": "True",
           "hovertemplate": "Country=%{x}<br>Year=2020<br>Percentage of Documents=%{y}<extra></extra>",
           "legendgroup": "Bulgaria",
           "marker": {
            "color": "#ab63fa",
            "pattern": {
             "shape": ""
            }
           },
           "name": "Bulgaria",
           "offsetgroup": "Bulgaria",
           "orientation": "v",
           "showlegend": true,
           "textposition": "auto",
           "type": "bar",
           "x": [
            "Bulgaria"
           ],
           "xaxis": "x",
           "y": [
            0.8
           ],
           "yaxis": "y"
          },
          {
           "alignmentgroup": "True",
           "hovertemplate": "Country=%{x}<br>Year=2020<br>Percentage of Documents=%{y}<extra></extra>",
           "legendgroup": "Central Asia",
           "marker": {
            "color": "#FFA15A",
            "pattern": {
             "shape": ""
            }
           },
           "name": "Central Asia",
           "offsetgroup": "Central Asia",
           "orientation": "v",
           "showlegend": true,
           "textposition": "auto",
           "type": "bar",
           "x": [
            "Central Asia"
           ],
           "xaxis": "x",
           "y": [
            0.4
           ],
           "yaxis": "y"
          },
          {
           "alignmentgroup": "True",
           "hovertemplate": "Country=%{x}<br>Year=2020<br>Percentage of Documents=%{y}<extra></extra>",
           "legendgroup": "Croatia",
           "marker": {
            "color": "#19d3f3",
            "pattern": {
             "shape": ""
            }
           },
           "name": "Croatia",
           "offsetgroup": "Croatia",
           "orientation": "v",
           "showlegend": true,
           "textposition": "auto",
           "type": "bar",
           "x": [
            "Croatia"
           ],
           "xaxis": "x",
           "y": [
            0.8
           ],
           "yaxis": "y"
          },
          {
           "alignmentgroup": "True",
           "hovertemplate": "Country=%{x}<br>Year=2020<br>Percentage of Documents=%{y}<extra></extra>",
           "legendgroup": "Gabon",
           "marker": {
            "color": "#FF6692",
            "pattern": {
             "shape": ""
            }
           },
           "name": "Gabon",
           "offsetgroup": "Gabon",
           "orientation": "v",
           "showlegend": true,
           "textposition": "auto",
           "type": "bar",
           "x": [
            "Gabon"
           ],
           "xaxis": "x",
           "y": [
            0.4
           ],
           "yaxis": "y"
          },
          {
           "alignmentgroup": "True",
           "hovertemplate": "Country=%{x}<br>Year=2020<br>Percentage of Documents=%{y}<extra></extra>",
           "legendgroup": "Georgia",
           "marker": {
            "color": "#B6E880",
            "pattern": {
             "shape": ""
            }
           },
           "name": "Georgia",
           "offsetgroup": "Georgia",
           "orientation": "v",
           "showlegend": true,
           "textposition": "auto",
           "type": "bar",
           "x": [
            "Georgia"
           ],
           "xaxis": "x",
           "y": [
            1.6
           ],
           "yaxis": "y"
          },
          {
           "alignmentgroup": "True",
           "hovertemplate": "Country=%{x}<br>Year=2020<br>Percentage of Documents=%{y}<extra></extra>",
           "legendgroup": "Kazakhstan",
           "marker": {
            "color": "#FF97FF",
            "pattern": {
             "shape": ""
            }
           },
           "name": "Kazakhstan",
           "offsetgroup": "Kazakhstan",
           "orientation": "v",
           "showlegend": true,
           "textposition": "auto",
           "type": "bar",
           "x": [
            "Kazakhstan"
           ],
           "xaxis": "x",
           "y": [
            0.4
           ],
           "yaxis": "y"
          },
          {
           "alignmentgroup": "True",
           "hovertemplate": "Country=%{x}<br>Year=2020<br>Percentage of Documents=%{y}<extra></extra>",
           "legendgroup": "Lesotho",
           "marker": {
            "color": "#FECB52",
            "pattern": {
             "shape": ""
            }
           },
           "name": "Lesotho",
           "offsetgroup": "Lesotho",
           "orientation": "v",
           "showlegend": true,
           "textposition": "auto",
           "type": "bar",
           "x": [
            "Lesotho"
           ],
           "xaxis": "x",
           "y": [
            1.2
           ],
           "yaxis": "y"
          },
          {
           "alignmentgroup": "True",
           "hovertemplate": "Country=%{x}<br>Year=2020<br>Percentage of Documents=%{y}<extra></extra>",
           "legendgroup": "Liberia",
           "marker": {
            "color": "#636efa",
            "pattern": {
             "shape": ""
            }
           },
           "name": "Liberia",
           "offsetgroup": "Liberia",
           "orientation": "v",
           "showlegend": true,
           "textposition": "auto",
           "type": "bar",
           "x": [
            "Liberia"
           ],
           "xaxis": "x",
           "y": [
            0.4
           ],
           "yaxis": "y"
          },
          {
           "alignmentgroup": "True",
           "hovertemplate": "Country=%{x}<br>Year=2020<br>Percentage of Documents=%{y}<extra></extra>",
           "legendgroup": "Mali",
           "marker": {
            "color": "#EF553B",
            "pattern": {
             "shape": ""
            }
           },
           "name": "Mali",
           "offsetgroup": "Mali",
           "orientation": "v",
           "showlegend": true,
           "textposition": "auto",
           "type": "bar",
           "x": [
            "Mali"
           ],
           "xaxis": "x",
           "y": [
            2
           ],
           "yaxis": "y"
          },
          {
           "alignmentgroup": "True",
           "hovertemplate": "Country=%{x}<br>Year=2020<br>Percentage of Documents=%{y}<extra></extra>",
           "legendgroup": "Marshall Islands",
           "marker": {
            "color": "#00cc96",
            "pattern": {
             "shape": ""
            }
           },
           "name": "Marshall Islands",
           "offsetgroup": "Marshall Islands",
           "orientation": "v",
           "showlegend": true,
           "textposition": "auto",
           "type": "bar",
           "x": [
            "Marshall Islands"
           ],
           "xaxis": "x",
           "y": [
            0.4
           ],
           "yaxis": "y"
          },
          {
           "alignmentgroup": "True",
           "hovertemplate": "Country=%{x}<br>Year=2020<br>Percentage of Documents=%{y}<extra></extra>",
           "legendgroup": "Micronesia, Federated States of",
           "marker": {
            "color": "#ab63fa",
            "pattern": {
             "shape": ""
            }
           },
           "name": "Micronesia, Federated States of",
           "offsetgroup": "Micronesia, Federated States of",
           "orientation": "v",
           "showlegend": true,
           "textposition": "auto",
           "type": "bar",
           "x": [
            "Micronesia, Federated States of"
           ],
           "xaxis": "x",
           "y": [
            0.4
           ],
           "yaxis": "y"
          },
          {
           "alignmentgroup": "True",
           "hovertemplate": "Country=%{x}<br>Year=2020<br>Percentage of Documents=%{y}<extra></extra>",
           "legendgroup": "Romania",
           "marker": {
            "color": "#FFA15A",
            "pattern": {
             "shape": ""
            }
           },
           "name": "Romania",
           "offsetgroup": "Romania",
           "orientation": "v",
           "showlegend": true,
           "textposition": "auto",
           "type": "bar",
           "x": [
            "Romania"
           ],
           "xaxis": "x",
           "y": [
            0.8
           ],
           "yaxis": "y"
          },
          {
           "alignmentgroup": "True",
           "hovertemplate": "Country=%{x}<br>Year=2020<br>Percentage of Documents=%{y}<extra></extra>",
           "legendgroup": "Sao Tome and Principe",
           "marker": {
            "color": "#19d3f3",
            "pattern": {
             "shape": ""
            }
           },
           "name": "Sao Tome and Principe",
           "offsetgroup": "Sao Tome and Principe",
           "orientation": "v",
           "showlegend": true,
           "textposition": "auto",
           "type": "bar",
           "x": [
            "Sao Tome and Principe"
           ],
           "xaxis": "x",
           "y": [
            0.4
           ],
           "yaxis": "y"
          },
          {
           "alignmentgroup": "True",
           "hovertemplate": "Country=%{x}<br>Year=2020<br>Percentage of Documents=%{y}<extra></extra>",
           "legendgroup": "Serbia",
           "marker": {
            "color": "#FF6692",
            "pattern": {
             "shape": ""
            }
           },
           "name": "Serbia",
           "offsetgroup": "Serbia",
           "orientation": "v",
           "showlegend": true,
           "textposition": "auto",
           "type": "bar",
           "x": [
            "Serbia"
           ],
           "xaxis": "x",
           "y": [
            1.2
           ],
           "yaxis": "y"
          },
          {
           "alignmentgroup": "True",
           "hovertemplate": "Country=%{x}<br>Year=2020<br>Percentage of Documents=%{y}<extra></extra>",
           "legendgroup": "Sudan",
           "marker": {
            "color": "#B6E880",
            "pattern": {
             "shape": ""
            }
           },
           "name": "Sudan",
           "offsetgroup": "Sudan",
           "orientation": "v",
           "showlegend": true,
           "textposition": "auto",
           "type": "bar",
           "x": [
            "Sudan"
           ],
           "xaxis": "x",
           "y": [
            0.4
           ],
           "yaxis": "y"
          },
          {
           "alignmentgroup": "True",
           "hovertemplate": "Country=%{x}<br>Year=2020<br>Percentage of Documents=%{y}<extra></extra>",
           "legendgroup": "Thailand",
           "marker": {
            "color": "#FF97FF",
            "pattern": {
             "shape": ""
            }
           },
           "name": "Thailand",
           "offsetgroup": "Thailand",
           "orientation": "v",
           "showlegend": true,
           "textposition": "auto",
           "type": "bar",
           "x": [
            "Thailand"
           ],
           "xaxis": "x",
           "y": [
            0.4
           ],
           "yaxis": "y"
          },
          {
           "alignmentgroup": "True",
           "hovertemplate": "Country=%{x}<br>Year=2020<br>Percentage of Documents=%{y}<extra></extra>",
           "legendgroup": "Turkey",
           "marker": {
            "color": "#FECB52",
            "pattern": {
             "shape": ""
            }
           },
           "name": "Turkey",
           "offsetgroup": "Turkey",
           "orientation": "v",
           "showlegend": true,
           "textposition": "auto",
           "type": "bar",
           "x": [
            "Turkey"
           ],
           "xaxis": "x",
           "y": [
            2
           ],
           "yaxis": "y"
          },
          {
           "alignmentgroup": "True",
           "hovertemplate": "Country=%{x}<br>Year=2020<br>Percentage of Documents=%{y}<extra></extra>",
           "legendgroup": "Uruguay",
           "marker": {
            "color": "#636efa",
            "pattern": {
             "shape": ""
            }
           },
           "name": "Uruguay",
           "offsetgroup": "Uruguay",
           "orientation": "v",
           "showlegend": true,
           "textposition": "auto",
           "type": "bar",
           "x": [
            "Uruguay"
           ],
           "xaxis": "x",
           "y": [
            0.8
           ],
           "yaxis": "y"
          },
          {
           "alignmentgroup": "True",
           "hovertemplate": "Country=%{x}<br>Year=2020<br>Percentage of Documents=%{y}<extra></extra>",
           "legendgroup": "Uzbekistan",
           "marker": {
            "color": "#EF553B",
            "pattern": {
             "shape": ""
            }
           },
           "name": "Uzbekistan",
           "offsetgroup": "Uzbekistan",
           "orientation": "v",
           "showlegend": true,
           "textposition": "auto",
           "type": "bar",
           "x": [
            "Uzbekistan"
           ],
           "xaxis": "x",
           "y": [
            0.4
           ],
           "yaxis": "y"
          },
          {
           "alignmentgroup": "True",
           "hovertemplate": "Country=%{x}<br>Year=2020<br>Percentage of Documents=%{y}<extra></extra>",
           "legendgroup": "Vanuatu",
           "marker": {
            "color": "#00cc96",
            "pattern": {
             "shape": ""
            }
           },
           "name": "Vanuatu",
           "offsetgroup": "Vanuatu",
           "orientation": "v",
           "showlegend": true,
           "textposition": "auto",
           "type": "bar",
           "x": [
            "Vanuatu"
           ],
           "xaxis": "x",
           "y": [
            0.8
           ],
           "yaxis": "y"
          },
          {
           "alignmentgroup": "True",
           "hovertemplate": "Country=%{x}<br>Year=2020<br>Percentage of Documents=%{y}<extra></extra>",
           "legendgroup": "World",
           "marker": {
            "color": "#ab63fa",
            "pattern": {
             "shape": ""
            }
           },
           "name": "World",
           "offsetgroup": "World",
           "orientation": "v",
           "showlegend": true,
           "textposition": "auto",
           "type": "bar",
           "x": [
            "World"
           ],
           "xaxis": "x",
           "y": [
            0.8
           ],
           "yaxis": "y"
          },
          {
           "alignmentgroup": "True",
           "hovertemplate": "Country=%{x}<br>Year=2020<br>Percentage of Documents=%{y}<extra></extra>",
           "legendgroup": "Zimbabwe",
           "marker": {
            "color": "#FFA15A",
            "pattern": {
             "shape": ""
            }
           },
           "name": "Zimbabwe",
           "offsetgroup": "Zimbabwe",
           "orientation": "v",
           "showlegend": true,
           "textposition": "auto",
           "type": "bar",
           "x": [
            "Zimbabwe"
           ],
           "xaxis": "x",
           "y": [
            0.4
           ],
           "yaxis": "y"
          }
         ],
         "layout": {
          "title": {
           "text": "Percentage of Documents by Country - Year: 2020"
          },
          "xaxis": {
           "categoryarray": [
            "Afghanistan",
            "Africa",
            "Albania",
            "Angola",
            "Argentina",
            "Armenia",
            "Azerbaijan",
            "Bangladesh",
            "Banking Sector Strengthening Project",
            "Barbados",
            "Belarus",
            "Belize",
            "Benin",
            "Bhutan",
            "Bolivia",
            "Bosnia and Herzegovina",
            "Botswana",
            "Brazil",
            "Bulgaria",
            "Burkina Faso",
            "Burundi",
            "Cabo Verde",
            "Cambodia",
            "Cameroon",
            "Caribbean",
            "Central Africa",
            "Central African Republic",
            "Central Asia",
            "Chad",
            "Chile",
            "China",
            "Colombia",
            "Comoros",
            "Congo, Democratic Republic of",
            "Congo, Republic of",
            "Costa Rica",
            "Cote d'Ivoire",
            "Croatia",
            "Djibouti",
            "Dominica",
            "Dominican Republic",
            "Eastern Africa",
            "Eastern and Southern Africa",
            "Ecuador",
            "Egypt, Arab Republic of",
            "El Salvador",
            "Eswatini",
            "Ethiopia",
            "Europe and Central Asia",
            "Fiji",
            "Fiscal Sustainability and Climate Resilience DPO",
            "Gabon",
            "Gambia, The",
            "Georgia",
            "Ghana",
            "Grenada",
            "Guatemala",
            "Guinea",
            "Guyana",
            "Haiti",
            "Harsha Project",
            "Hebei Clean Heating Project (P148599)",
            "Honduras",
            "India",
            "Indonesia",
            "Iraq",
            "Jamaica",
            "Jordan",
            "Kazakhstan",
            "Kenya",
            "Kiribati",
            "Kosovo",
            "Kyrgyz Republic",
            "Lake Victoria Phase II APL 1 (FY09) (P100406) :",
            "Lao People's Democratic Republic",
            "Latin America",
            "Lebanon",
            "Lesotho",
            "Liberia",
            "Madagascar",
            "Malawi",
            "Maldives",
            "Mali",
            "Marshall Islands",
            "Mauritania",
            "Mexico",
            "Micronesia, Federated States of",
            "Middle East and North Africa",
            "Moldova",
            "Mongolia",
            "Montenegro",
            "Morocco",
            "Mozambique",
            "Myanmar",
            "National Agricultural Innovation (P131013)",
            "Nepal",
            "Nicaragua",
            "Niger",
            "Nigeria",
            "North Macedonia",
            "OECS Countries",
            "PNG Productive Partnerships in Agriculture",
            "Pacific Islands",
            "Pakistan",
            "Panama",
            "Papua New Guinea",
            "Paraguay",
            "Peru",
            "Philippines",
            "Poland",
            "Revenue Mobilization Program for Results: VAT Improvement Program (VIP) (P129770)",
            "Romania",
            "Russian Federation",
            "Rwanda",
            "Samoa",
            "Sao Tome and Principe",
            "Senegal",
            "Serbia",
            "Seychelles",
            "Sierra Leone",
            "Solomon Islands",
            "Somalia",
            "South Africa",
            "South Sudan",
            "Southern Africa",
            "Sri Lanka",
            "St Maarten",
            "St. Lucia",
            "St. Vincent and the Grenadines",
            "Sudan",
            "Tajikistan",
            "Tanzania",
            "Thailand",
            "Timor",
            "Togo",
            "Tonga",
            "Tunisia",
            "Turkey",
            "Turkiye",
            "Tuvalu",
            "Uganda",
            "Ukraine",
            "Uruguay",
            "Uzbekistan",
            "Vanuatu",
            "Vietnam",
            "West Africa Regional Communications Infrastructure Project",
            "West Bank and Gaza",
            "Western Africa",
            "Western Balkans",
            "Western and Central Africa",
            "World",
            "Yemen, Republic of",
            "Zambia",
            "Zimbabwe"
           ],
           "categoryorder": "array"
          },
          "yaxis": {
           "range": [
            0,
            11.990000000000002
           ]
          }
         },
         "name": "2020"
        },
        {
         "data": [
          {
           "alignmentgroup": "True",
           "hovertemplate": "Country=%{x}<br>Year=2021<br>Percentage of Documents=%{y}<extra></extra>",
           "legendgroup": "Afghanistan",
           "marker": {
            "color": "#636efa",
            "pattern": {
             "shape": ""
            }
           },
           "name": "Afghanistan",
           "offsetgroup": "Afghanistan",
           "orientation": "v",
           "showlegend": true,
           "textposition": "auto",
           "type": "bar",
           "x": [
            "Afghanistan"
           ],
           "xaxis": "x",
           "y": [
            1.3
           ],
           "yaxis": "y"
          },
          {
           "alignmentgroup": "True",
           "hovertemplate": "Country=%{x}<br>Year=2021<br>Percentage of Documents=%{y}<extra></extra>",
           "legendgroup": "Africa",
           "marker": {
            "color": "#EF553B",
            "pattern": {
             "shape": ""
            }
           },
           "name": "Africa",
           "offsetgroup": "Africa",
           "orientation": "v",
           "showlegend": true,
           "textposition": "auto",
           "type": "bar",
           "x": [
            "Africa"
           ],
           "xaxis": "x",
           "y": [
            0.9
           ],
           "yaxis": "y"
          },
          {
           "alignmentgroup": "True",
           "hovertemplate": "Country=%{x}<br>Year=2021<br>Percentage of Documents=%{y}<extra></extra>",
           "legendgroup": "Albania",
           "marker": {
            "color": "#00cc96",
            "pattern": {
             "shape": ""
            }
           },
           "name": "Albania",
           "offsetgroup": "Albania",
           "orientation": "v",
           "showlegend": true,
           "textposition": "auto",
           "type": "bar",
           "x": [
            "Albania"
           ],
           "xaxis": "x",
           "y": [
            0.9
           ],
           "yaxis": "y"
          },
          {
           "alignmentgroup": "True",
           "hovertemplate": "Country=%{x}<br>Year=2021<br>Percentage of Documents=%{y}<extra></extra>",
           "legendgroup": "Azerbaijan",
           "marker": {
            "color": "#FF6692",
            "pattern": {
             "shape": ""
            }
           },
           "name": "Azerbaijan",
           "offsetgroup": "Azerbaijan",
           "orientation": "v",
           "showlegend": true,
           "textposition": "auto",
           "type": "bar",
           "x": [
            "Azerbaijan"
           ],
           "xaxis": "x",
           "y": [
            0.4
           ],
           "yaxis": "y"
          },
          {
           "alignmentgroup": "True",
           "hovertemplate": "Country=%{x}<br>Year=2021<br>Percentage of Documents=%{y}<extra></extra>",
           "legendgroup": "Bangladesh",
           "marker": {
            "color": "#B6E880",
            "pattern": {
             "shape": ""
            }
           },
           "name": "Bangladesh",
           "offsetgroup": "Bangladesh",
           "orientation": "v",
           "showlegend": true,
           "textposition": "auto",
           "type": "bar",
           "x": [
            "Bangladesh"
           ],
           "xaxis": "x",
           "y": [
            0.9
           ],
           "yaxis": "y"
          },
          {
           "alignmentgroup": "True",
           "hovertemplate": "Country=%{x}<br>Year=2021<br>Percentage of Documents=%{y}<extra></extra>",
           "legendgroup": "Benin",
           "marker": {
            "color": "#FF97FF",
            "pattern": {
             "shape": ""
            }
           },
           "name": "Benin",
           "offsetgroup": "Benin",
           "orientation": "v",
           "showlegend": true,
           "textposition": "auto",
           "type": "bar",
           "x": [
            "Benin"
           ],
           "xaxis": "x",
           "y": [
            0.9
           ],
           "yaxis": "y"
          },
          {
           "alignmentgroup": "True",
           "hovertemplate": "Country=%{x}<br>Year=2021<br>Percentage of Documents=%{y}<extra></extra>",
           "legendgroup": "Bosnia and Herzegovina",
           "marker": {
            "color": "#636efa",
            "pattern": {
             "shape": ""
            }
           },
           "name": "Bosnia and Herzegovina",
           "offsetgroup": "Bosnia and Herzegovina",
           "orientation": "v",
           "showlegend": true,
           "textposition": "auto",
           "type": "bar",
           "x": [
            "Bosnia and Herzegovina"
           ],
           "xaxis": "x",
           "y": [
            0.9
           ],
           "yaxis": "y"
          },
          {
           "alignmentgroup": "True",
           "hovertemplate": "Country=%{x}<br>Year=2021<br>Percentage of Documents=%{y}<extra></extra>",
           "legendgroup": "Brazil",
           "marker": {
            "color": "#EF553B",
            "pattern": {
             "shape": ""
            }
           },
           "name": "Brazil",
           "offsetgroup": "Brazil",
           "orientation": "v",
           "showlegend": true,
           "textposition": "auto",
           "type": "bar",
           "x": [
            "Brazil"
           ],
           "xaxis": "x",
           "y": [
            3.1
           ],
           "yaxis": "y"
          },
          {
           "alignmentgroup": "True",
           "hovertemplate": "Country=%{x}<br>Year=2021<br>Percentage of Documents=%{y}<extra></extra>",
           "legendgroup": "Burkina Faso",
           "marker": {
            "color": "#00cc96",
            "pattern": {
             "shape": ""
            }
           },
           "name": "Burkina Faso",
           "offsetgroup": "Burkina Faso",
           "orientation": "v",
           "showlegend": true,
           "textposition": "auto",
           "type": "bar",
           "x": [
            "Burkina Faso"
           ],
           "xaxis": "x",
           "y": [
            2.2
           ],
           "yaxis": "y"
          },
          {
           "alignmentgroup": "True",
           "hovertemplate": "Country=%{x}<br>Year=2021<br>Percentage of Documents=%{y}<extra></extra>",
           "legendgroup": "Burundi",
           "marker": {
            "color": "#ab63fa",
            "pattern": {
             "shape": ""
            }
           },
           "name": "Burundi",
           "offsetgroup": "Burundi",
           "orientation": "v",
           "showlegend": true,
           "textposition": "auto",
           "type": "bar",
           "x": [
            "Burundi"
           ],
           "xaxis": "x",
           "y": [
            0.4
           ],
           "yaxis": "y"
          },
          {
           "alignmentgroup": "True",
           "hovertemplate": "Country=%{x}<br>Year=2021<br>Percentage of Documents=%{y}<extra></extra>",
           "legendgroup": "Cameroon",
           "marker": {
            "color": "#19d3f3",
            "pattern": {
             "shape": ""
            }
           },
           "name": "Cameroon",
           "offsetgroup": "Cameroon",
           "orientation": "v",
           "showlegend": true,
           "textposition": "auto",
           "type": "bar",
           "x": [
            "Cameroon"
           ],
           "xaxis": "x",
           "y": [
            0.4
           ],
           "yaxis": "y"
          },
          {
           "alignmentgroup": "True",
           "hovertemplate": "Country=%{x}<br>Year=2021<br>Percentage of Documents=%{y}<extra></extra>",
           "legendgroup": "Chad",
           "marker": {
            "color": "#FF6692",
            "pattern": {
             "shape": ""
            }
           },
           "name": "Chad",
           "offsetgroup": "Chad",
           "orientation": "v",
           "showlegend": true,
           "textposition": "auto",
           "type": "bar",
           "x": [
            "Chad"
           ],
           "xaxis": "x",
           "y": [
            1.3
           ],
           "yaxis": "y"
          },
          {
           "alignmentgroup": "True",
           "hovertemplate": "Country=%{x}<br>Year=2021<br>Percentage of Documents=%{y}<extra></extra>",
           "legendgroup": "China",
           "marker": {
            "color": "#B6E880",
            "pattern": {
             "shape": ""
            }
           },
           "name": "China",
           "offsetgroup": "China",
           "orientation": "v",
           "showlegend": true,
           "textposition": "auto",
           "type": "bar",
           "x": [
            "China"
           ],
           "xaxis": "x",
           "y": [
            7.6
           ],
           "yaxis": "y"
          },
          {
           "alignmentgroup": "True",
           "hovertemplate": "Country=%{x}<br>Year=2021<br>Percentage of Documents=%{y}<extra></extra>",
           "legendgroup": "Colombia",
           "marker": {
            "color": "#FF97FF",
            "pattern": {
             "shape": ""
            }
           },
           "name": "Colombia",
           "offsetgroup": "Colombia",
           "orientation": "v",
           "showlegend": true,
           "textposition": "auto",
           "type": "bar",
           "x": [
            "Colombia"
           ],
           "xaxis": "x",
           "y": [
            0.9
           ],
           "yaxis": "y"
          },
          {
           "alignmentgroup": "True",
           "hovertemplate": "Country=%{x}<br>Year=2021<br>Percentage of Documents=%{y}<extra></extra>",
           "legendgroup": "Comoros",
           "marker": {
            "color": "#FECB52",
            "pattern": {
             "shape": ""
            }
           },
           "name": "Comoros",
           "offsetgroup": "Comoros",
           "orientation": "v",
           "showlegend": true,
           "textposition": "auto",
           "type": "bar",
           "x": [
            "Comoros"
           ],
           "xaxis": "x",
           "y": [
            0.4
           ],
           "yaxis": "y"
          },
          {
           "alignmentgroup": "True",
           "hovertemplate": "Country=%{x}<br>Year=2021<br>Percentage of Documents=%{y}<extra></extra>",
           "legendgroup": "Congo, Democratic Republic of",
           "marker": {
            "color": "#636efa",
            "pattern": {
             "shape": ""
            }
           },
           "name": "Congo, Democratic Republic of",
           "offsetgroup": "Congo, Democratic Republic of",
           "orientation": "v",
           "showlegend": true,
           "textposition": "auto",
           "type": "bar",
           "x": [
            "Congo, Democratic Republic of"
           ],
           "xaxis": "x",
           "y": [
            2.2
           ],
           "yaxis": "y"
          },
          {
           "alignmentgroup": "True",
           "hovertemplate": "Country=%{x}<br>Year=2021<br>Percentage of Documents=%{y}<extra></extra>",
           "legendgroup": "Congo, Republic of",
           "marker": {
            "color": "#EF553B",
            "pattern": {
             "shape": ""
            }
           },
           "name": "Congo, Republic of",
           "offsetgroup": "Congo, Republic of",
           "orientation": "v",
           "showlegend": true,
           "textposition": "auto",
           "type": "bar",
           "x": [
            "Congo, Republic of"
           ],
           "xaxis": "x",
           "y": [
            0.4
           ],
           "yaxis": "y"
          },
          {
           "alignmentgroup": "True",
           "hovertemplate": "Country=%{x}<br>Year=2021<br>Percentage of Documents=%{y}<extra></extra>",
           "legendgroup": "Costa Rica",
           "marker": {
            "color": "#00cc96",
            "pattern": {
             "shape": ""
            }
           },
           "name": "Costa Rica",
           "offsetgroup": "Costa Rica",
           "orientation": "v",
           "showlegend": true,
           "textposition": "auto",
           "type": "bar",
           "x": [
            "Costa Rica"
           ],
           "xaxis": "x",
           "y": [
            0.4
           ],
           "yaxis": "y"
          },
          {
           "alignmentgroup": "True",
           "hovertemplate": "Country=%{x}<br>Year=2021<br>Percentage of Documents=%{y}<extra></extra>",
           "legendgroup": "Cote d'Ivoire",
           "marker": {
            "color": "#ab63fa",
            "pattern": {
             "shape": ""
            }
           },
           "name": "Cote d'Ivoire",
           "offsetgroup": "Cote d'Ivoire",
           "orientation": "v",
           "showlegend": true,
           "textposition": "auto",
           "type": "bar",
           "x": [
            "Cote d'Ivoire"
           ],
           "xaxis": "x",
           "y": [
            0.4
           ],
           "yaxis": "y"
          },
          {
           "alignmentgroup": "True",
           "hovertemplate": "Country=%{x}<br>Year=2021<br>Percentage of Documents=%{y}<extra></extra>",
           "legendgroup": "Djibouti",
           "marker": {
            "color": "#FFA15A",
            "pattern": {
             "shape": ""
            }
           },
           "name": "Djibouti",
           "offsetgroup": "Djibouti",
           "orientation": "v",
           "showlegend": true,
           "textposition": "auto",
           "type": "bar",
           "x": [
            "Djibouti"
           ],
           "xaxis": "x",
           "y": [
            0.4
           ],
           "yaxis": "y"
          },
          {
           "alignmentgroup": "True",
           "hovertemplate": "Country=%{x}<br>Year=2021<br>Percentage of Documents=%{y}<extra></extra>",
           "legendgroup": "Eastern Africa",
           "marker": {
            "color": "#FF6692",
            "pattern": {
             "shape": ""
            }
           },
           "name": "Eastern Africa",
           "offsetgroup": "Eastern Africa",
           "orientation": "v",
           "showlegend": true,
           "textposition": "auto",
           "type": "bar",
           "x": [
            "Eastern Africa"
           ],
           "xaxis": "x",
           "y": [
            0.4
           ],
           "yaxis": "y"
          },
          {
           "alignmentgroup": "True",
           "hovertemplate": "Country=%{x}<br>Year=2021<br>Percentage of Documents=%{y}<extra></extra>",
           "legendgroup": "Egypt, Arab Republic of",
           "marker": {
            "color": "#B6E880",
            "pattern": {
             "shape": ""
            }
           },
           "name": "Egypt, Arab Republic of",
           "offsetgroup": "Egypt, Arab Republic of",
           "orientation": "v",
           "showlegend": true,
           "textposition": "auto",
           "type": "bar",
           "x": [
            "Egypt, Arab Republic of"
           ],
           "xaxis": "x",
           "y": [
            0.9
           ],
           "yaxis": "y"
          },
          {
           "alignmentgroup": "True",
           "hovertemplate": "Country=%{x}<br>Year=2021<br>Percentage of Documents=%{y}<extra></extra>",
           "legendgroup": "Ethiopia",
           "marker": {
            "color": "#636efa",
            "pattern": {
             "shape": ""
            }
           },
           "name": "Ethiopia",
           "offsetgroup": "Ethiopia",
           "orientation": "v",
           "showlegend": true,
           "textposition": "auto",
           "type": "bar",
           "x": [
            "Ethiopia"
           ],
           "xaxis": "x",
           "y": [
            0.9
           ],
           "yaxis": "y"
          },
          {
           "alignmentgroup": "True",
           "hovertemplate": "Country=%{x}<br>Year=2021<br>Percentage of Documents=%{y}<extra></extra>",
           "legendgroup": "Gambia, The",
           "marker": {
            "color": "#00cc96",
            "pattern": {
             "shape": ""
            }
           },
           "name": "Gambia, The",
           "offsetgroup": "Gambia, The",
           "orientation": "v",
           "showlegend": true,
           "textposition": "auto",
           "type": "bar",
           "x": [
            "Gambia, The"
           ],
           "xaxis": "x",
           "y": [
            1.8
           ],
           "yaxis": "y"
          },
          {
           "alignmentgroup": "True",
           "hovertemplate": "Country=%{x}<br>Year=2021<br>Percentage of Documents=%{y}<extra></extra>",
           "legendgroup": "Ghana",
           "marker": {
            "color": "#ab63fa",
            "pattern": {
             "shape": ""
            }
           },
           "name": "Ghana",
           "offsetgroup": "Ghana",
           "orientation": "v",
           "showlegend": true,
           "textposition": "auto",
           "type": "bar",
           "x": [
            "Ghana"
           ],
           "xaxis": "x",
           "y": [
            1.3
           ],
           "yaxis": "y"
          },
          {
           "alignmentgroup": "True",
           "hovertemplate": "Country=%{x}<br>Year=2021<br>Percentage of Documents=%{y}<extra></extra>",
           "legendgroup": "Guinea",
           "marker": {
            "color": "#19d3f3",
            "pattern": {
             "shape": ""
            }
           },
           "name": "Guinea",
           "offsetgroup": "Guinea",
           "orientation": "v",
           "showlegend": true,
           "textposition": "auto",
           "type": "bar",
           "x": [
            "Guinea"
           ],
           "xaxis": "x",
           "y": [
            1.8
           ],
           "yaxis": "y"
          },
          {
           "alignmentgroup": "True",
           "hovertemplate": "Country=%{x}<br>Year=2021<br>Percentage of Documents=%{y}<extra></extra>",
           "legendgroup": "Haiti",
           "marker": {
            "color": "#FF6692",
            "pattern": {
             "shape": ""
            }
           },
           "name": "Haiti",
           "offsetgroup": "Haiti",
           "orientation": "v",
           "showlegend": true,
           "textposition": "auto",
           "type": "bar",
           "x": [
            "Haiti"
           ],
           "xaxis": "x",
           "y": [
            1.8
           ],
           "yaxis": "y"
          },
          {
           "alignmentgroup": "True",
           "hovertemplate": "Country=%{x}<br>Year=2021<br>Percentage of Documents=%{y}<extra></extra>",
           "legendgroup": "India",
           "marker": {
            "color": "#FF97FF",
            "pattern": {
             "shape": ""
            }
           },
           "name": "India",
           "offsetgroup": "India",
           "orientation": "v",
           "showlegend": true,
           "textposition": "auto",
           "type": "bar",
           "x": [
            "India"
           ],
           "xaxis": "x",
           "y": [
            4
           ],
           "yaxis": "y"
          },
          {
           "alignmentgroup": "True",
           "hovertemplate": "Country=%{x}<br>Year=2021<br>Percentage of Documents=%{y}<extra></extra>",
           "legendgroup": "Indonesia",
           "marker": {
            "color": "#FECB52",
            "pattern": {
             "shape": ""
            }
           },
           "name": "Indonesia",
           "offsetgroup": "Indonesia",
           "orientation": "v",
           "showlegend": true,
           "textposition": "auto",
           "type": "bar",
           "x": [
            "Indonesia"
           ],
           "xaxis": "x",
           "y": [
            1.3
           ],
           "yaxis": "y"
          },
          {
           "alignmentgroup": "True",
           "hovertemplate": "Country=%{x}<br>Year=2021<br>Percentage of Documents=%{y}<extra></extra>",
           "legendgroup": "Kenya",
           "marker": {
            "color": "#ab63fa",
            "pattern": {
             "shape": ""
            }
           },
           "name": "Kenya",
           "offsetgroup": "Kenya",
           "orientation": "v",
           "showlegend": true,
           "textposition": "auto",
           "type": "bar",
           "x": [
            "Kenya"
           ],
           "xaxis": "x",
           "y": [
            2.7
           ],
           "yaxis": "y"
          },
          {
           "alignmentgroup": "True",
           "hovertemplate": "Country=%{x}<br>Year=2021<br>Percentage of Documents=%{y}<extra></extra>",
           "legendgroup": "Kiribati",
           "marker": {
            "color": "#FFA15A",
            "pattern": {
             "shape": ""
            }
           },
           "name": "Kiribati",
           "offsetgroup": "Kiribati",
           "orientation": "v",
           "showlegend": true,
           "textposition": "auto",
           "type": "bar",
           "x": [
            "Kiribati"
           ],
           "xaxis": "x",
           "y": [
            0.4
           ],
           "yaxis": "y"
          },
          {
           "alignmentgroup": "True",
           "hovertemplate": "Country=%{x}<br>Year=2021<br>Percentage of Documents=%{y}<extra></extra>",
           "legendgroup": "Lao People's Democratic Republic",
           "marker": {
            "color": "#FF97FF",
            "pattern": {
             "shape": ""
            }
           },
           "name": "Lao People's Democratic Republic",
           "offsetgroup": "Lao People's Democratic Republic",
           "orientation": "v",
           "showlegend": true,
           "textposition": "auto",
           "type": "bar",
           "x": [
            "Lao People's Democratic Republic"
           ],
           "xaxis": "x",
           "y": [
            0.9
           ],
           "yaxis": "y"
          },
          {
           "alignmentgroup": "True",
           "hovertemplate": "Country=%{x}<br>Year=2021<br>Percentage of Documents=%{y}<extra></extra>",
           "legendgroup": "Lebanon",
           "marker": {
            "color": "#FECB52",
            "pattern": {
             "shape": ""
            }
           },
           "name": "Lebanon",
           "offsetgroup": "Lebanon",
           "orientation": "v",
           "showlegend": true,
           "textposition": "auto",
           "type": "bar",
           "x": [
            "Lebanon"
           ],
           "xaxis": "x",
           "y": [
            0.4
           ],
           "yaxis": "y"
          },
          {
           "alignmentgroup": "True",
           "hovertemplate": "Country=%{x}<br>Year=2021<br>Percentage of Documents=%{y}<extra></extra>",
           "legendgroup": "Madagascar",
           "marker": {
            "color": "#636efa",
            "pattern": {
             "shape": ""
            }
           },
           "name": "Madagascar",
           "offsetgroup": "Madagascar",
           "orientation": "v",
           "showlegend": true,
           "textposition": "auto",
           "type": "bar",
           "x": [
            "Madagascar"
           ],
           "xaxis": "x",
           "y": [
            0.4
           ],
           "yaxis": "y"
          },
          {
           "alignmentgroup": "True",
           "hovertemplate": "Country=%{x}<br>Year=2021<br>Percentage of Documents=%{y}<extra></extra>",
           "legendgroup": "Malawi",
           "marker": {
            "color": "#EF553B",
            "pattern": {
             "shape": ""
            }
           },
           "name": "Malawi",
           "offsetgroup": "Malawi",
           "orientation": "v",
           "showlegend": true,
           "textposition": "auto",
           "type": "bar",
           "x": [
            "Malawi"
           ],
           "xaxis": "x",
           "y": [
            1.3
           ],
           "yaxis": "y"
          },
          {
           "alignmentgroup": "True",
           "hovertemplate": "Country=%{x}<br>Year=2021<br>Percentage of Documents=%{y}<extra></extra>",
           "legendgroup": "Mauritania",
           "marker": {
            "color": "#ab63fa",
            "pattern": {
             "shape": ""
            }
           },
           "name": "Mauritania",
           "offsetgroup": "Mauritania",
           "orientation": "v",
           "showlegend": true,
           "textposition": "auto",
           "type": "bar",
           "x": [
            "Mauritania"
           ],
           "xaxis": "x",
           "y": [
            0.9
           ],
           "yaxis": "y"
          },
          {
           "alignmentgroup": "True",
           "hovertemplate": "Country=%{x}<br>Year=2021<br>Percentage of Documents=%{y}<extra></extra>",
           "legendgroup": "Mexico",
           "marker": {
            "color": "#FFA15A",
            "pattern": {
             "shape": ""
            }
           },
           "name": "Mexico",
           "offsetgroup": "Mexico",
           "orientation": "v",
           "showlegend": true,
           "textposition": "auto",
           "type": "bar",
           "x": [
            "Mexico"
           ],
           "xaxis": "x",
           "y": [
            1.3
           ],
           "yaxis": "y"
          },
          {
           "alignmentgroup": "True",
           "hovertemplate": "Country=%{x}<br>Year=2021<br>Percentage of Documents=%{y}<extra></extra>",
           "legendgroup": "Moldova",
           "marker": {
            "color": "#FF6692",
            "pattern": {
             "shape": ""
            }
           },
           "name": "Moldova",
           "offsetgroup": "Moldova",
           "orientation": "v",
           "showlegend": true,
           "textposition": "auto",
           "type": "bar",
           "x": [
            "Moldova"
           ],
           "xaxis": "x",
           "y": [
            0.9
           ],
           "yaxis": "y"
          },
          {
           "alignmentgroup": "True",
           "hovertemplate": "Country=%{x}<br>Year=2021<br>Percentage of Documents=%{y}<extra></extra>",
           "legendgroup": "Mozambique",
           "marker": {
            "color": "#FECB52",
            "pattern": {
             "shape": ""
            }
           },
           "name": "Mozambique",
           "offsetgroup": "Mozambique",
           "orientation": "v",
           "showlegend": true,
           "textposition": "auto",
           "type": "bar",
           "x": [
            "Mozambique"
           ],
           "xaxis": "x",
           "y": [
            2.2
           ],
           "yaxis": "y"
          },
          {
           "alignmentgroup": "True",
           "hovertemplate": "Country=%{x}<br>Year=2021<br>Percentage of Documents=%{y}<extra></extra>",
           "legendgroup": "Nepal",
           "marker": {
            "color": "#636efa",
            "pattern": {
             "shape": ""
            }
           },
           "name": "Nepal",
           "offsetgroup": "Nepal",
           "orientation": "v",
           "showlegend": true,
           "textposition": "auto",
           "type": "bar",
           "x": [
            "Nepal"
           ],
           "xaxis": "x",
           "y": [
            2.2
           ],
           "yaxis": "y"
          },
          {
           "alignmentgroup": "True",
           "hovertemplate": "Country=%{x}<br>Year=2021<br>Percentage of Documents=%{y}<extra></extra>",
           "legendgroup": "Nicaragua",
           "marker": {
            "color": "#EF553B",
            "pattern": {
             "shape": ""
            }
           },
           "name": "Nicaragua",
           "offsetgroup": "Nicaragua",
           "orientation": "v",
           "showlegend": true,
           "textposition": "auto",
           "type": "bar",
           "x": [
            "Nicaragua"
           ],
           "xaxis": "x",
           "y": [
            1.8
           ],
           "yaxis": "y"
          },
          {
           "alignmentgroup": "True",
           "hovertemplate": "Country=%{x}<br>Year=2021<br>Percentage of Documents=%{y}<extra></extra>",
           "legendgroup": "Niger",
           "marker": {
            "color": "#00cc96",
            "pattern": {
             "shape": ""
            }
           },
           "name": "Niger",
           "offsetgroup": "Niger",
           "orientation": "v",
           "showlegend": true,
           "textposition": "auto",
           "type": "bar",
           "x": [
            "Niger"
           ],
           "xaxis": "x",
           "y": [
            1.3
           ],
           "yaxis": "y"
          },
          {
           "alignmentgroup": "True",
           "hovertemplate": "Country=%{x}<br>Year=2021<br>Percentage of Documents=%{y}<extra></extra>",
           "legendgroup": "Nigeria",
           "marker": {
            "color": "#ab63fa",
            "pattern": {
             "shape": ""
            }
           },
           "name": "Nigeria",
           "offsetgroup": "Nigeria",
           "orientation": "v",
           "showlegend": true,
           "textposition": "auto",
           "type": "bar",
           "x": [
            "Nigeria"
           ],
           "xaxis": "x",
           "y": [
            3.1
           ],
           "yaxis": "y"
          },
          {
           "alignmentgroup": "True",
           "hovertemplate": "Country=%{x}<br>Year=2021<br>Percentage of Documents=%{y}<extra></extra>",
           "legendgroup": "North Macedonia",
           "marker": {
            "color": "#FFA15A",
            "pattern": {
             "shape": ""
            }
           },
           "name": "North Macedonia",
           "offsetgroup": "North Macedonia",
           "orientation": "v",
           "showlegend": true,
           "textposition": "auto",
           "type": "bar",
           "x": [
            "North Macedonia"
           ],
           "xaxis": "x",
           "y": [
            0.4
           ],
           "yaxis": "y"
          },
          {
           "alignmentgroup": "True",
           "hovertemplate": "Country=%{x}<br>Year=2021<br>Percentage of Documents=%{y}<extra></extra>",
           "legendgroup": "Pakistan",
           "marker": {
            "color": "#FF6692",
            "pattern": {
             "shape": ""
            }
           },
           "name": "Pakistan",
           "offsetgroup": "Pakistan",
           "orientation": "v",
           "showlegend": true,
           "textposition": "auto",
           "type": "bar",
           "x": [
            "Pakistan"
           ],
           "xaxis": "x",
           "y": [
            1.3
           ],
           "yaxis": "y"
          },
          {
           "alignmentgroup": "True",
           "hovertemplate": "Country=%{x}<br>Year=2021<br>Percentage of Documents=%{y}<extra></extra>",
           "legendgroup": "Papua New Guinea",
           "marker": {
            "color": "#B6E880",
            "pattern": {
             "shape": ""
            }
           },
           "name": "Papua New Guinea",
           "offsetgroup": "Papua New Guinea",
           "orientation": "v",
           "showlegend": true,
           "textposition": "auto",
           "type": "bar",
           "x": [
            "Papua New Guinea"
           ],
           "xaxis": "x",
           "y": [
            0.9
           ],
           "yaxis": "y"
          },
          {
           "alignmentgroup": "True",
           "hovertemplate": "Country=%{x}<br>Year=2021<br>Percentage of Documents=%{y}<extra></extra>",
           "legendgroup": "Paraguay",
           "marker": {
            "color": "#FF97FF",
            "pattern": {
             "shape": ""
            }
           },
           "name": "Paraguay",
           "offsetgroup": "Paraguay",
           "orientation": "v",
           "showlegend": true,
           "textposition": "auto",
           "type": "bar",
           "x": [
            "Paraguay"
           ],
           "xaxis": "x",
           "y": [
            0.4
           ],
           "yaxis": "y"
          },
          {
           "alignmentgroup": "True",
           "hovertemplate": "Country=%{x}<br>Year=2021<br>Percentage of Documents=%{y}<extra></extra>",
           "legendgroup": "Peru",
           "marker": {
            "color": "#FECB52",
            "pattern": {
             "shape": ""
            }
           },
           "name": "Peru",
           "offsetgroup": "Peru",
           "orientation": "v",
           "showlegend": true,
           "textposition": "auto",
           "type": "bar",
           "x": [
            "Peru"
           ],
           "xaxis": "x",
           "y": [
            1.3
           ],
           "yaxis": "y"
          },
          {
           "alignmentgroup": "True",
           "hovertemplate": "Country=%{x}<br>Year=2021<br>Percentage of Documents=%{y}<extra></extra>",
           "legendgroup": "Philippines",
           "marker": {
            "color": "#636efa",
            "pattern": {
             "shape": ""
            }
           },
           "name": "Philippines",
           "offsetgroup": "Philippines",
           "orientation": "v",
           "showlegend": true,
           "textposition": "auto",
           "type": "bar",
           "x": [
            "Philippines"
           ],
           "xaxis": "x",
           "y": [
            1.8
           ],
           "yaxis": "y"
          },
          {
           "alignmentgroup": "True",
           "hovertemplate": "Country=%{x}<br>Year=2021<br>Percentage of Documents=%{y}<extra></extra>",
           "legendgroup": "Russian Federation",
           "marker": {
            "color": "#EF553B",
            "pattern": {
             "shape": ""
            }
           },
           "name": "Russian Federation",
           "offsetgroup": "Russian Federation",
           "orientation": "v",
           "showlegend": true,
           "textposition": "auto",
           "type": "bar",
           "x": [
            "Russian Federation"
           ],
           "xaxis": "x",
           "y": [
            0.9
           ],
           "yaxis": "y"
          },
          {
           "alignmentgroup": "True",
           "hovertemplate": "Country=%{x}<br>Year=2021<br>Percentage of Documents=%{y}<extra></extra>",
           "legendgroup": "Rwanda",
           "marker": {
            "color": "#00cc96",
            "pattern": {
             "shape": ""
            }
           },
           "name": "Rwanda",
           "offsetgroup": "Rwanda",
           "orientation": "v",
           "showlegend": true,
           "textposition": "auto",
           "type": "bar",
           "x": [
            "Rwanda"
           ],
           "xaxis": "x",
           "y": [
            0.4
           ],
           "yaxis": "y"
          },
          {
           "alignmentgroup": "True",
           "hovertemplate": "Country=%{x}<br>Year=2021<br>Percentage of Documents=%{y}<extra></extra>",
           "legendgroup": "Samoa",
           "marker": {
            "color": "#ab63fa",
            "pattern": {
             "shape": ""
            }
           },
           "name": "Samoa",
           "offsetgroup": "Samoa",
           "orientation": "v",
           "showlegend": true,
           "textposition": "auto",
           "type": "bar",
           "x": [
            "Samoa"
           ],
           "xaxis": "x",
           "y": [
            0.9
           ],
           "yaxis": "y"
          },
          {
           "alignmentgroup": "True",
           "hovertemplate": "Country=%{x}<br>Year=2021<br>Percentage of Documents=%{y}<extra></extra>",
           "legendgroup": "Senegal",
           "marker": {
            "color": "#FFA15A",
            "pattern": {
             "shape": ""
            }
           },
           "name": "Senegal",
           "offsetgroup": "Senegal",
           "orientation": "v",
           "showlegend": true,
           "textposition": "auto",
           "type": "bar",
           "x": [
            "Senegal"
           ],
           "xaxis": "x",
           "y": [
            0.9
           ],
           "yaxis": "y"
          },
          {
           "alignmentgroup": "True",
           "hovertemplate": "Country=%{x}<br>Year=2021<br>Percentage of Documents=%{y}<extra></extra>",
           "legendgroup": "Sierra Leone",
           "marker": {
            "color": "#19d3f3",
            "pattern": {
             "shape": ""
            }
           },
           "name": "Sierra Leone",
           "offsetgroup": "Sierra Leone",
           "orientation": "v",
           "showlegend": true,
           "textposition": "auto",
           "type": "bar",
           "x": [
            "Sierra Leone"
           ],
           "xaxis": "x",
           "y": [
            0.4
           ],
           "yaxis": "y"
          },
          {
           "alignmentgroup": "True",
           "hovertemplate": "Country=%{x}<br>Year=2021<br>Percentage of Documents=%{y}<extra></extra>",
           "legendgroup": "Solomon Islands",
           "marker": {
            "color": "#FF6692",
            "pattern": {
             "shape": ""
            }
           },
           "name": "Solomon Islands",
           "offsetgroup": "Solomon Islands",
           "orientation": "v",
           "showlegend": true,
           "textposition": "auto",
           "type": "bar",
           "x": [
            "Solomon Islands"
           ],
           "xaxis": "x",
           "y": [
            0.4
           ],
           "yaxis": "y"
          },
          {
           "alignmentgroup": "True",
           "hovertemplate": "Country=%{x}<br>Year=2021<br>Percentage of Documents=%{y}<extra></extra>",
           "legendgroup": "South Sudan",
           "marker": {
            "color": "#B6E880",
            "pattern": {
             "shape": ""
            }
           },
           "name": "South Sudan",
           "offsetgroup": "South Sudan",
           "orientation": "v",
           "showlegend": true,
           "textposition": "auto",
           "type": "bar",
           "x": [
            "South Sudan"
           ],
           "xaxis": "x",
           "y": [
            0.4
           ],
           "yaxis": "y"
          },
          {
           "alignmentgroup": "True",
           "hovertemplate": "Country=%{x}<br>Year=2021<br>Percentage of Documents=%{y}<extra></extra>",
           "legendgroup": "Tajikistan",
           "marker": {
            "color": "#FECB52",
            "pattern": {
             "shape": ""
            }
           },
           "name": "Tajikistan",
           "offsetgroup": "Tajikistan",
           "orientation": "v",
           "showlegend": true,
           "textposition": "auto",
           "type": "bar",
           "x": [
            "Tajikistan"
           ],
           "xaxis": "x",
           "y": [
            1.8
           ],
           "yaxis": "y"
          },
          {
           "alignmentgroup": "True",
           "hovertemplate": "Country=%{x}<br>Year=2021<br>Percentage of Documents=%{y}<extra></extra>",
           "legendgroup": "Tanzania",
           "marker": {
            "color": "#636efa",
            "pattern": {
             "shape": ""
            }
           },
           "name": "Tanzania",
           "offsetgroup": "Tanzania",
           "orientation": "v",
           "showlegend": true,
           "textposition": "auto",
           "type": "bar",
           "x": [
            "Tanzania"
           ],
           "xaxis": "x",
           "y": [
            0.9
           ],
           "yaxis": "y"
          },
          {
           "alignmentgroup": "True",
           "hovertemplate": "Country=%{x}<br>Year=2021<br>Percentage of Documents=%{y}<extra></extra>",
           "legendgroup": "Tunisia",
           "marker": {
            "color": "#00cc96",
            "pattern": {
             "shape": ""
            }
           },
           "name": "Tunisia",
           "offsetgroup": "Tunisia",
           "orientation": "v",
           "showlegend": true,
           "textposition": "auto",
           "type": "bar",
           "x": [
            "Tunisia"
           ],
           "xaxis": "x",
           "y": [
            0.4
           ],
           "yaxis": "y"
          },
          {
           "alignmentgroup": "True",
           "hovertemplate": "Country=%{x}<br>Year=2021<br>Percentage of Documents=%{y}<extra></extra>",
           "legendgroup": "Uganda",
           "marker": {
            "color": "#ab63fa",
            "pattern": {
             "shape": ""
            }
           },
           "name": "Uganda",
           "offsetgroup": "Uganda",
           "orientation": "v",
           "showlegend": true,
           "textposition": "auto",
           "type": "bar",
           "x": [
            "Uganda"
           ],
           "xaxis": "x",
           "y": [
            1.3
           ],
           "yaxis": "y"
          },
          {
           "alignmentgroup": "True",
           "hovertemplate": "Country=%{x}<br>Year=2021<br>Percentage of Documents=%{y}<extra></extra>",
           "legendgroup": "Vietnam",
           "marker": {
            "color": "#FFA15A",
            "pattern": {
             "shape": ""
            }
           },
           "name": "Vietnam",
           "offsetgroup": "Vietnam",
           "orientation": "v",
           "showlegend": true,
           "textposition": "auto",
           "type": "bar",
           "x": [
            "Vietnam"
           ],
           "xaxis": "x",
           "y": [
            2.7
           ],
           "yaxis": "y"
          },
          {
           "alignmentgroup": "True",
           "hovertemplate": "Country=%{x}<br>Year=2021<br>Percentage of Documents=%{y}<extra></extra>",
           "legendgroup": "West Bank and Gaza",
           "marker": {
            "color": "#19d3f3",
            "pattern": {
             "shape": ""
            }
           },
           "name": "West Bank and Gaza",
           "offsetgroup": "West Bank and Gaza",
           "orientation": "v",
           "showlegend": true,
           "textposition": "auto",
           "type": "bar",
           "x": [
            "West Bank and Gaza"
           ],
           "xaxis": "x",
           "y": [
            0.4
           ],
           "yaxis": "y"
          },
          {
           "alignmentgroup": "True",
           "hovertemplate": "Country=%{x}<br>Year=2021<br>Percentage of Documents=%{y}<extra></extra>",
           "legendgroup": "Western Africa",
           "marker": {
            "color": "#FF6692",
            "pattern": {
             "shape": ""
            }
           },
           "name": "Western Africa",
           "offsetgroup": "Western Africa",
           "orientation": "v",
           "showlegend": true,
           "textposition": "auto",
           "type": "bar",
           "x": [
            "Western Africa"
           ],
           "xaxis": "x",
           "y": [
            0.4
           ],
           "yaxis": "y"
          },
          {
           "alignmentgroup": "True",
           "hovertemplate": "Country=%{x}<br>Year=2021<br>Percentage of Documents=%{y}<extra></extra>",
           "legendgroup": "Western Balkans",
           "marker": {
            "color": "#B6E880",
            "pattern": {
             "shape": ""
            }
           },
           "name": "Western Balkans",
           "offsetgroup": "Western Balkans",
           "orientation": "v",
           "showlegend": true,
           "textposition": "auto",
           "type": "bar",
           "x": [
            "Western Balkans"
           ],
           "xaxis": "x",
           "y": [
            0.4
           ],
           "yaxis": "y"
          },
          {
           "alignmentgroup": "True",
           "hovertemplate": "Country=%{x}<br>Year=2021<br>Percentage of Documents=%{y}<extra></extra>",
           "legendgroup": "Belize",
           "marker": {
            "color": "#EF553B",
            "pattern": {
             "shape": ""
            }
           },
           "name": "Belize",
           "offsetgroup": "Belize",
           "orientation": "v",
           "showlegend": true,
           "textposition": "auto",
           "type": "bar",
           "x": [
            "Belize"
           ],
           "xaxis": "x",
           "y": [
            0.4
           ],
           "yaxis": "y"
          },
          {
           "alignmentgroup": "True",
           "hovertemplate": "Country=%{x}<br>Year=2021<br>Percentage of Documents=%{y}<extra></extra>",
           "legendgroup": "Bolivia",
           "marker": {
            "color": "#00cc96",
            "pattern": {
             "shape": ""
            }
           },
           "name": "Bolivia",
           "offsetgroup": "Bolivia",
           "orientation": "v",
           "showlegend": true,
           "textposition": "auto",
           "type": "bar",
           "x": [
            "Bolivia"
           ],
           "xaxis": "x",
           "y": [
            0.4
           ],
           "yaxis": "y"
          },
          {
           "alignmentgroup": "True",
           "hovertemplate": "Country=%{x}<br>Year=2021<br>Percentage of Documents=%{y}<extra></extra>",
           "legendgroup": "Central Asia",
           "marker": {
            "color": "#FFA15A",
            "pattern": {
             "shape": ""
            }
           },
           "name": "Central Asia",
           "offsetgroup": "Central Asia",
           "orientation": "v",
           "showlegend": true,
           "textposition": "auto",
           "type": "bar",
           "x": [
            "Central Asia"
           ],
           "xaxis": "x",
           "y": [
            0.4
           ],
           "yaxis": "y"
          },
          {
           "alignmentgroup": "True",
           "hovertemplate": "Country=%{x}<br>Year=2021<br>Percentage of Documents=%{y}<extra></extra>",
           "legendgroup": "Croatia",
           "marker": {
            "color": "#19d3f3",
            "pattern": {
             "shape": ""
            }
           },
           "name": "Croatia",
           "offsetgroup": "Croatia",
           "orientation": "v",
           "showlegend": true,
           "textposition": "auto",
           "type": "bar",
           "x": [
            "Croatia"
           ],
           "xaxis": "x",
           "y": [
            0.4
           ],
           "yaxis": "y"
          },
          {
           "alignmentgroup": "True",
           "hovertemplate": "Country=%{x}<br>Year=2021<br>Percentage of Documents=%{y}<extra></extra>",
           "legendgroup": "Gabon",
           "marker": {
            "color": "#FF6692",
            "pattern": {
             "shape": ""
            }
           },
           "name": "Gabon",
           "offsetgroup": "Gabon",
           "orientation": "v",
           "showlegend": true,
           "textposition": "auto",
           "type": "bar",
           "x": [
            "Gabon"
           ],
           "xaxis": "x",
           "y": [
            0.4
           ],
           "yaxis": "y"
          },
          {
           "alignmentgroup": "True",
           "hovertemplate": "Country=%{x}<br>Year=2021<br>Percentage of Documents=%{y}<extra></extra>",
           "legendgroup": "Georgia",
           "marker": {
            "color": "#B6E880",
            "pattern": {
             "shape": ""
            }
           },
           "name": "Georgia",
           "offsetgroup": "Georgia",
           "orientation": "v",
           "showlegend": true,
           "textposition": "auto",
           "type": "bar",
           "x": [
            "Georgia"
           ],
           "xaxis": "x",
           "y": [
            0.9
           ],
           "yaxis": "y"
          },
          {
           "alignmentgroup": "True",
           "hovertemplate": "Country=%{x}<br>Year=2021<br>Percentage of Documents=%{y}<extra></extra>",
           "legendgroup": "Lesotho",
           "marker": {
            "color": "#FECB52",
            "pattern": {
             "shape": ""
            }
           },
           "name": "Lesotho",
           "offsetgroup": "Lesotho",
           "orientation": "v",
           "showlegend": true,
           "textposition": "auto",
           "type": "bar",
           "x": [
            "Lesotho"
           ],
           "xaxis": "x",
           "y": [
            0.4
           ],
           "yaxis": "y"
          },
          {
           "alignmentgroup": "True",
           "hovertemplate": "Country=%{x}<br>Year=2021<br>Percentage of Documents=%{y}<extra></extra>",
           "legendgroup": "Liberia",
           "marker": {
            "color": "#636efa",
            "pattern": {
             "shape": ""
            }
           },
           "name": "Liberia",
           "offsetgroup": "Liberia",
           "orientation": "v",
           "showlegend": true,
           "textposition": "auto",
           "type": "bar",
           "x": [
            "Liberia"
           ],
           "xaxis": "x",
           "y": [
            0.4
           ],
           "yaxis": "y"
          },
          {
           "alignmentgroup": "True",
           "hovertemplate": "Country=%{x}<br>Year=2021<br>Percentage of Documents=%{y}<extra></extra>",
           "legendgroup": "Mali",
           "marker": {
            "color": "#EF553B",
            "pattern": {
             "shape": ""
            }
           },
           "name": "Mali",
           "offsetgroup": "Mali",
           "orientation": "v",
           "showlegend": true,
           "textposition": "auto",
           "type": "bar",
           "x": [
            "Mali"
           ],
           "xaxis": "x",
           "y": [
            0.4
           ],
           "yaxis": "y"
          },
          {
           "alignmentgroup": "True",
           "hovertemplate": "Country=%{x}<br>Year=2021<br>Percentage of Documents=%{y}<extra></extra>",
           "legendgroup": "Serbia",
           "marker": {
            "color": "#FF6692",
            "pattern": {
             "shape": ""
            }
           },
           "name": "Serbia",
           "offsetgroup": "Serbia",
           "orientation": "v",
           "showlegend": true,
           "textposition": "auto",
           "type": "bar",
           "x": [
            "Serbia"
           ],
           "xaxis": "x",
           "y": [
            1.8
           ],
           "yaxis": "y"
          },
          {
           "alignmentgroup": "True",
           "hovertemplate": "Country=%{x}<br>Year=2021<br>Percentage of Documents=%{y}<extra></extra>",
           "legendgroup": "Turkey",
           "marker": {
            "color": "#FECB52",
            "pattern": {
             "shape": ""
            }
           },
           "name": "Turkey",
           "offsetgroup": "Turkey",
           "orientation": "v",
           "showlegend": true,
           "textposition": "auto",
           "type": "bar",
           "x": [
            "Turkey"
           ],
           "xaxis": "x",
           "y": [
            0.4
           ],
           "yaxis": "y"
          },
          {
           "alignmentgroup": "True",
           "hovertemplate": "Country=%{x}<br>Year=2021<br>Percentage of Documents=%{y}<extra></extra>",
           "legendgroup": "Uruguay",
           "marker": {
            "color": "#636efa",
            "pattern": {
             "shape": ""
            }
           },
           "name": "Uruguay",
           "offsetgroup": "Uruguay",
           "orientation": "v",
           "showlegend": true,
           "textposition": "auto",
           "type": "bar",
           "x": [
            "Uruguay"
           ],
           "xaxis": "x",
           "y": [
            0.9
           ],
           "yaxis": "y"
          },
          {
           "alignmentgroup": "True",
           "hovertemplate": "Country=%{x}<br>Year=2021<br>Percentage of Documents=%{y}<extra></extra>",
           "legendgroup": "Uzbekistan",
           "marker": {
            "color": "#EF553B",
            "pattern": {
             "shape": ""
            }
           },
           "name": "Uzbekistan",
           "offsetgroup": "Uzbekistan",
           "orientation": "v",
           "showlegend": true,
           "textposition": "auto",
           "type": "bar",
           "x": [
            "Uzbekistan"
           ],
           "xaxis": "x",
           "y": [
            1.3
           ],
           "yaxis": "y"
          },
          {
           "alignmentgroup": "True",
           "hovertemplate": "Country=%{x}<br>Year=2021<br>Percentage of Documents=%{y}<extra></extra>",
           "legendgroup": "Vanuatu",
           "marker": {
            "color": "#00cc96",
            "pattern": {
             "shape": ""
            }
           },
           "name": "Vanuatu",
           "offsetgroup": "Vanuatu",
           "orientation": "v",
           "showlegend": true,
           "textposition": "auto",
           "type": "bar",
           "x": [
            "Vanuatu"
           ],
           "xaxis": "x",
           "y": [
            0.4
           ],
           "yaxis": "y"
          },
          {
           "alignmentgroup": "True",
           "hovertemplate": "Country=%{x}<br>Year=2021<br>Percentage of Documents=%{y}<extra></extra>",
           "legendgroup": "Zimbabwe",
           "marker": {
            "color": "#FFA15A",
            "pattern": {
             "shape": ""
            }
           },
           "name": "Zimbabwe",
           "offsetgroup": "Zimbabwe",
           "orientation": "v",
           "showlegend": true,
           "textposition": "auto",
           "type": "bar",
           "x": [
            "Zimbabwe"
           ],
           "xaxis": "x",
           "y": [
            0.9
           ],
           "yaxis": "y"
          },
          {
           "alignmentgroup": "True",
           "hovertemplate": "Country=%{x}<br>Year=2021<br>Percentage of Documents=%{y}<extra></extra>",
           "legendgroup": "Central African Republic",
           "marker": {
            "color": "#19d3f3",
            "pattern": {
             "shape": ""
            }
           },
           "name": "Central African Republic",
           "offsetgroup": "Central African Republic",
           "orientation": "v",
           "showlegend": true,
           "textposition": "auto",
           "type": "bar",
           "x": [
            "Central African Republic"
           ],
           "xaxis": "x",
           "y": [
            0.9
           ],
           "yaxis": "y"
          },
          {
           "alignmentgroup": "True",
           "hovertemplate": "Country=%{x}<br>Year=2021<br>Percentage of Documents=%{y}<extra></extra>",
           "legendgroup": "Guatemala",
           "marker": {
            "color": "#FF6692",
            "pattern": {
             "shape": ""
            }
           },
           "name": "Guatemala",
           "offsetgroup": "Guatemala",
           "orientation": "v",
           "showlegend": true,
           "textposition": "auto",
           "type": "bar",
           "x": [
            "Guatemala"
           ],
           "xaxis": "x",
           "y": [
            0.4
           ],
           "yaxis": "y"
          },
          {
           "alignmentgroup": "True",
           "hovertemplate": "Country=%{x}<br>Year=2021<br>Percentage of Documents=%{y}<extra></extra>",
           "legendgroup": "Harsha Project",
           "marker": {
            "color": "#B6E880",
            "pattern": {
             "shape": ""
            }
           },
           "name": "Harsha Project",
           "offsetgroup": "Harsha Project",
           "orientation": "v",
           "showlegend": true,
           "textposition": "auto",
           "type": "bar",
           "x": [
            "Harsha Project"
           ],
           "xaxis": "x",
           "y": [
            1.3
           ],
           "yaxis": "y"
          },
          {
           "alignmentgroup": "True",
           "hovertemplate": "Country=%{x}<br>Year=2021<br>Percentage of Documents=%{y}<extra></extra>",
           "legendgroup": "Mongolia",
           "marker": {
            "color": "#FF97FF",
            "pattern": {
             "shape": ""
            }
           },
           "name": "Mongolia",
           "offsetgroup": "Mongolia",
           "orientation": "v",
           "showlegend": true,
           "textposition": "auto",
           "type": "bar",
           "x": [
            "Mongolia"
           ],
           "xaxis": "x",
           "y": [
            0.4
           ],
           "yaxis": "y"
          },
          {
           "alignmentgroup": "True",
           "hovertemplate": "Country=%{x}<br>Year=2021<br>Percentage of Documents=%{y}<extra></extra>",
           "legendgroup": "Myanmar",
           "marker": {
            "color": "#FECB52",
            "pattern": {
             "shape": ""
            }
           },
           "name": "Myanmar",
           "offsetgroup": "Myanmar",
           "orientation": "v",
           "showlegend": true,
           "textposition": "auto",
           "type": "bar",
           "x": [
            "Myanmar"
           ],
           "xaxis": "x",
           "y": [
            0.4
           ],
           "yaxis": "y"
          },
          {
           "alignmentgroup": "True",
           "hovertemplate": "Country=%{x}<br>Year=2021<br>Percentage of Documents=%{y}<extra></extra>",
           "legendgroup": "Pacific Islands",
           "marker": {
            "color": "#636efa",
            "pattern": {
             "shape": ""
            }
           },
           "name": "Pacific Islands",
           "offsetgroup": "Pacific Islands",
           "orientation": "v",
           "showlegend": true,
           "textposition": "auto",
           "type": "bar",
           "x": [
            "Pacific Islands"
           ],
           "xaxis": "x",
           "y": [
            0.4
           ],
           "yaxis": "y"
          },
          {
           "alignmentgroup": "True",
           "hovertemplate": "Country=%{x}<br>Year=2021<br>Percentage of Documents=%{y}<extra></extra>",
           "legendgroup": "Panama",
           "marker": {
            "color": "#EF553B",
            "pattern": {
             "shape": ""
            }
           },
           "name": "Panama",
           "offsetgroup": "Panama",
           "orientation": "v",
           "showlegend": true,
           "textposition": "auto",
           "type": "bar",
           "x": [
            "Panama"
           ],
           "xaxis": "x",
           "y": [
            1.3
           ],
           "yaxis": "y"
          },
          {
           "alignmentgroup": "True",
           "hovertemplate": "Country=%{x}<br>Year=2021<br>Percentage of Documents=%{y}<extra></extra>",
           "legendgroup": "Poland",
           "marker": {
            "color": "#00cc96",
            "pattern": {
             "shape": ""
            }
           },
           "name": "Poland",
           "offsetgroup": "Poland",
           "orientation": "v",
           "showlegend": true,
           "textposition": "auto",
           "type": "bar",
           "x": [
            "Poland"
           ],
           "xaxis": "x",
           "y": [
            0.4
           ],
           "yaxis": "y"
          },
          {
           "alignmentgroup": "True",
           "hovertemplate": "Country=%{x}<br>Year=2021<br>Percentage of Documents=%{y}<extra></extra>",
           "legendgroup": "Seychelles",
           "marker": {
            "color": "#ab63fa",
            "pattern": {
             "shape": ""
            }
           },
           "name": "Seychelles",
           "offsetgroup": "Seychelles",
           "orientation": "v",
           "showlegend": true,
           "textposition": "auto",
           "type": "bar",
           "x": [
            "Seychelles"
           ],
           "xaxis": "x",
           "y": [
            0.4
           ],
           "yaxis": "y"
          },
          {
           "alignmentgroup": "True",
           "hovertemplate": "Country=%{x}<br>Year=2021<br>Percentage of Documents=%{y}<extra></extra>",
           "legendgroup": "Somalia",
           "marker": {
            "color": "#FFA15A",
            "pattern": {
             "shape": ""
            }
           },
           "name": "Somalia",
           "offsetgroup": "Somalia",
           "orientation": "v",
           "showlegend": true,
           "textposition": "auto",
           "type": "bar",
           "x": [
            "Somalia"
           ],
           "xaxis": "x",
           "y": [
            1.3
           ],
           "yaxis": "y"
          },
          {
           "alignmentgroup": "True",
           "hovertemplate": "Country=%{x}<br>Year=2021<br>Percentage of Documents=%{y}<extra></extra>",
           "legendgroup": "South Africa",
           "marker": {
            "color": "#19d3f3",
            "pattern": {
             "shape": ""
            }
           },
           "name": "South Africa",
           "offsetgroup": "South Africa",
           "orientation": "v",
           "showlegend": true,
           "textposition": "auto",
           "type": "bar",
           "x": [
            "South Africa"
           ],
           "xaxis": "x",
           "y": [
            0.4
           ],
           "yaxis": "y"
          },
          {
           "alignmentgroup": "True",
           "hovertemplate": "Country=%{x}<br>Year=2021<br>Percentage of Documents=%{y}<extra></extra>",
           "legendgroup": "Togo",
           "marker": {
            "color": "#FF6692",
            "pattern": {
             "shape": ""
            }
           },
           "name": "Togo",
           "offsetgroup": "Togo",
           "orientation": "v",
           "showlegend": true,
           "textposition": "auto",
           "type": "bar",
           "x": [
            "Togo"
           ],
           "xaxis": "x",
           "y": [
            1.8
           ],
           "yaxis": "y"
          }
         ],
         "layout": {
          "title": {
           "text": "Percentage of Documents by Country - Year: 2021"
          },
          "xaxis": {
           "categoryarray": [
            "Afghanistan",
            "Africa",
            "Albania",
            "Angola",
            "Argentina",
            "Armenia",
            "Azerbaijan",
            "Bangladesh",
            "Banking Sector Strengthening Project",
            "Barbados",
            "Belarus",
            "Belize",
            "Benin",
            "Bhutan",
            "Bolivia",
            "Bosnia and Herzegovina",
            "Botswana",
            "Brazil",
            "Bulgaria",
            "Burkina Faso",
            "Burundi",
            "Cabo Verde",
            "Cambodia",
            "Cameroon",
            "Caribbean",
            "Central Africa",
            "Central African Republic",
            "Central Asia",
            "Chad",
            "Chile",
            "China",
            "Colombia",
            "Comoros",
            "Congo, Democratic Republic of",
            "Congo, Republic of",
            "Costa Rica",
            "Cote d'Ivoire",
            "Croatia",
            "Djibouti",
            "Dominica",
            "Dominican Republic",
            "Eastern Africa",
            "Eastern and Southern Africa",
            "Ecuador",
            "Egypt, Arab Republic of",
            "El Salvador",
            "Eswatini",
            "Ethiopia",
            "Europe and Central Asia",
            "Fiji",
            "Fiscal Sustainability and Climate Resilience DPO",
            "Gabon",
            "Gambia, The",
            "Georgia",
            "Ghana",
            "Grenada",
            "Guatemala",
            "Guinea",
            "Guyana",
            "Haiti",
            "Harsha Project",
            "Hebei Clean Heating Project (P148599)",
            "Honduras",
            "India",
            "Indonesia",
            "Iraq",
            "Jamaica",
            "Jordan",
            "Kazakhstan",
            "Kenya",
            "Kiribati",
            "Kosovo",
            "Kyrgyz Republic",
            "Lake Victoria Phase II APL 1 (FY09) (P100406) :",
            "Lao People's Democratic Republic",
            "Latin America",
            "Lebanon",
            "Lesotho",
            "Liberia",
            "Madagascar",
            "Malawi",
            "Maldives",
            "Mali",
            "Marshall Islands",
            "Mauritania",
            "Mexico",
            "Micronesia, Federated States of",
            "Middle East and North Africa",
            "Moldova",
            "Mongolia",
            "Montenegro",
            "Morocco",
            "Mozambique",
            "Myanmar",
            "National Agricultural Innovation (P131013)",
            "Nepal",
            "Nicaragua",
            "Niger",
            "Nigeria",
            "North Macedonia",
            "OECS Countries",
            "PNG Productive Partnerships in Agriculture",
            "Pacific Islands",
            "Pakistan",
            "Panama",
            "Papua New Guinea",
            "Paraguay",
            "Peru",
            "Philippines",
            "Poland",
            "Revenue Mobilization Program for Results: VAT Improvement Program (VIP) (P129770)",
            "Romania",
            "Russian Federation",
            "Rwanda",
            "Samoa",
            "Sao Tome and Principe",
            "Senegal",
            "Serbia",
            "Seychelles",
            "Sierra Leone",
            "Solomon Islands",
            "Somalia",
            "South Africa",
            "South Sudan",
            "Southern Africa",
            "Sri Lanka",
            "St Maarten",
            "St. Lucia",
            "St. Vincent and the Grenadines",
            "Sudan",
            "Tajikistan",
            "Tanzania",
            "Thailand",
            "Timor",
            "Togo",
            "Tonga",
            "Tunisia",
            "Turkey",
            "Turkiye",
            "Tuvalu",
            "Uganda",
            "Ukraine",
            "Uruguay",
            "Uzbekistan",
            "Vanuatu",
            "Vietnam",
            "West Africa Regional Communications Infrastructure Project",
            "West Bank and Gaza",
            "Western Africa",
            "Western Balkans",
            "Western and Central Africa",
            "World",
            "Yemen, Republic of",
            "Zambia",
            "Zimbabwe"
           ],
           "categoryorder": "array"
          },
          "yaxis": {
           "range": [
            0,
            11.990000000000002
           ]
          }
         },
         "name": "2021"
        },
        {
         "data": [
          {
           "alignmentgroup": "True",
           "hovertemplate": "Country=%{x}<br>Year=2022<br>Percentage of Documents=%{y}<extra></extra>",
           "legendgroup": "Afghanistan",
           "marker": {
            "color": "#636efa",
            "pattern": {
             "shape": ""
            }
           },
           "name": "Afghanistan",
           "offsetgroup": "Afghanistan",
           "orientation": "v",
           "showlegend": true,
           "textposition": "auto",
           "type": "bar",
           "x": [
            "Afghanistan"
           ],
           "xaxis": "x",
           "y": [
            5.7
           ],
           "yaxis": "y"
          },
          {
           "alignmentgroup": "True",
           "hovertemplate": "Country=%{x}<br>Year=2022<br>Percentage of Documents=%{y}<extra></extra>",
           "legendgroup": "Albania",
           "marker": {
            "color": "#00cc96",
            "pattern": {
             "shape": ""
            }
           },
           "name": "Albania",
           "offsetgroup": "Albania",
           "orientation": "v",
           "showlegend": true,
           "textposition": "auto",
           "type": "bar",
           "x": [
            "Albania"
           ],
           "xaxis": "x",
           "y": [
            1.2
           ],
           "yaxis": "y"
          },
          {
           "alignmentgroup": "True",
           "hovertemplate": "Country=%{x}<br>Year=2022<br>Percentage of Documents=%{y}<extra></extra>",
           "legendgroup": "Argentina",
           "marker": {
            "color": "#FFA15A",
            "pattern": {
             "shape": ""
            }
           },
           "name": "Argentina",
           "offsetgroup": "Argentina",
           "orientation": "v",
           "showlegend": true,
           "textposition": "auto",
           "type": "bar",
           "x": [
            "Argentina"
           ],
           "xaxis": "x",
           "y": [
            0.8
           ],
           "yaxis": "y"
          },
          {
           "alignmentgroup": "True",
           "hovertemplate": "Country=%{x}<br>Year=2022<br>Percentage of Documents=%{y}<extra></extra>",
           "legendgroup": "Armenia",
           "marker": {
            "color": "#19d3f3",
            "pattern": {
             "shape": ""
            }
           },
           "name": "Armenia",
           "offsetgroup": "Armenia",
           "orientation": "v",
           "showlegend": true,
           "textposition": "auto",
           "type": "bar",
           "x": [
            "Armenia"
           ],
           "xaxis": "x",
           "y": [
            1.2
           ],
           "yaxis": "y"
          },
          {
           "alignmentgroup": "True",
           "hovertemplate": "Country=%{x}<br>Year=2022<br>Percentage of Documents=%{y}<extra></extra>",
           "legendgroup": "Azerbaijan",
           "marker": {
            "color": "#FF6692",
            "pattern": {
             "shape": ""
            }
           },
           "name": "Azerbaijan",
           "offsetgroup": "Azerbaijan",
           "orientation": "v",
           "showlegend": true,
           "textposition": "auto",
           "type": "bar",
           "x": [
            "Azerbaijan"
           ],
           "xaxis": "x",
           "y": [
            0.4
           ],
           "yaxis": "y"
          },
          {
           "alignmentgroup": "True",
           "hovertemplate": "Country=%{x}<br>Year=2022<br>Percentage of Documents=%{y}<extra></extra>",
           "legendgroup": "Bangladesh",
           "marker": {
            "color": "#B6E880",
            "pattern": {
             "shape": ""
            }
           },
           "name": "Bangladesh",
           "offsetgroup": "Bangladesh",
           "orientation": "v",
           "showlegend": true,
           "textposition": "auto",
           "type": "bar",
           "x": [
            "Bangladesh"
           ],
           "xaxis": "x",
           "y": [
            1.6
           ],
           "yaxis": "y"
          },
          {
           "alignmentgroup": "True",
           "hovertemplate": "Country=%{x}<br>Year=2022<br>Percentage of Documents=%{y}<extra></extra>",
           "legendgroup": "Bosnia and Herzegovina",
           "marker": {
            "color": "#636efa",
            "pattern": {
             "shape": ""
            }
           },
           "name": "Bosnia and Herzegovina",
           "offsetgroup": "Bosnia and Herzegovina",
           "orientation": "v",
           "showlegend": true,
           "textposition": "auto",
           "type": "bar",
           "x": [
            "Bosnia and Herzegovina"
           ],
           "xaxis": "x",
           "y": [
            0.4
           ],
           "yaxis": "y"
          },
          {
           "alignmentgroup": "True",
           "hovertemplate": "Country=%{x}<br>Year=2022<br>Percentage of Documents=%{y}<extra></extra>",
           "legendgroup": "Brazil",
           "marker": {
            "color": "#EF553B",
            "pattern": {
             "shape": ""
            }
           },
           "name": "Brazil",
           "offsetgroup": "Brazil",
           "orientation": "v",
           "showlegend": true,
           "textposition": "auto",
           "type": "bar",
           "x": [
            "Brazil"
           ],
           "xaxis": "x",
           "y": [
            0.8
           ],
           "yaxis": "y"
          },
          {
           "alignmentgroup": "True",
           "hovertemplate": "Country=%{x}<br>Year=2022<br>Percentage of Documents=%{y}<extra></extra>",
           "legendgroup": "Burkina Faso",
           "marker": {
            "color": "#00cc96",
            "pattern": {
             "shape": ""
            }
           },
           "name": "Burkina Faso",
           "offsetgroup": "Burkina Faso",
           "orientation": "v",
           "showlegend": true,
           "textposition": "auto",
           "type": "bar",
           "x": [
            "Burkina Faso"
           ],
           "xaxis": "x",
           "y": [
            1.2
           ],
           "yaxis": "y"
          },
          {
           "alignmentgroup": "True",
           "hovertemplate": "Country=%{x}<br>Year=2022<br>Percentage of Documents=%{y}<extra></extra>",
           "legendgroup": "Cabo Verde",
           "marker": {
            "color": "#FFA15A",
            "pattern": {
             "shape": ""
            }
           },
           "name": "Cabo Verde",
           "offsetgroup": "Cabo Verde",
           "orientation": "v",
           "showlegend": true,
           "textposition": "auto",
           "type": "bar",
           "x": [
            "Cabo Verde"
           ],
           "xaxis": "x",
           "y": [
            0.4
           ],
           "yaxis": "y"
          },
          {
           "alignmentgroup": "True",
           "hovertemplate": "Country=%{x}<br>Year=2022<br>Percentage of Documents=%{y}<extra></extra>",
           "legendgroup": "Cameroon",
           "marker": {
            "color": "#19d3f3",
            "pattern": {
             "shape": ""
            }
           },
           "name": "Cameroon",
           "offsetgroup": "Cameroon",
           "orientation": "v",
           "showlegend": true,
           "textposition": "auto",
           "type": "bar",
           "x": [
            "Cameroon"
           ],
           "xaxis": "x",
           "y": [
            0.4
           ],
           "yaxis": "y"
          },
          {
           "alignmentgroup": "True",
           "hovertemplate": "Country=%{x}<br>Year=2022<br>Percentage of Documents=%{y}<extra></extra>",
           "legendgroup": "Chad",
           "marker": {
            "color": "#FF6692",
            "pattern": {
             "shape": ""
            }
           },
           "name": "Chad",
           "offsetgroup": "Chad",
           "orientation": "v",
           "showlegend": true,
           "textposition": "auto",
           "type": "bar",
           "x": [
            "Chad"
           ],
           "xaxis": "x",
           "y": [
            0.4
           ],
           "yaxis": "y"
          },
          {
           "alignmentgroup": "True",
           "hovertemplate": "Country=%{x}<br>Year=2022<br>Percentage of Documents=%{y}<extra></extra>",
           "legendgroup": "China",
           "marker": {
            "color": "#B6E880",
            "pattern": {
             "shape": ""
            }
           },
           "name": "China",
           "offsetgroup": "China",
           "orientation": "v",
           "showlegend": true,
           "textposition": "auto",
           "type": "bar",
           "x": [
            "China"
           ],
           "xaxis": "x",
           "y": [
            8.5
           ],
           "yaxis": "y"
          },
          {
           "alignmentgroup": "True",
           "hovertemplate": "Country=%{x}<br>Year=2022<br>Percentage of Documents=%{y}<extra></extra>",
           "legendgroup": "Colombia",
           "marker": {
            "color": "#FF97FF",
            "pattern": {
             "shape": ""
            }
           },
           "name": "Colombia",
           "offsetgroup": "Colombia",
           "orientation": "v",
           "showlegend": true,
           "textposition": "auto",
           "type": "bar",
           "x": [
            "Colombia"
           ],
           "xaxis": "x",
           "y": [
            1.2
           ],
           "yaxis": "y"
          },
          {
           "alignmentgroup": "True",
           "hovertemplate": "Country=%{x}<br>Year=2022<br>Percentage of Documents=%{y}<extra></extra>",
           "legendgroup": "Congo, Democratic Republic of",
           "marker": {
            "color": "#636efa",
            "pattern": {
             "shape": ""
            }
           },
           "name": "Congo, Democratic Republic of",
           "offsetgroup": "Congo, Democratic Republic of",
           "orientation": "v",
           "showlegend": true,
           "textposition": "auto",
           "type": "bar",
           "x": [
            "Congo, Democratic Republic of"
           ],
           "xaxis": "x",
           "y": [
            2
           ],
           "yaxis": "y"
          },
          {
           "alignmentgroup": "True",
           "hovertemplate": "Country=%{x}<br>Year=2022<br>Percentage of Documents=%{y}<extra></extra>",
           "legendgroup": "Congo, Republic of",
           "marker": {
            "color": "#EF553B",
            "pattern": {
             "shape": ""
            }
           },
           "name": "Congo, Republic of",
           "offsetgroup": "Congo, Republic of",
           "orientation": "v",
           "showlegend": true,
           "textposition": "auto",
           "type": "bar",
           "x": [
            "Congo, Republic of"
           ],
           "xaxis": "x",
           "y": [
            0.4
           ],
           "yaxis": "y"
          },
          {
           "alignmentgroup": "True",
           "hovertemplate": "Country=%{x}<br>Year=2022<br>Percentage of Documents=%{y}<extra></extra>",
           "legendgroup": "Cote d'Ivoire",
           "marker": {
            "color": "#ab63fa",
            "pattern": {
             "shape": ""
            }
           },
           "name": "Cote d'Ivoire",
           "offsetgroup": "Cote d'Ivoire",
           "orientation": "v",
           "showlegend": true,
           "textposition": "auto",
           "type": "bar",
           "x": [
            "Cote d'Ivoire"
           ],
           "xaxis": "x",
           "y": [
            1.2
           ],
           "yaxis": "y"
          },
          {
           "alignmentgroup": "True",
           "hovertemplate": "Country=%{x}<br>Year=2022<br>Percentage of Documents=%{y}<extra></extra>",
           "legendgroup": "Dominican Republic",
           "marker": {
            "color": "#19d3f3",
            "pattern": {
             "shape": ""
            }
           },
           "name": "Dominican Republic",
           "offsetgroup": "Dominican Republic",
           "orientation": "v",
           "showlegend": true,
           "textposition": "auto",
           "type": "bar",
           "x": [
            "Dominican Republic"
           ],
           "xaxis": "x",
           "y": [
            0.4
           ],
           "yaxis": "y"
          },
          {
           "alignmentgroup": "True",
           "hovertemplate": "Country=%{x}<br>Year=2022<br>Percentage of Documents=%{y}<extra></extra>",
           "legendgroup": "Eastern Africa",
           "marker": {
            "color": "#FF6692",
            "pattern": {
             "shape": ""
            }
           },
           "name": "Eastern Africa",
           "offsetgroup": "Eastern Africa",
           "orientation": "v",
           "showlegend": true,
           "textposition": "auto",
           "type": "bar",
           "x": [
            "Eastern Africa"
           ],
           "xaxis": "x",
           "y": [
            0.4
           ],
           "yaxis": "y"
          },
          {
           "alignmentgroup": "True",
           "hovertemplate": "Country=%{x}<br>Year=2022<br>Percentage of Documents=%{y}<extra></extra>",
           "legendgroup": "Egypt, Arab Republic of",
           "marker": {
            "color": "#B6E880",
            "pattern": {
             "shape": ""
            }
           },
           "name": "Egypt, Arab Republic of",
           "offsetgroup": "Egypt, Arab Republic of",
           "orientation": "v",
           "showlegend": true,
           "textposition": "auto",
           "type": "bar",
           "x": [
            "Egypt, Arab Republic of"
           ],
           "xaxis": "x",
           "y": [
            0.8
           ],
           "yaxis": "y"
          },
          {
           "alignmentgroup": "True",
           "hovertemplate": "Country=%{x}<br>Year=2022<br>Percentage of Documents=%{y}<extra></extra>",
           "legendgroup": "Ethiopia",
           "marker": {
            "color": "#636efa",
            "pattern": {
             "shape": ""
            }
           },
           "name": "Ethiopia",
           "offsetgroup": "Ethiopia",
           "orientation": "v",
           "showlegend": true,
           "textposition": "auto",
           "type": "bar",
           "x": [
            "Ethiopia"
           ],
           "xaxis": "x",
           "y": [
            0.8
           ],
           "yaxis": "y"
          },
          {
           "alignmentgroup": "True",
           "hovertemplate": "Country=%{x}<br>Year=2022<br>Percentage of Documents=%{y}<extra></extra>",
           "legendgroup": "Fiji",
           "marker": {
            "color": "#EF553B",
            "pattern": {
             "shape": ""
            }
           },
           "name": "Fiji",
           "offsetgroup": "Fiji",
           "orientation": "v",
           "showlegend": true,
           "textposition": "auto",
           "type": "bar",
           "x": [
            "Fiji"
           ],
           "xaxis": "x",
           "y": [
            0.4
           ],
           "yaxis": "y"
          },
          {
           "alignmentgroup": "True",
           "hovertemplate": "Country=%{x}<br>Year=2022<br>Percentage of Documents=%{y}<extra></extra>",
           "legendgroup": "Ghana",
           "marker": {
            "color": "#ab63fa",
            "pattern": {
             "shape": ""
            }
           },
           "name": "Ghana",
           "offsetgroup": "Ghana",
           "orientation": "v",
           "showlegend": true,
           "textposition": "auto",
           "type": "bar",
           "x": [
            "Ghana"
           ],
           "xaxis": "x",
           "y": [
            0.8
           ],
           "yaxis": "y"
          },
          {
           "alignmentgroup": "True",
           "hovertemplate": "Country=%{x}<br>Year=2022<br>Percentage of Documents=%{y}<extra></extra>",
           "legendgroup": "Guinea",
           "marker": {
            "color": "#19d3f3",
            "pattern": {
             "shape": ""
            }
           },
           "name": "Guinea",
           "offsetgroup": "Guinea",
           "orientation": "v",
           "showlegend": true,
           "textposition": "auto",
           "type": "bar",
           "x": [
            "Guinea"
           ],
           "xaxis": "x",
           "y": [
            0.4
           ],
           "yaxis": "y"
          },
          {
           "alignmentgroup": "True",
           "hovertemplate": "Country=%{x}<br>Year=2022<br>Percentage of Documents=%{y}<extra></extra>",
           "legendgroup": "Haiti",
           "marker": {
            "color": "#FF6692",
            "pattern": {
             "shape": ""
            }
           },
           "name": "Haiti",
           "offsetgroup": "Haiti",
           "orientation": "v",
           "showlegend": true,
           "textposition": "auto",
           "type": "bar",
           "x": [
            "Haiti"
           ],
           "xaxis": "x",
           "y": [
            0.4
           ],
           "yaxis": "y"
          },
          {
           "alignmentgroup": "True",
           "hovertemplate": "Country=%{x}<br>Year=2022<br>Percentage of Documents=%{y}<extra></extra>",
           "legendgroup": "Honduras",
           "marker": {
            "color": "#B6E880",
            "pattern": {
             "shape": ""
            }
           },
           "name": "Honduras",
           "offsetgroup": "Honduras",
           "orientation": "v",
           "showlegend": true,
           "textposition": "auto",
           "type": "bar",
           "x": [
            "Honduras"
           ],
           "xaxis": "x",
           "y": [
            0.8
           ],
           "yaxis": "y"
          },
          {
           "alignmentgroup": "True",
           "hovertemplate": "Country=%{x}<br>Year=2022<br>Percentage of Documents=%{y}<extra></extra>",
           "legendgroup": "India",
           "marker": {
            "color": "#FF97FF",
            "pattern": {
             "shape": ""
            }
           },
           "name": "India",
           "offsetgroup": "India",
           "orientation": "v",
           "showlegend": true,
           "textposition": "auto",
           "type": "bar",
           "x": [
            "India"
           ],
           "xaxis": "x",
           "y": [
            6.1
           ],
           "yaxis": "y"
          },
          {
           "alignmentgroup": "True",
           "hovertemplate": "Country=%{x}<br>Year=2022<br>Percentage of Documents=%{y}<extra></extra>",
           "legendgroup": "Indonesia",
           "marker": {
            "color": "#FECB52",
            "pattern": {
             "shape": ""
            }
           },
           "name": "Indonesia",
           "offsetgroup": "Indonesia",
           "orientation": "v",
           "showlegend": true,
           "textposition": "auto",
           "type": "bar",
           "x": [
            "Indonesia"
           ],
           "xaxis": "x",
           "y": [
            1.6
           ],
           "yaxis": "y"
          },
          {
           "alignmentgroup": "True",
           "hovertemplate": "Country=%{x}<br>Year=2022<br>Percentage of Documents=%{y}<extra></extra>",
           "legendgroup": "Jamaica",
           "marker": {
            "color": "#EF553B",
            "pattern": {
             "shape": ""
            }
           },
           "name": "Jamaica",
           "offsetgroup": "Jamaica",
           "orientation": "v",
           "showlegend": true,
           "textposition": "auto",
           "type": "bar",
           "x": [
            "Jamaica"
           ],
           "xaxis": "x",
           "y": [
            0.4
           ],
           "yaxis": "y"
          },
          {
           "alignmentgroup": "True",
           "hovertemplate": "Country=%{x}<br>Year=2022<br>Percentage of Documents=%{y}<extra></extra>",
           "legendgroup": "Jordan",
           "marker": {
            "color": "#00cc96",
            "pattern": {
             "shape": ""
            }
           },
           "name": "Jordan",
           "offsetgroup": "Jordan",
           "orientation": "v",
           "showlegend": true,
           "textposition": "auto",
           "type": "bar",
           "x": [
            "Jordan"
           ],
           "xaxis": "x",
           "y": [
            0.4
           ],
           "yaxis": "y"
          },
          {
           "alignmentgroup": "True",
           "hovertemplate": "Country=%{x}<br>Year=2022<br>Percentage of Documents=%{y}<extra></extra>",
           "legendgroup": "Kenya",
           "marker": {
            "color": "#ab63fa",
            "pattern": {
             "shape": ""
            }
           },
           "name": "Kenya",
           "offsetgroup": "Kenya",
           "orientation": "v",
           "showlegend": true,
           "textposition": "auto",
           "type": "bar",
           "x": [
            "Kenya"
           ],
           "xaxis": "x",
           "y": [
            2
           ],
           "yaxis": "y"
          },
          {
           "alignmentgroup": "True",
           "hovertemplate": "Country=%{x}<br>Year=2022<br>Percentage of Documents=%{y}<extra></extra>",
           "legendgroup": "Kosovo",
           "marker": {
            "color": "#19d3f3",
            "pattern": {
             "shape": ""
            }
           },
           "name": "Kosovo",
           "offsetgroup": "Kosovo",
           "orientation": "v",
           "showlegend": true,
           "textposition": "auto",
           "type": "bar",
           "x": [
            "Kosovo"
           ],
           "xaxis": "x",
           "y": [
            0.8
           ],
           "yaxis": "y"
          },
          {
           "alignmentgroup": "True",
           "hovertemplate": "Country=%{x}<br>Year=2022<br>Percentage of Documents=%{y}<extra></extra>",
           "legendgroup": "Kyrgyz Republic",
           "marker": {
            "color": "#FF6692",
            "pattern": {
             "shape": ""
            }
           },
           "name": "Kyrgyz Republic",
           "offsetgroup": "Kyrgyz Republic",
           "orientation": "v",
           "showlegend": true,
           "textposition": "auto",
           "type": "bar",
           "x": [
            "Kyrgyz Republic"
           ],
           "xaxis": "x",
           "y": [
            0.8
           ],
           "yaxis": "y"
          },
          {
           "alignmentgroup": "True",
           "hovertemplate": "Country=%{x}<br>Year=2022<br>Percentage of Documents=%{y}<extra></extra>",
           "legendgroup": "Lao People's Democratic Republic",
           "marker": {
            "color": "#FF97FF",
            "pattern": {
             "shape": ""
            }
           },
           "name": "Lao People's Democratic Republic",
           "offsetgroup": "Lao People's Democratic Republic",
           "orientation": "v",
           "showlegend": true,
           "textposition": "auto",
           "type": "bar",
           "x": [
            "Lao People's Democratic Republic"
           ],
           "xaxis": "x",
           "y": [
            1.2
           ],
           "yaxis": "y"
          },
          {
           "alignmentgroup": "True",
           "hovertemplate": "Country=%{x}<br>Year=2022<br>Percentage of Documents=%{y}<extra></extra>",
           "legendgroup": "Lebanon",
           "marker": {
            "color": "#FECB52",
            "pattern": {
             "shape": ""
            }
           },
           "name": "Lebanon",
           "offsetgroup": "Lebanon",
           "orientation": "v",
           "showlegend": true,
           "textposition": "auto",
           "type": "bar",
           "x": [
            "Lebanon"
           ],
           "xaxis": "x",
           "y": [
            0.8
           ],
           "yaxis": "y"
          },
          {
           "alignmentgroup": "True",
           "hovertemplate": "Country=%{x}<br>Year=2022<br>Percentage of Documents=%{y}<extra></extra>",
           "legendgroup": "Madagascar",
           "marker": {
            "color": "#636efa",
            "pattern": {
             "shape": ""
            }
           },
           "name": "Madagascar",
           "offsetgroup": "Madagascar",
           "orientation": "v",
           "showlegend": true,
           "textposition": "auto",
           "type": "bar",
           "x": [
            "Madagascar"
           ],
           "xaxis": "x",
           "y": [
            0.4
           ],
           "yaxis": "y"
          },
          {
           "alignmentgroup": "True",
           "hovertemplate": "Country=%{x}<br>Year=2022<br>Percentage of Documents=%{y}<extra></extra>",
           "legendgroup": "Malawi",
           "marker": {
            "color": "#EF553B",
            "pattern": {
             "shape": ""
            }
           },
           "name": "Malawi",
           "offsetgroup": "Malawi",
           "orientation": "v",
           "showlegend": true,
           "textposition": "auto",
           "type": "bar",
           "x": [
            "Malawi"
           ],
           "xaxis": "x",
           "y": [
            0.8
           ],
           "yaxis": "y"
          },
          {
           "alignmentgroup": "True",
           "hovertemplate": "Country=%{x}<br>Year=2022<br>Percentage of Documents=%{y}<extra></extra>",
           "legendgroup": "Mauritania",
           "marker": {
            "color": "#ab63fa",
            "pattern": {
             "shape": ""
            }
           },
           "name": "Mauritania",
           "offsetgroup": "Mauritania",
           "orientation": "v",
           "showlegend": true,
           "textposition": "auto",
           "type": "bar",
           "x": [
            "Mauritania"
           ],
           "xaxis": "x",
           "y": [
            0.4
           ],
           "yaxis": "y"
          },
          {
           "alignmentgroup": "True",
           "hovertemplate": "Country=%{x}<br>Year=2022<br>Percentage of Documents=%{y}<extra></extra>",
           "legendgroup": "Mexico",
           "marker": {
            "color": "#FFA15A",
            "pattern": {
             "shape": ""
            }
           },
           "name": "Mexico",
           "offsetgroup": "Mexico",
           "orientation": "v",
           "showlegend": true,
           "textposition": "auto",
           "type": "bar",
           "x": [
            "Mexico"
           ],
           "xaxis": "x",
           "y": [
            1.6
           ],
           "yaxis": "y"
          },
          {
           "alignmentgroup": "True",
           "hovertemplate": "Country=%{x}<br>Year=2022<br>Percentage of Documents=%{y}<extra></extra>",
           "legendgroup": "Morocco",
           "marker": {
            "color": "#FF97FF",
            "pattern": {
             "shape": ""
            }
           },
           "name": "Morocco",
           "offsetgroup": "Morocco",
           "orientation": "v",
           "showlegend": true,
           "textposition": "auto",
           "type": "bar",
           "x": [
            "Morocco"
           ],
           "xaxis": "x",
           "y": [
            0.8
           ],
           "yaxis": "y"
          },
          {
           "alignmentgroup": "True",
           "hovertemplate": "Country=%{x}<br>Year=2022<br>Percentage of Documents=%{y}<extra></extra>",
           "legendgroup": "Mozambique",
           "marker": {
            "color": "#FECB52",
            "pattern": {
             "shape": ""
            }
           },
           "name": "Mozambique",
           "offsetgroup": "Mozambique",
           "orientation": "v",
           "showlegend": true,
           "textposition": "auto",
           "type": "bar",
           "x": [
            "Mozambique"
           ],
           "xaxis": "x",
           "y": [
            0.8
           ],
           "yaxis": "y"
          },
          {
           "alignmentgroup": "True",
           "hovertemplate": "Country=%{x}<br>Year=2022<br>Percentage of Documents=%{y}<extra></extra>",
           "legendgroup": "Nepal",
           "marker": {
            "color": "#636efa",
            "pattern": {
             "shape": ""
            }
           },
           "name": "Nepal",
           "offsetgroup": "Nepal",
           "orientation": "v",
           "showlegend": true,
           "textposition": "auto",
           "type": "bar",
           "x": [
            "Nepal"
           ],
           "xaxis": "x",
           "y": [
            2
           ],
           "yaxis": "y"
          },
          {
           "alignmentgroup": "True",
           "hovertemplate": "Country=%{x}<br>Year=2022<br>Percentage of Documents=%{y}<extra></extra>",
           "legendgroup": "Nicaragua",
           "marker": {
            "color": "#EF553B",
            "pattern": {
             "shape": ""
            }
           },
           "name": "Nicaragua",
           "offsetgroup": "Nicaragua",
           "orientation": "v",
           "showlegend": true,
           "textposition": "auto",
           "type": "bar",
           "x": [
            "Nicaragua"
           ],
           "xaxis": "x",
           "y": [
            0.4
           ],
           "yaxis": "y"
          },
          {
           "alignmentgroup": "True",
           "hovertemplate": "Country=%{x}<br>Year=2022<br>Percentage of Documents=%{y}<extra></extra>",
           "legendgroup": "Niger",
           "marker": {
            "color": "#00cc96",
            "pattern": {
             "shape": ""
            }
           },
           "name": "Niger",
           "offsetgroup": "Niger",
           "orientation": "v",
           "showlegend": true,
           "textposition": "auto",
           "type": "bar",
           "x": [
            "Niger"
           ],
           "xaxis": "x",
           "y": [
            2
           ],
           "yaxis": "y"
          },
          {
           "alignmentgroup": "True",
           "hovertemplate": "Country=%{x}<br>Year=2022<br>Percentage of Documents=%{y}<extra></extra>",
           "legendgroup": "Nigeria",
           "marker": {
            "color": "#ab63fa",
            "pattern": {
             "shape": ""
            }
           },
           "name": "Nigeria",
           "offsetgroup": "Nigeria",
           "orientation": "v",
           "showlegend": true,
           "textposition": "auto",
           "type": "bar",
           "x": [
            "Nigeria"
           ],
           "xaxis": "x",
           "y": [
            2.4
           ],
           "yaxis": "y"
          },
          {
           "alignmentgroup": "True",
           "hovertemplate": "Country=%{x}<br>Year=2022<br>Percentage of Documents=%{y}<extra></extra>",
           "legendgroup": "North Macedonia",
           "marker": {
            "color": "#FFA15A",
            "pattern": {
             "shape": ""
            }
           },
           "name": "North Macedonia",
           "offsetgroup": "North Macedonia",
           "orientation": "v",
           "showlegend": true,
           "textposition": "auto",
           "type": "bar",
           "x": [
            "North Macedonia"
           ],
           "xaxis": "x",
           "y": [
            0.8
           ],
           "yaxis": "y"
          },
          {
           "alignmentgroup": "True",
           "hovertemplate": "Country=%{x}<br>Year=2022<br>Percentage of Documents=%{y}<extra></extra>",
           "legendgroup": "Pakistan",
           "marker": {
            "color": "#FF6692",
            "pattern": {
             "shape": ""
            }
           },
           "name": "Pakistan",
           "offsetgroup": "Pakistan",
           "orientation": "v",
           "showlegend": true,
           "textposition": "auto",
           "type": "bar",
           "x": [
            "Pakistan"
           ],
           "xaxis": "x",
           "y": [
            2.4
           ],
           "yaxis": "y"
          },
          {
           "alignmentgroup": "True",
           "hovertemplate": "Country=%{x}<br>Year=2022<br>Percentage of Documents=%{y}<extra></extra>",
           "legendgroup": "Papua New Guinea",
           "marker": {
            "color": "#B6E880",
            "pattern": {
             "shape": ""
            }
           },
           "name": "Papua New Guinea",
           "offsetgroup": "Papua New Guinea",
           "orientation": "v",
           "showlegend": true,
           "textposition": "auto",
           "type": "bar",
           "x": [
            "Papua New Guinea"
           ],
           "xaxis": "x",
           "y": [
            0.8
           ],
           "yaxis": "y"
          },
          {
           "alignmentgroup": "True",
           "hovertemplate": "Country=%{x}<br>Year=2022<br>Percentage of Documents=%{y}<extra></extra>",
           "legendgroup": "Peru",
           "marker": {
            "color": "#FECB52",
            "pattern": {
             "shape": ""
            }
           },
           "name": "Peru",
           "offsetgroup": "Peru",
           "orientation": "v",
           "showlegend": true,
           "textposition": "auto",
           "type": "bar",
           "x": [
            "Peru"
           ],
           "xaxis": "x",
           "y": [
            1.2
           ],
           "yaxis": "y"
          },
          {
           "alignmentgroup": "True",
           "hovertemplate": "Country=%{x}<br>Year=2022<br>Percentage of Documents=%{y}<extra></extra>",
           "legendgroup": "Philippines",
           "marker": {
            "color": "#636efa",
            "pattern": {
             "shape": ""
            }
           },
           "name": "Philippines",
           "offsetgroup": "Philippines",
           "orientation": "v",
           "showlegend": true,
           "textposition": "auto",
           "type": "bar",
           "x": [
            "Philippines"
           ],
           "xaxis": "x",
           "y": [
            0.4
           ],
           "yaxis": "y"
          },
          {
           "alignmentgroup": "True",
           "hovertemplate": "Country=%{x}<br>Year=2022<br>Percentage of Documents=%{y}<extra></extra>",
           "legendgroup": "Russian Federation",
           "marker": {
            "color": "#EF553B",
            "pattern": {
             "shape": ""
            }
           },
           "name": "Russian Federation",
           "offsetgroup": "Russian Federation",
           "orientation": "v",
           "showlegend": true,
           "textposition": "auto",
           "type": "bar",
           "x": [
            "Russian Federation"
           ],
           "xaxis": "x",
           "y": [
            0.4
           ],
           "yaxis": "y"
          },
          {
           "alignmentgroup": "True",
           "hovertemplate": "Country=%{x}<br>Year=2022<br>Percentage of Documents=%{y}<extra></extra>",
           "legendgroup": "Rwanda",
           "marker": {
            "color": "#00cc96",
            "pattern": {
             "shape": ""
            }
           },
           "name": "Rwanda",
           "offsetgroup": "Rwanda",
           "orientation": "v",
           "showlegend": true,
           "textposition": "auto",
           "type": "bar",
           "x": [
            "Rwanda"
           ],
           "xaxis": "x",
           "y": [
            1.6
           ],
           "yaxis": "y"
          },
          {
           "alignmentgroup": "True",
           "hovertemplate": "Country=%{x}<br>Year=2022<br>Percentage of Documents=%{y}<extra></extra>",
           "legendgroup": "Samoa",
           "marker": {
            "color": "#ab63fa",
            "pattern": {
             "shape": ""
            }
           },
           "name": "Samoa",
           "offsetgroup": "Samoa",
           "orientation": "v",
           "showlegend": true,
           "textposition": "auto",
           "type": "bar",
           "x": [
            "Samoa"
           ],
           "xaxis": "x",
           "y": [
            0.4
           ],
           "yaxis": "y"
          },
          {
           "alignmentgroup": "True",
           "hovertemplate": "Country=%{x}<br>Year=2022<br>Percentage of Documents=%{y}<extra></extra>",
           "legendgroup": "Senegal",
           "marker": {
            "color": "#FFA15A",
            "pattern": {
             "shape": ""
            }
           },
           "name": "Senegal",
           "offsetgroup": "Senegal",
           "orientation": "v",
           "showlegend": true,
           "textposition": "auto",
           "type": "bar",
           "x": [
            "Senegal"
           ],
           "xaxis": "x",
           "y": [
            1.2
           ],
           "yaxis": "y"
          },
          {
           "alignmentgroup": "True",
           "hovertemplate": "Country=%{x}<br>Year=2022<br>Percentage of Documents=%{y}<extra></extra>",
           "legendgroup": "Sierra Leone",
           "marker": {
            "color": "#19d3f3",
            "pattern": {
             "shape": ""
            }
           },
           "name": "Sierra Leone",
           "offsetgroup": "Sierra Leone",
           "orientation": "v",
           "showlegend": true,
           "textposition": "auto",
           "type": "bar",
           "x": [
            "Sierra Leone"
           ],
           "xaxis": "x",
           "y": [
            0.8
           ],
           "yaxis": "y"
          },
          {
           "alignmentgroup": "True",
           "hovertemplate": "Country=%{x}<br>Year=2022<br>Percentage of Documents=%{y}<extra></extra>",
           "legendgroup": "South Sudan",
           "marker": {
            "color": "#B6E880",
            "pattern": {
             "shape": ""
            }
           },
           "name": "South Sudan",
           "offsetgroup": "South Sudan",
           "orientation": "v",
           "showlegend": true,
           "textposition": "auto",
           "type": "bar",
           "x": [
            "South Sudan"
           ],
           "xaxis": "x",
           "y": [
            0.4
           ],
           "yaxis": "y"
          },
          {
           "alignmentgroup": "True",
           "hovertemplate": "Country=%{x}<br>Year=2022<br>Percentage of Documents=%{y}<extra></extra>",
           "legendgroup": "Sri Lanka",
           "marker": {
            "color": "#FF97FF",
            "pattern": {
             "shape": ""
            }
           },
           "name": "Sri Lanka",
           "offsetgroup": "Sri Lanka",
           "orientation": "v",
           "showlegend": true,
           "textposition": "auto",
           "type": "bar",
           "x": [
            "Sri Lanka"
           ],
           "xaxis": "x",
           "y": [
            0.4
           ],
           "yaxis": "y"
          },
          {
           "alignmentgroup": "True",
           "hovertemplate": "Country=%{x}<br>Year=2022<br>Percentage of Documents=%{y}<extra></extra>",
           "legendgroup": "Tajikistan",
           "marker": {
            "color": "#FECB52",
            "pattern": {
             "shape": ""
            }
           },
           "name": "Tajikistan",
           "offsetgroup": "Tajikistan",
           "orientation": "v",
           "showlegend": true,
           "textposition": "auto",
           "type": "bar",
           "x": [
            "Tajikistan"
           ],
           "xaxis": "x",
           "y": [
            0.4
           ],
           "yaxis": "y"
          },
          {
           "alignmentgroup": "True",
           "hovertemplate": "Country=%{x}<br>Year=2022<br>Percentage of Documents=%{y}<extra></extra>",
           "legendgroup": "Tanzania",
           "marker": {
            "color": "#636efa",
            "pattern": {
             "shape": ""
            }
           },
           "name": "Tanzania",
           "offsetgroup": "Tanzania",
           "orientation": "v",
           "showlegend": true,
           "textposition": "auto",
           "type": "bar",
           "x": [
            "Tanzania"
           ],
           "xaxis": "x",
           "y": [
            1.2
           ],
           "yaxis": "y"
          },
          {
           "alignmentgroup": "True",
           "hovertemplate": "Country=%{x}<br>Year=2022<br>Percentage of Documents=%{y}<extra></extra>",
           "legendgroup": "Tonga",
           "marker": {
            "color": "#EF553B",
            "pattern": {
             "shape": ""
            }
           },
           "name": "Tonga",
           "offsetgroup": "Tonga",
           "orientation": "v",
           "showlegend": true,
           "textposition": "auto",
           "type": "bar",
           "x": [
            "Tonga"
           ],
           "xaxis": "x",
           "y": [
            0.8
           ],
           "yaxis": "y"
          },
          {
           "alignmentgroup": "True",
           "hovertemplate": "Country=%{x}<br>Year=2022<br>Percentage of Documents=%{y}<extra></extra>",
           "legendgroup": "Tunisia",
           "marker": {
            "color": "#00cc96",
            "pattern": {
             "shape": ""
            }
           },
           "name": "Tunisia",
           "offsetgroup": "Tunisia",
           "orientation": "v",
           "showlegend": true,
           "textposition": "auto",
           "type": "bar",
           "x": [
            "Tunisia"
           ],
           "xaxis": "x",
           "y": [
            0.4
           ],
           "yaxis": "y"
          },
          {
           "alignmentgroup": "True",
           "hovertemplate": "Country=%{x}<br>Year=2022<br>Percentage of Documents=%{y}<extra></extra>",
           "legendgroup": "Uganda",
           "marker": {
            "color": "#ab63fa",
            "pattern": {
             "shape": ""
            }
           },
           "name": "Uganda",
           "offsetgroup": "Uganda",
           "orientation": "v",
           "showlegend": true,
           "textposition": "auto",
           "type": "bar",
           "x": [
            "Uganda"
           ],
           "xaxis": "x",
           "y": [
            0.8
           ],
           "yaxis": "y"
          },
          {
           "alignmentgroup": "True",
           "hovertemplate": "Country=%{x}<br>Year=2022<br>Percentage of Documents=%{y}<extra></extra>",
           "legendgroup": "Vietnam",
           "marker": {
            "color": "#FFA15A",
            "pattern": {
             "shape": ""
            }
           },
           "name": "Vietnam",
           "offsetgroup": "Vietnam",
           "orientation": "v",
           "showlegend": true,
           "textposition": "auto",
           "type": "bar",
           "x": [
            "Vietnam"
           ],
           "xaxis": "x",
           "y": [
            2.8
           ],
           "yaxis": "y"
          },
          {
           "alignmentgroup": "True",
           "hovertemplate": "Country=%{x}<br>Year=2022<br>Percentage of Documents=%{y}<extra></extra>",
           "legendgroup": "West Bank and Gaza",
           "marker": {
            "color": "#19d3f3",
            "pattern": {
             "shape": ""
            }
           },
           "name": "West Bank and Gaza",
           "offsetgroup": "West Bank and Gaza",
           "orientation": "v",
           "showlegend": true,
           "textposition": "auto",
           "type": "bar",
           "x": [
            "West Bank and Gaza"
           ],
           "xaxis": "x",
           "y": [
            0.4
           ],
           "yaxis": "y"
          },
          {
           "alignmentgroup": "True",
           "hovertemplate": "Country=%{x}<br>Year=2022<br>Percentage of Documents=%{y}<extra></extra>",
           "legendgroup": "Western Africa",
           "marker": {
            "color": "#FF6692",
            "pattern": {
             "shape": ""
            }
           },
           "name": "Western Africa",
           "offsetgroup": "Western Africa",
           "orientation": "v",
           "showlegend": true,
           "textposition": "auto",
           "type": "bar",
           "x": [
            "Western Africa"
           ],
           "xaxis": "x",
           "y": [
            0.4
           ],
           "yaxis": "y"
          },
          {
           "alignmentgroup": "True",
           "hovertemplate": "Country=%{x}<br>Year=2022<br>Percentage of Documents=%{y}<extra></extra>",
           "legendgroup": "Western Balkans",
           "marker": {
            "color": "#B6E880",
            "pattern": {
             "shape": ""
            }
           },
           "name": "Western Balkans",
           "offsetgroup": "Western Balkans",
           "orientation": "v",
           "showlegend": true,
           "textposition": "auto",
           "type": "bar",
           "x": [
            "Western Balkans"
           ],
           "xaxis": "x",
           "y": [
            0.4
           ],
           "yaxis": "y"
          },
          {
           "alignmentgroup": "True",
           "hovertemplate": "Country=%{x}<br>Year=2022<br>Percentage of Documents=%{y}<extra></extra>",
           "legendgroup": "Yemen, Republic of",
           "marker": {
            "color": "#FF97FF",
            "pattern": {
             "shape": ""
            }
           },
           "name": "Yemen, Republic of",
           "offsetgroup": "Yemen, Republic of",
           "orientation": "v",
           "showlegend": true,
           "textposition": "auto",
           "type": "bar",
           "x": [
            "Yemen, Republic of"
           ],
           "xaxis": "x",
           "y": [
            0.8
           ],
           "yaxis": "y"
          },
          {
           "alignmentgroup": "True",
           "hovertemplate": "Country=%{x}<br>Year=2022<br>Percentage of Documents=%{y}<extra></extra>",
           "legendgroup": "Zambia",
           "marker": {
            "color": "#FECB52",
            "pattern": {
             "shape": ""
            }
           },
           "name": "Zambia",
           "offsetgroup": "Zambia",
           "orientation": "v",
           "showlegend": true,
           "textposition": "auto",
           "type": "bar",
           "x": [
            "Zambia"
           ],
           "xaxis": "x",
           "y": [
            0.4
           ],
           "yaxis": "y"
          },
          {
           "alignmentgroup": "True",
           "hovertemplate": "Country=%{x}<br>Year=2022<br>Percentage of Documents=%{y}<extra></extra>",
           "legendgroup": "Belarus",
           "marker": {
            "color": "#636efa",
            "pattern": {
             "shape": ""
            }
           },
           "name": "Belarus",
           "offsetgroup": "Belarus",
           "orientation": "v",
           "showlegend": true,
           "textposition": "auto",
           "type": "bar",
           "x": [
            "Belarus"
           ],
           "xaxis": "x",
           "y": [
            0.4
           ],
           "yaxis": "y"
          },
          {
           "alignmentgroup": "True",
           "hovertemplate": "Country=%{x}<br>Year=2022<br>Percentage of Documents=%{y}<extra></extra>",
           "legendgroup": "Belize",
           "marker": {
            "color": "#EF553B",
            "pattern": {
             "shape": ""
            }
           },
           "name": "Belize",
           "offsetgroup": "Belize",
           "orientation": "v",
           "showlegend": true,
           "textposition": "auto",
           "type": "bar",
           "x": [
            "Belize"
           ],
           "xaxis": "x",
           "y": [
            0.4
           ],
           "yaxis": "y"
          },
          {
           "alignmentgroup": "True",
           "hovertemplate": "Country=%{x}<br>Year=2022<br>Percentage of Documents=%{y}<extra></extra>",
           "legendgroup": "Bolivia",
           "marker": {
            "color": "#00cc96",
            "pattern": {
             "shape": ""
            }
           },
           "name": "Bolivia",
           "offsetgroup": "Bolivia",
           "orientation": "v",
           "showlegend": true,
           "textposition": "auto",
           "type": "bar",
           "x": [
            "Bolivia"
           ],
           "xaxis": "x",
           "y": [
            1.2
           ],
           "yaxis": "y"
          },
          {
           "alignmentgroup": "True",
           "hovertemplate": "Country=%{x}<br>Year=2022<br>Percentage of Documents=%{y}<extra></extra>",
           "legendgroup": "Croatia",
           "marker": {
            "color": "#19d3f3",
            "pattern": {
             "shape": ""
            }
           },
           "name": "Croatia",
           "offsetgroup": "Croatia",
           "orientation": "v",
           "showlegend": true,
           "textposition": "auto",
           "type": "bar",
           "x": [
            "Croatia"
           ],
           "xaxis": "x",
           "y": [
            0.8
           ],
           "yaxis": "y"
          },
          {
           "alignmentgroup": "True",
           "hovertemplate": "Country=%{x}<br>Year=2022<br>Percentage of Documents=%{y}<extra></extra>",
           "legendgroup": "Gabon",
           "marker": {
            "color": "#FF6692",
            "pattern": {
             "shape": ""
            }
           },
           "name": "Gabon",
           "offsetgroup": "Gabon",
           "orientation": "v",
           "showlegend": true,
           "textposition": "auto",
           "type": "bar",
           "x": [
            "Gabon"
           ],
           "xaxis": "x",
           "y": [
            0.8
           ],
           "yaxis": "y"
          },
          {
           "alignmentgroup": "True",
           "hovertemplate": "Country=%{x}<br>Year=2022<br>Percentage of Documents=%{y}<extra></extra>",
           "legendgroup": "Georgia",
           "marker": {
            "color": "#B6E880",
            "pattern": {
             "shape": ""
            }
           },
           "name": "Georgia",
           "offsetgroup": "Georgia",
           "orientation": "v",
           "showlegend": true,
           "textposition": "auto",
           "type": "bar",
           "x": [
            "Georgia"
           ],
           "xaxis": "x",
           "y": [
            0.8
           ],
           "yaxis": "y"
          },
          {
           "alignmentgroup": "True",
           "hovertemplate": "Country=%{x}<br>Year=2022<br>Percentage of Documents=%{y}<extra></extra>",
           "legendgroup": "Lesotho",
           "marker": {
            "color": "#FECB52",
            "pattern": {
             "shape": ""
            }
           },
           "name": "Lesotho",
           "offsetgroup": "Lesotho",
           "orientation": "v",
           "showlegend": true,
           "textposition": "auto",
           "type": "bar",
           "x": [
            "Lesotho"
           ],
           "xaxis": "x",
           "y": [
            0.8
           ],
           "yaxis": "y"
          },
          {
           "alignmentgroup": "True",
           "hovertemplate": "Country=%{x}<br>Year=2022<br>Percentage of Documents=%{y}<extra></extra>",
           "legendgroup": "Liberia",
           "marker": {
            "color": "#636efa",
            "pattern": {
             "shape": ""
            }
           },
           "name": "Liberia",
           "offsetgroup": "Liberia",
           "orientation": "v",
           "showlegend": true,
           "textposition": "auto",
           "type": "bar",
           "x": [
            "Liberia"
           ],
           "xaxis": "x",
           "y": [
            1.2
           ],
           "yaxis": "y"
          },
          {
           "alignmentgroup": "True",
           "hovertemplate": "Country=%{x}<br>Year=2022<br>Percentage of Documents=%{y}<extra></extra>",
           "legendgroup": "Mali",
           "marker": {
            "color": "#EF553B",
            "pattern": {
             "shape": ""
            }
           },
           "name": "Mali",
           "offsetgroup": "Mali",
           "orientation": "v",
           "showlegend": true,
           "textposition": "auto",
           "type": "bar",
           "x": [
            "Mali"
           ],
           "xaxis": "x",
           "y": [
            0.8
           ],
           "yaxis": "y"
          },
          {
           "alignmentgroup": "True",
           "hovertemplate": "Country=%{x}<br>Year=2022<br>Percentage of Documents=%{y}<extra></extra>",
           "legendgroup": "Sao Tome and Principe",
           "marker": {
            "color": "#19d3f3",
            "pattern": {
             "shape": ""
            }
           },
           "name": "Sao Tome and Principe",
           "offsetgroup": "Sao Tome and Principe",
           "orientation": "v",
           "showlegend": true,
           "textposition": "auto",
           "type": "bar",
           "x": [
            "Sao Tome and Principe"
           ],
           "xaxis": "x",
           "y": [
            0.4
           ],
           "yaxis": "y"
          },
          {
           "alignmentgroup": "True",
           "hovertemplate": "Country=%{x}<br>Year=2022<br>Percentage of Documents=%{y}<extra></extra>",
           "legendgroup": "Serbia",
           "marker": {
            "color": "#FF6692",
            "pattern": {
             "shape": ""
            }
           },
           "name": "Serbia",
           "offsetgroup": "Serbia",
           "orientation": "v",
           "showlegend": true,
           "textposition": "auto",
           "type": "bar",
           "x": [
            "Serbia"
           ],
           "xaxis": "x",
           "y": [
            0.4
           ],
           "yaxis": "y"
          },
          {
           "alignmentgroup": "True",
           "hovertemplate": "Country=%{x}<br>Year=2022<br>Percentage of Documents=%{y}<extra></extra>",
           "legendgroup": "Uzbekistan",
           "marker": {
            "color": "#EF553B",
            "pattern": {
             "shape": ""
            }
           },
           "name": "Uzbekistan",
           "offsetgroup": "Uzbekistan",
           "orientation": "v",
           "showlegend": true,
           "textposition": "auto",
           "type": "bar",
           "x": [
            "Uzbekistan"
           ],
           "xaxis": "x",
           "y": [
            0.8
           ],
           "yaxis": "y"
          },
          {
           "alignmentgroup": "True",
           "hovertemplate": "Country=%{x}<br>Year=2022<br>Percentage of Documents=%{y}<extra></extra>",
           "legendgroup": "World",
           "marker": {
            "color": "#ab63fa",
            "pattern": {
             "shape": ""
            }
           },
           "name": "World",
           "offsetgroup": "World",
           "orientation": "v",
           "showlegend": true,
           "textposition": "auto",
           "type": "bar",
           "x": [
            "World"
           ],
           "xaxis": "x",
           "y": [
            0.4
           ],
           "yaxis": "y"
          },
          {
           "alignmentgroup": "True",
           "hovertemplate": "Country=%{x}<br>Year=2022<br>Percentage of Documents=%{y}<extra></extra>",
           "legendgroup": "Zimbabwe",
           "marker": {
            "color": "#FFA15A",
            "pattern": {
             "shape": ""
            }
           },
           "name": "Zimbabwe",
           "offsetgroup": "Zimbabwe",
           "orientation": "v",
           "showlegend": true,
           "textposition": "auto",
           "type": "bar",
           "x": [
            "Zimbabwe"
           ],
           "xaxis": "x",
           "y": [
            0.4
           ],
           "yaxis": "y"
          },
          {
           "alignmentgroup": "True",
           "hovertemplate": "Country=%{x}<br>Year=2022<br>Percentage of Documents=%{y}<extra></extra>",
           "legendgroup": "Central African Republic",
           "marker": {
            "color": "#19d3f3",
            "pattern": {
             "shape": ""
            }
           },
           "name": "Central African Republic",
           "offsetgroup": "Central African Republic",
           "orientation": "v",
           "showlegend": true,
           "textposition": "auto",
           "type": "bar",
           "x": [
            "Central African Republic"
           ],
           "xaxis": "x",
           "y": [
            0.4
           ],
           "yaxis": "y"
          },
          {
           "alignmentgroup": "True",
           "hovertemplate": "Country=%{x}<br>Year=2022<br>Percentage of Documents=%{y}<extra></extra>",
           "legendgroup": "Panama",
           "marker": {
            "color": "#EF553B",
            "pattern": {
             "shape": ""
            }
           },
           "name": "Panama",
           "offsetgroup": "Panama",
           "orientation": "v",
           "showlegend": true,
           "textposition": "auto",
           "type": "bar",
           "x": [
            "Panama"
           ],
           "xaxis": "x",
           "y": [
            0.4
           ],
           "yaxis": "y"
          },
          {
           "alignmentgroup": "True",
           "hovertemplate": "Country=%{x}<br>Year=2022<br>Percentage of Documents=%{y}<extra></extra>",
           "legendgroup": "Somalia",
           "marker": {
            "color": "#FFA15A",
            "pattern": {
             "shape": ""
            }
           },
           "name": "Somalia",
           "offsetgroup": "Somalia",
           "orientation": "v",
           "showlegend": true,
           "textposition": "auto",
           "type": "bar",
           "x": [
            "Somalia"
           ],
           "xaxis": "x",
           "y": [
            0.8
           ],
           "yaxis": "y"
          },
          {
           "alignmentgroup": "True",
           "hovertemplate": "Country=%{x}<br>Year=2022<br>Percentage of Documents=%{y}<extra></extra>",
           "legendgroup": "South Africa",
           "marker": {
            "color": "#19d3f3",
            "pattern": {
             "shape": ""
            }
           },
           "name": "South Africa",
           "offsetgroup": "South Africa",
           "orientation": "v",
           "showlegend": true,
           "textposition": "auto",
           "type": "bar",
           "x": [
            "South Africa"
           ],
           "xaxis": "x",
           "y": [
            0.4
           ],
           "yaxis": "y"
          },
          {
           "alignmentgroup": "True",
           "hovertemplate": "Country=%{x}<br>Year=2022<br>Percentage of Documents=%{y}<extra></extra>",
           "legendgroup": "Banking Sector Strengthening Project",
           "marker": {
            "color": "#B6E880",
            "pattern": {
             "shape": ""
            }
           },
           "name": "Banking Sector Strengthening Project",
           "offsetgroup": "Banking Sector Strengthening Project",
           "orientation": "v",
           "showlegend": true,
           "textposition": "auto",
           "type": "bar",
           "x": [
            "Banking Sector Strengthening Project"
           ],
           "xaxis": "x",
           "y": [
            0.4
           ],
           "yaxis": "y"
          },
          {
           "alignmentgroup": "True",
           "hovertemplate": "Country=%{x}<br>Year=2022<br>Percentage of Documents=%{y}<extra></extra>",
           "legendgroup": "Caribbean",
           "marker": {
            "color": "#FF97FF",
            "pattern": {
             "shape": ""
            }
           },
           "name": "Caribbean",
           "offsetgroup": "Caribbean",
           "orientation": "v",
           "showlegend": true,
           "textposition": "auto",
           "type": "bar",
           "x": [
            "Caribbean"
           ],
           "xaxis": "x",
           "y": [
            0.4
           ],
           "yaxis": "y"
          },
          {
           "alignmentgroup": "True",
           "hovertemplate": "Country=%{x}<br>Year=2022<br>Percentage of Documents=%{y}<extra></extra>",
           "legendgroup": "Central Africa",
           "marker": {
            "color": "#FECB52",
            "pattern": {
             "shape": ""
            }
           },
           "name": "Central Africa",
           "offsetgroup": "Central Africa",
           "orientation": "v",
           "showlegend": true,
           "textposition": "auto",
           "type": "bar",
           "x": [
            "Central Africa"
           ],
           "xaxis": "x",
           "y": [
            0.4
           ],
           "yaxis": "y"
          },
          {
           "alignmentgroup": "True",
           "hovertemplate": "Country=%{x}<br>Year=2022<br>Percentage of Documents=%{y}<extra></extra>",
           "legendgroup": "Chile",
           "marker": {
            "color": "#636efa",
            "pattern": {
             "shape": ""
            }
           },
           "name": "Chile",
           "offsetgroup": "Chile",
           "orientation": "v",
           "showlegend": true,
           "textposition": "auto",
           "type": "bar",
           "x": [
            "Chile"
           ],
           "xaxis": "x",
           "y": [
            0.4
           ],
           "yaxis": "y"
          },
          {
           "alignmentgroup": "True",
           "hovertemplate": "Country=%{x}<br>Year=2022<br>Percentage of Documents=%{y}<extra></extra>",
           "legendgroup": "Eastern and Southern Africa",
           "marker": {
            "color": "#EF553B",
            "pattern": {
             "shape": ""
            }
           },
           "name": "Eastern and Southern Africa",
           "offsetgroup": "Eastern and Southern Africa",
           "orientation": "v",
           "showlegend": true,
           "textposition": "auto",
           "type": "bar",
           "x": [
            "Eastern and Southern Africa"
           ],
           "xaxis": "x",
           "y": [
            1.6
           ],
           "yaxis": "y"
          },
          {
           "alignmentgroup": "True",
           "hovertemplate": "Country=%{x}<br>Year=2022<br>Percentage of Documents=%{y}<extra></extra>",
           "legendgroup": "Ecuador",
           "marker": {
            "color": "#00cc96",
            "pattern": {
             "shape": ""
            }
           },
           "name": "Ecuador",
           "offsetgroup": "Ecuador",
           "orientation": "v",
           "showlegend": true,
           "textposition": "auto",
           "type": "bar",
           "x": [
            "Ecuador"
           ],
           "xaxis": "x",
           "y": [
            0.8
           ],
           "yaxis": "y"
          },
          {
           "alignmentgroup": "True",
           "hovertemplate": "Country=%{x}<br>Year=2022<br>Percentage of Documents=%{y}<extra></extra>",
           "legendgroup": "Europe and Central Asia",
           "marker": {
            "color": "#ab63fa",
            "pattern": {
             "shape": ""
            }
           },
           "name": "Europe and Central Asia",
           "offsetgroup": "Europe and Central Asia",
           "orientation": "v",
           "showlegend": true,
           "textposition": "auto",
           "type": "bar",
           "x": [
            "Europe and Central Asia"
           ],
           "xaxis": "x",
           "y": [
            0.4
           ],
           "yaxis": "y"
          },
          {
           "alignmentgroup": "True",
           "hovertemplate": "Country=%{x}<br>Year=2022<br>Percentage of Documents=%{y}<extra></extra>",
           "legendgroup": "Fiscal Sustainability and Climate Resilience DPO",
           "marker": {
            "color": "#FFA15A",
            "pattern": {
             "shape": ""
            }
           },
           "name": "Fiscal Sustainability and Climate Resilience DPO",
           "offsetgroup": "Fiscal Sustainability and Climate Resilience DPO",
           "orientation": "v",
           "showlegend": true,
           "textposition": "auto",
           "type": "bar",
           "x": [
            "Fiscal Sustainability and Climate Resilience DPO"
           ],
           "xaxis": "x",
           "y": [
            0.4
           ],
           "yaxis": "y"
          },
          {
           "alignmentgroup": "True",
           "hovertemplate": "Country=%{x}<br>Year=2022<br>Percentage of Documents=%{y}<extra></extra>",
           "legendgroup": "Guyana",
           "marker": {
            "color": "#19d3f3",
            "pattern": {
             "shape": ""
            }
           },
           "name": "Guyana",
           "offsetgroup": "Guyana",
           "orientation": "v",
           "showlegend": true,
           "textposition": "auto",
           "type": "bar",
           "x": [
            "Guyana"
           ],
           "xaxis": "x",
           "y": [
            0.4
           ],
           "yaxis": "y"
          },
          {
           "alignmentgroup": "True",
           "hovertemplate": "Country=%{x}<br>Year=2022<br>Percentage of Documents=%{y}<extra></extra>",
           "legendgroup": "Hebei Clean Heating Project (P148599)",
           "marker": {
            "color": "#FF6692",
            "pattern": {
             "shape": ""
            }
           },
           "name": "Hebei Clean Heating Project (P148599)",
           "offsetgroup": "Hebei Clean Heating Project (P148599)",
           "orientation": "v",
           "showlegend": true,
           "textposition": "auto",
           "type": "bar",
           "x": [
            "Hebei Clean Heating Project (P148599)"
           ],
           "xaxis": "x",
           "y": [
            0.4
           ],
           "yaxis": "y"
          },
          {
           "alignmentgroup": "True",
           "hovertemplate": "Country=%{x}<br>Year=2022<br>Percentage of Documents=%{y}<extra></extra>",
           "legendgroup": "National Agricultural Innovation (P131013)",
           "marker": {
            "color": "#B6E880",
            "pattern": {
             "shape": ""
            }
           },
           "name": "National Agricultural Innovation (P131013)",
           "offsetgroup": "National Agricultural Innovation (P131013)",
           "orientation": "v",
           "showlegend": true,
           "textposition": "auto",
           "type": "bar",
           "x": [
            "National Agricultural Innovation (P131013)"
           ],
           "xaxis": "x",
           "y": [
            0.4
           ],
           "yaxis": "y"
          },
          {
           "alignmentgroup": "True",
           "hovertemplate": "Country=%{x}<br>Year=2022<br>Percentage of Documents=%{y}<extra></extra>",
           "legendgroup": "PNG Productive Partnerships in Agriculture",
           "marker": {
            "color": "#FF97FF",
            "pattern": {
             "shape": ""
            }
           },
           "name": "PNG Productive Partnerships in Agriculture",
           "offsetgroup": "PNG Productive Partnerships in Agriculture",
           "orientation": "v",
           "showlegend": true,
           "textposition": "auto",
           "type": "bar",
           "x": [
            "PNG Productive Partnerships in Agriculture"
           ],
           "xaxis": "x",
           "y": [
            0.4
           ],
           "yaxis": "y"
          },
          {
           "alignmentgroup": "True",
           "hovertemplate": "Country=%{x}<br>Year=2022<br>Percentage of Documents=%{y}<extra></extra>",
           "legendgroup": "Revenue Mobilization Program for Results: VAT Improvement Program (VIP) (P129770)",
           "marker": {
            "color": "#FECB52",
            "pattern": {
             "shape": ""
            }
           },
           "name": "Revenue Mobilization Program for Results: VAT Improvement Program (VIP) (P129770)",
           "offsetgroup": "Revenue Mobilization Program for Results: VAT Improvement Program (VIP) (P129770)",
           "orientation": "v",
           "showlegend": true,
           "textposition": "auto",
           "type": "bar",
           "x": [
            "Revenue Mobilization Program for Results: VAT Improvement Program (VIP) (P129770)"
           ],
           "xaxis": "x",
           "y": [
            0.4
           ],
           "yaxis": "y"
          },
          {
           "alignmentgroup": "True",
           "hovertemplate": "Country=%{x}<br>Year=2022<br>Percentage of Documents=%{y}<extra></extra>",
           "legendgroup": "Turkiye",
           "marker": {
            "color": "#636efa",
            "pattern": {
             "shape": ""
            }
           },
           "name": "Turkiye",
           "offsetgroup": "Turkiye",
           "orientation": "v",
           "showlegend": true,
           "textposition": "auto",
           "type": "bar",
           "x": [
            "Turkiye"
           ],
           "xaxis": "x",
           "y": [
            0.8
           ],
           "yaxis": "y"
          },
          {
           "alignmentgroup": "True",
           "hovertemplate": "Country=%{x}<br>Year=2022<br>Percentage of Documents=%{y}<extra></extra>",
           "legendgroup": "Tuvalu",
           "marker": {
            "color": "#EF553B",
            "pattern": {
             "shape": ""
            }
           },
           "name": "Tuvalu",
           "offsetgroup": "Tuvalu",
           "orientation": "v",
           "showlegend": true,
           "textposition": "auto",
           "type": "bar",
           "x": [
            "Tuvalu"
           ],
           "xaxis": "x",
           "y": [
            0.4
           ],
           "yaxis": "y"
          },
          {
           "alignmentgroup": "True",
           "hovertemplate": "Country=%{x}<br>Year=2022<br>Percentage of Documents=%{y}<extra></extra>",
           "legendgroup": "Ukraine",
           "marker": {
            "color": "#00cc96",
            "pattern": {
             "shape": ""
            }
           },
           "name": "Ukraine",
           "offsetgroup": "Ukraine",
           "orientation": "v",
           "showlegend": true,
           "textposition": "auto",
           "type": "bar",
           "x": [
            "Ukraine"
           ],
           "xaxis": "x",
           "y": [
            0.4
           ],
           "yaxis": "y"
          },
          {
           "alignmentgroup": "True",
           "hovertemplate": "Country=%{x}<br>Year=2022<br>Percentage of Documents=%{y}<extra></extra>",
           "legendgroup": "West Africa Regional Communications Infrastructure Project",
           "marker": {
            "color": "#ab63fa",
            "pattern": {
             "shape": ""
            }
           },
           "name": "West Africa Regional Communications Infrastructure Project",
           "offsetgroup": "West Africa Regional Communications Infrastructure Project",
           "orientation": "v",
           "showlegend": true,
           "textposition": "auto",
           "type": "bar",
           "x": [
            "West Africa Regional Communications Infrastructure Project"
           ],
           "xaxis": "x",
           "y": [
            0.4
           ],
           "yaxis": "y"
          },
          {
           "alignmentgroup": "True",
           "hovertemplate": "Country=%{x}<br>Year=2022<br>Percentage of Documents=%{y}<extra></extra>",
           "legendgroup": "Western and Central Africa",
           "marker": {
            "color": "#FFA15A",
            "pattern": {
             "shape": ""
            }
           },
           "name": "Western and Central Africa",
           "offsetgroup": "Western and Central Africa",
           "orientation": "v",
           "showlegend": true,
           "textposition": "auto",
           "type": "bar",
           "x": [
            "Western and Central Africa"
           ],
           "xaxis": "x",
           "y": [
            0.4
           ],
           "yaxis": "y"
          }
         ],
         "layout": {
          "title": {
           "text": "Percentage of Documents by Country - Year: 2022"
          },
          "xaxis": {
           "categoryarray": [
            "Afghanistan",
            "Africa",
            "Albania",
            "Angola",
            "Argentina",
            "Armenia",
            "Azerbaijan",
            "Bangladesh",
            "Banking Sector Strengthening Project",
            "Barbados",
            "Belarus",
            "Belize",
            "Benin",
            "Bhutan",
            "Bolivia",
            "Bosnia and Herzegovina",
            "Botswana",
            "Brazil",
            "Bulgaria",
            "Burkina Faso",
            "Burundi",
            "Cabo Verde",
            "Cambodia",
            "Cameroon",
            "Caribbean",
            "Central Africa",
            "Central African Republic",
            "Central Asia",
            "Chad",
            "Chile",
            "China",
            "Colombia",
            "Comoros",
            "Congo, Democratic Republic of",
            "Congo, Republic of",
            "Costa Rica",
            "Cote d'Ivoire",
            "Croatia",
            "Djibouti",
            "Dominica",
            "Dominican Republic",
            "Eastern Africa",
            "Eastern and Southern Africa",
            "Ecuador",
            "Egypt, Arab Republic of",
            "El Salvador",
            "Eswatini",
            "Ethiopia",
            "Europe and Central Asia",
            "Fiji",
            "Fiscal Sustainability and Climate Resilience DPO",
            "Gabon",
            "Gambia, The",
            "Georgia",
            "Ghana",
            "Grenada",
            "Guatemala",
            "Guinea",
            "Guyana",
            "Haiti",
            "Harsha Project",
            "Hebei Clean Heating Project (P148599)",
            "Honduras",
            "India",
            "Indonesia",
            "Iraq",
            "Jamaica",
            "Jordan",
            "Kazakhstan",
            "Kenya",
            "Kiribati",
            "Kosovo",
            "Kyrgyz Republic",
            "Lake Victoria Phase II APL 1 (FY09) (P100406) :",
            "Lao People's Democratic Republic",
            "Latin America",
            "Lebanon",
            "Lesotho",
            "Liberia",
            "Madagascar",
            "Malawi",
            "Maldives",
            "Mali",
            "Marshall Islands",
            "Mauritania",
            "Mexico",
            "Micronesia, Federated States of",
            "Middle East and North Africa",
            "Moldova",
            "Mongolia",
            "Montenegro",
            "Morocco",
            "Mozambique",
            "Myanmar",
            "National Agricultural Innovation (P131013)",
            "Nepal",
            "Nicaragua",
            "Niger",
            "Nigeria",
            "North Macedonia",
            "OECS Countries",
            "PNG Productive Partnerships in Agriculture",
            "Pacific Islands",
            "Pakistan",
            "Panama",
            "Papua New Guinea",
            "Paraguay",
            "Peru",
            "Philippines",
            "Poland",
            "Revenue Mobilization Program for Results: VAT Improvement Program (VIP) (P129770)",
            "Romania",
            "Russian Federation",
            "Rwanda",
            "Samoa",
            "Sao Tome and Principe",
            "Senegal",
            "Serbia",
            "Seychelles",
            "Sierra Leone",
            "Solomon Islands",
            "Somalia",
            "South Africa",
            "South Sudan",
            "Southern Africa",
            "Sri Lanka",
            "St Maarten",
            "St. Lucia",
            "St. Vincent and the Grenadines",
            "Sudan",
            "Tajikistan",
            "Tanzania",
            "Thailand",
            "Timor",
            "Togo",
            "Tonga",
            "Tunisia",
            "Turkey",
            "Turkiye",
            "Tuvalu",
            "Uganda",
            "Ukraine",
            "Uruguay",
            "Uzbekistan",
            "Vanuatu",
            "Vietnam",
            "West Africa Regional Communications Infrastructure Project",
            "West Bank and Gaza",
            "Western Africa",
            "Western Balkans",
            "Western and Central Africa",
            "World",
            "Yemen, Republic of",
            "Zambia",
            "Zimbabwe"
           ],
           "categoryorder": "array"
          },
          "yaxis": {
           "range": [
            0,
            11.990000000000002
           ]
          }
         },
         "name": "2022"
        },
        {
         "data": [
          {
           "alignmentgroup": "True",
           "hovertemplate": "Country=%{x}<br>Year=2023<br>Percentage of Documents=%{y}<extra></extra>",
           "legendgroup": "Afghanistan",
           "marker": {
            "color": "#636efa",
            "pattern": {
             "shape": ""
            }
           },
           "name": "Afghanistan",
           "offsetgroup": "Afghanistan",
           "orientation": "v",
           "showlegend": true,
           "textposition": "auto",
           "type": "bar",
           "x": [
            "Afghanistan"
           ],
           "xaxis": "x",
           "y": [
            5.7
           ],
           "yaxis": "y"
          },
          {
           "alignmentgroup": "True",
           "hovertemplate": "Country=%{x}<br>Year=2023<br>Percentage of Documents=%{y}<extra></extra>",
           "legendgroup": "Albania",
           "marker": {
            "color": "#00cc96",
            "pattern": {
             "shape": ""
            }
           },
           "name": "Albania",
           "offsetgroup": "Albania",
           "orientation": "v",
           "showlegend": true,
           "textposition": "auto",
           "type": "bar",
           "x": [
            "Albania"
           ],
           "xaxis": "x",
           "y": [
            1.3
           ],
           "yaxis": "y"
          },
          {
           "alignmentgroup": "True",
           "hovertemplate": "Country=%{x}<br>Year=2023<br>Percentage of Documents=%{y}<extra></extra>",
           "legendgroup": "Angola",
           "marker": {
            "color": "#ab63fa",
            "pattern": {
             "shape": ""
            }
           },
           "name": "Angola",
           "offsetgroup": "Angola",
           "orientation": "v",
           "showlegend": true,
           "textposition": "auto",
           "type": "bar",
           "x": [
            "Angola"
           ],
           "xaxis": "x",
           "y": [
            1.3
           ],
           "yaxis": "y"
          },
          {
           "alignmentgroup": "True",
           "hovertemplate": "Country=%{x}<br>Year=2023<br>Percentage of Documents=%{y}<extra></extra>",
           "legendgroup": "Argentina",
           "marker": {
            "color": "#FFA15A",
            "pattern": {
             "shape": ""
            }
           },
           "name": "Argentina",
           "offsetgroup": "Argentina",
           "orientation": "v",
           "showlegend": true,
           "textposition": "auto",
           "type": "bar",
           "x": [
            "Argentina"
           ],
           "xaxis": "x",
           "y": [
            2.2
           ],
           "yaxis": "y"
          },
          {
           "alignmentgroup": "True",
           "hovertemplate": "Country=%{x}<br>Year=2023<br>Percentage of Documents=%{y}<extra></extra>",
           "legendgroup": "Armenia",
           "marker": {
            "color": "#19d3f3",
            "pattern": {
             "shape": ""
            }
           },
           "name": "Armenia",
           "offsetgroup": "Armenia",
           "orientation": "v",
           "showlegend": true,
           "textposition": "auto",
           "type": "bar",
           "x": [
            "Armenia"
           ],
           "xaxis": "x",
           "y": [
            0.3
           ],
           "yaxis": "y"
          },
          {
           "alignmentgroup": "True",
           "hovertemplate": "Country=%{x}<br>Year=2023<br>Percentage of Documents=%{y}<extra></extra>",
           "legendgroup": "Azerbaijan",
           "marker": {
            "color": "#FF6692",
            "pattern": {
             "shape": ""
            }
           },
           "name": "Azerbaijan",
           "offsetgroup": "Azerbaijan",
           "orientation": "v",
           "showlegend": true,
           "textposition": "auto",
           "type": "bar",
           "x": [
            "Azerbaijan"
           ],
           "xaxis": "x",
           "y": [
            0.3
           ],
           "yaxis": "y"
          },
          {
           "alignmentgroup": "True",
           "hovertemplate": "Country=%{x}<br>Year=2023<br>Percentage of Documents=%{y}<extra></extra>",
           "legendgroup": "Bangladesh",
           "marker": {
            "color": "#B6E880",
            "pattern": {
             "shape": ""
            }
           },
           "name": "Bangladesh",
           "offsetgroup": "Bangladesh",
           "orientation": "v",
           "showlegend": true,
           "textposition": "auto",
           "type": "bar",
           "x": [
            "Bangladesh"
           ],
           "xaxis": "x",
           "y": [
            1.6
           ],
           "yaxis": "y"
          },
          {
           "alignmentgroup": "True",
           "hovertemplate": "Country=%{x}<br>Year=2023<br>Percentage of Documents=%{y}<extra></extra>",
           "legendgroup": "Benin",
           "marker": {
            "color": "#FF97FF",
            "pattern": {
             "shape": ""
            }
           },
           "name": "Benin",
           "offsetgroup": "Benin",
           "orientation": "v",
           "showlegend": true,
           "textposition": "auto",
           "type": "bar",
           "x": [
            "Benin"
           ],
           "xaxis": "x",
           "y": [
            1.9
           ],
           "yaxis": "y"
          },
          {
           "alignmentgroup": "True",
           "hovertemplate": "Country=%{x}<br>Year=2023<br>Percentage of Documents=%{y}<extra></extra>",
           "legendgroup": "Bhutan",
           "marker": {
            "color": "#FECB52",
            "pattern": {
             "shape": ""
            }
           },
           "name": "Bhutan",
           "offsetgroup": "Bhutan",
           "orientation": "v",
           "showlegend": true,
           "textposition": "auto",
           "type": "bar",
           "x": [
            "Bhutan"
           ],
           "xaxis": "x",
           "y": [
            0.6
           ],
           "yaxis": "y"
          },
          {
           "alignmentgroup": "True",
           "hovertemplate": "Country=%{x}<br>Year=2023<br>Percentage of Documents=%{y}<extra></extra>",
           "legendgroup": "Bosnia and Herzegovina",
           "marker": {
            "color": "#636efa",
            "pattern": {
             "shape": ""
            }
           },
           "name": "Bosnia and Herzegovina",
           "offsetgroup": "Bosnia and Herzegovina",
           "orientation": "v",
           "showlegend": true,
           "textposition": "auto",
           "type": "bar",
           "x": [
            "Bosnia and Herzegovina"
           ],
           "xaxis": "x",
           "y": [
            0.3
           ],
           "yaxis": "y"
          },
          {
           "alignmentgroup": "True",
           "hovertemplate": "Country=%{x}<br>Year=2023<br>Percentage of Documents=%{y}<extra></extra>",
           "legendgroup": "Brazil",
           "marker": {
            "color": "#EF553B",
            "pattern": {
             "shape": ""
            }
           },
           "name": "Brazil",
           "offsetgroup": "Brazil",
           "orientation": "v",
           "showlegend": true,
           "textposition": "auto",
           "type": "bar",
           "x": [
            "Brazil"
           ],
           "xaxis": "x",
           "y": [
            3.2
           ],
           "yaxis": "y"
          },
          {
           "alignmentgroup": "True",
           "hovertemplate": "Country=%{x}<br>Year=2023<br>Percentage of Documents=%{y}<extra></extra>",
           "legendgroup": "Burkina Faso",
           "marker": {
            "color": "#00cc96",
            "pattern": {
             "shape": ""
            }
           },
           "name": "Burkina Faso",
           "offsetgroup": "Burkina Faso",
           "orientation": "v",
           "showlegend": true,
           "textposition": "auto",
           "type": "bar",
           "x": [
            "Burkina Faso"
           ],
           "xaxis": "x",
           "y": [
            1.6
           ],
           "yaxis": "y"
          },
          {
           "alignmentgroup": "True",
           "hovertemplate": "Country=%{x}<br>Year=2023<br>Percentage of Documents=%{y}<extra></extra>",
           "legendgroup": "Burundi",
           "marker": {
            "color": "#ab63fa",
            "pattern": {
             "shape": ""
            }
           },
           "name": "Burundi",
           "offsetgroup": "Burundi",
           "orientation": "v",
           "showlegend": true,
           "textposition": "auto",
           "type": "bar",
           "x": [
            "Burundi"
           ],
           "xaxis": "x",
           "y": [
            0.9
           ],
           "yaxis": "y"
          },
          {
           "alignmentgroup": "True",
           "hovertemplate": "Country=%{x}<br>Year=2023<br>Percentage of Documents=%{y}<extra></extra>",
           "legendgroup": "Cabo Verde",
           "marker": {
            "color": "#FFA15A",
            "pattern": {
             "shape": ""
            }
           },
           "name": "Cabo Verde",
           "offsetgroup": "Cabo Verde",
           "orientation": "v",
           "showlegend": true,
           "textposition": "auto",
           "type": "bar",
           "x": [
            "Cabo Verde"
           ],
           "xaxis": "x",
           "y": [
            0.6
           ],
           "yaxis": "y"
          },
          {
           "alignmentgroup": "True",
           "hovertemplate": "Country=%{x}<br>Year=2023<br>Percentage of Documents=%{y}<extra></extra>",
           "legendgroup": "Chad",
           "marker": {
            "color": "#FF6692",
            "pattern": {
             "shape": ""
            }
           },
           "name": "Chad",
           "offsetgroup": "Chad",
           "orientation": "v",
           "showlegend": true,
           "textposition": "auto",
           "type": "bar",
           "x": [
            "Chad"
           ],
           "xaxis": "x",
           "y": [
            0.6
           ],
           "yaxis": "y"
          },
          {
           "alignmentgroup": "True",
           "hovertemplate": "Country=%{x}<br>Year=2023<br>Percentage of Documents=%{y}<extra></extra>",
           "legendgroup": "China",
           "marker": {
            "color": "#B6E880",
            "pattern": {
             "shape": ""
            }
           },
           "name": "China",
           "offsetgroup": "China",
           "orientation": "v",
           "showlegend": true,
           "textposition": "auto",
           "type": "bar",
           "x": [
            "China"
           ],
           "xaxis": "x",
           "y": [
            6
           ],
           "yaxis": "y"
          },
          {
           "alignmentgroup": "True",
           "hovertemplate": "Country=%{x}<br>Year=2023<br>Percentage of Documents=%{y}<extra></extra>",
           "legendgroup": "Colombia",
           "marker": {
            "color": "#FF97FF",
            "pattern": {
             "shape": ""
            }
           },
           "name": "Colombia",
           "offsetgroup": "Colombia",
           "orientation": "v",
           "showlegend": true,
           "textposition": "auto",
           "type": "bar",
           "x": [
            "Colombia"
           ],
           "xaxis": "x",
           "y": [
            0.9
           ],
           "yaxis": "y"
          },
          {
           "alignmentgroup": "True",
           "hovertemplate": "Country=%{x}<br>Year=2023<br>Percentage of Documents=%{y}<extra></extra>",
           "legendgroup": "Comoros",
           "marker": {
            "color": "#FECB52",
            "pattern": {
             "shape": ""
            }
           },
           "name": "Comoros",
           "offsetgroup": "Comoros",
           "orientation": "v",
           "showlegend": true,
           "textposition": "auto",
           "type": "bar",
           "x": [
            "Comoros"
           ],
           "xaxis": "x",
           "y": [
            0.3
           ],
           "yaxis": "y"
          },
          {
           "alignmentgroup": "True",
           "hovertemplate": "Country=%{x}<br>Year=2023<br>Percentage of Documents=%{y}<extra></extra>",
           "legendgroup": "Congo, Democratic Republic of",
           "marker": {
            "color": "#636efa",
            "pattern": {
             "shape": ""
            }
           },
           "name": "Congo, Democratic Republic of",
           "offsetgroup": "Congo, Democratic Republic of",
           "orientation": "v",
           "showlegend": true,
           "textposition": "auto",
           "type": "bar",
           "x": [
            "Congo, Democratic Republic of"
           ],
           "xaxis": "x",
           "y": [
            0.6
           ],
           "yaxis": "y"
          },
          {
           "alignmentgroup": "True",
           "hovertemplate": "Country=%{x}<br>Year=2023<br>Percentage of Documents=%{y}<extra></extra>",
           "legendgroup": "Cote d'Ivoire",
           "marker": {
            "color": "#ab63fa",
            "pattern": {
             "shape": ""
            }
           },
           "name": "Cote d'Ivoire",
           "offsetgroup": "Cote d'Ivoire",
           "orientation": "v",
           "showlegend": true,
           "textposition": "auto",
           "type": "bar",
           "x": [
            "Cote d'Ivoire"
           ],
           "xaxis": "x",
           "y": [
            0.6
           ],
           "yaxis": "y"
          },
          {
           "alignmentgroup": "True",
           "hovertemplate": "Country=%{x}<br>Year=2023<br>Percentage of Documents=%{y}<extra></extra>",
           "legendgroup": "Djibouti",
           "marker": {
            "color": "#FFA15A",
            "pattern": {
             "shape": ""
            }
           },
           "name": "Djibouti",
           "offsetgroup": "Djibouti",
           "orientation": "v",
           "showlegend": true,
           "textposition": "auto",
           "type": "bar",
           "x": [
            "Djibouti"
           ],
           "xaxis": "x",
           "y": [
            0.6
           ],
           "yaxis": "y"
          },
          {
           "alignmentgroup": "True",
           "hovertemplate": "Country=%{x}<br>Year=2023<br>Percentage of Documents=%{y}<extra></extra>",
           "legendgroup": "Dominican Republic",
           "marker": {
            "color": "#19d3f3",
            "pattern": {
             "shape": ""
            }
           },
           "name": "Dominican Republic",
           "offsetgroup": "Dominican Republic",
           "orientation": "v",
           "showlegend": true,
           "textposition": "auto",
           "type": "bar",
           "x": [
            "Dominican Republic"
           ],
           "xaxis": "x",
           "y": [
            0.9
           ],
           "yaxis": "y"
          },
          {
           "alignmentgroup": "True",
           "hovertemplate": "Country=%{x}<br>Year=2023<br>Percentage of Documents=%{y}<extra></extra>",
           "legendgroup": "Egypt, Arab Republic of",
           "marker": {
            "color": "#B6E880",
            "pattern": {
             "shape": ""
            }
           },
           "name": "Egypt, Arab Republic of",
           "offsetgroup": "Egypt, Arab Republic of",
           "orientation": "v",
           "showlegend": true,
           "textposition": "auto",
           "type": "bar",
           "x": [
            "Egypt, Arab Republic of"
           ],
           "xaxis": "x",
           "y": [
            0.9
           ],
           "yaxis": "y"
          },
          {
           "alignmentgroup": "True",
           "hovertemplate": "Country=%{x}<br>Year=2023<br>Percentage of Documents=%{y}<extra></extra>",
           "legendgroup": "Ethiopia",
           "marker": {
            "color": "#636efa",
            "pattern": {
             "shape": ""
            }
           },
           "name": "Ethiopia",
           "offsetgroup": "Ethiopia",
           "orientation": "v",
           "showlegend": true,
           "textposition": "auto",
           "type": "bar",
           "x": [
            "Ethiopia"
           ],
           "xaxis": "x",
           "y": [
            1.3
           ],
           "yaxis": "y"
          },
          {
           "alignmentgroup": "True",
           "hovertemplate": "Country=%{x}<br>Year=2023<br>Percentage of Documents=%{y}<extra></extra>",
           "legendgroup": "Fiji",
           "marker": {
            "color": "#EF553B",
            "pattern": {
             "shape": ""
            }
           },
           "name": "Fiji",
           "offsetgroup": "Fiji",
           "orientation": "v",
           "showlegend": true,
           "textposition": "auto",
           "type": "bar",
           "x": [
            "Fiji"
           ],
           "xaxis": "x",
           "y": [
            0.3
           ],
           "yaxis": "y"
          },
          {
           "alignmentgroup": "True",
           "hovertemplate": "Country=%{x}<br>Year=2023<br>Percentage of Documents=%{y}<extra></extra>",
           "legendgroup": "Ghana",
           "marker": {
            "color": "#ab63fa",
            "pattern": {
             "shape": ""
            }
           },
           "name": "Ghana",
           "offsetgroup": "Ghana",
           "orientation": "v",
           "showlegend": true,
           "textposition": "auto",
           "type": "bar",
           "x": [
            "Ghana"
           ],
           "xaxis": "x",
           "y": [
            1.9
           ],
           "yaxis": "y"
          },
          {
           "alignmentgroup": "True",
           "hovertemplate": "Country=%{x}<br>Year=2023<br>Percentage of Documents=%{y}<extra></extra>",
           "legendgroup": "Grenada",
           "marker": {
            "color": "#FFA15A",
            "pattern": {
             "shape": ""
            }
           },
           "name": "Grenada",
           "offsetgroup": "Grenada",
           "orientation": "v",
           "showlegend": true,
           "textposition": "auto",
           "type": "bar",
           "x": [
            "Grenada"
           ],
           "xaxis": "x",
           "y": [
            0.6
           ],
           "yaxis": "y"
          },
          {
           "alignmentgroup": "True",
           "hovertemplate": "Country=%{x}<br>Year=2023<br>Percentage of Documents=%{y}<extra></extra>",
           "legendgroup": "Guinea",
           "marker": {
            "color": "#19d3f3",
            "pattern": {
             "shape": ""
            }
           },
           "name": "Guinea",
           "offsetgroup": "Guinea",
           "orientation": "v",
           "showlegend": true,
           "textposition": "auto",
           "type": "bar",
           "x": [
            "Guinea"
           ],
           "xaxis": "x",
           "y": [
            0.9
           ],
           "yaxis": "y"
          },
          {
           "alignmentgroup": "True",
           "hovertemplate": "Country=%{x}<br>Year=2023<br>Percentage of Documents=%{y}<extra></extra>",
           "legendgroup": "Haiti",
           "marker": {
            "color": "#FF6692",
            "pattern": {
             "shape": ""
            }
           },
           "name": "Haiti",
           "offsetgroup": "Haiti",
           "orientation": "v",
           "showlegend": true,
           "textposition": "auto",
           "type": "bar",
           "x": [
            "Haiti"
           ],
           "xaxis": "x",
           "y": [
            0.9
           ],
           "yaxis": "y"
          },
          {
           "alignmentgroup": "True",
           "hovertemplate": "Country=%{x}<br>Year=2023<br>Percentage of Documents=%{y}<extra></extra>",
           "legendgroup": "India",
           "marker": {
            "color": "#FF97FF",
            "pattern": {
             "shape": ""
            }
           },
           "name": "India",
           "offsetgroup": "India",
           "orientation": "v",
           "showlegend": true,
           "textposition": "auto",
           "type": "bar",
           "x": [
            "India"
           ],
           "xaxis": "x",
           "y": [
            4.1
           ],
           "yaxis": "y"
          },
          {
           "alignmentgroup": "True",
           "hovertemplate": "Country=%{x}<br>Year=2023<br>Percentage of Documents=%{y}<extra></extra>",
           "legendgroup": "Indonesia",
           "marker": {
            "color": "#FECB52",
            "pattern": {
             "shape": ""
            }
           },
           "name": "Indonesia",
           "offsetgroup": "Indonesia",
           "orientation": "v",
           "showlegend": true,
           "textposition": "auto",
           "type": "bar",
           "x": [
            "Indonesia"
           ],
           "xaxis": "x",
           "y": [
            2.2
           ],
           "yaxis": "y"
          },
          {
           "alignmentgroup": "True",
           "hovertemplate": "Country=%{x}<br>Year=2023<br>Percentage of Documents=%{y}<extra></extra>",
           "legendgroup": "Jamaica",
           "marker": {
            "color": "#EF553B",
            "pattern": {
             "shape": ""
            }
           },
           "name": "Jamaica",
           "offsetgroup": "Jamaica",
           "orientation": "v",
           "showlegend": true,
           "textposition": "auto",
           "type": "bar",
           "x": [
            "Jamaica"
           ],
           "xaxis": "x",
           "y": [
            1.3
           ],
           "yaxis": "y"
          },
          {
           "alignmentgroup": "True",
           "hovertemplate": "Country=%{x}<br>Year=2023<br>Percentage of Documents=%{y}<extra></extra>",
           "legendgroup": "Kenya",
           "marker": {
            "color": "#ab63fa",
            "pattern": {
             "shape": ""
            }
           },
           "name": "Kenya",
           "offsetgroup": "Kenya",
           "orientation": "v",
           "showlegend": true,
           "textposition": "auto",
           "type": "bar",
           "x": [
            "Kenya"
           ],
           "xaxis": "x",
           "y": [
            1.6
           ],
           "yaxis": "y"
          },
          {
           "alignmentgroup": "True",
           "hovertemplate": "Country=%{x}<br>Year=2023<br>Percentage of Documents=%{y}<extra></extra>",
           "legendgroup": "Kiribati",
           "marker": {
            "color": "#FFA15A",
            "pattern": {
             "shape": ""
            }
           },
           "name": "Kiribati",
           "offsetgroup": "Kiribati",
           "orientation": "v",
           "showlegend": true,
           "textposition": "auto",
           "type": "bar",
           "x": [
            "Kiribati"
           ],
           "xaxis": "x",
           "y": [
            0.3
           ],
           "yaxis": "y"
          },
          {
           "alignmentgroup": "True",
           "hovertemplate": "Country=%{x}<br>Year=2023<br>Percentage of Documents=%{y}<extra></extra>",
           "legendgroup": "Kosovo",
           "marker": {
            "color": "#19d3f3",
            "pattern": {
             "shape": ""
            }
           },
           "name": "Kosovo",
           "offsetgroup": "Kosovo",
           "orientation": "v",
           "showlegend": true,
           "textposition": "auto",
           "type": "bar",
           "x": [
            "Kosovo"
           ],
           "xaxis": "x",
           "y": [
            0.3
           ],
           "yaxis": "y"
          },
          {
           "alignmentgroup": "True",
           "hovertemplate": "Country=%{x}<br>Year=2023<br>Percentage of Documents=%{y}<extra></extra>",
           "legendgroup": "Kyrgyz Republic",
           "marker": {
            "color": "#FF6692",
            "pattern": {
             "shape": ""
            }
           },
           "name": "Kyrgyz Republic",
           "offsetgroup": "Kyrgyz Republic",
           "orientation": "v",
           "showlegend": true,
           "textposition": "auto",
           "type": "bar",
           "x": [
            "Kyrgyz Republic"
           ],
           "xaxis": "x",
           "y": [
            0.6
           ],
           "yaxis": "y"
          },
          {
           "alignmentgroup": "True",
           "hovertemplate": "Country=%{x}<br>Year=2023<br>Percentage of Documents=%{y}<extra></extra>",
           "legendgroup": "Lao People's Democratic Republic",
           "marker": {
            "color": "#FF97FF",
            "pattern": {
             "shape": ""
            }
           },
           "name": "Lao People's Democratic Republic",
           "offsetgroup": "Lao People's Democratic Republic",
           "orientation": "v",
           "showlegend": true,
           "textposition": "auto",
           "type": "bar",
           "x": [
            "Lao People's Democratic Republic"
           ],
           "xaxis": "x",
           "y": [
            1.3
           ],
           "yaxis": "y"
          },
          {
           "alignmentgroup": "True",
           "hovertemplate": "Country=%{x}<br>Year=2023<br>Percentage of Documents=%{y}<extra></extra>",
           "legendgroup": "Madagascar",
           "marker": {
            "color": "#636efa",
            "pattern": {
             "shape": ""
            }
           },
           "name": "Madagascar",
           "offsetgroup": "Madagascar",
           "orientation": "v",
           "showlegend": true,
           "textposition": "auto",
           "type": "bar",
           "x": [
            "Madagascar"
           ],
           "xaxis": "x",
           "y": [
            1.3
           ],
           "yaxis": "y"
          },
          {
           "alignmentgroup": "True",
           "hovertemplate": "Country=%{x}<br>Year=2023<br>Percentage of Documents=%{y}<extra></extra>",
           "legendgroup": "Malawi",
           "marker": {
            "color": "#EF553B",
            "pattern": {
             "shape": ""
            }
           },
           "name": "Malawi",
           "offsetgroup": "Malawi",
           "orientation": "v",
           "showlegend": true,
           "textposition": "auto",
           "type": "bar",
           "x": [
            "Malawi"
           ],
           "xaxis": "x",
           "y": [
            0.3
           ],
           "yaxis": "y"
          },
          {
           "alignmentgroup": "True",
           "hovertemplate": "Country=%{x}<br>Year=2023<br>Percentage of Documents=%{y}<extra></extra>",
           "legendgroup": "Maldives",
           "marker": {
            "color": "#00cc96",
            "pattern": {
             "shape": ""
            }
           },
           "name": "Maldives",
           "offsetgroup": "Maldives",
           "orientation": "v",
           "showlegend": true,
           "textposition": "auto",
           "type": "bar",
           "x": [
            "Maldives"
           ],
           "xaxis": "x",
           "y": [
            0.3
           ],
           "yaxis": "y"
          },
          {
           "alignmentgroup": "True",
           "hovertemplate": "Country=%{x}<br>Year=2023<br>Percentage of Documents=%{y}<extra></extra>",
           "legendgroup": "Mauritania",
           "marker": {
            "color": "#ab63fa",
            "pattern": {
             "shape": ""
            }
           },
           "name": "Mauritania",
           "offsetgroup": "Mauritania",
           "orientation": "v",
           "showlegend": true,
           "textposition": "auto",
           "type": "bar",
           "x": [
            "Mauritania"
           ],
           "xaxis": "x",
           "y": [
            0.9
           ],
           "yaxis": "y"
          },
          {
           "alignmentgroup": "True",
           "hovertemplate": "Country=%{x}<br>Year=2023<br>Percentage of Documents=%{y}<extra></extra>",
           "legendgroup": "Mexico",
           "marker": {
            "color": "#FFA15A",
            "pattern": {
             "shape": ""
            }
           },
           "name": "Mexico",
           "offsetgroup": "Mexico",
           "orientation": "v",
           "showlegend": true,
           "textposition": "auto",
           "type": "bar",
           "x": [
            "Mexico"
           ],
           "xaxis": "x",
           "y": [
            0.6
           ],
           "yaxis": "y"
          },
          {
           "alignmentgroup": "True",
           "hovertemplate": "Country=%{x}<br>Year=2023<br>Percentage of Documents=%{y}<extra></extra>",
           "legendgroup": "Moldova",
           "marker": {
            "color": "#FF6692",
            "pattern": {
             "shape": ""
            }
           },
           "name": "Moldova",
           "offsetgroup": "Moldova",
           "orientation": "v",
           "showlegend": true,
           "textposition": "auto",
           "type": "bar",
           "x": [
            "Moldova"
           ],
           "xaxis": "x",
           "y": [
            0.6
           ],
           "yaxis": "y"
          },
          {
           "alignmentgroup": "True",
           "hovertemplate": "Country=%{x}<br>Year=2023<br>Percentage of Documents=%{y}<extra></extra>",
           "legendgroup": "Morocco",
           "marker": {
            "color": "#FF97FF",
            "pattern": {
             "shape": ""
            }
           },
           "name": "Morocco",
           "offsetgroup": "Morocco",
           "orientation": "v",
           "showlegend": true,
           "textposition": "auto",
           "type": "bar",
           "x": [
            "Morocco"
           ],
           "xaxis": "x",
           "y": [
            0.3
           ],
           "yaxis": "y"
          },
          {
           "alignmentgroup": "True",
           "hovertemplate": "Country=%{x}<br>Year=2023<br>Percentage of Documents=%{y}<extra></extra>",
           "legendgroup": "Mozambique",
           "marker": {
            "color": "#FECB52",
            "pattern": {
             "shape": ""
            }
           },
           "name": "Mozambique",
           "offsetgroup": "Mozambique",
           "orientation": "v",
           "showlegend": true,
           "textposition": "auto",
           "type": "bar",
           "x": [
            "Mozambique"
           ],
           "xaxis": "x",
           "y": [
            0.9
           ],
           "yaxis": "y"
          },
          {
           "alignmentgroup": "True",
           "hovertemplate": "Country=%{x}<br>Year=2023<br>Percentage of Documents=%{y}<extra></extra>",
           "legendgroup": "Nepal",
           "marker": {
            "color": "#636efa",
            "pattern": {
             "shape": ""
            }
           },
           "name": "Nepal",
           "offsetgroup": "Nepal",
           "orientation": "v",
           "showlegend": true,
           "textposition": "auto",
           "type": "bar",
           "x": [
            "Nepal"
           ],
           "xaxis": "x",
           "y": [
            1.3
           ],
           "yaxis": "y"
          },
          {
           "alignmentgroup": "True",
           "hovertemplate": "Country=%{x}<br>Year=2023<br>Percentage of Documents=%{y}<extra></extra>",
           "legendgroup": "Nicaragua",
           "marker": {
            "color": "#EF553B",
            "pattern": {
             "shape": ""
            }
           },
           "name": "Nicaragua",
           "offsetgroup": "Nicaragua",
           "orientation": "v",
           "showlegend": true,
           "textposition": "auto",
           "type": "bar",
           "x": [
            "Nicaragua"
           ],
           "xaxis": "x",
           "y": [
            0.3
           ],
           "yaxis": "y"
          },
          {
           "alignmentgroup": "True",
           "hovertemplate": "Country=%{x}<br>Year=2023<br>Percentage of Documents=%{y}<extra></extra>",
           "legendgroup": "Niger",
           "marker": {
            "color": "#00cc96",
            "pattern": {
             "shape": ""
            }
           },
           "name": "Niger",
           "offsetgroup": "Niger",
           "orientation": "v",
           "showlegend": true,
           "textposition": "auto",
           "type": "bar",
           "x": [
            "Niger"
           ],
           "xaxis": "x",
           "y": [
            1.3
           ],
           "yaxis": "y"
          },
          {
           "alignmentgroup": "True",
           "hovertemplate": "Country=%{x}<br>Year=2023<br>Percentage of Documents=%{y}<extra></extra>",
           "legendgroup": "Nigeria",
           "marker": {
            "color": "#ab63fa",
            "pattern": {
             "shape": ""
            }
           },
           "name": "Nigeria",
           "offsetgroup": "Nigeria",
           "orientation": "v",
           "showlegend": true,
           "textposition": "auto",
           "type": "bar",
           "x": [
            "Nigeria"
           ],
           "xaxis": "x",
           "y": [
            0.6
           ],
           "yaxis": "y"
          },
          {
           "alignmentgroup": "True",
           "hovertemplate": "Country=%{x}<br>Year=2023<br>Percentage of Documents=%{y}<extra></extra>",
           "legendgroup": "North Macedonia",
           "marker": {
            "color": "#FFA15A",
            "pattern": {
             "shape": ""
            }
           },
           "name": "North Macedonia",
           "offsetgroup": "North Macedonia",
           "orientation": "v",
           "showlegend": true,
           "textposition": "auto",
           "type": "bar",
           "x": [
            "North Macedonia"
           ],
           "xaxis": "x",
           "y": [
            0.6
           ],
           "yaxis": "y"
          },
          {
           "alignmentgroup": "True",
           "hovertemplate": "Country=%{x}<br>Year=2023<br>Percentage of Documents=%{y}<extra></extra>",
           "legendgroup": "OECS Countries",
           "marker": {
            "color": "#19d3f3",
            "pattern": {
             "shape": ""
            }
           },
           "name": "OECS Countries",
           "offsetgroup": "OECS Countries",
           "orientation": "v",
           "showlegend": true,
           "textposition": "auto",
           "type": "bar",
           "x": [
            "OECS Countries"
           ],
           "xaxis": "x",
           "y": [
            0.6
           ],
           "yaxis": "y"
          },
          {
           "alignmentgroup": "True",
           "hovertemplate": "Country=%{x}<br>Year=2023<br>Percentage of Documents=%{y}<extra></extra>",
           "legendgroup": "Pakistan",
           "marker": {
            "color": "#FF6692",
            "pattern": {
             "shape": ""
            }
           },
           "name": "Pakistan",
           "offsetgroup": "Pakistan",
           "orientation": "v",
           "showlegend": true,
           "textposition": "auto",
           "type": "bar",
           "x": [
            "Pakistan"
           ],
           "xaxis": "x",
           "y": [
            1.9
           ],
           "yaxis": "y"
          },
          {
           "alignmentgroup": "True",
           "hovertemplate": "Country=%{x}<br>Year=2023<br>Percentage of Documents=%{y}<extra></extra>",
           "legendgroup": "Peru",
           "marker": {
            "color": "#FECB52",
            "pattern": {
             "shape": ""
            }
           },
           "name": "Peru",
           "offsetgroup": "Peru",
           "orientation": "v",
           "showlegend": true,
           "textposition": "auto",
           "type": "bar",
           "x": [
            "Peru"
           ],
           "xaxis": "x",
           "y": [
            0.9
           ],
           "yaxis": "y"
          },
          {
           "alignmentgroup": "True",
           "hovertemplate": "Country=%{x}<br>Year=2023<br>Percentage of Documents=%{y}<extra></extra>",
           "legendgroup": "Philippines",
           "marker": {
            "color": "#636efa",
            "pattern": {
             "shape": ""
            }
           },
           "name": "Philippines",
           "offsetgroup": "Philippines",
           "orientation": "v",
           "showlegend": true,
           "textposition": "auto",
           "type": "bar",
           "x": [
            "Philippines"
           ],
           "xaxis": "x",
           "y": [
            0.3
           ],
           "yaxis": "y"
          },
          {
           "alignmentgroup": "True",
           "hovertemplate": "Country=%{x}<br>Year=2023<br>Percentage of Documents=%{y}<extra></extra>",
           "legendgroup": "Russian Federation",
           "marker": {
            "color": "#EF553B",
            "pattern": {
             "shape": ""
            }
           },
           "name": "Russian Federation",
           "offsetgroup": "Russian Federation",
           "orientation": "v",
           "showlegend": true,
           "textposition": "auto",
           "type": "bar",
           "x": [
            "Russian Federation"
           ],
           "xaxis": "x",
           "y": [
            0.3
           ],
           "yaxis": "y"
          },
          {
           "alignmentgroup": "True",
           "hovertemplate": "Country=%{x}<br>Year=2023<br>Percentage of Documents=%{y}<extra></extra>",
           "legendgroup": "Rwanda",
           "marker": {
            "color": "#00cc96",
            "pattern": {
             "shape": ""
            }
           },
           "name": "Rwanda",
           "offsetgroup": "Rwanda",
           "orientation": "v",
           "showlegend": true,
           "textposition": "auto",
           "type": "bar",
           "x": [
            "Rwanda"
           ],
           "xaxis": "x",
           "y": [
            1.3
           ],
           "yaxis": "y"
          },
          {
           "alignmentgroup": "True",
           "hovertemplate": "Country=%{x}<br>Year=2023<br>Percentage of Documents=%{y}<extra></extra>",
           "legendgroup": "Samoa",
           "marker": {
            "color": "#ab63fa",
            "pattern": {
             "shape": ""
            }
           },
           "name": "Samoa",
           "offsetgroup": "Samoa",
           "orientation": "v",
           "showlegend": true,
           "textposition": "auto",
           "type": "bar",
           "x": [
            "Samoa"
           ],
           "xaxis": "x",
           "y": [
            0.6
           ],
           "yaxis": "y"
          },
          {
           "alignmentgroup": "True",
           "hovertemplate": "Country=%{x}<br>Year=2023<br>Percentage of Documents=%{y}<extra></extra>",
           "legendgroup": "Senegal",
           "marker": {
            "color": "#FFA15A",
            "pattern": {
             "shape": ""
            }
           },
           "name": "Senegal",
           "offsetgroup": "Senegal",
           "orientation": "v",
           "showlegend": true,
           "textposition": "auto",
           "type": "bar",
           "x": [
            "Senegal"
           ],
           "xaxis": "x",
           "y": [
            0.6
           ],
           "yaxis": "y"
          },
          {
           "alignmentgroup": "True",
           "hovertemplate": "Country=%{x}<br>Year=2023<br>Percentage of Documents=%{y}<extra></extra>",
           "legendgroup": "Sierra Leone",
           "marker": {
            "color": "#19d3f3",
            "pattern": {
             "shape": ""
            }
           },
           "name": "Sierra Leone",
           "offsetgroup": "Sierra Leone",
           "orientation": "v",
           "showlegend": true,
           "textposition": "auto",
           "type": "bar",
           "x": [
            "Sierra Leone"
           ],
           "xaxis": "x",
           "y": [
            0.6
           ],
           "yaxis": "y"
          },
          {
           "alignmentgroup": "True",
           "hovertemplate": "Country=%{x}<br>Year=2023<br>Percentage of Documents=%{y}<extra></extra>",
           "legendgroup": "Solomon Islands",
           "marker": {
            "color": "#FF6692",
            "pattern": {
             "shape": ""
            }
           },
           "name": "Solomon Islands",
           "offsetgroup": "Solomon Islands",
           "orientation": "v",
           "showlegend": true,
           "textposition": "auto",
           "type": "bar",
           "x": [
            "Solomon Islands"
           ],
           "xaxis": "x",
           "y": [
            0.6
           ],
           "yaxis": "y"
          },
          {
           "alignmentgroup": "True",
           "hovertemplate": "Country=%{x}<br>Year=2023<br>Percentage of Documents=%{y}<extra></extra>",
           "legendgroup": "South Sudan",
           "marker": {
            "color": "#B6E880",
            "pattern": {
             "shape": ""
            }
           },
           "name": "South Sudan",
           "offsetgroup": "South Sudan",
           "orientation": "v",
           "showlegend": true,
           "textposition": "auto",
           "type": "bar",
           "x": [
            "South Sudan"
           ],
           "xaxis": "x",
           "y": [
            0.3
           ],
           "yaxis": "y"
          },
          {
           "alignmentgroup": "True",
           "hovertemplate": "Country=%{x}<br>Year=2023<br>Percentage of Documents=%{y}<extra></extra>",
           "legendgroup": "Sri Lanka",
           "marker": {
            "color": "#FF97FF",
            "pattern": {
             "shape": ""
            }
           },
           "name": "Sri Lanka",
           "offsetgroup": "Sri Lanka",
           "orientation": "v",
           "showlegend": true,
           "textposition": "auto",
           "type": "bar",
           "x": [
            "Sri Lanka"
           ],
           "xaxis": "x",
           "y": [
            0.3
           ],
           "yaxis": "y"
          },
          {
           "alignmentgroup": "True",
           "hovertemplate": "Country=%{x}<br>Year=2023<br>Percentage of Documents=%{y}<extra></extra>",
           "legendgroup": "Tajikistan",
           "marker": {
            "color": "#FECB52",
            "pattern": {
             "shape": ""
            }
           },
           "name": "Tajikistan",
           "offsetgroup": "Tajikistan",
           "orientation": "v",
           "showlegend": true,
           "textposition": "auto",
           "type": "bar",
           "x": [
            "Tajikistan"
           ],
           "xaxis": "x",
           "y": [
            0.3
           ],
           "yaxis": "y"
          },
          {
           "alignmentgroup": "True",
           "hovertemplate": "Country=%{x}<br>Year=2023<br>Percentage of Documents=%{y}<extra></extra>",
           "legendgroup": "Tanzania",
           "marker": {
            "color": "#636efa",
            "pattern": {
             "shape": ""
            }
           },
           "name": "Tanzania",
           "offsetgroup": "Tanzania",
           "orientation": "v",
           "showlegend": true,
           "textposition": "auto",
           "type": "bar",
           "x": [
            "Tanzania"
           ],
           "xaxis": "x",
           "y": [
            0.6
           ],
           "yaxis": "y"
          },
          {
           "alignmentgroup": "True",
           "hovertemplate": "Country=%{x}<br>Year=2023<br>Percentage of Documents=%{y}<extra></extra>",
           "legendgroup": "Uganda",
           "marker": {
            "color": "#ab63fa",
            "pattern": {
             "shape": ""
            }
           },
           "name": "Uganda",
           "offsetgroup": "Uganda",
           "orientation": "v",
           "showlegend": true,
           "textposition": "auto",
           "type": "bar",
           "x": [
            "Uganda"
           ],
           "xaxis": "x",
           "y": [
            0.9
           ],
           "yaxis": "y"
          },
          {
           "alignmentgroup": "True",
           "hovertemplate": "Country=%{x}<br>Year=2023<br>Percentage of Documents=%{y}<extra></extra>",
           "legendgroup": "Vietnam",
           "marker": {
            "color": "#FFA15A",
            "pattern": {
             "shape": ""
            }
           },
           "name": "Vietnam",
           "offsetgroup": "Vietnam",
           "orientation": "v",
           "showlegend": true,
           "textposition": "auto",
           "type": "bar",
           "x": [
            "Vietnam"
           ],
           "xaxis": "x",
           "y": [
            2.2
           ],
           "yaxis": "y"
          },
          {
           "alignmentgroup": "True",
           "hovertemplate": "Country=%{x}<br>Year=2023<br>Percentage of Documents=%{y}<extra></extra>",
           "legendgroup": "West Bank and Gaza",
           "marker": {
            "color": "#19d3f3",
            "pattern": {
             "shape": ""
            }
           },
           "name": "West Bank and Gaza",
           "offsetgroup": "West Bank and Gaza",
           "orientation": "v",
           "showlegend": true,
           "textposition": "auto",
           "type": "bar",
           "x": [
            "West Bank and Gaza"
           ],
           "xaxis": "x",
           "y": [
            2.5
           ],
           "yaxis": "y"
          },
          {
           "alignmentgroup": "True",
           "hovertemplate": "Country=%{x}<br>Year=2023<br>Percentage of Documents=%{y}<extra></extra>",
           "legendgroup": "Yemen, Republic of",
           "marker": {
            "color": "#FF97FF",
            "pattern": {
             "shape": ""
            }
           },
           "name": "Yemen, Republic of",
           "offsetgroup": "Yemen, Republic of",
           "orientation": "v",
           "showlegend": true,
           "textposition": "auto",
           "type": "bar",
           "x": [
            "Yemen, Republic of"
           ],
           "xaxis": "x",
           "y": [
            0.9
           ],
           "yaxis": "y"
          },
          {
           "alignmentgroup": "True",
           "hovertemplate": "Country=%{x}<br>Year=2023<br>Percentage of Documents=%{y}<extra></extra>",
           "legendgroup": "Zambia",
           "marker": {
            "color": "#FECB52",
            "pattern": {
             "shape": ""
            }
           },
           "name": "Zambia",
           "offsetgroup": "Zambia",
           "orientation": "v",
           "showlegend": true,
           "textposition": "auto",
           "type": "bar",
           "x": [
            "Zambia"
           ],
           "xaxis": "x",
           "y": [
            0.6
           ],
           "yaxis": "y"
          },
          {
           "alignmentgroup": "True",
           "hovertemplate": "Country=%{x}<br>Year=2023<br>Percentage of Documents=%{y}<extra></extra>",
           "legendgroup": "Belarus",
           "marker": {
            "color": "#636efa",
            "pattern": {
             "shape": ""
            }
           },
           "name": "Belarus",
           "offsetgroup": "Belarus",
           "orientation": "v",
           "showlegend": true,
           "textposition": "auto",
           "type": "bar",
           "x": [
            "Belarus"
           ],
           "xaxis": "x",
           "y": [
            1.3
           ],
           "yaxis": "y"
          },
          {
           "alignmentgroup": "True",
           "hovertemplate": "Country=%{x}<br>Year=2023<br>Percentage of Documents=%{y}<extra></extra>",
           "legendgroup": "Gabon",
           "marker": {
            "color": "#FF6692",
            "pattern": {
             "shape": ""
            }
           },
           "name": "Gabon",
           "offsetgroup": "Gabon",
           "orientation": "v",
           "showlegend": true,
           "textposition": "auto",
           "type": "bar",
           "x": [
            "Gabon"
           ],
           "xaxis": "x",
           "y": [
            0.6
           ],
           "yaxis": "y"
          },
          {
           "alignmentgroup": "True",
           "hovertemplate": "Country=%{x}<br>Year=2023<br>Percentage of Documents=%{y}<extra></extra>",
           "legendgroup": "Kazakhstan",
           "marker": {
            "color": "#FF97FF",
            "pattern": {
             "shape": ""
            }
           },
           "name": "Kazakhstan",
           "offsetgroup": "Kazakhstan",
           "orientation": "v",
           "showlegend": true,
           "textposition": "auto",
           "type": "bar",
           "x": [
            "Kazakhstan"
           ],
           "xaxis": "x",
           "y": [
            1.9
           ],
           "yaxis": "y"
          },
          {
           "alignmentgroup": "True",
           "hovertemplate": "Country=%{x}<br>Year=2023<br>Percentage of Documents=%{y}<extra></extra>",
           "legendgroup": "Lesotho",
           "marker": {
            "color": "#FECB52",
            "pattern": {
             "shape": ""
            }
           },
           "name": "Lesotho",
           "offsetgroup": "Lesotho",
           "orientation": "v",
           "showlegend": true,
           "textposition": "auto",
           "type": "bar",
           "x": [
            "Lesotho"
           ],
           "xaxis": "x",
           "y": [
            0.3
           ],
           "yaxis": "y"
          },
          {
           "alignmentgroup": "True",
           "hovertemplate": "Country=%{x}<br>Year=2023<br>Percentage of Documents=%{y}<extra></extra>",
           "legendgroup": "Liberia",
           "marker": {
            "color": "#636efa",
            "pattern": {
             "shape": ""
            }
           },
           "name": "Liberia",
           "offsetgroup": "Liberia",
           "orientation": "v",
           "showlegend": true,
           "textposition": "auto",
           "type": "bar",
           "x": [
            "Liberia"
           ],
           "xaxis": "x",
           "y": [
            0.6
           ],
           "yaxis": "y"
          },
          {
           "alignmentgroup": "True",
           "hovertemplate": "Country=%{x}<br>Year=2023<br>Percentage of Documents=%{y}<extra></extra>",
           "legendgroup": "Mali",
           "marker": {
            "color": "#EF553B",
            "pattern": {
             "shape": ""
            }
           },
           "name": "Mali",
           "offsetgroup": "Mali",
           "orientation": "v",
           "showlegend": true,
           "textposition": "auto",
           "type": "bar",
           "x": [
            "Mali"
           ],
           "xaxis": "x",
           "y": [
            0.3
           ],
           "yaxis": "y"
          },
          {
           "alignmentgroup": "True",
           "hovertemplate": "Country=%{x}<br>Year=2023<br>Percentage of Documents=%{y}<extra></extra>",
           "legendgroup": "Marshall Islands",
           "marker": {
            "color": "#00cc96",
            "pattern": {
             "shape": ""
            }
           },
           "name": "Marshall Islands",
           "offsetgroup": "Marshall Islands",
           "orientation": "v",
           "showlegend": true,
           "textposition": "auto",
           "type": "bar",
           "x": [
            "Marshall Islands"
           ],
           "xaxis": "x",
           "y": [
            0.3
           ],
           "yaxis": "y"
          },
          {
           "alignmentgroup": "True",
           "hovertemplate": "Country=%{x}<br>Year=2023<br>Percentage of Documents=%{y}<extra></extra>",
           "legendgroup": "Micronesia, Federated States of",
           "marker": {
            "color": "#ab63fa",
            "pattern": {
             "shape": ""
            }
           },
           "name": "Micronesia, Federated States of",
           "offsetgroup": "Micronesia, Federated States of",
           "orientation": "v",
           "showlegend": true,
           "textposition": "auto",
           "type": "bar",
           "x": [
            "Micronesia, Federated States of"
           ],
           "xaxis": "x",
           "y": [
            0.3
           ],
           "yaxis": "y"
          },
          {
           "alignmentgroup": "True",
           "hovertemplate": "Country=%{x}<br>Year=2023<br>Percentage of Documents=%{y}<extra></extra>",
           "legendgroup": "Romania",
           "marker": {
            "color": "#FFA15A",
            "pattern": {
             "shape": ""
            }
           },
           "name": "Romania",
           "offsetgroup": "Romania",
           "orientation": "v",
           "showlegend": true,
           "textposition": "auto",
           "type": "bar",
           "x": [
            "Romania"
           ],
           "xaxis": "x",
           "y": [
            0.3
           ],
           "yaxis": "y"
          },
          {
           "alignmentgroup": "True",
           "hovertemplate": "Country=%{x}<br>Year=2023<br>Percentage of Documents=%{y}<extra></extra>",
           "legendgroup": "Sao Tome and Principe",
           "marker": {
            "color": "#19d3f3",
            "pattern": {
             "shape": ""
            }
           },
           "name": "Sao Tome and Principe",
           "offsetgroup": "Sao Tome and Principe",
           "orientation": "v",
           "showlegend": true,
           "textposition": "auto",
           "type": "bar",
           "x": [
            "Sao Tome and Principe"
           ],
           "xaxis": "x",
           "y": [
            0.3
           ],
           "yaxis": "y"
          },
          {
           "alignmentgroup": "True",
           "hovertemplate": "Country=%{x}<br>Year=2023<br>Percentage of Documents=%{y}<extra></extra>",
           "legendgroup": "Serbia",
           "marker": {
            "color": "#FF6692",
            "pattern": {
             "shape": ""
            }
           },
           "name": "Serbia",
           "offsetgroup": "Serbia",
           "orientation": "v",
           "showlegend": true,
           "textposition": "auto",
           "type": "bar",
           "x": [
            "Serbia"
           ],
           "xaxis": "x",
           "y": [
            0.6
           ],
           "yaxis": "y"
          },
          {
           "alignmentgroup": "True",
           "hovertemplate": "Country=%{x}<br>Year=2023<br>Percentage of Documents=%{y}<extra></extra>",
           "legendgroup": "Sudan",
           "marker": {
            "color": "#B6E880",
            "pattern": {
             "shape": ""
            }
           },
           "name": "Sudan",
           "offsetgroup": "Sudan",
           "orientation": "v",
           "showlegend": true,
           "textposition": "auto",
           "type": "bar",
           "x": [
            "Sudan"
           ],
           "xaxis": "x",
           "y": [
            0.6
           ],
           "yaxis": "y"
          },
          {
           "alignmentgroup": "True",
           "hovertemplate": "Country=%{x}<br>Year=2023<br>Percentage of Documents=%{y}<extra></extra>",
           "legendgroup": "Uruguay",
           "marker": {
            "color": "#636efa",
            "pattern": {
             "shape": ""
            }
           },
           "name": "Uruguay",
           "offsetgroup": "Uruguay",
           "orientation": "v",
           "showlegend": true,
           "textposition": "auto",
           "type": "bar",
           "x": [
            "Uruguay"
           ],
           "xaxis": "x",
           "y": [
            0.6
           ],
           "yaxis": "y"
          },
          {
           "alignmentgroup": "True",
           "hovertemplate": "Country=%{x}<br>Year=2023<br>Percentage of Documents=%{y}<extra></extra>",
           "legendgroup": "Uzbekistan",
           "marker": {
            "color": "#EF553B",
            "pattern": {
             "shape": ""
            }
           },
           "name": "Uzbekistan",
           "offsetgroup": "Uzbekistan",
           "orientation": "v",
           "showlegend": true,
           "textposition": "auto",
           "type": "bar",
           "x": [
            "Uzbekistan"
           ],
           "xaxis": "x",
           "y": [
            0.9
           ],
           "yaxis": "y"
          },
          {
           "alignmentgroup": "True",
           "hovertemplate": "Country=%{x}<br>Year=2023<br>Percentage of Documents=%{y}<extra></extra>",
           "legendgroup": "Vanuatu",
           "marker": {
            "color": "#00cc96",
            "pattern": {
             "shape": ""
            }
           },
           "name": "Vanuatu",
           "offsetgroup": "Vanuatu",
           "orientation": "v",
           "showlegend": true,
           "textposition": "auto",
           "type": "bar",
           "x": [
            "Vanuatu"
           ],
           "xaxis": "x",
           "y": [
            0.3
           ],
           "yaxis": "y"
          },
          {
           "alignmentgroup": "True",
           "hovertemplate": "Country=%{x}<br>Year=2023<br>Percentage of Documents=%{y}<extra></extra>",
           "legendgroup": "Central African Republic",
           "marker": {
            "color": "#19d3f3",
            "pattern": {
             "shape": ""
            }
           },
           "name": "Central African Republic",
           "offsetgroup": "Central African Republic",
           "orientation": "v",
           "showlegend": true,
           "textposition": "auto",
           "type": "bar",
           "x": [
            "Central African Republic"
           ],
           "xaxis": "x",
           "y": [
            0.6
           ],
           "yaxis": "y"
          },
          {
           "alignmentgroup": "True",
           "hovertemplate": "Country=%{x}<br>Year=2023<br>Percentage of Documents=%{y}<extra></extra>",
           "legendgroup": "Guatemala",
           "marker": {
            "color": "#FF6692",
            "pattern": {
             "shape": ""
            }
           },
           "name": "Guatemala",
           "offsetgroup": "Guatemala",
           "orientation": "v",
           "showlegend": true,
           "textposition": "auto",
           "type": "bar",
           "x": [
            "Guatemala"
           ],
           "xaxis": "x",
           "y": [
            0.3
           ],
           "yaxis": "y"
          },
          {
           "alignmentgroup": "True",
           "hovertemplate": "Country=%{x}<br>Year=2023<br>Percentage of Documents=%{y}<extra></extra>",
           "legendgroup": "Mongolia",
           "marker": {
            "color": "#FF97FF",
            "pattern": {
             "shape": ""
            }
           },
           "name": "Mongolia",
           "offsetgroup": "Mongolia",
           "orientation": "v",
           "showlegend": true,
           "textposition": "auto",
           "type": "bar",
           "x": [
            "Mongolia"
           ],
           "xaxis": "x",
           "y": [
            0.6
           ],
           "yaxis": "y"
          },
          {
           "alignmentgroup": "True",
           "hovertemplate": "Country=%{x}<br>Year=2023<br>Percentage of Documents=%{y}<extra></extra>",
           "legendgroup": "Myanmar",
           "marker": {
            "color": "#FECB52",
            "pattern": {
             "shape": ""
            }
           },
           "name": "Myanmar",
           "offsetgroup": "Myanmar",
           "orientation": "v",
           "showlegend": true,
           "textposition": "auto",
           "type": "bar",
           "x": [
            "Myanmar"
           ],
           "xaxis": "x",
           "y": [
            1.9
           ],
           "yaxis": "y"
          },
          {
           "alignmentgroup": "True",
           "hovertemplate": "Country=%{x}<br>Year=2023<br>Percentage of Documents=%{y}<extra></extra>",
           "legendgroup": "Pacific Islands",
           "marker": {
            "color": "#636efa",
            "pattern": {
             "shape": ""
            }
           },
           "name": "Pacific Islands",
           "offsetgroup": "Pacific Islands",
           "orientation": "v",
           "showlegend": true,
           "textposition": "auto",
           "type": "bar",
           "x": [
            "Pacific Islands"
           ],
           "xaxis": "x",
           "y": [
            1.3
           ],
           "yaxis": "y"
          },
          {
           "alignmentgroup": "True",
           "hovertemplate": "Country=%{x}<br>Year=2023<br>Percentage of Documents=%{y}<extra></extra>",
           "legendgroup": "Panama",
           "marker": {
            "color": "#EF553B",
            "pattern": {
             "shape": ""
            }
           },
           "name": "Panama",
           "offsetgroup": "Panama",
           "orientation": "v",
           "showlegend": true,
           "textposition": "auto",
           "type": "bar",
           "x": [
            "Panama"
           ],
           "xaxis": "x",
           "y": [
            0.3
           ],
           "yaxis": "y"
          },
          {
           "alignmentgroup": "True",
           "hovertemplate": "Country=%{x}<br>Year=2023<br>Percentage of Documents=%{y}<extra></extra>",
           "legendgroup": "Seychelles",
           "marker": {
            "color": "#ab63fa",
            "pattern": {
             "shape": ""
            }
           },
           "name": "Seychelles",
           "offsetgroup": "Seychelles",
           "orientation": "v",
           "showlegend": true,
           "textposition": "auto",
           "type": "bar",
           "x": [
            "Seychelles"
           ],
           "xaxis": "x",
           "y": [
            0.3
           ],
           "yaxis": "y"
          },
          {
           "alignmentgroup": "True",
           "hovertemplate": "Country=%{x}<br>Year=2023<br>Percentage of Documents=%{y}<extra></extra>",
           "legendgroup": "Somalia",
           "marker": {
            "color": "#FFA15A",
            "pattern": {
             "shape": ""
            }
           },
           "name": "Somalia",
           "offsetgroup": "Somalia",
           "orientation": "v",
           "showlegend": true,
           "textposition": "auto",
           "type": "bar",
           "x": [
            "Somalia"
           ],
           "xaxis": "x",
           "y": [
            0.3
           ],
           "yaxis": "y"
          },
          {
           "alignmentgroup": "True",
           "hovertemplate": "Country=%{x}<br>Year=2023<br>Percentage of Documents=%{y}<extra></extra>",
           "legendgroup": "South Africa",
           "marker": {
            "color": "#19d3f3",
            "pattern": {
             "shape": ""
            }
           },
           "name": "South Africa",
           "offsetgroup": "South Africa",
           "orientation": "v",
           "showlegend": true,
           "textposition": "auto",
           "type": "bar",
           "x": [
            "South Africa"
           ],
           "xaxis": "x",
           "y": [
            0.3
           ],
           "yaxis": "y"
          },
          {
           "alignmentgroup": "True",
           "hovertemplate": "Country=%{x}<br>Year=2023<br>Percentage of Documents=%{y}<extra></extra>",
           "legendgroup": "Togo",
           "marker": {
            "color": "#FF6692",
            "pattern": {
             "shape": ""
            }
           },
           "name": "Togo",
           "offsetgroup": "Togo",
           "orientation": "v",
           "showlegend": true,
           "textposition": "auto",
           "type": "bar",
           "x": [
            "Togo"
           ],
           "xaxis": "x",
           "y": [
            0.9
           ],
           "yaxis": "y"
          },
          {
           "alignmentgroup": "True",
           "hovertemplate": "Country=%{x}<br>Year=2023<br>Percentage of Documents=%{y}<extra></extra>",
           "legendgroup": "Eastern and Southern Africa",
           "marker": {
            "color": "#EF553B",
            "pattern": {
             "shape": ""
            }
           },
           "name": "Eastern and Southern Africa",
           "offsetgroup": "Eastern and Southern Africa",
           "orientation": "v",
           "showlegend": true,
           "textposition": "auto",
           "type": "bar",
           "x": [
            "Eastern and Southern Africa"
           ],
           "xaxis": "x",
           "y": [
            1.3
           ],
           "yaxis": "y"
          },
          {
           "alignmentgroup": "True",
           "hovertemplate": "Country=%{x}<br>Year=2023<br>Percentage of Documents=%{y}<extra></extra>",
           "legendgroup": "Europe and Central Asia",
           "marker": {
            "color": "#ab63fa",
            "pattern": {
             "shape": ""
            }
           },
           "name": "Europe and Central Asia",
           "offsetgroup": "Europe and Central Asia",
           "orientation": "v",
           "showlegend": true,
           "textposition": "auto",
           "type": "bar",
           "x": [
            "Europe and Central Asia"
           ],
           "xaxis": "x",
           "y": [
            0.3
           ],
           "yaxis": "y"
          },
          {
           "alignmentgroup": "True",
           "hovertemplate": "Country=%{x}<br>Year=2023<br>Percentage of Documents=%{y}<extra></extra>",
           "legendgroup": "Guyana",
           "marker": {
            "color": "#19d3f3",
            "pattern": {
             "shape": ""
            }
           },
           "name": "Guyana",
           "offsetgroup": "Guyana",
           "orientation": "v",
           "showlegend": true,
           "textposition": "auto",
           "type": "bar",
           "x": [
            "Guyana"
           ],
           "xaxis": "x",
           "y": [
            0.3
           ],
           "yaxis": "y"
          },
          {
           "alignmentgroup": "True",
           "hovertemplate": "Country=%{x}<br>Year=2023<br>Percentage of Documents=%{y}<extra></extra>",
           "legendgroup": "Western and Central Africa",
           "marker": {
            "color": "#FFA15A",
            "pattern": {
             "shape": ""
            }
           },
           "name": "Western and Central Africa",
           "offsetgroup": "Western and Central Africa",
           "orientation": "v",
           "showlegend": true,
           "textposition": "auto",
           "type": "bar",
           "x": [
            "Western and Central Africa"
           ],
           "xaxis": "x",
           "y": [
            2.2
           ],
           "yaxis": "y"
          },
          {
           "alignmentgroup": "True",
           "hovertemplate": "Country=%{x}<br>Year=2023<br>Percentage of Documents=%{y}<extra></extra>",
           "legendgroup": "Barbados",
           "marker": {
            "color": "#19d3f3",
            "pattern": {
             "shape": ""
            }
           },
           "name": "Barbados",
           "offsetgroup": "Barbados",
           "orientation": "v",
           "showlegend": true,
           "textposition": "auto",
           "type": "bar",
           "x": [
            "Barbados"
           ],
           "xaxis": "x",
           "y": [
            0.3
           ],
           "yaxis": "y"
          },
          {
           "alignmentgroup": "True",
           "hovertemplate": "Country=%{x}<br>Year=2023<br>Percentage of Documents=%{y}<extra></extra>",
           "legendgroup": "Botswana",
           "marker": {
            "color": "#FF6692",
            "pattern": {
             "shape": ""
            }
           },
           "name": "Botswana",
           "offsetgroup": "Botswana",
           "orientation": "v",
           "showlegend": true,
           "textposition": "auto",
           "type": "bar",
           "x": [
            "Botswana"
           ],
           "xaxis": "x",
           "y": [
            0.3
           ],
           "yaxis": "y"
          },
          {
           "alignmentgroup": "True",
           "hovertemplate": "Country=%{x}<br>Year=2023<br>Percentage of Documents=%{y}<extra></extra>",
           "legendgroup": "Cambodia",
           "marker": {
            "color": "#B6E880",
            "pattern": {
             "shape": ""
            }
           },
           "name": "Cambodia",
           "offsetgroup": "Cambodia",
           "orientation": "v",
           "showlegend": true,
           "textposition": "auto",
           "type": "bar",
           "x": [
            "Cambodia"
           ],
           "xaxis": "x",
           "y": [
            0.9
           ],
           "yaxis": "y"
          },
          {
           "alignmentgroup": "True",
           "hovertemplate": "Country=%{x}<br>Year=2023<br>Percentage of Documents=%{y}<extra></extra>",
           "legendgroup": "Latin America",
           "marker": {
            "color": "#FF97FF",
            "pattern": {
             "shape": ""
            }
           },
           "name": "Latin America",
           "offsetgroup": "Latin America",
           "orientation": "v",
           "showlegend": true,
           "textposition": "auto",
           "type": "bar",
           "x": [
            "Latin America"
           ],
           "xaxis": "x",
           "y": [
            0.3
           ],
           "yaxis": "y"
          }
         ],
         "layout": {
          "title": {
           "text": "Percentage of Documents by Country - Year: 2023"
          },
          "xaxis": {
           "categoryarray": [
            "Afghanistan",
            "Africa",
            "Albania",
            "Angola",
            "Argentina",
            "Armenia",
            "Azerbaijan",
            "Bangladesh",
            "Banking Sector Strengthening Project",
            "Barbados",
            "Belarus",
            "Belize",
            "Benin",
            "Bhutan",
            "Bolivia",
            "Bosnia and Herzegovina",
            "Botswana",
            "Brazil",
            "Bulgaria",
            "Burkina Faso",
            "Burundi",
            "Cabo Verde",
            "Cambodia",
            "Cameroon",
            "Caribbean",
            "Central Africa",
            "Central African Republic",
            "Central Asia",
            "Chad",
            "Chile",
            "China",
            "Colombia",
            "Comoros",
            "Congo, Democratic Republic of",
            "Congo, Republic of",
            "Costa Rica",
            "Cote d'Ivoire",
            "Croatia",
            "Djibouti",
            "Dominica",
            "Dominican Republic",
            "Eastern Africa",
            "Eastern and Southern Africa",
            "Ecuador",
            "Egypt, Arab Republic of",
            "El Salvador",
            "Eswatini",
            "Ethiopia",
            "Europe and Central Asia",
            "Fiji",
            "Fiscal Sustainability and Climate Resilience DPO",
            "Gabon",
            "Gambia, The",
            "Georgia",
            "Ghana",
            "Grenada",
            "Guatemala",
            "Guinea",
            "Guyana",
            "Haiti",
            "Harsha Project",
            "Hebei Clean Heating Project (P148599)",
            "Honduras",
            "India",
            "Indonesia",
            "Iraq",
            "Jamaica",
            "Jordan",
            "Kazakhstan",
            "Kenya",
            "Kiribati",
            "Kosovo",
            "Kyrgyz Republic",
            "Lake Victoria Phase II APL 1 (FY09) (P100406) :",
            "Lao People's Democratic Republic",
            "Latin America",
            "Lebanon",
            "Lesotho",
            "Liberia",
            "Madagascar",
            "Malawi",
            "Maldives",
            "Mali",
            "Marshall Islands",
            "Mauritania",
            "Mexico",
            "Micronesia, Federated States of",
            "Middle East and North Africa",
            "Moldova",
            "Mongolia",
            "Montenegro",
            "Morocco",
            "Mozambique",
            "Myanmar",
            "National Agricultural Innovation (P131013)",
            "Nepal",
            "Nicaragua",
            "Niger",
            "Nigeria",
            "North Macedonia",
            "OECS Countries",
            "PNG Productive Partnerships in Agriculture",
            "Pacific Islands",
            "Pakistan",
            "Panama",
            "Papua New Guinea",
            "Paraguay",
            "Peru",
            "Philippines",
            "Poland",
            "Revenue Mobilization Program for Results: VAT Improvement Program (VIP) (P129770)",
            "Romania",
            "Russian Federation",
            "Rwanda",
            "Samoa",
            "Sao Tome and Principe",
            "Senegal",
            "Serbia",
            "Seychelles",
            "Sierra Leone",
            "Solomon Islands",
            "Somalia",
            "South Africa",
            "South Sudan",
            "Southern Africa",
            "Sri Lanka",
            "St Maarten",
            "St. Lucia",
            "St. Vincent and the Grenadines",
            "Sudan",
            "Tajikistan",
            "Tanzania",
            "Thailand",
            "Timor",
            "Togo",
            "Tonga",
            "Tunisia",
            "Turkey",
            "Turkiye",
            "Tuvalu",
            "Uganda",
            "Ukraine",
            "Uruguay",
            "Uzbekistan",
            "Vanuatu",
            "Vietnam",
            "West Africa Regional Communications Infrastructure Project",
            "West Bank and Gaza",
            "Western Africa",
            "Western Balkans",
            "Western and Central Africa",
            "World",
            "Yemen, Republic of",
            "Zambia",
            "Zimbabwe"
           ],
           "categoryorder": "array"
          },
          "yaxis": {
           "range": [
            0,
            11.990000000000002
           ]
          }
         },
         "name": "2023"
        },
        {
         "data": [
          {
           "alignmentgroup": "True",
           "hovertemplate": "Country=%{x}<br>Year=2024<br>Percentage of Documents=%{y}<extra></extra>",
           "legendgroup": "Afghanistan",
           "marker": {
            "color": "#636efa",
            "pattern": {
             "shape": ""
            }
           },
           "name": "Afghanistan",
           "offsetgroup": "Afghanistan",
           "orientation": "v",
           "showlegend": true,
           "textposition": "auto",
           "type": "bar",
           "x": [
            "Afghanistan"
           ],
           "xaxis": "x",
           "y": [
            1
           ],
           "yaxis": "y"
          },
          {
           "alignmentgroup": "True",
           "hovertemplate": "Country=%{x}<br>Year=2024<br>Percentage of Documents=%{y}<extra></extra>",
           "legendgroup": "Argentina",
           "marker": {
            "color": "#FFA15A",
            "pattern": {
             "shape": ""
            }
           },
           "name": "Argentina",
           "offsetgroup": "Argentina",
           "orientation": "v",
           "showlegend": true,
           "textposition": "auto",
           "type": "bar",
           "x": [
            "Argentina"
           ],
           "xaxis": "x",
           "y": [
            1.3
           ],
           "yaxis": "y"
          },
          {
           "alignmentgroup": "True",
           "hovertemplate": "Country=%{x}<br>Year=2024<br>Percentage of Documents=%{y}<extra></extra>",
           "legendgroup": "Armenia",
           "marker": {
            "color": "#19d3f3",
            "pattern": {
             "shape": ""
            }
           },
           "name": "Armenia",
           "offsetgroup": "Armenia",
           "orientation": "v",
           "showlegend": true,
           "textposition": "auto",
           "type": "bar",
           "x": [
            "Armenia"
           ],
           "xaxis": "x",
           "y": [
            0.3
           ],
           "yaxis": "y"
          },
          {
           "alignmentgroup": "True",
           "hovertemplate": "Country=%{x}<br>Year=2024<br>Percentage of Documents=%{y}<extra></extra>",
           "legendgroup": "Bangladesh",
           "marker": {
            "color": "#B6E880",
            "pattern": {
             "shape": ""
            }
           },
           "name": "Bangladesh",
           "offsetgroup": "Bangladesh",
           "orientation": "v",
           "showlegend": true,
           "textposition": "auto",
           "type": "bar",
           "x": [
            "Bangladesh"
           ],
           "xaxis": "x",
           "y": [
            3.2
           ],
           "yaxis": "y"
          },
          {
           "alignmentgroup": "True",
           "hovertemplate": "Country=%{x}<br>Year=2024<br>Percentage of Documents=%{y}<extra></extra>",
           "legendgroup": "Benin",
           "marker": {
            "color": "#FF97FF",
            "pattern": {
             "shape": ""
            }
           },
           "name": "Benin",
           "offsetgroup": "Benin",
           "orientation": "v",
           "showlegend": true,
           "textposition": "auto",
           "type": "bar",
           "x": [
            "Benin"
           ],
           "xaxis": "x",
           "y": [
            0.3
           ],
           "yaxis": "y"
          },
          {
           "alignmentgroup": "True",
           "hovertemplate": "Country=%{x}<br>Year=2024<br>Percentage of Documents=%{y}<extra></extra>",
           "legendgroup": "Bhutan",
           "marker": {
            "color": "#FECB52",
            "pattern": {
             "shape": ""
            }
           },
           "name": "Bhutan",
           "offsetgroup": "Bhutan",
           "orientation": "v",
           "showlegend": true,
           "textposition": "auto",
           "type": "bar",
           "x": [
            "Bhutan"
           ],
           "xaxis": "x",
           "y": [
            0.3
           ],
           "yaxis": "y"
          },
          {
           "alignmentgroup": "True",
           "hovertemplate": "Country=%{x}<br>Year=2024<br>Percentage of Documents=%{y}<extra></extra>",
           "legendgroup": "Brazil",
           "marker": {
            "color": "#EF553B",
            "pattern": {
             "shape": ""
            }
           },
           "name": "Brazil",
           "offsetgroup": "Brazil",
           "orientation": "v",
           "showlegend": true,
           "textposition": "auto",
           "type": "bar",
           "x": [
            "Brazil"
           ],
           "xaxis": "x",
           "y": [
            1.9
           ],
           "yaxis": "y"
          },
          {
           "alignmentgroup": "True",
           "hovertemplate": "Country=%{x}<br>Year=2024<br>Percentage of Documents=%{y}<extra></extra>",
           "legendgroup": "Burkina Faso",
           "marker": {
            "color": "#00cc96",
            "pattern": {
             "shape": ""
            }
           },
           "name": "Burkina Faso",
           "offsetgroup": "Burkina Faso",
           "orientation": "v",
           "showlegend": true,
           "textposition": "auto",
           "type": "bar",
           "x": [
            "Burkina Faso"
           ],
           "xaxis": "x",
           "y": [
            1
           ],
           "yaxis": "y"
          },
          {
           "alignmentgroup": "True",
           "hovertemplate": "Country=%{x}<br>Year=2024<br>Percentage of Documents=%{y}<extra></extra>",
           "legendgroup": "Burundi",
           "marker": {
            "color": "#ab63fa",
            "pattern": {
             "shape": ""
            }
           },
           "name": "Burundi",
           "offsetgroup": "Burundi",
           "orientation": "v",
           "showlegend": true,
           "textposition": "auto",
           "type": "bar",
           "x": [
            "Burundi"
           ],
           "xaxis": "x",
           "y": [
            0.3
           ],
           "yaxis": "y"
          },
          {
           "alignmentgroup": "True",
           "hovertemplate": "Country=%{x}<br>Year=2024<br>Percentage of Documents=%{y}<extra></extra>",
           "legendgroup": "Cabo Verde",
           "marker": {
            "color": "#FFA15A",
            "pattern": {
             "shape": ""
            }
           },
           "name": "Cabo Verde",
           "offsetgroup": "Cabo Verde",
           "orientation": "v",
           "showlegend": true,
           "textposition": "auto",
           "type": "bar",
           "x": [
            "Cabo Verde"
           ],
           "xaxis": "x",
           "y": [
            1
           ],
           "yaxis": "y"
          },
          {
           "alignmentgroup": "True",
           "hovertemplate": "Country=%{x}<br>Year=2024<br>Percentage of Documents=%{y}<extra></extra>",
           "legendgroup": "Cameroon",
           "marker": {
            "color": "#19d3f3",
            "pattern": {
             "shape": ""
            }
           },
           "name": "Cameroon",
           "offsetgroup": "Cameroon",
           "orientation": "v",
           "showlegend": true,
           "textposition": "auto",
           "type": "bar",
           "x": [
            "Cameroon"
           ],
           "xaxis": "x",
           "y": [
            1.6
           ],
           "yaxis": "y"
          },
          {
           "alignmentgroup": "True",
           "hovertemplate": "Country=%{x}<br>Year=2024<br>Percentage of Documents=%{y}<extra></extra>",
           "legendgroup": "Chad",
           "marker": {
            "color": "#FF6692",
            "pattern": {
             "shape": ""
            }
           },
           "name": "Chad",
           "offsetgroup": "Chad",
           "orientation": "v",
           "showlegend": true,
           "textposition": "auto",
           "type": "bar",
           "x": [
            "Chad"
           ],
           "xaxis": "x",
           "y": [
            1
           ],
           "yaxis": "y"
          },
          {
           "alignmentgroup": "True",
           "hovertemplate": "Country=%{x}<br>Year=2024<br>Percentage of Documents=%{y}<extra></extra>",
           "legendgroup": "China",
           "marker": {
            "color": "#B6E880",
            "pattern": {
             "shape": ""
            }
           },
           "name": "China",
           "offsetgroup": "China",
           "orientation": "v",
           "showlegend": true,
           "textposition": "auto",
           "type": "bar",
           "x": [
            "China"
           ],
           "xaxis": "x",
           "y": [
            2.9
           ],
           "yaxis": "y"
          },
          {
           "alignmentgroup": "True",
           "hovertemplate": "Country=%{x}<br>Year=2024<br>Percentage of Documents=%{y}<extra></extra>",
           "legendgroup": "Colombia",
           "marker": {
            "color": "#FF97FF",
            "pattern": {
             "shape": ""
            }
           },
           "name": "Colombia",
           "offsetgroup": "Colombia",
           "orientation": "v",
           "showlegend": true,
           "textposition": "auto",
           "type": "bar",
           "x": [
            "Colombia"
           ],
           "xaxis": "x",
           "y": [
            0.6
           ],
           "yaxis": "y"
          },
          {
           "alignmentgroup": "True",
           "hovertemplate": "Country=%{x}<br>Year=2024<br>Percentage of Documents=%{y}<extra></extra>",
           "legendgroup": "Comoros",
           "marker": {
            "color": "#FECB52",
            "pattern": {
             "shape": ""
            }
           },
           "name": "Comoros",
           "offsetgroup": "Comoros",
           "orientation": "v",
           "showlegend": true,
           "textposition": "auto",
           "type": "bar",
           "x": [
            "Comoros"
           ],
           "xaxis": "x",
           "y": [
            0.3
           ],
           "yaxis": "y"
          },
          {
           "alignmentgroup": "True",
           "hovertemplate": "Country=%{x}<br>Year=2024<br>Percentage of Documents=%{y}<extra></extra>",
           "legendgroup": "Congo, Democratic Republic of",
           "marker": {
            "color": "#636efa",
            "pattern": {
             "shape": ""
            }
           },
           "name": "Congo, Democratic Republic of",
           "offsetgroup": "Congo, Democratic Republic of",
           "orientation": "v",
           "showlegend": true,
           "textposition": "auto",
           "type": "bar",
           "x": [
            "Congo, Democratic Republic of"
           ],
           "xaxis": "x",
           "y": [
            1.3
           ],
           "yaxis": "y"
          },
          {
           "alignmentgroup": "True",
           "hovertemplate": "Country=%{x}<br>Year=2024<br>Percentage of Documents=%{y}<extra></extra>",
           "legendgroup": "Congo, Republic of",
           "marker": {
            "color": "#EF553B",
            "pattern": {
             "shape": ""
            }
           },
           "name": "Congo, Republic of",
           "offsetgroup": "Congo, Republic of",
           "orientation": "v",
           "showlegend": true,
           "textposition": "auto",
           "type": "bar",
           "x": [
            "Congo, Republic of"
           ],
           "xaxis": "x",
           "y": [
            1.6
           ],
           "yaxis": "y"
          },
          {
           "alignmentgroup": "True",
           "hovertemplate": "Country=%{x}<br>Year=2024<br>Percentage of Documents=%{y}<extra></extra>",
           "legendgroup": "Cote d'Ivoire",
           "marker": {
            "color": "#ab63fa",
            "pattern": {
             "shape": ""
            }
           },
           "name": "Cote d'Ivoire",
           "offsetgroup": "Cote d'Ivoire",
           "orientation": "v",
           "showlegend": true,
           "textposition": "auto",
           "type": "bar",
           "x": [
            "Cote d'Ivoire"
           ],
           "xaxis": "x",
           "y": [
            2.3
           ],
           "yaxis": "y"
          },
          {
           "alignmentgroup": "True",
           "hovertemplate": "Country=%{x}<br>Year=2024<br>Percentage of Documents=%{y}<extra></extra>",
           "legendgroup": "Djibouti",
           "marker": {
            "color": "#FFA15A",
            "pattern": {
             "shape": ""
            }
           },
           "name": "Djibouti",
           "offsetgroup": "Djibouti",
           "orientation": "v",
           "showlegend": true,
           "textposition": "auto",
           "type": "bar",
           "x": [
            "Djibouti"
           ],
           "xaxis": "x",
           "y": [
            0.3
           ],
           "yaxis": "y"
          },
          {
           "alignmentgroup": "True",
           "hovertemplate": "Country=%{x}<br>Year=2024<br>Percentage of Documents=%{y}<extra></extra>",
           "legendgroup": "Dominican Republic",
           "marker": {
            "color": "#19d3f3",
            "pattern": {
             "shape": ""
            }
           },
           "name": "Dominican Republic",
           "offsetgroup": "Dominican Republic",
           "orientation": "v",
           "showlegend": true,
           "textposition": "auto",
           "type": "bar",
           "x": [
            "Dominican Republic"
           ],
           "xaxis": "x",
           "y": [
            0.3
           ],
           "yaxis": "y"
          },
          {
           "alignmentgroup": "True",
           "hovertemplate": "Country=%{x}<br>Year=2024<br>Percentage of Documents=%{y}<extra></extra>",
           "legendgroup": "Egypt, Arab Republic of",
           "marker": {
            "color": "#B6E880",
            "pattern": {
             "shape": ""
            }
           },
           "name": "Egypt, Arab Republic of",
           "offsetgroup": "Egypt, Arab Republic of",
           "orientation": "v",
           "showlegend": true,
           "textposition": "auto",
           "type": "bar",
           "x": [
            "Egypt, Arab Republic of"
           ],
           "xaxis": "x",
           "y": [
            0.3
           ],
           "yaxis": "y"
          },
          {
           "alignmentgroup": "True",
           "hovertemplate": "Country=%{x}<br>Year=2024<br>Percentage of Documents=%{y}<extra></extra>",
           "legendgroup": "Ethiopia",
           "marker": {
            "color": "#636efa",
            "pattern": {
             "shape": ""
            }
           },
           "name": "Ethiopia",
           "offsetgroup": "Ethiopia",
           "orientation": "v",
           "showlegend": true,
           "textposition": "auto",
           "type": "bar",
           "x": [
            "Ethiopia"
           ],
           "xaxis": "x",
           "y": [
            2.3
           ],
           "yaxis": "y"
          },
          {
           "alignmentgroup": "True",
           "hovertemplate": "Country=%{x}<br>Year=2024<br>Percentage of Documents=%{y}<extra></extra>",
           "legendgroup": "Gambia, The",
           "marker": {
            "color": "#00cc96",
            "pattern": {
             "shape": ""
            }
           },
           "name": "Gambia, The",
           "offsetgroup": "Gambia, The",
           "orientation": "v",
           "showlegend": true,
           "textposition": "auto",
           "type": "bar",
           "x": [
            "Gambia, The"
           ],
           "xaxis": "x",
           "y": [
            0.6
           ],
           "yaxis": "y"
          },
          {
           "alignmentgroup": "True",
           "hovertemplate": "Country=%{x}<br>Year=2024<br>Percentage of Documents=%{y}<extra></extra>",
           "legendgroup": "Ghana",
           "marker": {
            "color": "#ab63fa",
            "pattern": {
             "shape": ""
            }
           },
           "name": "Ghana",
           "offsetgroup": "Ghana",
           "orientation": "v",
           "showlegend": true,
           "textposition": "auto",
           "type": "bar",
           "x": [
            "Ghana"
           ],
           "xaxis": "x",
           "y": [
            0.3
           ],
           "yaxis": "y"
          },
          {
           "alignmentgroup": "True",
           "hovertemplate": "Country=%{x}<br>Year=2024<br>Percentage of Documents=%{y}<extra></extra>",
           "legendgroup": "Guinea",
           "marker": {
            "color": "#19d3f3",
            "pattern": {
             "shape": ""
            }
           },
           "name": "Guinea",
           "offsetgroup": "Guinea",
           "orientation": "v",
           "showlegend": true,
           "textposition": "auto",
           "type": "bar",
           "x": [
            "Guinea"
           ],
           "xaxis": "x",
           "y": [
            0.6
           ],
           "yaxis": "y"
          },
          {
           "alignmentgroup": "True",
           "hovertemplate": "Country=%{x}<br>Year=2024<br>Percentage of Documents=%{y}<extra></extra>",
           "legendgroup": "Haiti",
           "marker": {
            "color": "#FF6692",
            "pattern": {
             "shape": ""
            }
           },
           "name": "Haiti",
           "offsetgroup": "Haiti",
           "orientation": "v",
           "showlegend": true,
           "textposition": "auto",
           "type": "bar",
           "x": [
            "Haiti"
           ],
           "xaxis": "x",
           "y": [
            0.6
           ],
           "yaxis": "y"
          },
          {
           "alignmentgroup": "True",
           "hovertemplate": "Country=%{x}<br>Year=2024<br>Percentage of Documents=%{y}<extra></extra>",
           "legendgroup": "Honduras",
           "marker": {
            "color": "#B6E880",
            "pattern": {
             "shape": ""
            }
           },
           "name": "Honduras",
           "offsetgroup": "Honduras",
           "orientation": "v",
           "showlegend": true,
           "textposition": "auto",
           "type": "bar",
           "x": [
            "Honduras"
           ],
           "xaxis": "x",
           "y": [
            0.3
           ],
           "yaxis": "y"
          },
          {
           "alignmentgroup": "True",
           "hovertemplate": "Country=%{x}<br>Year=2024<br>Percentage of Documents=%{y}<extra></extra>",
           "legendgroup": "India",
           "marker": {
            "color": "#FF97FF",
            "pattern": {
             "shape": ""
            }
           },
           "name": "India",
           "offsetgroup": "India",
           "orientation": "v",
           "showlegend": true,
           "textposition": "auto",
           "type": "bar",
           "x": [
            "India"
           ],
           "xaxis": "x",
           "y": [
            5.2
           ],
           "yaxis": "y"
          },
          {
           "alignmentgroup": "True",
           "hovertemplate": "Country=%{x}<br>Year=2024<br>Percentage of Documents=%{y}<extra></extra>",
           "legendgroup": "Indonesia",
           "marker": {
            "color": "#FECB52",
            "pattern": {
             "shape": ""
            }
           },
           "name": "Indonesia",
           "offsetgroup": "Indonesia",
           "orientation": "v",
           "showlegend": true,
           "textposition": "auto",
           "type": "bar",
           "x": [
            "Indonesia"
           ],
           "xaxis": "x",
           "y": [
            3.2
           ],
           "yaxis": "y"
          },
          {
           "alignmentgroup": "True",
           "hovertemplate": "Country=%{x}<br>Year=2024<br>Percentage of Documents=%{y}<extra></extra>",
           "legendgroup": "Iraq",
           "marker": {
            "color": "#636efa",
            "pattern": {
             "shape": ""
            }
           },
           "name": "Iraq",
           "offsetgroup": "Iraq",
           "orientation": "v",
           "showlegend": true,
           "textposition": "auto",
           "type": "bar",
           "x": [
            "Iraq"
           ],
           "xaxis": "x",
           "y": [
            0.3
           ],
           "yaxis": "y"
          },
          {
           "alignmentgroup": "True",
           "hovertemplate": "Country=%{x}<br>Year=2024<br>Percentage of Documents=%{y}<extra></extra>",
           "legendgroup": "Jamaica",
           "marker": {
            "color": "#EF553B",
            "pattern": {
             "shape": ""
            }
           },
           "name": "Jamaica",
           "offsetgroup": "Jamaica",
           "orientation": "v",
           "showlegend": true,
           "textposition": "auto",
           "type": "bar",
           "x": [
            "Jamaica"
           ],
           "xaxis": "x",
           "y": [
            0.3
           ],
           "yaxis": "y"
          },
          {
           "alignmentgroup": "True",
           "hovertemplate": "Country=%{x}<br>Year=2024<br>Percentage of Documents=%{y}<extra></extra>",
           "legendgroup": "Jordan",
           "marker": {
            "color": "#00cc96",
            "pattern": {
             "shape": ""
            }
           },
           "name": "Jordan",
           "offsetgroup": "Jordan",
           "orientation": "v",
           "showlegend": true,
           "textposition": "auto",
           "type": "bar",
           "x": [
            "Jordan"
           ],
           "xaxis": "x",
           "y": [
            0.3
           ],
           "yaxis": "y"
          },
          {
           "alignmentgroup": "True",
           "hovertemplate": "Country=%{x}<br>Year=2024<br>Percentage of Documents=%{y}<extra></extra>",
           "legendgroup": "Kenya",
           "marker": {
            "color": "#ab63fa",
            "pattern": {
             "shape": ""
            }
           },
           "name": "Kenya",
           "offsetgroup": "Kenya",
           "orientation": "v",
           "showlegend": true,
           "textposition": "auto",
           "type": "bar",
           "x": [
            "Kenya"
           ],
           "xaxis": "x",
           "y": [
            1.9
           ],
           "yaxis": "y"
          },
          {
           "alignmentgroup": "True",
           "hovertemplate": "Country=%{x}<br>Year=2024<br>Percentage of Documents=%{y}<extra></extra>",
           "legendgroup": "Kosovo",
           "marker": {
            "color": "#19d3f3",
            "pattern": {
             "shape": ""
            }
           },
           "name": "Kosovo",
           "offsetgroup": "Kosovo",
           "orientation": "v",
           "showlegend": true,
           "textposition": "auto",
           "type": "bar",
           "x": [
            "Kosovo"
           ],
           "xaxis": "x",
           "y": [
            1
           ],
           "yaxis": "y"
          },
          {
           "alignmentgroup": "True",
           "hovertemplate": "Country=%{x}<br>Year=2024<br>Percentage of Documents=%{y}<extra></extra>",
           "legendgroup": "Kyrgyz Republic",
           "marker": {
            "color": "#FF6692",
            "pattern": {
             "shape": ""
            }
           },
           "name": "Kyrgyz Republic",
           "offsetgroup": "Kyrgyz Republic",
           "orientation": "v",
           "showlegend": true,
           "textposition": "auto",
           "type": "bar",
           "x": [
            "Kyrgyz Republic"
           ],
           "xaxis": "x",
           "y": [
            0.3
           ],
           "yaxis": "y"
          },
          {
           "alignmentgroup": "True",
           "hovertemplate": "Country=%{x}<br>Year=2024<br>Percentage of Documents=%{y}<extra></extra>",
           "legendgroup": "Lao People's Democratic Republic",
           "marker": {
            "color": "#FF97FF",
            "pattern": {
             "shape": ""
            }
           },
           "name": "Lao People's Democratic Republic",
           "offsetgroup": "Lao People's Democratic Republic",
           "orientation": "v",
           "showlegend": true,
           "textposition": "auto",
           "type": "bar",
           "x": [
            "Lao People's Democratic Republic"
           ],
           "xaxis": "x",
           "y": [
            0.3
           ],
           "yaxis": "y"
          },
          {
           "alignmentgroup": "True",
           "hovertemplate": "Country=%{x}<br>Year=2024<br>Percentage of Documents=%{y}<extra></extra>",
           "legendgroup": "Lebanon",
           "marker": {
            "color": "#FECB52",
            "pattern": {
             "shape": ""
            }
           },
           "name": "Lebanon",
           "offsetgroup": "Lebanon",
           "orientation": "v",
           "showlegend": true,
           "textposition": "auto",
           "type": "bar",
           "x": [
            "Lebanon"
           ],
           "xaxis": "x",
           "y": [
            0.6
           ],
           "yaxis": "y"
          },
          {
           "alignmentgroup": "True",
           "hovertemplate": "Country=%{x}<br>Year=2024<br>Percentage of Documents=%{y}<extra></extra>",
           "legendgroup": "Madagascar",
           "marker": {
            "color": "#636efa",
            "pattern": {
             "shape": ""
            }
           },
           "name": "Madagascar",
           "offsetgroup": "Madagascar",
           "orientation": "v",
           "showlegend": true,
           "textposition": "auto",
           "type": "bar",
           "x": [
            "Madagascar"
           ],
           "xaxis": "x",
           "y": [
            0.3
           ],
           "yaxis": "y"
          },
          {
           "alignmentgroup": "True",
           "hovertemplate": "Country=%{x}<br>Year=2024<br>Percentage of Documents=%{y}<extra></extra>",
           "legendgroup": "Malawi",
           "marker": {
            "color": "#EF553B",
            "pattern": {
             "shape": ""
            }
           },
           "name": "Malawi",
           "offsetgroup": "Malawi",
           "orientation": "v",
           "showlegend": true,
           "textposition": "auto",
           "type": "bar",
           "x": [
            "Malawi"
           ],
           "xaxis": "x",
           "y": [
            0.3
           ],
           "yaxis": "y"
          },
          {
           "alignmentgroup": "True",
           "hovertemplate": "Country=%{x}<br>Year=2024<br>Percentage of Documents=%{y}<extra></extra>",
           "legendgroup": "Maldives",
           "marker": {
            "color": "#00cc96",
            "pattern": {
             "shape": ""
            }
           },
           "name": "Maldives",
           "offsetgroup": "Maldives",
           "orientation": "v",
           "showlegend": true,
           "textposition": "auto",
           "type": "bar",
           "x": [
            "Maldives"
           ],
           "xaxis": "x",
           "y": [
            0.6
           ],
           "yaxis": "y"
          },
          {
           "alignmentgroup": "True",
           "hovertemplate": "Country=%{x}<br>Year=2024<br>Percentage of Documents=%{y}<extra></extra>",
           "legendgroup": "Mauritania",
           "marker": {
            "color": "#ab63fa",
            "pattern": {
             "shape": ""
            }
           },
           "name": "Mauritania",
           "offsetgroup": "Mauritania",
           "orientation": "v",
           "showlegend": true,
           "textposition": "auto",
           "type": "bar",
           "x": [
            "Mauritania"
           ],
           "xaxis": "x",
           "y": [
            0.3
           ],
           "yaxis": "y"
          },
          {
           "alignmentgroup": "True",
           "hovertemplate": "Country=%{x}<br>Year=2024<br>Percentage of Documents=%{y}<extra></extra>",
           "legendgroup": "Mexico",
           "marker": {
            "color": "#FFA15A",
            "pattern": {
             "shape": ""
            }
           },
           "name": "Mexico",
           "offsetgroup": "Mexico",
           "orientation": "v",
           "showlegend": true,
           "textposition": "auto",
           "type": "bar",
           "x": [
            "Mexico"
           ],
           "xaxis": "x",
           "y": [
            0.3
           ],
           "yaxis": "y"
          },
          {
           "alignmentgroup": "True",
           "hovertemplate": "Country=%{x}<br>Year=2024<br>Percentage of Documents=%{y}<extra></extra>",
           "legendgroup": "Moldova",
           "marker": {
            "color": "#FF6692",
            "pattern": {
             "shape": ""
            }
           },
           "name": "Moldova",
           "offsetgroup": "Moldova",
           "orientation": "v",
           "showlegend": true,
           "textposition": "auto",
           "type": "bar",
           "x": [
            "Moldova"
           ],
           "xaxis": "x",
           "y": [
            1
           ],
           "yaxis": "y"
          },
          {
           "alignmentgroup": "True",
           "hovertemplate": "Country=%{x}<br>Year=2024<br>Percentage of Documents=%{y}<extra></extra>",
           "legendgroup": "Montenegro",
           "marker": {
            "color": "#B6E880",
            "pattern": {
             "shape": ""
            }
           },
           "name": "Montenegro",
           "offsetgroup": "Montenegro",
           "orientation": "v",
           "showlegend": true,
           "textposition": "auto",
           "type": "bar",
           "x": [
            "Montenegro"
           ],
           "xaxis": "x",
           "y": [
            0.3
           ],
           "yaxis": "y"
          },
          {
           "alignmentgroup": "True",
           "hovertemplate": "Country=%{x}<br>Year=2024<br>Percentage of Documents=%{y}<extra></extra>",
           "legendgroup": "Morocco",
           "marker": {
            "color": "#FF97FF",
            "pattern": {
             "shape": ""
            }
           },
           "name": "Morocco",
           "offsetgroup": "Morocco",
           "orientation": "v",
           "showlegend": true,
           "textposition": "auto",
           "type": "bar",
           "x": [
            "Morocco"
           ],
           "xaxis": "x",
           "y": [
            0.6
           ],
           "yaxis": "y"
          },
          {
           "alignmentgroup": "True",
           "hovertemplate": "Country=%{x}<br>Year=2024<br>Percentage of Documents=%{y}<extra></extra>",
           "legendgroup": "Mozambique",
           "marker": {
            "color": "#FECB52",
            "pattern": {
             "shape": ""
            }
           },
           "name": "Mozambique",
           "offsetgroup": "Mozambique",
           "orientation": "v",
           "showlegend": true,
           "textposition": "auto",
           "type": "bar",
           "x": [
            "Mozambique"
           ],
           "xaxis": "x",
           "y": [
            1.3
           ],
           "yaxis": "y"
          },
          {
           "alignmentgroup": "True",
           "hovertemplate": "Country=%{x}<br>Year=2024<br>Percentage of Documents=%{y}<extra></extra>",
           "legendgroup": "Nepal",
           "marker": {
            "color": "#636efa",
            "pattern": {
             "shape": ""
            }
           },
           "name": "Nepal",
           "offsetgroup": "Nepal",
           "orientation": "v",
           "showlegend": true,
           "textposition": "auto",
           "type": "bar",
           "x": [
            "Nepal"
           ],
           "xaxis": "x",
           "y": [
            1.3
           ],
           "yaxis": "y"
          },
          {
           "alignmentgroup": "True",
           "hovertemplate": "Country=%{x}<br>Year=2024<br>Percentage of Documents=%{y}<extra></extra>",
           "legendgroup": "Nicaragua",
           "marker": {
            "color": "#EF553B",
            "pattern": {
             "shape": ""
            }
           },
           "name": "Nicaragua",
           "offsetgroup": "Nicaragua",
           "orientation": "v",
           "showlegend": true,
           "textposition": "auto",
           "type": "bar",
           "x": [
            "Nicaragua"
           ],
           "xaxis": "x",
           "y": [
            0.3
           ],
           "yaxis": "y"
          },
          {
           "alignmentgroup": "True",
           "hovertemplate": "Country=%{x}<br>Year=2024<br>Percentage of Documents=%{y}<extra></extra>",
           "legendgroup": "Niger",
           "marker": {
            "color": "#00cc96",
            "pattern": {
             "shape": ""
            }
           },
           "name": "Niger",
           "offsetgroup": "Niger",
           "orientation": "v",
           "showlegend": true,
           "textposition": "auto",
           "type": "bar",
           "x": [
            "Niger"
           ],
           "xaxis": "x",
           "y": [
            2.3
           ],
           "yaxis": "y"
          },
          {
           "alignmentgroup": "True",
           "hovertemplate": "Country=%{x}<br>Year=2024<br>Percentage of Documents=%{y}<extra></extra>",
           "legendgroup": "Nigeria",
           "marker": {
            "color": "#ab63fa",
            "pattern": {
             "shape": ""
            }
           },
           "name": "Nigeria",
           "offsetgroup": "Nigeria",
           "orientation": "v",
           "showlegend": true,
           "textposition": "auto",
           "type": "bar",
           "x": [
            "Nigeria"
           ],
           "xaxis": "x",
           "y": [
            1
           ],
           "yaxis": "y"
          },
          {
           "alignmentgroup": "True",
           "hovertemplate": "Country=%{x}<br>Year=2024<br>Percentage of Documents=%{y}<extra></extra>",
           "legendgroup": "OECS Countries",
           "marker": {
            "color": "#19d3f3",
            "pattern": {
             "shape": ""
            }
           },
           "name": "OECS Countries",
           "offsetgroup": "OECS Countries",
           "orientation": "v",
           "showlegend": true,
           "textposition": "auto",
           "type": "bar",
           "x": [
            "OECS Countries"
           ],
           "xaxis": "x",
           "y": [
            0.3
           ],
           "yaxis": "y"
          },
          {
           "alignmentgroup": "True",
           "hovertemplate": "Country=%{x}<br>Year=2024<br>Percentage of Documents=%{y}<extra></extra>",
           "legendgroup": "Pakistan",
           "marker": {
            "color": "#FF6692",
            "pattern": {
             "shape": ""
            }
           },
           "name": "Pakistan",
           "offsetgroup": "Pakistan",
           "orientation": "v",
           "showlegend": true,
           "textposition": "auto",
           "type": "bar",
           "x": [
            "Pakistan"
           ],
           "xaxis": "x",
           "y": [
            2.6
           ],
           "yaxis": "y"
          },
          {
           "alignmentgroup": "True",
           "hovertemplate": "Country=%{x}<br>Year=2024<br>Percentage of Documents=%{y}<extra></extra>",
           "legendgroup": "Papua New Guinea",
           "marker": {
            "color": "#B6E880",
            "pattern": {
             "shape": ""
            }
           },
           "name": "Papua New Guinea",
           "offsetgroup": "Papua New Guinea",
           "orientation": "v",
           "showlegend": true,
           "textposition": "auto",
           "type": "bar",
           "x": [
            "Papua New Guinea"
           ],
           "xaxis": "x",
           "y": [
            0.6
           ],
           "yaxis": "y"
          },
          {
           "alignmentgroup": "True",
           "hovertemplate": "Country=%{x}<br>Year=2024<br>Percentage of Documents=%{y}<extra></extra>",
           "legendgroup": "Peru",
           "marker": {
            "color": "#FECB52",
            "pattern": {
             "shape": ""
            }
           },
           "name": "Peru",
           "offsetgroup": "Peru",
           "orientation": "v",
           "showlegend": true,
           "textposition": "auto",
           "type": "bar",
           "x": [
            "Peru"
           ],
           "xaxis": "x",
           "y": [
            0.6
           ],
           "yaxis": "y"
          },
          {
           "alignmentgroup": "True",
           "hovertemplate": "Country=%{x}<br>Year=2024<br>Percentage of Documents=%{y}<extra></extra>",
           "legendgroup": "Philippines",
           "marker": {
            "color": "#636efa",
            "pattern": {
             "shape": ""
            }
           },
           "name": "Philippines",
           "offsetgroup": "Philippines",
           "orientation": "v",
           "showlegend": true,
           "textposition": "auto",
           "type": "bar",
           "x": [
            "Philippines"
           ],
           "xaxis": "x",
           "y": [
            0.6
           ],
           "yaxis": "y"
          },
          {
           "alignmentgroup": "True",
           "hovertemplate": "Country=%{x}<br>Year=2024<br>Percentage of Documents=%{y}<extra></extra>",
           "legendgroup": "Russian Federation",
           "marker": {
            "color": "#EF553B",
            "pattern": {
             "shape": ""
            }
           },
           "name": "Russian Federation",
           "offsetgroup": "Russian Federation",
           "orientation": "v",
           "showlegend": true,
           "textposition": "auto",
           "type": "bar",
           "x": [
            "Russian Federation"
           ],
           "xaxis": "x",
           "y": [
            0.6
           ],
           "yaxis": "y"
          },
          {
           "alignmentgroup": "True",
           "hovertemplate": "Country=%{x}<br>Year=2024<br>Percentage of Documents=%{y}<extra></extra>",
           "legendgroup": "Rwanda",
           "marker": {
            "color": "#00cc96",
            "pattern": {
             "shape": ""
            }
           },
           "name": "Rwanda",
           "offsetgroup": "Rwanda",
           "orientation": "v",
           "showlegend": true,
           "textposition": "auto",
           "type": "bar",
           "x": [
            "Rwanda"
           ],
           "xaxis": "x",
           "y": [
            0.3
           ],
           "yaxis": "y"
          },
          {
           "alignmentgroup": "True",
           "hovertemplate": "Country=%{x}<br>Year=2024<br>Percentage of Documents=%{y}<extra></extra>",
           "legendgroup": "Samoa",
           "marker": {
            "color": "#ab63fa",
            "pattern": {
             "shape": ""
            }
           },
           "name": "Samoa",
           "offsetgroup": "Samoa",
           "orientation": "v",
           "showlegend": true,
           "textposition": "auto",
           "type": "bar",
           "x": [
            "Samoa"
           ],
           "xaxis": "x",
           "y": [
            0.3
           ],
           "yaxis": "y"
          },
          {
           "alignmentgroup": "True",
           "hovertemplate": "Country=%{x}<br>Year=2024<br>Percentage of Documents=%{y}<extra></extra>",
           "legendgroup": "Senegal",
           "marker": {
            "color": "#FFA15A",
            "pattern": {
             "shape": ""
            }
           },
           "name": "Senegal",
           "offsetgroup": "Senegal",
           "orientation": "v",
           "showlegend": true,
           "textposition": "auto",
           "type": "bar",
           "x": [
            "Senegal"
           ],
           "xaxis": "x",
           "y": [
            0.6
           ],
           "yaxis": "y"
          },
          {
           "alignmentgroup": "True",
           "hovertemplate": "Country=%{x}<br>Year=2024<br>Percentage of Documents=%{y}<extra></extra>",
           "legendgroup": "Sierra Leone",
           "marker": {
            "color": "#19d3f3",
            "pattern": {
             "shape": ""
            }
           },
           "name": "Sierra Leone",
           "offsetgroup": "Sierra Leone",
           "orientation": "v",
           "showlegend": true,
           "textposition": "auto",
           "type": "bar",
           "x": [
            "Sierra Leone"
           ],
           "xaxis": "x",
           "y": [
            0.3
           ],
           "yaxis": "y"
          },
          {
           "alignmentgroup": "True",
           "hovertemplate": "Country=%{x}<br>Year=2024<br>Percentage of Documents=%{y}<extra></extra>",
           "legendgroup": "Solomon Islands",
           "marker": {
            "color": "#FF6692",
            "pattern": {
             "shape": ""
            }
           },
           "name": "Solomon Islands",
           "offsetgroup": "Solomon Islands",
           "orientation": "v",
           "showlegend": true,
           "textposition": "auto",
           "type": "bar",
           "x": [
            "Solomon Islands"
           ],
           "xaxis": "x",
           "y": [
            0.3
           ],
           "yaxis": "y"
          },
          {
           "alignmentgroup": "True",
           "hovertemplate": "Country=%{x}<br>Year=2024<br>Percentage of Documents=%{y}<extra></extra>",
           "legendgroup": "South Sudan",
           "marker": {
            "color": "#B6E880",
            "pattern": {
             "shape": ""
            }
           },
           "name": "South Sudan",
           "offsetgroup": "South Sudan",
           "orientation": "v",
           "showlegend": true,
           "textposition": "auto",
           "type": "bar",
           "x": [
            "South Sudan"
           ],
           "xaxis": "x",
           "y": [
            0.3
           ],
           "yaxis": "y"
          },
          {
           "alignmentgroup": "True",
           "hovertemplate": "Country=%{x}<br>Year=2024<br>Percentage of Documents=%{y}<extra></extra>",
           "legendgroup": "Sri Lanka",
           "marker": {
            "color": "#FF97FF",
            "pattern": {
             "shape": ""
            }
           },
           "name": "Sri Lanka",
           "offsetgroup": "Sri Lanka",
           "orientation": "v",
           "showlegend": true,
           "textposition": "auto",
           "type": "bar",
           "x": [
            "Sri Lanka"
           ],
           "xaxis": "x",
           "y": [
            2.3
           ],
           "yaxis": "y"
          },
          {
           "alignmentgroup": "True",
           "hovertemplate": "Country=%{x}<br>Year=2024<br>Percentage of Documents=%{y}<extra></extra>",
           "legendgroup": "Tajikistan",
           "marker": {
            "color": "#FECB52",
            "pattern": {
             "shape": ""
            }
           },
           "name": "Tajikistan",
           "offsetgroup": "Tajikistan",
           "orientation": "v",
           "showlegend": true,
           "textposition": "auto",
           "type": "bar",
           "x": [
            "Tajikistan"
           ],
           "xaxis": "x",
           "y": [
            0.6
           ],
           "yaxis": "y"
          },
          {
           "alignmentgroup": "True",
           "hovertemplate": "Country=%{x}<br>Year=2024<br>Percentage of Documents=%{y}<extra></extra>",
           "legendgroup": "Tanzania",
           "marker": {
            "color": "#636efa",
            "pattern": {
             "shape": ""
            }
           },
           "name": "Tanzania",
           "offsetgroup": "Tanzania",
           "orientation": "v",
           "showlegend": true,
           "textposition": "auto",
           "type": "bar",
           "x": [
            "Tanzania"
           ],
           "xaxis": "x",
           "y": [
            1.6
           ],
           "yaxis": "y"
          },
          {
           "alignmentgroup": "True",
           "hovertemplate": "Country=%{x}<br>Year=2024<br>Percentage of Documents=%{y}<extra></extra>",
           "legendgroup": "Tunisia",
           "marker": {
            "color": "#00cc96",
            "pattern": {
             "shape": ""
            }
           },
           "name": "Tunisia",
           "offsetgroup": "Tunisia",
           "orientation": "v",
           "showlegend": true,
           "textposition": "auto",
           "type": "bar",
           "x": [
            "Tunisia"
           ],
           "xaxis": "x",
           "y": [
            0.3
           ],
           "yaxis": "y"
          },
          {
           "alignmentgroup": "True",
           "hovertemplate": "Country=%{x}<br>Year=2024<br>Percentage of Documents=%{y}<extra></extra>",
           "legendgroup": "Uganda",
           "marker": {
            "color": "#ab63fa",
            "pattern": {
             "shape": ""
            }
           },
           "name": "Uganda",
           "offsetgroup": "Uganda",
           "orientation": "v",
           "showlegend": true,
           "textposition": "auto",
           "type": "bar",
           "x": [
            "Uganda"
           ],
           "xaxis": "x",
           "y": [
            1.3
           ],
           "yaxis": "y"
          },
          {
           "alignmentgroup": "True",
           "hovertemplate": "Country=%{x}<br>Year=2024<br>Percentage of Documents=%{y}<extra></extra>",
           "legendgroup": "Vietnam",
           "marker": {
            "color": "#FFA15A",
            "pattern": {
             "shape": ""
            }
           },
           "name": "Vietnam",
           "offsetgroup": "Vietnam",
           "orientation": "v",
           "showlegend": true,
           "textposition": "auto",
           "type": "bar",
           "x": [
            "Vietnam"
           ],
           "xaxis": "x",
           "y": [
            3.2
           ],
           "yaxis": "y"
          },
          {
           "alignmentgroup": "True",
           "hovertemplate": "Country=%{x}<br>Year=2024<br>Percentage of Documents=%{y}<extra></extra>",
           "legendgroup": "West Bank and Gaza",
           "marker": {
            "color": "#19d3f3",
            "pattern": {
             "shape": ""
            }
           },
           "name": "West Bank and Gaza",
           "offsetgroup": "West Bank and Gaza",
           "orientation": "v",
           "showlegend": true,
           "textposition": "auto",
           "type": "bar",
           "x": [
            "West Bank and Gaza"
           ],
           "xaxis": "x",
           "y": [
            1
           ],
           "yaxis": "y"
          },
          {
           "alignmentgroup": "True",
           "hovertemplate": "Country=%{x}<br>Year=2024<br>Percentage of Documents=%{y}<extra></extra>",
           "legendgroup": "Belarus",
           "marker": {
            "color": "#636efa",
            "pattern": {
             "shape": ""
            }
           },
           "name": "Belarus",
           "offsetgroup": "Belarus",
           "orientation": "v",
           "showlegend": true,
           "textposition": "auto",
           "type": "bar",
           "x": [
            "Belarus"
           ],
           "xaxis": "x",
           "y": [
            0.3
           ],
           "yaxis": "y"
          },
          {
           "alignmentgroup": "True",
           "hovertemplate": "Country=%{x}<br>Year=2024<br>Percentage of Documents=%{y}<extra></extra>",
           "legendgroup": "Bolivia",
           "marker": {
            "color": "#00cc96",
            "pattern": {
             "shape": ""
            }
           },
           "name": "Bolivia",
           "offsetgroup": "Bolivia",
           "orientation": "v",
           "showlegend": true,
           "textposition": "auto",
           "type": "bar",
           "x": [
            "Bolivia"
           ],
           "xaxis": "x",
           "y": [
            1
           ],
           "yaxis": "y"
          },
          {
           "alignmentgroup": "True",
           "hovertemplate": "Country=%{x}<br>Year=2024<br>Percentage of Documents=%{y}<extra></extra>",
           "legendgroup": "Central Asia",
           "marker": {
            "color": "#FFA15A",
            "pattern": {
             "shape": ""
            }
           },
           "name": "Central Asia",
           "offsetgroup": "Central Asia",
           "orientation": "v",
           "showlegend": true,
           "textposition": "auto",
           "type": "bar",
           "x": [
            "Central Asia"
           ],
           "xaxis": "x",
           "y": [
            0.3
           ],
           "yaxis": "y"
          },
          {
           "alignmentgroup": "True",
           "hovertemplate": "Country=%{x}<br>Year=2024<br>Percentage of Documents=%{y}<extra></extra>",
           "legendgroup": "Croatia",
           "marker": {
            "color": "#19d3f3",
            "pattern": {
             "shape": ""
            }
           },
           "name": "Croatia",
           "offsetgroup": "Croatia",
           "orientation": "v",
           "showlegend": true,
           "textposition": "auto",
           "type": "bar",
           "x": [
            "Croatia"
           ],
           "xaxis": "x",
           "y": [
            0.3
           ],
           "yaxis": "y"
          },
          {
           "alignmentgroup": "True",
           "hovertemplate": "Country=%{x}<br>Year=2024<br>Percentage of Documents=%{y}<extra></extra>",
           "legendgroup": "Gabon",
           "marker": {
            "color": "#FF6692",
            "pattern": {
             "shape": ""
            }
           },
           "name": "Gabon",
           "offsetgroup": "Gabon",
           "orientation": "v",
           "showlegend": true,
           "textposition": "auto",
           "type": "bar",
           "x": [
            "Gabon"
           ],
           "xaxis": "x",
           "y": [
            0.6
           ],
           "yaxis": "y"
          },
          {
           "alignmentgroup": "True",
           "hovertemplate": "Country=%{x}<br>Year=2024<br>Percentage of Documents=%{y}<extra></extra>",
           "legendgroup": "Georgia",
           "marker": {
            "color": "#B6E880",
            "pattern": {
             "shape": ""
            }
           },
           "name": "Georgia",
           "offsetgroup": "Georgia",
           "orientation": "v",
           "showlegend": true,
           "textposition": "auto",
           "type": "bar",
           "x": [
            "Georgia"
           ],
           "xaxis": "x",
           "y": [
            1
           ],
           "yaxis": "y"
          },
          {
           "alignmentgroup": "True",
           "hovertemplate": "Country=%{x}<br>Year=2024<br>Percentage of Documents=%{y}<extra></extra>",
           "legendgroup": "Lesotho",
           "marker": {
            "color": "#FECB52",
            "pattern": {
             "shape": ""
            }
           },
           "name": "Lesotho",
           "offsetgroup": "Lesotho",
           "orientation": "v",
           "showlegend": true,
           "textposition": "auto",
           "type": "bar",
           "x": [
            "Lesotho"
           ],
           "xaxis": "x",
           "y": [
            0.6
           ],
           "yaxis": "y"
          },
          {
           "alignmentgroup": "True",
           "hovertemplate": "Country=%{x}<br>Year=2024<br>Percentage of Documents=%{y}<extra></extra>",
           "legendgroup": "Liberia",
           "marker": {
            "color": "#636efa",
            "pattern": {
             "shape": ""
            }
           },
           "name": "Liberia",
           "offsetgroup": "Liberia",
           "orientation": "v",
           "showlegend": true,
           "textposition": "auto",
           "type": "bar",
           "x": [
            "Liberia"
           ],
           "xaxis": "x",
           "y": [
            1
           ],
           "yaxis": "y"
          },
          {
           "alignmentgroup": "True",
           "hovertemplate": "Country=%{x}<br>Year=2024<br>Percentage of Documents=%{y}<extra></extra>",
           "legendgroup": "Mali",
           "marker": {
            "color": "#EF553B",
            "pattern": {
             "shape": ""
            }
           },
           "name": "Mali",
           "offsetgroup": "Mali",
           "orientation": "v",
           "showlegend": true,
           "textposition": "auto",
           "type": "bar",
           "x": [
            "Mali"
           ],
           "xaxis": "x",
           "y": [
            1.3
           ],
           "yaxis": "y"
          },
          {
           "alignmentgroup": "True",
           "hovertemplate": "Country=%{x}<br>Year=2024<br>Percentage of Documents=%{y}<extra></extra>",
           "legendgroup": "Romania",
           "marker": {
            "color": "#FFA15A",
            "pattern": {
             "shape": ""
            }
           },
           "name": "Romania",
           "offsetgroup": "Romania",
           "orientation": "v",
           "showlegend": true,
           "textposition": "auto",
           "type": "bar",
           "x": [
            "Romania"
           ],
           "xaxis": "x",
           "y": [
            0.3
           ],
           "yaxis": "y"
          },
          {
           "alignmentgroup": "True",
           "hovertemplate": "Country=%{x}<br>Year=2024<br>Percentage of Documents=%{y}<extra></extra>",
           "legendgroup": "Serbia",
           "marker": {
            "color": "#FF6692",
            "pattern": {
             "shape": ""
            }
           },
           "name": "Serbia",
           "offsetgroup": "Serbia",
           "orientation": "v",
           "showlegend": true,
           "textposition": "auto",
           "type": "bar",
           "x": [
            "Serbia"
           ],
           "xaxis": "x",
           "y": [
            1
           ],
           "yaxis": "y"
          },
          {
           "alignmentgroup": "True",
           "hovertemplate": "Country=%{x}<br>Year=2024<br>Percentage of Documents=%{y}<extra></extra>",
           "legendgroup": "Sudan",
           "marker": {
            "color": "#B6E880",
            "pattern": {
             "shape": ""
            }
           },
           "name": "Sudan",
           "offsetgroup": "Sudan",
           "orientation": "v",
           "showlegend": true,
           "textposition": "auto",
           "type": "bar",
           "x": [
            "Sudan"
           ],
           "xaxis": "x",
           "y": [
            1
           ],
           "yaxis": "y"
          },
          {
           "alignmentgroup": "True",
           "hovertemplate": "Country=%{x}<br>Year=2024<br>Percentage of Documents=%{y}<extra></extra>",
           "legendgroup": "Uruguay",
           "marker": {
            "color": "#636efa",
            "pattern": {
             "shape": ""
            }
           },
           "name": "Uruguay",
           "offsetgroup": "Uruguay",
           "orientation": "v",
           "showlegend": true,
           "textposition": "auto",
           "type": "bar",
           "x": [
            "Uruguay"
           ],
           "xaxis": "x",
           "y": [
            0.6
           ],
           "yaxis": "y"
          },
          {
           "alignmentgroup": "True",
           "hovertemplate": "Country=%{x}<br>Year=2024<br>Percentage of Documents=%{y}<extra></extra>",
           "legendgroup": "Uzbekistan",
           "marker": {
            "color": "#EF553B",
            "pattern": {
             "shape": ""
            }
           },
           "name": "Uzbekistan",
           "offsetgroup": "Uzbekistan",
           "orientation": "v",
           "showlegend": true,
           "textposition": "auto",
           "type": "bar",
           "x": [
            "Uzbekistan"
           ],
           "xaxis": "x",
           "y": [
            1.3
           ],
           "yaxis": "y"
          },
          {
           "alignmentgroup": "True",
           "hovertemplate": "Country=%{x}<br>Year=2024<br>Percentage of Documents=%{y}<extra></extra>",
           "legendgroup": "Vanuatu",
           "marker": {
            "color": "#00cc96",
            "pattern": {
             "shape": ""
            }
           },
           "name": "Vanuatu",
           "offsetgroup": "Vanuatu",
           "orientation": "v",
           "showlegend": true,
           "textposition": "auto",
           "type": "bar",
           "x": [
            "Vanuatu"
           ],
           "xaxis": "x",
           "y": [
            0.3
           ],
           "yaxis": "y"
          },
          {
           "alignmentgroup": "True",
           "hovertemplate": "Country=%{x}<br>Year=2024<br>Percentage of Documents=%{y}<extra></extra>",
           "legendgroup": "Zimbabwe",
           "marker": {
            "color": "#FFA15A",
            "pattern": {
             "shape": ""
            }
           },
           "name": "Zimbabwe",
           "offsetgroup": "Zimbabwe",
           "orientation": "v",
           "showlegend": true,
           "textposition": "auto",
           "type": "bar",
           "x": [
            "Zimbabwe"
           ],
           "xaxis": "x",
           "y": [
            0.3
           ],
           "yaxis": "y"
          },
          {
           "alignmentgroup": "True",
           "hovertemplate": "Country=%{x}<br>Year=2024<br>Percentage of Documents=%{y}<extra></extra>",
           "legendgroup": "Central African Republic",
           "marker": {
            "color": "#19d3f3",
            "pattern": {
             "shape": ""
            }
           },
           "name": "Central African Republic",
           "offsetgroup": "Central African Republic",
           "orientation": "v",
           "showlegend": true,
           "textposition": "auto",
           "type": "bar",
           "x": [
            "Central African Republic"
           ],
           "xaxis": "x",
           "y": [
            1.3
           ],
           "yaxis": "y"
          },
          {
           "alignmentgroup": "True",
           "hovertemplate": "Country=%{x}<br>Year=2024<br>Percentage of Documents=%{y}<extra></extra>",
           "legendgroup": "Guatemala",
           "marker": {
            "color": "#FF6692",
            "pattern": {
             "shape": ""
            }
           },
           "name": "Guatemala",
           "offsetgroup": "Guatemala",
           "orientation": "v",
           "showlegend": true,
           "textposition": "auto",
           "type": "bar",
           "x": [
            "Guatemala"
           ],
           "xaxis": "x",
           "y": [
            0.3
           ],
           "yaxis": "y"
          },
          {
           "alignmentgroup": "True",
           "hovertemplate": "Country=%{x}<br>Year=2024<br>Percentage of Documents=%{y}<extra></extra>",
           "legendgroup": "Mongolia",
           "marker": {
            "color": "#FF97FF",
            "pattern": {
             "shape": ""
            }
           },
           "name": "Mongolia",
           "offsetgroup": "Mongolia",
           "orientation": "v",
           "showlegend": true,
           "textposition": "auto",
           "type": "bar",
           "x": [
            "Mongolia"
           ],
           "xaxis": "x",
           "y": [
            1.9
           ],
           "yaxis": "y"
          },
          {
           "alignmentgroup": "True",
           "hovertemplate": "Country=%{x}<br>Year=2024<br>Percentage of Documents=%{y}<extra></extra>",
           "legendgroup": "Myanmar",
           "marker": {
            "color": "#FECB52",
            "pattern": {
             "shape": ""
            }
           },
           "name": "Myanmar",
           "offsetgroup": "Myanmar",
           "orientation": "v",
           "showlegend": true,
           "textposition": "auto",
           "type": "bar",
           "x": [
            "Myanmar"
           ],
           "xaxis": "x",
           "y": [
            1.3
           ],
           "yaxis": "y"
          },
          {
           "alignmentgroup": "True",
           "hovertemplate": "Country=%{x}<br>Year=2024<br>Percentage of Documents=%{y}<extra></extra>",
           "legendgroup": "Pacific Islands",
           "marker": {
            "color": "#636efa",
            "pattern": {
             "shape": ""
            }
           },
           "name": "Pacific Islands",
           "offsetgroup": "Pacific Islands",
           "orientation": "v",
           "showlegend": true,
           "textposition": "auto",
           "type": "bar",
           "x": [
            "Pacific Islands"
           ],
           "xaxis": "x",
           "y": [
            0.6
           ],
           "yaxis": "y"
          },
          {
           "alignmentgroup": "True",
           "hovertemplate": "Country=%{x}<br>Year=2024<br>Percentage of Documents=%{y}<extra></extra>",
           "legendgroup": "Somalia",
           "marker": {
            "color": "#FFA15A",
            "pattern": {
             "shape": ""
            }
           },
           "name": "Somalia",
           "offsetgroup": "Somalia",
           "orientation": "v",
           "showlegend": true,
           "textposition": "auto",
           "type": "bar",
           "x": [
            "Somalia"
           ],
           "xaxis": "x",
           "y": [
            1.6
           ],
           "yaxis": "y"
          },
          {
           "alignmentgroup": "True",
           "hovertemplate": "Country=%{x}<br>Year=2024<br>Percentage of Documents=%{y}<extra></extra>",
           "legendgroup": "South Africa",
           "marker": {
            "color": "#19d3f3",
            "pattern": {
             "shape": ""
            }
           },
           "name": "South Africa",
           "offsetgroup": "South Africa",
           "orientation": "v",
           "showlegend": true,
           "textposition": "auto",
           "type": "bar",
           "x": [
            "South Africa"
           ],
           "xaxis": "x",
           "y": [
            0.3
           ],
           "yaxis": "y"
          },
          {
           "alignmentgroup": "True",
           "hovertemplate": "Country=%{x}<br>Year=2024<br>Percentage of Documents=%{y}<extra></extra>",
           "legendgroup": "Togo",
           "marker": {
            "color": "#FF6692",
            "pattern": {
             "shape": ""
            }
           },
           "name": "Togo",
           "offsetgroup": "Togo",
           "orientation": "v",
           "showlegend": true,
           "textposition": "auto",
           "type": "bar",
           "x": [
            "Togo"
           ],
           "xaxis": "x",
           "y": [
            1.6
           ],
           "yaxis": "y"
          },
          {
           "alignmentgroup": "True",
           "hovertemplate": "Country=%{x}<br>Year=2024<br>Percentage of Documents=%{y}<extra></extra>",
           "legendgroup": "Chile",
           "marker": {
            "color": "#636efa",
            "pattern": {
             "shape": ""
            }
           },
           "name": "Chile",
           "offsetgroup": "Chile",
           "orientation": "v",
           "showlegend": true,
           "textposition": "auto",
           "type": "bar",
           "x": [
            "Chile"
           ],
           "xaxis": "x",
           "y": [
            0.3
           ],
           "yaxis": "y"
          },
          {
           "alignmentgroup": "True",
           "hovertemplate": "Country=%{x}<br>Year=2024<br>Percentage of Documents=%{y}<extra></extra>",
           "legendgroup": "Eastern and Southern Africa",
           "marker": {
            "color": "#EF553B",
            "pattern": {
             "shape": ""
            }
           },
           "name": "Eastern and Southern Africa",
           "offsetgroup": "Eastern and Southern Africa",
           "orientation": "v",
           "showlegend": true,
           "textposition": "auto",
           "type": "bar",
           "x": [
            "Eastern and Southern Africa"
           ],
           "xaxis": "x",
           "y": [
            0.3
           ],
           "yaxis": "y"
          },
          {
           "alignmentgroup": "True",
           "hovertemplate": "Country=%{x}<br>Year=2024<br>Percentage of Documents=%{y}<extra></extra>",
           "legendgroup": "Ecuador",
           "marker": {
            "color": "#00cc96",
            "pattern": {
             "shape": ""
            }
           },
           "name": "Ecuador",
           "offsetgroup": "Ecuador",
           "orientation": "v",
           "showlegend": true,
           "textposition": "auto",
           "type": "bar",
           "x": [
            "Ecuador"
           ],
           "xaxis": "x",
           "y": [
            1.6
           ],
           "yaxis": "y"
          },
          {
           "alignmentgroup": "True",
           "hovertemplate": "Country=%{x}<br>Year=2024<br>Percentage of Documents=%{y}<extra></extra>",
           "legendgroup": "Guyana",
           "marker": {
            "color": "#19d3f3",
            "pattern": {
             "shape": ""
            }
           },
           "name": "Guyana",
           "offsetgroup": "Guyana",
           "orientation": "v",
           "showlegend": true,
           "textposition": "auto",
           "type": "bar",
           "x": [
            "Guyana"
           ],
           "xaxis": "x",
           "y": [
            0.3
           ],
           "yaxis": "y"
          },
          {
           "alignmentgroup": "True",
           "hovertemplate": "Country=%{x}<br>Year=2024<br>Percentage of Documents=%{y}<extra></extra>",
           "legendgroup": "Turkiye",
           "marker": {
            "color": "#636efa",
            "pattern": {
             "shape": ""
            }
           },
           "name": "Turkiye",
           "offsetgroup": "Turkiye",
           "orientation": "v",
           "showlegend": true,
           "textposition": "auto",
           "type": "bar",
           "x": [
            "Turkiye"
           ],
           "xaxis": "x",
           "y": [
            1
           ],
           "yaxis": "y"
          },
          {
           "alignmentgroup": "True",
           "hovertemplate": "Country=%{x}<br>Year=2024<br>Percentage of Documents=%{y}<extra></extra>",
           "legendgroup": "Tuvalu",
           "marker": {
            "color": "#EF553B",
            "pattern": {
             "shape": ""
            }
           },
           "name": "Tuvalu",
           "offsetgroup": "Tuvalu",
           "orientation": "v",
           "showlegend": true,
           "textposition": "auto",
           "type": "bar",
           "x": [
            "Tuvalu"
           ],
           "xaxis": "x",
           "y": [
            0.3
           ],
           "yaxis": "y"
          },
          {
           "alignmentgroup": "True",
           "hovertemplate": "Country=%{x}<br>Year=2024<br>Percentage of Documents=%{y}<extra></extra>",
           "legendgroup": "Ukraine",
           "marker": {
            "color": "#00cc96",
            "pattern": {
             "shape": ""
            }
           },
           "name": "Ukraine",
           "offsetgroup": "Ukraine",
           "orientation": "v",
           "showlegend": true,
           "textposition": "auto",
           "type": "bar",
           "x": [
            "Ukraine"
           ],
           "xaxis": "x",
           "y": [
            1.3
           ],
           "yaxis": "y"
          },
          {
           "alignmentgroup": "True",
           "hovertemplate": "Country=%{x}<br>Year=2024<br>Percentage of Documents=%{y}<extra></extra>",
           "legendgroup": "Western and Central Africa",
           "marker": {
            "color": "#FFA15A",
            "pattern": {
             "shape": ""
            }
           },
           "name": "Western and Central Africa",
           "offsetgroup": "Western and Central Africa",
           "orientation": "v",
           "showlegend": true,
           "textposition": "auto",
           "type": "bar",
           "x": [
            "Western and Central Africa"
           ],
           "xaxis": "x",
           "y": [
            1.6
           ],
           "yaxis": "y"
          },
          {
           "alignmentgroup": "True",
           "hovertemplate": "Country=%{x}<br>Year=2024<br>Percentage of Documents=%{y}<extra></extra>",
           "legendgroup": "Cambodia",
           "marker": {
            "color": "#B6E880",
            "pattern": {
             "shape": ""
            }
           },
           "name": "Cambodia",
           "offsetgroup": "Cambodia",
           "orientation": "v",
           "showlegend": true,
           "textposition": "auto",
           "type": "bar",
           "x": [
            "Cambodia"
           ],
           "xaxis": "x",
           "y": [
            1
           ],
           "yaxis": "y"
          },
          {
           "alignmentgroup": "True",
           "hovertemplate": "Country=%{x}<br>Year=2024<br>Percentage of Documents=%{y}<extra></extra>",
           "legendgroup": "Dominica",
           "marker": {
            "color": "#FECB52",
            "pattern": {
             "shape": ""
            }
           },
           "name": "Dominica",
           "offsetgroup": "Dominica",
           "orientation": "v",
           "showlegend": true,
           "textposition": "auto",
           "type": "bar",
           "x": [
            "Dominica"
           ],
           "xaxis": "x",
           "y": [
            0.3
           ],
           "yaxis": "y"
          },
          {
           "alignmentgroup": "True",
           "hovertemplate": "Country=%{x}<br>Year=2024<br>Percentage of Documents=%{y}<extra></extra>",
           "legendgroup": "Southern Africa",
           "marker": {
            "color": "#636efa",
            "pattern": {
             "shape": ""
            }
           },
           "name": "Southern Africa",
           "offsetgroup": "Southern Africa",
           "orientation": "v",
           "showlegend": true,
           "textposition": "auto",
           "type": "bar",
           "x": [
            "Southern Africa"
           ],
           "xaxis": "x",
           "y": [
            0.3
           ],
           "yaxis": "y"
          },
          {
           "alignmentgroup": "True",
           "hovertemplate": "Country=%{x}<br>Year=2024<br>Percentage of Documents=%{y}<extra></extra>",
           "legendgroup": "St Maarten",
           "marker": {
            "color": "#EF553B",
            "pattern": {
             "shape": ""
            }
           },
           "name": "St Maarten",
           "offsetgroup": "St Maarten",
           "orientation": "v",
           "showlegend": true,
           "textposition": "auto",
           "type": "bar",
           "x": [
            "St Maarten"
           ],
           "xaxis": "x",
           "y": [
            0.3
           ],
           "yaxis": "y"
          },
          {
           "alignmentgroup": "True",
           "hovertemplate": "Country=%{x}<br>Year=2024<br>Percentage of Documents=%{y}<extra></extra>",
           "legendgroup": "St. Lucia",
           "marker": {
            "color": "#00cc96",
            "pattern": {
             "shape": ""
            }
           },
           "name": "St. Lucia",
           "offsetgroup": "St. Lucia",
           "orientation": "v",
           "showlegend": true,
           "textposition": "auto",
           "type": "bar",
           "x": [
            "St. Lucia"
           ],
           "xaxis": "x",
           "y": [
            0.6
           ],
           "yaxis": "y"
          },
          {
           "alignmentgroup": "True",
           "hovertemplate": "Country=%{x}<br>Year=2024<br>Percentage of Documents=%{y}<extra></extra>",
           "legendgroup": "St. Vincent and the Grenadines",
           "marker": {
            "color": "#ab63fa",
            "pattern": {
             "shape": ""
            }
           },
           "name": "St. Vincent and the Grenadines",
           "offsetgroup": "St. Vincent and the Grenadines",
           "orientation": "v",
           "showlegend": true,
           "textposition": "auto",
           "type": "bar",
           "x": [
            "St. Vincent and the Grenadines"
           ],
           "xaxis": "x",
           "y": [
            0.3
           ],
           "yaxis": "y"
          },
          {
           "alignmentgroup": "True",
           "hovertemplate": "Country=%{x}<br>Year=2024<br>Percentage of Documents=%{y}<extra></extra>",
           "legendgroup": "Timor",
           "marker": {
            "color": "#FFA15A",
            "pattern": {
             "shape": ""
            }
           },
           "name": "Timor",
           "offsetgroup": "Timor",
           "orientation": "v",
           "showlegend": true,
           "textposition": "auto",
           "type": "bar",
           "x": [
            "Timor"
           ],
           "xaxis": "x",
           "y": [
            0.3
           ],
           "yaxis": "y"
          }
         ],
         "layout": {
          "title": {
           "text": "Percentage of Documents by Country - Year: 2024"
          },
          "xaxis": {
           "categoryarray": [
            "Afghanistan",
            "Africa",
            "Albania",
            "Angola",
            "Argentina",
            "Armenia",
            "Azerbaijan",
            "Bangladesh",
            "Banking Sector Strengthening Project",
            "Barbados",
            "Belarus",
            "Belize",
            "Benin",
            "Bhutan",
            "Bolivia",
            "Bosnia and Herzegovina",
            "Botswana",
            "Brazil",
            "Bulgaria",
            "Burkina Faso",
            "Burundi",
            "Cabo Verde",
            "Cambodia",
            "Cameroon",
            "Caribbean",
            "Central Africa",
            "Central African Republic",
            "Central Asia",
            "Chad",
            "Chile",
            "China",
            "Colombia",
            "Comoros",
            "Congo, Democratic Republic of",
            "Congo, Republic of",
            "Costa Rica",
            "Cote d'Ivoire",
            "Croatia",
            "Djibouti",
            "Dominica",
            "Dominican Republic",
            "Eastern Africa",
            "Eastern and Southern Africa",
            "Ecuador",
            "Egypt, Arab Republic of",
            "El Salvador",
            "Eswatini",
            "Ethiopia",
            "Europe and Central Asia",
            "Fiji",
            "Fiscal Sustainability and Climate Resilience DPO",
            "Gabon",
            "Gambia, The",
            "Georgia",
            "Ghana",
            "Grenada",
            "Guatemala",
            "Guinea",
            "Guyana",
            "Haiti",
            "Harsha Project",
            "Hebei Clean Heating Project (P148599)",
            "Honduras",
            "India",
            "Indonesia",
            "Iraq",
            "Jamaica",
            "Jordan",
            "Kazakhstan",
            "Kenya",
            "Kiribati",
            "Kosovo",
            "Kyrgyz Republic",
            "Lake Victoria Phase II APL 1 (FY09) (P100406) :",
            "Lao People's Democratic Republic",
            "Latin America",
            "Lebanon",
            "Lesotho",
            "Liberia",
            "Madagascar",
            "Malawi",
            "Maldives",
            "Mali",
            "Marshall Islands",
            "Mauritania",
            "Mexico",
            "Micronesia, Federated States of",
            "Middle East and North Africa",
            "Moldova",
            "Mongolia",
            "Montenegro",
            "Morocco",
            "Mozambique",
            "Myanmar",
            "National Agricultural Innovation (P131013)",
            "Nepal",
            "Nicaragua",
            "Niger",
            "Nigeria",
            "North Macedonia",
            "OECS Countries",
            "PNG Productive Partnerships in Agriculture",
            "Pacific Islands",
            "Pakistan",
            "Panama",
            "Papua New Guinea",
            "Paraguay",
            "Peru",
            "Philippines",
            "Poland",
            "Revenue Mobilization Program for Results: VAT Improvement Program (VIP) (P129770)",
            "Romania",
            "Russian Federation",
            "Rwanda",
            "Samoa",
            "Sao Tome and Principe",
            "Senegal",
            "Serbia",
            "Seychelles",
            "Sierra Leone",
            "Solomon Islands",
            "Somalia",
            "South Africa",
            "South Sudan",
            "Southern Africa",
            "Sri Lanka",
            "St Maarten",
            "St. Lucia",
            "St. Vincent and the Grenadines",
            "Sudan",
            "Tajikistan",
            "Tanzania",
            "Thailand",
            "Timor",
            "Togo",
            "Tonga",
            "Tunisia",
            "Turkey",
            "Turkiye",
            "Tuvalu",
            "Uganda",
            "Ukraine",
            "Uruguay",
            "Uzbekistan",
            "Vanuatu",
            "Vietnam",
            "West Africa Regional Communications Infrastructure Project",
            "West Bank and Gaza",
            "Western Africa",
            "Western Balkans",
            "Western and Central Africa",
            "World",
            "Yemen, Republic of",
            "Zambia",
            "Zimbabwe"
           ],
           "categoryorder": "array"
          },
          "yaxis": {
           "range": [
            0,
            11.990000000000002
           ]
          }
         },
         "name": "2024"
        },
        {
         "data": [
          {
           "alignmentgroup": "True",
           "hovertemplate": "Country=%{x}<br>Year=2025<br>Percentage of Documents=%{y}<extra></extra>",
           "legendgroup": "Armenia",
           "marker": {
            "color": "#19d3f3",
            "pattern": {
             "shape": ""
            }
           },
           "name": "Armenia",
           "offsetgroup": "Armenia",
           "orientation": "v",
           "showlegend": true,
           "textposition": "auto",
           "type": "bar",
           "x": [
            "Armenia"
           ],
           "xaxis": "x",
           "y": [
            1.8
           ],
           "yaxis": "y"
          },
          {
           "alignmentgroup": "True",
           "hovertemplate": "Country=%{x}<br>Year=2025<br>Percentage of Documents=%{y}<extra></extra>",
           "legendgroup": "Bangladesh",
           "marker": {
            "color": "#B6E880",
            "pattern": {
             "shape": ""
            }
           },
           "name": "Bangladesh",
           "offsetgroup": "Bangladesh",
           "orientation": "v",
           "showlegend": true,
           "textposition": "auto",
           "type": "bar",
           "x": [
            "Bangladesh"
           ],
           "xaxis": "x",
           "y": [
            1.8
           ],
           "yaxis": "y"
          },
          {
           "alignmentgroup": "True",
           "hovertemplate": "Country=%{x}<br>Year=2025<br>Percentage of Documents=%{y}<extra></extra>",
           "legendgroup": "Benin",
           "marker": {
            "color": "#FF97FF",
            "pattern": {
             "shape": ""
            }
           },
           "name": "Benin",
           "offsetgroup": "Benin",
           "orientation": "v",
           "showlegend": true,
           "textposition": "auto",
           "type": "bar",
           "x": [
            "Benin"
           ],
           "xaxis": "x",
           "y": [
            1.8
           ],
           "yaxis": "y"
          },
          {
           "alignmentgroup": "True",
           "hovertemplate": "Country=%{x}<br>Year=2025<br>Percentage of Documents=%{y}<extra></extra>",
           "legendgroup": "Bosnia and Herzegovina",
           "marker": {
            "color": "#636efa",
            "pattern": {
             "shape": ""
            }
           },
           "name": "Bosnia and Herzegovina",
           "offsetgroup": "Bosnia and Herzegovina",
           "orientation": "v",
           "showlegend": true,
           "textposition": "auto",
           "type": "bar",
           "x": [
            "Bosnia and Herzegovina"
           ],
           "xaxis": "x",
           "y": [
            1.8
           ],
           "yaxis": "y"
          },
          {
           "alignmentgroup": "True",
           "hovertemplate": "Country=%{x}<br>Year=2025<br>Percentage of Documents=%{y}<extra></extra>",
           "legendgroup": "Cameroon",
           "marker": {
            "color": "#19d3f3",
            "pattern": {
             "shape": ""
            }
           },
           "name": "Cameroon",
           "offsetgroup": "Cameroon",
           "orientation": "v",
           "showlegend": true,
           "textposition": "auto",
           "type": "bar",
           "x": [
            "Cameroon"
           ],
           "xaxis": "x",
           "y": [
            1.8
           ],
           "yaxis": "y"
          },
          {
           "alignmentgroup": "True",
           "hovertemplate": "Country=%{x}<br>Year=2025<br>Percentage of Documents=%{y}<extra></extra>",
           "legendgroup": "China",
           "marker": {
            "color": "#B6E880",
            "pattern": {
             "shape": ""
            }
           },
           "name": "China",
           "offsetgroup": "China",
           "orientation": "v",
           "showlegend": true,
           "textposition": "auto",
           "type": "bar",
           "x": [
            "China"
           ],
           "xaxis": "x",
           "y": [
            3.6
           ],
           "yaxis": "y"
          },
          {
           "alignmentgroup": "True",
           "hovertemplate": "Country=%{x}<br>Year=2025<br>Percentage of Documents=%{y}<extra></extra>",
           "legendgroup": "Colombia",
           "marker": {
            "color": "#FF97FF",
            "pattern": {
             "shape": ""
            }
           },
           "name": "Colombia",
           "offsetgroup": "Colombia",
           "orientation": "v",
           "showlegend": true,
           "textposition": "auto",
           "type": "bar",
           "x": [
            "Colombia"
           ],
           "xaxis": "x",
           "y": [
            1.8
           ],
           "yaxis": "y"
          },
          {
           "alignmentgroup": "True",
           "hovertemplate": "Country=%{x}<br>Year=2025<br>Percentage of Documents=%{y}<extra></extra>",
           "legendgroup": "Congo, Democratic Republic of",
           "marker": {
            "color": "#636efa",
            "pattern": {
             "shape": ""
            }
           },
           "name": "Congo, Democratic Republic of",
           "offsetgroup": "Congo, Democratic Republic of",
           "orientation": "v",
           "showlegend": true,
           "textposition": "auto",
           "type": "bar",
           "x": [
            "Congo, Democratic Republic of"
           ],
           "xaxis": "x",
           "y": [
            1.8
           ],
           "yaxis": "y"
          },
          {
           "alignmentgroup": "True",
           "hovertemplate": "Country=%{x}<br>Year=2025<br>Percentage of Documents=%{y}<extra></extra>",
           "legendgroup": "Congo, Republic of",
           "marker": {
            "color": "#EF553B",
            "pattern": {
             "shape": ""
            }
           },
           "name": "Congo, Republic of",
           "offsetgroup": "Congo, Republic of",
           "orientation": "v",
           "showlegend": true,
           "textposition": "auto",
           "type": "bar",
           "x": [
            "Congo, Republic of"
           ],
           "xaxis": "x",
           "y": [
            1.8
           ],
           "yaxis": "y"
          },
          {
           "alignmentgroup": "True",
           "hovertemplate": "Country=%{x}<br>Year=2025<br>Percentage of Documents=%{y}<extra></extra>",
           "legendgroup": "Costa Rica",
           "marker": {
            "color": "#00cc96",
            "pattern": {
             "shape": ""
            }
           },
           "name": "Costa Rica",
           "offsetgroup": "Costa Rica",
           "orientation": "v",
           "showlegend": true,
           "textposition": "auto",
           "type": "bar",
           "x": [
            "Costa Rica"
           ],
           "xaxis": "x",
           "y": [
            1.8
           ],
           "yaxis": "y"
          },
          {
           "alignmentgroup": "True",
           "hovertemplate": "Country=%{x}<br>Year=2025<br>Percentage of Documents=%{y}<extra></extra>",
           "legendgroup": "Cote d'Ivoire",
           "marker": {
            "color": "#ab63fa",
            "pattern": {
             "shape": ""
            }
           },
           "name": "Cote d'Ivoire",
           "offsetgroup": "Cote d'Ivoire",
           "orientation": "v",
           "showlegend": true,
           "textposition": "auto",
           "type": "bar",
           "x": [
            "Cote d'Ivoire"
           ],
           "xaxis": "x",
           "y": [
            3.6
           ],
           "yaxis": "y"
          },
          {
           "alignmentgroup": "True",
           "hovertemplate": "Country=%{x}<br>Year=2025<br>Percentage of Documents=%{y}<extra></extra>",
           "legendgroup": "Djibouti",
           "marker": {
            "color": "#FFA15A",
            "pattern": {
             "shape": ""
            }
           },
           "name": "Djibouti",
           "offsetgroup": "Djibouti",
           "orientation": "v",
           "showlegend": true,
           "textposition": "auto",
           "type": "bar",
           "x": [
            "Djibouti"
           ],
           "xaxis": "x",
           "y": [
            1.8
           ],
           "yaxis": "y"
          },
          {
           "alignmentgroup": "True",
           "hovertemplate": "Country=%{x}<br>Year=2025<br>Percentage of Documents=%{y}<extra></extra>",
           "legendgroup": "Ethiopia",
           "marker": {
            "color": "#636efa",
            "pattern": {
             "shape": ""
            }
           },
           "name": "Ethiopia",
           "offsetgroup": "Ethiopia",
           "orientation": "v",
           "showlegend": true,
           "textposition": "auto",
           "type": "bar",
           "x": [
            "Ethiopia"
           ],
           "xaxis": "x",
           "y": [
            1.8
           ],
           "yaxis": "y"
          },
          {
           "alignmentgroup": "True",
           "hovertemplate": "Country=%{x}<br>Year=2025<br>Percentage of Documents=%{y}<extra></extra>",
           "legendgroup": "Guinea",
           "marker": {
            "color": "#19d3f3",
            "pattern": {
             "shape": ""
            }
           },
           "name": "Guinea",
           "offsetgroup": "Guinea",
           "orientation": "v",
           "showlegend": true,
           "textposition": "auto",
           "type": "bar",
           "x": [
            "Guinea"
           ],
           "xaxis": "x",
           "y": [
            1.8
           ],
           "yaxis": "y"
          },
          {
           "alignmentgroup": "True",
           "hovertemplate": "Country=%{x}<br>Year=2025<br>Percentage of Documents=%{y}<extra></extra>",
           "legendgroup": "India",
           "marker": {
            "color": "#FF97FF",
            "pattern": {
             "shape": ""
            }
           },
           "name": "India",
           "offsetgroup": "India",
           "orientation": "v",
           "showlegend": true,
           "textposition": "auto",
           "type": "bar",
           "x": [
            "India"
           ],
           "xaxis": "x",
           "y": [
            10.9
           ],
           "yaxis": "y"
          },
          {
           "alignmentgroup": "True",
           "hovertemplate": "Country=%{x}<br>Year=2025<br>Percentage of Documents=%{y}<extra></extra>",
           "legendgroup": "Kenya",
           "marker": {
            "color": "#ab63fa",
            "pattern": {
             "shape": ""
            }
           },
           "name": "Kenya",
           "offsetgroup": "Kenya",
           "orientation": "v",
           "showlegend": true,
           "textposition": "auto",
           "type": "bar",
           "x": [
            "Kenya"
           ],
           "xaxis": "x",
           "y": [
            1.8
           ],
           "yaxis": "y"
          },
          {
           "alignmentgroup": "True",
           "hovertemplate": "Country=%{x}<br>Year=2025<br>Percentage of Documents=%{y}<extra></extra>",
           "legendgroup": "Kyrgyz Republic",
           "marker": {
            "color": "#FF6692",
            "pattern": {
             "shape": ""
            }
           },
           "name": "Kyrgyz Republic",
           "offsetgroup": "Kyrgyz Republic",
           "orientation": "v",
           "showlegend": true,
           "textposition": "auto",
           "type": "bar",
           "x": [
            "Kyrgyz Republic"
           ],
           "xaxis": "x",
           "y": [
            1.8
           ],
           "yaxis": "y"
          },
          {
           "alignmentgroup": "True",
           "hovertemplate": "Country=%{x}<br>Year=2025<br>Percentage of Documents=%{y}<extra></extra>",
           "legendgroup": "Madagascar",
           "marker": {
            "color": "#636efa",
            "pattern": {
             "shape": ""
            }
           },
           "name": "Madagascar",
           "offsetgroup": "Madagascar",
           "orientation": "v",
           "showlegend": true,
           "textposition": "auto",
           "type": "bar",
           "x": [
            "Madagascar"
           ],
           "xaxis": "x",
           "y": [
            5.5
           ],
           "yaxis": "y"
          },
          {
           "alignmentgroup": "True",
           "hovertemplate": "Country=%{x}<br>Year=2025<br>Percentage of Documents=%{y}<extra></extra>",
           "legendgroup": "Mozambique",
           "marker": {
            "color": "#FECB52",
            "pattern": {
             "shape": ""
            }
           },
           "name": "Mozambique",
           "offsetgroup": "Mozambique",
           "orientation": "v",
           "showlegend": true,
           "textposition": "auto",
           "type": "bar",
           "x": [
            "Mozambique"
           ],
           "xaxis": "x",
           "y": [
            3.6
           ],
           "yaxis": "y"
          },
          {
           "alignmentgroup": "True",
           "hovertemplate": "Country=%{x}<br>Year=2025<br>Percentage of Documents=%{y}<extra></extra>",
           "legendgroup": "Nicaragua",
           "marker": {
            "color": "#EF553B",
            "pattern": {
             "shape": ""
            }
           },
           "name": "Nicaragua",
           "offsetgroup": "Nicaragua",
           "orientation": "v",
           "showlegend": true,
           "textposition": "auto",
           "type": "bar",
           "x": [
            "Nicaragua"
           ],
           "xaxis": "x",
           "y": [
            1.8
           ],
           "yaxis": "y"
          },
          {
           "alignmentgroup": "True",
           "hovertemplate": "Country=%{x}<br>Year=2025<br>Percentage of Documents=%{y}<extra></extra>",
           "legendgroup": "Peru",
           "marker": {
            "color": "#FECB52",
            "pattern": {
             "shape": ""
            }
           },
           "name": "Peru",
           "offsetgroup": "Peru",
           "orientation": "v",
           "showlegend": true,
           "textposition": "auto",
           "type": "bar",
           "x": [
            "Peru"
           ],
           "xaxis": "x",
           "y": [
            5.5
           ],
           "yaxis": "y"
          },
          {
           "alignmentgroup": "True",
           "hovertemplate": "Country=%{x}<br>Year=2025<br>Percentage of Documents=%{y}<extra></extra>",
           "legendgroup": "Samoa",
           "marker": {
            "color": "#ab63fa",
            "pattern": {
             "shape": ""
            }
           },
           "name": "Samoa",
           "offsetgroup": "Samoa",
           "orientation": "v",
           "showlegend": true,
           "textposition": "auto",
           "type": "bar",
           "x": [
            "Samoa"
           ],
           "xaxis": "x",
           "y": [
            1.8
           ],
           "yaxis": "y"
          },
          {
           "alignmentgroup": "True",
           "hovertemplate": "Country=%{x}<br>Year=2025<br>Percentage of Documents=%{y}<extra></extra>",
           "legendgroup": "Tajikistan",
           "marker": {
            "color": "#FECB52",
            "pattern": {
             "shape": ""
            }
           },
           "name": "Tajikistan",
           "offsetgroup": "Tajikistan",
           "orientation": "v",
           "showlegend": true,
           "textposition": "auto",
           "type": "bar",
           "x": [
            "Tajikistan"
           ],
           "xaxis": "x",
           "y": [
            1.8
           ],
           "yaxis": "y"
          },
          {
           "alignmentgroup": "True",
           "hovertemplate": "Country=%{x}<br>Year=2025<br>Percentage of Documents=%{y}<extra></extra>",
           "legendgroup": "Tunisia",
           "marker": {
            "color": "#00cc96",
            "pattern": {
             "shape": ""
            }
           },
           "name": "Tunisia",
           "offsetgroup": "Tunisia",
           "orientation": "v",
           "showlegend": true,
           "textposition": "auto",
           "type": "bar",
           "x": [
            "Tunisia"
           ],
           "xaxis": "x",
           "y": [
            1.8
           ],
           "yaxis": "y"
          },
          {
           "alignmentgroup": "True",
           "hovertemplate": "Country=%{x}<br>Year=2025<br>Percentage of Documents=%{y}<extra></extra>",
           "legendgroup": "Uganda",
           "marker": {
            "color": "#ab63fa",
            "pattern": {
             "shape": ""
            }
           },
           "name": "Uganda",
           "offsetgroup": "Uganda",
           "orientation": "v",
           "showlegend": true,
           "textposition": "auto",
           "type": "bar",
           "x": [
            "Uganda"
           ],
           "xaxis": "x",
           "y": [
            3.6
           ],
           "yaxis": "y"
          },
          {
           "alignmentgroup": "True",
           "hovertemplate": "Country=%{x}<br>Year=2025<br>Percentage of Documents=%{y}<extra></extra>",
           "legendgroup": "Vietnam",
           "marker": {
            "color": "#FFA15A",
            "pattern": {
             "shape": ""
            }
           },
           "name": "Vietnam",
           "offsetgroup": "Vietnam",
           "orientation": "v",
           "showlegend": true,
           "textposition": "auto",
           "type": "bar",
           "x": [
            "Vietnam"
           ],
           "xaxis": "x",
           "y": [
            1.8
           ],
           "yaxis": "y"
          },
          {
           "alignmentgroup": "True",
           "hovertemplate": "Country=%{x}<br>Year=2025<br>Percentage of Documents=%{y}<extra></extra>",
           "legendgroup": "Zambia",
           "marker": {
            "color": "#FECB52",
            "pattern": {
             "shape": ""
            }
           },
           "name": "Zambia",
           "offsetgroup": "Zambia",
           "orientation": "v",
           "showlegend": true,
           "textposition": "auto",
           "type": "bar",
           "x": [
            "Zambia"
           ],
           "xaxis": "x",
           "y": [
            3.6
           ],
           "yaxis": "y"
          },
          {
           "alignmentgroup": "True",
           "hovertemplate": "Country=%{x}<br>Year=2025<br>Percentage of Documents=%{y}<extra></extra>",
           "legendgroup": "Croatia",
           "marker": {
            "color": "#19d3f3",
            "pattern": {
             "shape": ""
            }
           },
           "name": "Croatia",
           "offsetgroup": "Croatia",
           "orientation": "v",
           "showlegend": true,
           "textposition": "auto",
           "type": "bar",
           "x": [
            "Croatia"
           ],
           "xaxis": "x",
           "y": [
            1.8
           ],
           "yaxis": "y"
          },
          {
           "alignmentgroup": "True",
           "hovertemplate": "Country=%{x}<br>Year=2025<br>Percentage of Documents=%{y}<extra></extra>",
           "legendgroup": "Kazakhstan",
           "marker": {
            "color": "#FF97FF",
            "pattern": {
             "shape": ""
            }
           },
           "name": "Kazakhstan",
           "offsetgroup": "Kazakhstan",
           "orientation": "v",
           "showlegend": true,
           "textposition": "auto",
           "type": "bar",
           "x": [
            "Kazakhstan"
           ],
           "xaxis": "x",
           "y": [
            1.8
           ],
           "yaxis": "y"
          },
          {
           "alignmentgroup": "True",
           "hovertemplate": "Country=%{x}<br>Year=2025<br>Percentage of Documents=%{y}<extra></extra>",
           "legendgroup": "Liberia",
           "marker": {
            "color": "#636efa",
            "pattern": {
             "shape": ""
            }
           },
           "name": "Liberia",
           "offsetgroup": "Liberia",
           "orientation": "v",
           "showlegend": true,
           "textposition": "auto",
           "type": "bar",
           "x": [
            "Liberia"
           ],
           "xaxis": "x",
           "y": [
            1.8
           ],
           "yaxis": "y"
          },
          {
           "alignmentgroup": "True",
           "hovertemplate": "Country=%{x}<br>Year=2025<br>Percentage of Documents=%{y}<extra></extra>",
           "legendgroup": "Serbia",
           "marker": {
            "color": "#FF6692",
            "pattern": {
             "shape": ""
            }
           },
           "name": "Serbia",
           "offsetgroup": "Serbia",
           "orientation": "v",
           "showlegend": true,
           "textposition": "auto",
           "type": "bar",
           "x": [
            "Serbia"
           ],
           "xaxis": "x",
           "y": [
            1.8
           ],
           "yaxis": "y"
          },
          {
           "alignmentgroup": "True",
           "hovertemplate": "Country=%{x}<br>Year=2025<br>Percentage of Documents=%{y}<extra></extra>",
           "legendgroup": "Uzbekistan",
           "marker": {
            "color": "#EF553B",
            "pattern": {
             "shape": ""
            }
           },
           "name": "Uzbekistan",
           "offsetgroup": "Uzbekistan",
           "orientation": "v",
           "showlegend": true,
           "textposition": "auto",
           "type": "bar",
           "x": [
            "Uzbekistan"
           ],
           "xaxis": "x",
           "y": [
            1.8
           ],
           "yaxis": "y"
          },
          {
           "alignmentgroup": "True",
           "hovertemplate": "Country=%{x}<br>Year=2025<br>Percentage of Documents=%{y}<extra></extra>",
           "legendgroup": "Pacific Islands",
           "marker": {
            "color": "#636efa",
            "pattern": {
             "shape": ""
            }
           },
           "name": "Pacific Islands",
           "offsetgroup": "Pacific Islands",
           "orientation": "v",
           "showlegend": true,
           "textposition": "auto",
           "type": "bar",
           "x": [
            "Pacific Islands"
           ],
           "xaxis": "x",
           "y": [
            1.8
           ],
           "yaxis": "y"
          },
          {
           "alignmentgroup": "True",
           "hovertemplate": "Country=%{x}<br>Year=2025<br>Percentage of Documents=%{y}<extra></extra>",
           "legendgroup": "South Africa",
           "marker": {
            "color": "#19d3f3",
            "pattern": {
             "shape": ""
            }
           },
           "name": "South Africa",
           "offsetgroup": "South Africa",
           "orientation": "v",
           "showlegend": true,
           "textposition": "auto",
           "type": "bar",
           "x": [
            "South Africa"
           ],
           "xaxis": "x",
           "y": [
            3.6
           ],
           "yaxis": "y"
          },
          {
           "alignmentgroup": "True",
           "hovertemplate": "Country=%{x}<br>Year=2025<br>Percentage of Documents=%{y}<extra></extra>",
           "legendgroup": "Eastern and Southern Africa",
           "marker": {
            "color": "#EF553B",
            "pattern": {
             "shape": ""
            }
           },
           "name": "Eastern and Southern Africa",
           "offsetgroup": "Eastern and Southern Africa",
           "orientation": "v",
           "showlegend": true,
           "textposition": "auto",
           "type": "bar",
           "x": [
            "Eastern and Southern Africa"
           ],
           "xaxis": "x",
           "y": [
            5.5
           ],
           "yaxis": "y"
          },
          {
           "alignmentgroup": "True",
           "hovertemplate": "Country=%{x}<br>Year=2025<br>Percentage of Documents=%{y}<extra></extra>",
           "legendgroup": "Turkiye",
           "marker": {
            "color": "#636efa",
            "pattern": {
             "shape": ""
            }
           },
           "name": "Turkiye",
           "offsetgroup": "Turkiye",
           "orientation": "v",
           "showlegend": true,
           "textposition": "auto",
           "type": "bar",
           "x": [
            "Turkiye"
           ],
           "xaxis": "x",
           "y": [
            1.8
           ],
           "yaxis": "y"
          },
          {
           "alignmentgroup": "True",
           "hovertemplate": "Country=%{x}<br>Year=2025<br>Percentage of Documents=%{y}<extra></extra>",
           "legendgroup": "Western and Central Africa",
           "marker": {
            "color": "#FFA15A",
            "pattern": {
             "shape": ""
            }
           },
           "name": "Western and Central Africa",
           "offsetgroup": "Western and Central Africa",
           "orientation": "v",
           "showlegend": true,
           "textposition": "auto",
           "type": "bar",
           "x": [
            "Western and Central Africa"
           ],
           "xaxis": "x",
           "y": [
            1.8
           ],
           "yaxis": "y"
          },
          {
           "alignmentgroup": "True",
           "hovertemplate": "Country=%{x}<br>Year=2025<br>Percentage of Documents=%{y}<extra></extra>",
           "legendgroup": "St. Vincent and the Grenadines",
           "marker": {
            "color": "#ab63fa",
            "pattern": {
             "shape": ""
            }
           },
           "name": "St. Vincent and the Grenadines",
           "offsetgroup": "St. Vincent and the Grenadines",
           "orientation": "v",
           "showlegend": true,
           "textposition": "auto",
           "type": "bar",
           "x": [
            "St. Vincent and the Grenadines"
           ],
           "xaxis": "x",
           "y": [
            1.8
           ],
           "yaxis": "y"
          }
         ],
         "layout": {
          "title": {
           "text": "Percentage of Documents by Country - Year: 2025"
          },
          "xaxis": {
           "categoryarray": [
            "Afghanistan",
            "Africa",
            "Albania",
            "Angola",
            "Argentina",
            "Armenia",
            "Azerbaijan",
            "Bangladesh",
            "Banking Sector Strengthening Project",
            "Barbados",
            "Belarus",
            "Belize",
            "Benin",
            "Bhutan",
            "Bolivia",
            "Bosnia and Herzegovina",
            "Botswana",
            "Brazil",
            "Bulgaria",
            "Burkina Faso",
            "Burundi",
            "Cabo Verde",
            "Cambodia",
            "Cameroon",
            "Caribbean",
            "Central Africa",
            "Central African Republic",
            "Central Asia",
            "Chad",
            "Chile",
            "China",
            "Colombia",
            "Comoros",
            "Congo, Democratic Republic of",
            "Congo, Republic of",
            "Costa Rica",
            "Cote d'Ivoire",
            "Croatia",
            "Djibouti",
            "Dominica",
            "Dominican Republic",
            "Eastern Africa",
            "Eastern and Southern Africa",
            "Ecuador",
            "Egypt, Arab Republic of",
            "El Salvador",
            "Eswatini",
            "Ethiopia",
            "Europe and Central Asia",
            "Fiji",
            "Fiscal Sustainability and Climate Resilience DPO",
            "Gabon",
            "Gambia, The",
            "Georgia",
            "Ghana",
            "Grenada",
            "Guatemala",
            "Guinea",
            "Guyana",
            "Haiti",
            "Harsha Project",
            "Hebei Clean Heating Project (P148599)",
            "Honduras",
            "India",
            "Indonesia",
            "Iraq",
            "Jamaica",
            "Jordan",
            "Kazakhstan",
            "Kenya",
            "Kiribati",
            "Kosovo",
            "Kyrgyz Republic",
            "Lake Victoria Phase II APL 1 (FY09) (P100406) :",
            "Lao People's Democratic Republic",
            "Latin America",
            "Lebanon",
            "Lesotho",
            "Liberia",
            "Madagascar",
            "Malawi",
            "Maldives",
            "Mali",
            "Marshall Islands",
            "Mauritania",
            "Mexico",
            "Micronesia, Federated States of",
            "Middle East and North Africa",
            "Moldova",
            "Mongolia",
            "Montenegro",
            "Morocco",
            "Mozambique",
            "Myanmar",
            "National Agricultural Innovation (P131013)",
            "Nepal",
            "Nicaragua",
            "Niger",
            "Nigeria",
            "North Macedonia",
            "OECS Countries",
            "PNG Productive Partnerships in Agriculture",
            "Pacific Islands",
            "Pakistan",
            "Panama",
            "Papua New Guinea",
            "Paraguay",
            "Peru",
            "Philippines",
            "Poland",
            "Revenue Mobilization Program for Results: VAT Improvement Program (VIP) (P129770)",
            "Romania",
            "Russian Federation",
            "Rwanda",
            "Samoa",
            "Sao Tome and Principe",
            "Senegal",
            "Serbia",
            "Seychelles",
            "Sierra Leone",
            "Solomon Islands",
            "Somalia",
            "South Africa",
            "South Sudan",
            "Southern Africa",
            "Sri Lanka",
            "St Maarten",
            "St. Lucia",
            "St. Vincent and the Grenadines",
            "Sudan",
            "Tajikistan",
            "Tanzania",
            "Thailand",
            "Timor",
            "Togo",
            "Tonga",
            "Tunisia",
            "Turkey",
            "Turkiye",
            "Tuvalu",
            "Uganda",
            "Ukraine",
            "Uruguay",
            "Uzbekistan",
            "Vanuatu",
            "Vietnam",
            "West Africa Regional Communications Infrastructure Project",
            "West Bank and Gaza",
            "Western Africa",
            "Western Balkans",
            "Western and Central Africa",
            "World",
            "Yemen, Republic of",
            "Zambia",
            "Zimbabwe"
           ],
           "categoryorder": "array"
          },
          "yaxis": {
           "range": [
            0,
            11.990000000000002
           ]
          }
         },
         "name": "2025"
        }
       ],
       "layout": {
        "barmode": "relative",
        "height": 700,
        "legend": {
         "title": {
          "text": "Country"
         },
         "tracegroupgap": 0
        },
        "margin": {
         "b": 150
        },
        "showlegend": false,
        "sliders": [
         {
          "active": 0,
          "currentvalue": {
           "font": {
            "size": 16
           },
           "prefix": "",
           "visible": true,
           "xanchor": "right"
          },
          "len": 0.9,
          "pad": {
           "b": 20,
           "t": 120
          },
          "steps": [
           {
            "args": [
             [
              "2019"
             ],
             {
              "frame": {
               "duration": 0,
               "redraw": true
              },
              "mode": "immediate"
             }
            ],
            "label": "2019",
            "method": "animate"
           },
           {
            "args": [
             [
              "2020"
             ],
             {
              "frame": {
               "duration": 0,
               "redraw": true
              },
              "mode": "immediate"
             }
            ],
            "label": "2020",
            "method": "animate"
           },
           {
            "args": [
             [
              "2021"
             ],
             {
              "frame": {
               "duration": 0,
               "redraw": true
              },
              "mode": "immediate"
             }
            ],
            "label": "2021",
            "method": "animate"
           },
           {
            "args": [
             [
              "2022"
             ],
             {
              "frame": {
               "duration": 0,
               "redraw": true
              },
              "mode": "immediate"
             }
            ],
            "label": "2022",
            "method": "animate"
           },
           {
            "args": [
             [
              "2023"
             ],
             {
              "frame": {
               "duration": 0,
               "redraw": true
              },
              "mode": "immediate"
             }
            ],
            "label": "2023",
            "method": "animate"
           },
           {
            "args": [
             [
              "2024"
             ],
             {
              "frame": {
               "duration": 0,
               "redraw": true
              },
              "mode": "immediate"
             }
            ],
            "label": "2024",
            "method": "animate"
           },
           {
            "args": [
             [
              "2025"
             ],
             {
              "frame": {
               "duration": 0,
               "redraw": true
              },
              "mode": "immediate"
             }
            ],
            "label": "2025",
            "method": "animate"
           }
          ],
          "x": 0.1,
          "xanchor": "left",
          "y": -0.4,
          "yanchor": "top"
         }
        ],
        "template": {
         "data": {
          "bar": [
           {
            "error_x": {
             "color": "#2a3f5f"
            },
            "error_y": {
             "color": "#2a3f5f"
            },
            "marker": {
             "line": {
              "color": "#E5ECF6",
              "width": 0.5
             },
             "pattern": {
              "fillmode": "overlay",
              "size": 10,
              "solidity": 0.2
             }
            },
            "type": "bar"
           }
          ],
          "barpolar": [
           {
            "marker": {
             "line": {
              "color": "#E5ECF6",
              "width": 0.5
             },
             "pattern": {
              "fillmode": "overlay",
              "size": 10,
              "solidity": 0.2
             }
            },
            "type": "barpolar"
           }
          ],
          "carpet": [
           {
            "aaxis": {
             "endlinecolor": "#2a3f5f",
             "gridcolor": "white",
             "linecolor": "white",
             "minorgridcolor": "white",
             "startlinecolor": "#2a3f5f"
            },
            "baxis": {
             "endlinecolor": "#2a3f5f",
             "gridcolor": "white",
             "linecolor": "white",
             "minorgridcolor": "white",
             "startlinecolor": "#2a3f5f"
            },
            "type": "carpet"
           }
          ],
          "choropleth": [
           {
            "colorbar": {
             "outlinewidth": 0,
             "ticks": ""
            },
            "type": "choropleth"
           }
          ],
          "contour": [
           {
            "colorbar": {
             "outlinewidth": 0,
             "ticks": ""
            },
            "colorscale": [
             [
              0,
              "#0d0887"
             ],
             [
              0.1111111111111111,
              "#46039f"
             ],
             [
              0.2222222222222222,
              "#7201a8"
             ],
             [
              0.3333333333333333,
              "#9c179e"
             ],
             [
              0.4444444444444444,
              "#bd3786"
             ],
             [
              0.5555555555555556,
              "#d8576b"
             ],
             [
              0.6666666666666666,
              "#ed7953"
             ],
             [
              0.7777777777777778,
              "#fb9f3a"
             ],
             [
              0.8888888888888888,
              "#fdca26"
             ],
             [
              1,
              "#f0f921"
             ]
            ],
            "type": "contour"
           }
          ],
          "contourcarpet": [
           {
            "colorbar": {
             "outlinewidth": 0,
             "ticks": ""
            },
            "type": "contourcarpet"
           }
          ],
          "heatmap": [
           {
            "colorbar": {
             "outlinewidth": 0,
             "ticks": ""
            },
            "colorscale": [
             [
              0,
              "#0d0887"
             ],
             [
              0.1111111111111111,
              "#46039f"
             ],
             [
              0.2222222222222222,
              "#7201a8"
             ],
             [
              0.3333333333333333,
              "#9c179e"
             ],
             [
              0.4444444444444444,
              "#bd3786"
             ],
             [
              0.5555555555555556,
              "#d8576b"
             ],
             [
              0.6666666666666666,
              "#ed7953"
             ],
             [
              0.7777777777777778,
              "#fb9f3a"
             ],
             [
              0.8888888888888888,
              "#fdca26"
             ],
             [
              1,
              "#f0f921"
             ]
            ],
            "type": "heatmap"
           }
          ],
          "heatmapgl": [
           {
            "colorbar": {
             "outlinewidth": 0,
             "ticks": ""
            },
            "colorscale": [
             [
              0,
              "#0d0887"
             ],
             [
              0.1111111111111111,
              "#46039f"
             ],
             [
              0.2222222222222222,
              "#7201a8"
             ],
             [
              0.3333333333333333,
              "#9c179e"
             ],
             [
              0.4444444444444444,
              "#bd3786"
             ],
             [
              0.5555555555555556,
              "#d8576b"
             ],
             [
              0.6666666666666666,
              "#ed7953"
             ],
             [
              0.7777777777777778,
              "#fb9f3a"
             ],
             [
              0.8888888888888888,
              "#fdca26"
             ],
             [
              1,
              "#f0f921"
             ]
            ],
            "type": "heatmapgl"
           }
          ],
          "histogram": [
           {
            "marker": {
             "pattern": {
              "fillmode": "overlay",
              "size": 10,
              "solidity": 0.2
             }
            },
            "type": "histogram"
           }
          ],
          "histogram2d": [
           {
            "colorbar": {
             "outlinewidth": 0,
             "ticks": ""
            },
            "colorscale": [
             [
              0,
              "#0d0887"
             ],
             [
              0.1111111111111111,
              "#46039f"
             ],
             [
              0.2222222222222222,
              "#7201a8"
             ],
             [
              0.3333333333333333,
              "#9c179e"
             ],
             [
              0.4444444444444444,
              "#bd3786"
             ],
             [
              0.5555555555555556,
              "#d8576b"
             ],
             [
              0.6666666666666666,
              "#ed7953"
             ],
             [
              0.7777777777777778,
              "#fb9f3a"
             ],
             [
              0.8888888888888888,
              "#fdca26"
             ],
             [
              1,
              "#f0f921"
             ]
            ],
            "type": "histogram2d"
           }
          ],
          "histogram2dcontour": [
           {
            "colorbar": {
             "outlinewidth": 0,
             "ticks": ""
            },
            "colorscale": [
             [
              0,
              "#0d0887"
             ],
             [
              0.1111111111111111,
              "#46039f"
             ],
             [
              0.2222222222222222,
              "#7201a8"
             ],
             [
              0.3333333333333333,
              "#9c179e"
             ],
             [
              0.4444444444444444,
              "#bd3786"
             ],
             [
              0.5555555555555556,
              "#d8576b"
             ],
             [
              0.6666666666666666,
              "#ed7953"
             ],
             [
              0.7777777777777778,
              "#fb9f3a"
             ],
             [
              0.8888888888888888,
              "#fdca26"
             ],
             [
              1,
              "#f0f921"
             ]
            ],
            "type": "histogram2dcontour"
           }
          ],
          "mesh3d": [
           {
            "colorbar": {
             "outlinewidth": 0,
             "ticks": ""
            },
            "type": "mesh3d"
           }
          ],
          "parcoords": [
           {
            "line": {
             "colorbar": {
              "outlinewidth": 0,
              "ticks": ""
             }
            },
            "type": "parcoords"
           }
          ],
          "pie": [
           {
            "automargin": true,
            "type": "pie"
           }
          ],
          "scatter": [
           {
            "fillpattern": {
             "fillmode": "overlay",
             "size": 10,
             "solidity": 0.2
            },
            "type": "scatter"
           }
          ],
          "scatter3d": [
           {
            "line": {
             "colorbar": {
              "outlinewidth": 0,
              "ticks": ""
             }
            },
            "marker": {
             "colorbar": {
              "outlinewidth": 0,
              "ticks": ""
             }
            },
            "type": "scatter3d"
           }
          ],
          "scattercarpet": [
           {
            "marker": {
             "colorbar": {
              "outlinewidth": 0,
              "ticks": ""
             }
            },
            "type": "scattercarpet"
           }
          ],
          "scattergeo": [
           {
            "marker": {
             "colorbar": {
              "outlinewidth": 0,
              "ticks": ""
             }
            },
            "type": "scattergeo"
           }
          ],
          "scattergl": [
           {
            "marker": {
             "colorbar": {
              "outlinewidth": 0,
              "ticks": ""
             }
            },
            "type": "scattergl"
           }
          ],
          "scattermapbox": [
           {
            "marker": {
             "colorbar": {
              "outlinewidth": 0,
              "ticks": ""
             }
            },
            "type": "scattermapbox"
           }
          ],
          "scatterpolar": [
           {
            "marker": {
             "colorbar": {
              "outlinewidth": 0,
              "ticks": ""
             }
            },
            "type": "scatterpolar"
           }
          ],
          "scatterpolargl": [
           {
            "marker": {
             "colorbar": {
              "outlinewidth": 0,
              "ticks": ""
             }
            },
            "type": "scatterpolargl"
           }
          ],
          "scatterternary": [
           {
            "marker": {
             "colorbar": {
              "outlinewidth": 0,
              "ticks": ""
             }
            },
            "type": "scatterternary"
           }
          ],
          "surface": [
           {
            "colorbar": {
             "outlinewidth": 0,
             "ticks": ""
            },
            "colorscale": [
             [
              0,
              "#0d0887"
             ],
             [
              0.1111111111111111,
              "#46039f"
             ],
             [
              0.2222222222222222,
              "#7201a8"
             ],
             [
              0.3333333333333333,
              "#9c179e"
             ],
             [
              0.4444444444444444,
              "#bd3786"
             ],
             [
              0.5555555555555556,
              "#d8576b"
             ],
             [
              0.6666666666666666,
              "#ed7953"
             ],
             [
              0.7777777777777778,
              "#fb9f3a"
             ],
             [
              0.8888888888888888,
              "#fdca26"
             ],
             [
              1,
              "#f0f921"
             ]
            ],
            "type": "surface"
           }
          ],
          "table": [
           {
            "cells": {
             "fill": {
              "color": "#EBF0F8"
             },
             "line": {
              "color": "white"
             }
            },
            "header": {
             "fill": {
              "color": "#C8D4E3"
             },
             "line": {
              "color": "white"
             }
            },
            "type": "table"
           }
          ]
         },
         "layout": {
          "annotationdefaults": {
           "arrowcolor": "#2a3f5f",
           "arrowhead": 0,
           "arrowwidth": 1
          },
          "autotypenumbers": "strict",
          "coloraxis": {
           "colorbar": {
            "outlinewidth": 0,
            "ticks": ""
           }
          },
          "colorscale": {
           "diverging": [
            [
             0,
             "#8e0152"
            ],
            [
             0.1,
             "#c51b7d"
            ],
            [
             0.2,
             "#de77ae"
            ],
            [
             0.3,
             "#f1b6da"
            ],
            [
             0.4,
             "#fde0ef"
            ],
            [
             0.5,
             "#f7f7f7"
            ],
            [
             0.6,
             "#e6f5d0"
            ],
            [
             0.7,
             "#b8e186"
            ],
            [
             0.8,
             "#7fbc41"
            ],
            [
             0.9,
             "#4d9221"
            ],
            [
             1,
             "#276419"
            ]
           ],
           "sequential": [
            [
             0,
             "#0d0887"
            ],
            [
             0.1111111111111111,
             "#46039f"
            ],
            [
             0.2222222222222222,
             "#7201a8"
            ],
            [
             0.3333333333333333,
             "#9c179e"
            ],
            [
             0.4444444444444444,
             "#bd3786"
            ],
            [
             0.5555555555555556,
             "#d8576b"
            ],
            [
             0.6666666666666666,
             "#ed7953"
            ],
            [
             0.7777777777777778,
             "#fb9f3a"
            ],
            [
             0.8888888888888888,
             "#fdca26"
            ],
            [
             1,
             "#f0f921"
            ]
           ],
           "sequentialminus": [
            [
             0,
             "#0d0887"
            ],
            [
             0.1111111111111111,
             "#46039f"
            ],
            [
             0.2222222222222222,
             "#7201a8"
            ],
            [
             0.3333333333333333,
             "#9c179e"
            ],
            [
             0.4444444444444444,
             "#bd3786"
            ],
            [
             0.5555555555555556,
             "#d8576b"
            ],
            [
             0.6666666666666666,
             "#ed7953"
            ],
            [
             0.7777777777777778,
             "#fb9f3a"
            ],
            [
             0.8888888888888888,
             "#fdca26"
            ],
            [
             1,
             "#f0f921"
            ]
           ]
          },
          "colorway": [
           "#636efa",
           "#EF553B",
           "#00cc96",
           "#ab63fa",
           "#FFA15A",
           "#19d3f3",
           "#FF6692",
           "#B6E880",
           "#FF97FF",
           "#FECB52"
          ],
          "font": {
           "color": "#2a3f5f"
          },
          "geo": {
           "bgcolor": "white",
           "lakecolor": "white",
           "landcolor": "#E5ECF6",
           "showlakes": true,
           "showland": true,
           "subunitcolor": "white"
          },
          "hoverlabel": {
           "align": "left"
          },
          "hovermode": "closest",
          "mapbox": {
           "style": "light"
          },
          "paper_bgcolor": "white",
          "plot_bgcolor": "#E5ECF6",
          "polar": {
           "angularaxis": {
            "gridcolor": "white",
            "linecolor": "white",
            "ticks": ""
           },
           "bgcolor": "#E5ECF6",
           "radialaxis": {
            "gridcolor": "white",
            "linecolor": "white",
            "ticks": ""
           }
          },
          "scene": {
           "xaxis": {
            "backgroundcolor": "#E5ECF6",
            "gridcolor": "white",
            "gridwidth": 2,
            "linecolor": "white",
            "showbackground": true,
            "ticks": "",
            "zerolinecolor": "white"
           },
           "yaxis": {
            "backgroundcolor": "#E5ECF6",
            "gridcolor": "white",
            "gridwidth": 2,
            "linecolor": "white",
            "showbackground": true,
            "ticks": "",
            "zerolinecolor": "white"
           },
           "zaxis": {
            "backgroundcolor": "#E5ECF6",
            "gridcolor": "white",
            "gridwidth": 2,
            "linecolor": "white",
            "showbackground": true,
            "ticks": "",
            "zerolinecolor": "white"
           }
          },
          "shapedefaults": {
           "line": {
            "color": "#2a3f5f"
           }
          },
          "ternary": {
           "aaxis": {
            "gridcolor": "white",
            "linecolor": "white",
            "ticks": ""
           },
           "baxis": {
            "gridcolor": "white",
            "linecolor": "white",
            "ticks": ""
           },
           "bgcolor": "#E5ECF6",
           "caxis": {
            "gridcolor": "white",
            "linecolor": "white",
            "ticks": ""
           }
          },
          "title": {
           "x": 0.05
          },
          "xaxis": {
           "automargin": true,
           "gridcolor": "white",
           "linecolor": "white",
           "ticks": "",
           "title": {
            "standoff": 15
           },
           "zerolinecolor": "white",
           "zerolinewidth": 2
          },
          "yaxis": {
           "automargin": true,
           "gridcolor": "white",
           "linecolor": "white",
           "ticks": "",
           "title": {
            "standoff": 15
           },
           "zerolinecolor": "white",
           "zerolinewidth": 2
          }
         }
        },
        "title": {
         "text": "Percentage of Documents by Country"
        },
        "updatemenus": [
         {
          "buttons": [
           {
            "args": [
             null,
             {
              "frame": {
               "duration": 500,
               "redraw": true
              },
              "fromcurrent": true,
              "mode": "immediate",
              "transition": {
               "duration": 500,
               "easing": "linear"
              }
             }
            ],
            "label": "&#9654;",
            "method": "animate"
           },
           {
            "args": [
             [
              null
             ],
             {
              "frame": {
               "duration": 0,
               "redraw": true
              },
              "fromcurrent": true,
              "mode": "immediate",
              "transition": {
               "duration": 0,
               "easing": "linear"
              }
             }
            ],
            "label": "&#9724;",
            "method": "animate"
           }
          ],
          "direction": "left",
          "pad": {
           "r": 10,
           "t": 70
          },
          "showactive": false,
          "type": "buttons",
          "x": 0.1,
          "xanchor": "right",
          "y": 0,
          "yanchor": "top"
         }
        ],
        "xaxis": {
         "anchor": "y",
         "categoryarray": [
          "Afghanistan",
          "Africa",
          "Albania",
          "Angola",
          "Argentina",
          "Armenia",
          "Azerbaijan",
          "Bangladesh",
          "Banking Sector Strengthening Project",
          "Barbados",
          "Belarus",
          "Belize",
          "Benin",
          "Bhutan",
          "Bolivia",
          "Bosnia and Herzegovina",
          "Botswana",
          "Brazil",
          "Bulgaria",
          "Burkina Faso",
          "Burundi",
          "Cabo Verde",
          "Cambodia",
          "Cameroon",
          "Caribbean",
          "Central Africa",
          "Central African Republic",
          "Central Asia",
          "Chad",
          "Chile",
          "China",
          "Colombia",
          "Comoros",
          "Congo, Democratic Republic of",
          "Congo, Republic of",
          "Costa Rica",
          "Cote d'Ivoire",
          "Croatia",
          "Djibouti",
          "Dominica",
          "Dominican Republic",
          "Eastern Africa",
          "Eastern and Southern Africa",
          "Ecuador",
          "Egypt, Arab Republic of",
          "El Salvador",
          "Eswatini",
          "Ethiopia",
          "Europe and Central Asia",
          "Fiji",
          "Fiscal Sustainability and Climate Resilience DPO",
          "Gabon",
          "Gambia, The",
          "Georgia",
          "Ghana",
          "Grenada",
          "Guatemala",
          "Guinea",
          "Guyana",
          "Haiti",
          "Harsha Project",
          "Hebei Clean Heating Project (P148599)",
          "Honduras",
          "India",
          "Indonesia",
          "Iraq",
          "Jamaica",
          "Jordan",
          "Kazakhstan",
          "Kenya",
          "Kiribati",
          "Kosovo",
          "Kyrgyz Republic",
          "Lake Victoria Phase II APL 1 (FY09) (P100406) :",
          "Lao People's Democratic Republic",
          "Latin America",
          "Lebanon",
          "Lesotho",
          "Liberia",
          "Madagascar",
          "Malawi",
          "Maldives",
          "Mali",
          "Marshall Islands",
          "Mauritania",
          "Mexico",
          "Micronesia, Federated States of",
          "Middle East and North Africa",
          "Moldova",
          "Mongolia",
          "Montenegro",
          "Morocco",
          "Mozambique",
          "Myanmar",
          "National Agricultural Innovation (P131013)",
          "Nepal",
          "Nicaragua",
          "Niger",
          "Nigeria",
          "North Macedonia",
          "OECS Countries",
          "PNG Productive Partnerships in Agriculture",
          "Pacific Islands",
          "Pakistan",
          "Panama",
          "Papua New Guinea",
          "Paraguay",
          "Peru",
          "Philippines",
          "Poland",
          "Revenue Mobilization Program for Results: VAT Improvement Program (VIP) (P129770)",
          "Romania",
          "Russian Federation",
          "Rwanda",
          "Samoa",
          "Sao Tome and Principe",
          "Senegal",
          "Serbia",
          "Seychelles",
          "Sierra Leone",
          "Solomon Islands",
          "Somalia",
          "South Africa",
          "South Sudan",
          "Southern Africa",
          "Sri Lanka",
          "St Maarten",
          "St. Lucia",
          "St. Vincent and the Grenadines",
          "Sudan",
          "Tajikistan",
          "Tanzania",
          "Thailand",
          "Timor",
          "Togo",
          "Tonga",
          "Tunisia",
          "Turkey",
          "Turkiye",
          "Tuvalu",
          "Uganda",
          "Ukraine",
          "Uruguay",
          "Uzbekistan",
          "Vanuatu",
          "Vietnam",
          "West Africa Regional Communications Infrastructure Project",
          "West Bank and Gaza",
          "Western Africa",
          "Western Balkans",
          "Western and Central Africa",
          "World",
          "Yemen, Republic of",
          "Zambia",
          "Zimbabwe"
         ],
         "categoryorder": "array",
         "domain": [
          0,
          1
         ],
         "layer": "above traces",
         "tickangle": 45,
         "title": {
          "text": "Country"
         }
        },
        "yaxis": {
         "anchor": "x",
         "domain": [
          0,
          1
         ],
         "range": [
          0,
          11.990000000000002
         ],
         "title": {
          "text": "Percentage of Documents"
         }
        }
       }
      }
     },
     "metadata": {},
     "output_type": "display_data"
    }
   ],
   "source": [
    "fig_percentages = px.bar(\n",
    "    df_g,\n",
    "    x=\"Country\",\n",
    "    y=\"Percentage\",\n",
    "    animation_frame=\"Year\",\n",
    "    title=\"Percentage of Documents by Country\",\n",
    "    labels={\"Percentage\": \"Percentage of Documents\", \"Country\": \"Country\"},\n",
    "    color=\"Country\",\n",
    "    range_y=[0, max_percentage * 1.1],\n",
    ")\n",
    "\n",
    "\n",
    "# Order countries and add margins\n",
    "fig_percentages.update_layout(\n",
    "    xaxis={\"categoryorder\": \"array\", \"categoryarray\": all_countries},\n",
    "    showlegend=False,\n",
    "    margin=dict(b=150),\n",
    ")\n",
    "\n",
    "# Remove Play/Pause buttons\n",
    "fig_percentages.update_layout(updatemenus=[])\n",
    "\n",
    "# Update each frame title and bar text\n",
    "for frame in fig_percentages.frames:\n",
    "    year_value = frame.name\n",
    "    frame.layout = go.Layout(\n",
    "        title_text=f\"Percentage of Documents by Country - Year: {year_value}\",\n",
    "        xaxis=dict(categoryorder=\"array\", categoryarray=all_countries),\n",
    "        yaxis=dict(range=[0, max_percentage * 1.1]),\n",
    "    )\n",
    "\n",
    "\n",
    "# Add only slider (no Play/Pause), moved lower down\n",
    "fig_percentages.update_layout(\n",
    "    sliders=[\n",
    "        {\n",
    "            \"active\": 0,\n",
    "            \"yanchor\": \"top\",\n",
    "            \"xanchor\": \"left\",\n",
    "            \"currentvalue\": {\n",
    "                \"font\": {\"size\": 16},\n",
    "                \"prefix\": \"\",\n",
    "                \"visible\": True,\n",
    "                \"xanchor\": \"right\",\n",
    "            },\n",
    "            \"pad\": {\"b\": 20, \"t\": 120},  # Extra top padding to avoid overlap\n",
    "            \"len\": 0.9,\n",
    "            \"x\": 0.1,\n",
    "            \"y\": -0.4,  # Push slider further down\n",
    "            \"steps\": [\n",
    "                {\n",
    "                    \"args\": [\n",
    "                        [year],\n",
    "                        {\"frame\": {\"duration\": 0, \"redraw\": True}, \"mode\": \"immediate\"},\n",
    "                    ],\n",
    "                    \"label\": str(year),\n",
    "                    \"method\": \"animate\",\n",
    "                }\n",
    "                for year in years\n",
    "            ],\n",
    "        }\n",
    "    ]\n",
    ")\n",
    "\n",
    "# Ensure x-axis labels are visible and angled\n",
    "fig_percentages.update_layout(\n",
    "    xaxis=dict(layer=\"above traces\", tickangle=45), height=700\n",
    ")\n",
    "\n",
    "# Show the figure\n",
    "fig_percentages.show()"
   ]
  }
 ],
 "metadata": {
  "kernelspec": {
   "display_name": "base",
   "language": "python",
   "name": "python3"
  },
  "language_info": {
   "codemirror_mode": {
    "name": "ipython",
    "version": 3
   },
   "file_extension": ".py",
   "mimetype": "text/x-python",
   "name": "python",
   "nbconvert_exporter": "python",
   "pygments_lexer": "ipython3",
   "version": "3.11.5"
  }
 },
 "nbformat": 4,
 "nbformat_minor": 2
}
